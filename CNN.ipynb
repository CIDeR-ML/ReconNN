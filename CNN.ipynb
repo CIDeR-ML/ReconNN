{
 "cells": [
  {
   "cell_type": "markdown",
   "id": "48806d4f-b356-4075-b908-551f8e9a1a1f",
   "metadata": {},
   "source": [
    "# ReconNN: CNN edition"
   ]
  },
  {
   "cell_type": "markdown",
   "id": "77cc1a4e-2b2c-4a2e-8343-f289ff17c022",
   "metadata": {},
   "source": [
    "In this notebook, we are going to train a CNN-based neural network to archieve our TPC reconstruction goal."
   ]
  },
  {
   "cell_type": "code",
   "execution_count": 1,
   "id": "64f8ca63-7a03-471a-8d13-ca6d04dddd50",
   "metadata": {},
   "outputs": [],
   "source": [
    "import os\n",
    "import torch\n",
    "import torch.nn as nn\n",
    "import torch.nn.functional as F\n",
    "import torch.optim as optim\n",
    "from torch.utils.data import Dataset, DataLoader, random_split\n",
    "\n",
    "import yaml\n",
    "import numpy as np\n",
    "import matplotlib.pyplot as plt\n",
    "from scipy.interpolate import interp1d\n",
    "from tqdm.auto import tqdm, trange\n",
    "\n",
    "from photonlib import MultiLib, PhotonLib\n",
    "\n",
    "from pfmatch.io import H5File\n",
    "from pfmatch.apps import ToyMC\n",
    "from pfmatch.utils import load_detector_config\n",
    "from pfmatch.algorithms.hypothesis import FlashHypothesis, MultiFlashHypothesis\n",
    "from pfmatch.algorithms import PoissonMatchLoss\n",
    "from contextlib import closing"
   ]
  },
  {
   "cell_type": "markdown",
   "id": "cf5f691d-f722-43ce-9355-f177fd392276",
   "metadata": {},
   "source": [
    "## Dataset"
   ]
  },
  {
   "cell_type": "markdown",
   "id": "76616f23-c1d1-4cf8-837c-983539d84679",
   "metadata": {},
   "source": [
    "In this section let's generate the (TPC, PMT) data by using the Icarus detector and the `ToyMC` simulator. You can download the Icarus detector h5 file here. After downloading, please put it under `detectors` folder (you'll need to create that folder first)."
   ]
  },
  {
   "cell_type": "markdown",
   "id": "2a07a9bb-029d-48a5-b73a-5258cb6ed158",
   "metadata": {},
   "source": [
    "### Config the detector"
   ]
  },
  {
   "cell_type": "code",
   "execution_count": 2,
   "id": "d256e507-6ffa-4bda-b775-faf02030892c",
   "metadata": {},
   "outputs": [],
   "source": [
    "cfg='''\n",
    "multilib:\n",
    "    filepath: detectors/plib_2x2.h5\n",
    "    \n",
    "photonlib:\n",
    "    filepath: detectors/plib_icarus.h5\n",
    "        \n",
    "Detector: icarus_detector\n",
    "    \n",
    "ToyMC:\n",
    "    TimeAlgo: \"random\" # random, periodic, same\n",
    "    TrackAlgo: \"random\" # random, top-bottom\n",
    "    PeriodTPC: [-1300.,1300] # in micro-second, [-340-965(drift time),1698.4-340]\n",
    "    PeriodPMT: [-1000., 1000.] # in micro-second, [-1150, 3450-1150]\n",
    "    PEVariation: 0.0 # channel-to-channel (PMT-wise) variation in (fake) reco PE amount\n",
    "    LightYieldVariation: 0.0  # light yield variation per point in QCluster_t\n",
    "    PosXVariation: 0.0 # total x position variation in cm\n",
    "    TruncateTPC: 0 # 1=truncate TPC trajectory mimicing readout effect\n",
    "    NumTracks: 5\n",
    "    NumpySeed: 1\n",
    "    NeutrinoTime: 0.\n",
    "\n",
    "LightPath:\n",
    "    SegmentSize: 0.5\n",
    "'''\n",
    "cfg = yaml.safe_load(cfg)"
   ]
  },
  {
   "cell_type": "code",
   "execution_count": 3,
   "id": "1234cc14-5f1e-45a1-8733-ddaeda67150b",
   "metadata": {},
   "outputs": [
    {
     "name": "stdout",
     "output_type": "stream",
     "text": [
      "[PhotonLib] loading detectors/plib_icarus.h5\n",
      "[PhotonLib] file loaded\n"
     ]
    }
   ],
   "source": [
    "plib = PhotonLib.load(cfg)"
   ]
  },
  {
   "cell_type": "markdown",
   "id": "df8b0908-fe73-4f88-aed6-ca8ed856360e",
   "metadata": {
    "jp-MarkdownHeadingCollapsed": true
   },
   "source": [
    "### Generate the data"
   ]
  },
  {
   "cell_type": "markdown",
   "id": "b0f9ecd5-65ed-4013-b28b-00d0a7dca946",
   "metadata": {},
   "source": [
    "If you already generated the data, you can skip this subsection and jump to the load data subsection directly."
   ]
  },
  {
   "cell_type": "code",
   "execution_count": null,
   "id": "95308cda-6388-4539-9dd3-819246319af5",
   "metadata": {},
   "outputs": [
    {
     "name": "stdout",
     "output_type": "stream",
     "text": [
      "[PhotonLib] loading detectors/plib_icarus.h5\n",
      "[PhotonLib] file loaded\n"
     ]
    }
   ],
   "source": [
    "det_cfg = load_detector_config(cfg)\n",
    "gen = ToyMC(cfg, det_cfg, plib)"
   ]
  },
  {
   "cell_type": "markdown",
   "id": "cf1957af-88e6-4efa-9adc-b964ec152c4e",
   "metadata": {},
   "source": [
    "Now we are going to generate 100k data points and save them into a `data/icarus-100k.h5` file."
   ]
  },
  {
   "cell_type": "code",
   "execution_count": null,
   "id": "7903f9f4-2ddf-4a4f-a74c-ef376b2f87c8",
   "metadata": {},
   "outputs": [],
   "source": [
    "os.makedirs('data', exist_ok=True)\n",
    "\n",
    "bad_cnts = 0\n",
    "with closing(H5File.open('data/icarus-100k.h5', 'w')) as f:\n",
    "    for __ in trange(1000):\n",
    "        data = gen.make_flashmatch_inputs(100)\n",
    "\n",
    "        out_q = [[q] for q in data.raw_qcluster_v]\n",
    "        out_f = [[fl] for fl in data.flash_v]\n",
    "        match_vv = [[(0,0)]] * len(out_q)\n",
    "        if len(out_q) != len(out_f):\n",
    "            bad_cnts += 1\n",
    "            continue\n",
    "        f.write_many(out_q, out_f, match_vv)\n",
    "print('bad', bad_cnts)"
   ]
  },
  {
   "cell_type": "markdown",
   "id": "1c3c4546-8a9a-402b-aa29-9f808323a03d",
   "metadata": {},
   "source": [
    "### Load the data"
   ]
  },
  {
   "cell_type": "code",
   "execution_count": 4,
   "id": "a0e950c7-7025-46df-a8ba-77b18485a61f",
   "metadata": {},
   "outputs": [],
   "source": [
    "def load_data(data_root, fnames, plib=None, n_pts=1000, fake=True):\n",
    "\n",
    "    xyzq_list = []\n",
    "    pmt_list = []\n",
    "    dx_list = []\n",
    "    \n",
    "    for fname in fnames:\n",
    "        fullname = os.path.join(data_root, fname)\n",
    "        print(f'processing {fullname}...')\n",
    "        f = H5File.open(fullname, 'r')\n",
    "        \n",
    "        for idx in trange(n_pts):\n",
    "            try:\n",
    "                q_v, f_v, _ = f.read_one(idx, 180)\n",
    "            except Exception as e:\n",
    "                print(e)\n",
    "                continue\n",
    "\n",
    "            if plib:\n",
    "                q_v[0].shift_to_center(plib)\n",
    "            xyzq = q_v[0].qpt_v  # (x, y, z, q)\n",
    "            if plib is None:\n",
    "                mu_x = xyzq[:, 0].mean()\n",
    "                xyzq[:, 0] -= mu_x  # normalization\n",
    "            if fake:\n",
    "                pmt = f_v[0].pe_v  # PMT readout\n",
    "            else:\n",
    "                pmt = f_v[0].pe_true_v  # PMT readout\n",
    "            dx = q_v[0].xmin_true - xyzq[:, 0].min().item()  # true dx\n",
    "    \n",
    "            xyzq_list.append(xyzq)\n",
    "            pmt_list.append(pmt)\n",
    "            dx_list.append(dx)\n",
    "\n",
    "    return xyzq_list, pmt_list, dx_list"
   ]
  },
  {
   "cell_type": "code",
   "execution_count": 5,
   "id": "89dad708-bc29-4d2b-b442-78e5c572bb93",
   "metadata": {
    "scrolled": true
   },
   "outputs": [],
   "source": [
    "data_root = 'data'\n",
    "fnames = sorted([n for n in os.listdir(data_root) if n.startswith('icarus')])"
   ]
  },
  {
   "cell_type": "code",
   "execution_count": 6,
   "id": "f6f50987-597c-418f-9770-8345daa3e7a8",
   "metadata": {},
   "outputs": [
    {
     "name": "stdout",
     "output_type": "stream",
     "text": [
      "processing data/icarus-100k.h5...\n",
      "[H5File] opening data/icarus-100k.h5 in mode r\n"
     ]
    },
    {
     "data": {
      "application/vnd.jupyter.widget-view+json": {
       "model_id": "6b56f9c8030449f5881f209e79a6e522",
       "version_major": 2,
       "version_minor": 0
      },
      "text/plain": [
       "  0%|          | 0/10000 [00:00<?, ?it/s]"
      ]
     },
     "metadata": {},
     "output_type": "display_data"
    }
   ],
   "source": [
    "xyzq_list, pmt_list, dx_list = load_data(data_root, fnames, plib=plib, n_pts=10000, fake=True)"
   ]
  },
  {
   "cell_type": "markdown",
   "id": "32d1d2d0-ed14-49fd-8765-3d0701afa586",
   "metadata": {
    "jp-MarkdownHeadingCollapsed": true,
    "tags": []
   },
   "source": [
    "#### Test"
   ]
  },
  {
   "cell_type": "code",
   "execution_count": 12,
   "id": "b8b08082-eaaa-4a5b-a976-27e95a3f5380",
   "metadata": {},
   "outputs": [
    {
     "data": {
      "text/plain": [
       "torch.Size([1109, 4])"
      ]
     },
     "execution_count": 12,
     "metadata": {},
     "output_type": "execute_result"
    }
   ],
   "source": [
    "xyzq_list[0].shape"
   ]
  },
  {
   "cell_type": "code",
   "execution_count": 13,
   "id": "8c5a6284-d7c9-40e8-a5bd-4b6f49293cc3",
   "metadata": {},
   "outputs": [
    {
     "data": {
      "text/plain": [
       "torch.Size([180])"
      ]
     },
     "execution_count": 13,
     "metadata": {},
     "output_type": "execute_result"
    }
   ],
   "source": [
    "pmt_list[0].shape"
   ]
  },
  {
   "cell_type": "code",
   "execution_count": 14,
   "id": "91e82595-0d17-4cb5-8c01-01c74852c9e2",
   "metadata": {
    "scrolled": true
   },
   "outputs": [
    {
     "data": {
      "text/plain": [
       "68.06504821777344"
      ]
     },
     "execution_count": 14,
     "metadata": {},
     "output_type": "execute_result"
    }
   ],
   "source": [
    "dx_list[0]"
   ]
  },
  {
   "cell_type": "code",
   "execution_count": 15,
   "id": "d35d3f62-5e76-4229-ad50-528140cd3ec2",
   "metadata": {},
   "outputs": [
    {
     "data": {
      "text/plain": [
       "tensor(0.5000)"
      ]
     },
     "execution_count": 15,
     "metadata": {},
     "output_type": "execute_result"
    }
   ],
   "source": [
    "sep = torch.norm(xyzq_list[0][0, :3] - xyzq_list[0][1, :3])\n",
    "\n",
    "sep"
   ]
  },
  {
   "cell_type": "markdown",
   "id": "fbe6048f-41e7-4436-a0e9-bf37107fb285",
   "metadata": {},
   "source": [
    "Check center in x of the first 10 normalized tracks -- should be `-210`"
   ]
  },
  {
   "cell_type": "code",
   "execution_count": 16,
   "id": "86a33157-0f50-49c8-98b0-3752f9728492",
   "metadata": {},
   "outputs": [
    {
     "name": "stdout",
     "output_type": "stream",
     "text": [
      "tensor(-210.0000) tensor(-209.9963)\n",
      "tensor(-210.) tensor(-210.0092)\n",
      "tensor(-210.) tensor(-209.9918)\n",
      "tensor(-210.) tensor(-209.9996)\n",
      "tensor(-210.) tensor(-210.0238)\n",
      "tensor(-210.) tensor(-209.9958)\n",
      "tensor(-210.0000) tensor(-209.9997)\n",
      "tensor(-210.) tensor(-210.0060)\n",
      "tensor(-210.) tensor(-209.9686)\n",
      "tensor(-210.) tensor(-209.9930)\n"
     ]
    }
   ],
   "source": [
    "for i in range(10):\n",
    "    x = xyzq_list[i][:, 0]\n",
    "    x_c = (x.max() + x.min()) / 2  # this is the correct way\n",
    "    x_m = x.mean()\n",
    "    \n",
    "    print(x_c, x_m)"
   ]
  },
  {
   "cell_type": "markdown",
   "id": "7da76f56-7d2a-4600-bb22-a6ccd5361ded",
   "metadata": {
    "tags": []
   },
   "source": [
    "## Forward simulator"
   ]
  },
  {
   "cell_type": "markdown",
   "id": "1b6b2941-6369-4c13-846e-e2035693f98e",
   "metadata": {},
   "source": [
    "Now we are going to setup forward models -- they would be used a bit during our training and post analysis."
   ]
  },
  {
   "cell_type": "code",
   "execution_count": 7,
   "id": "a1537428-5b16-4b14-9fba-41f244e02e9b",
   "metadata": {},
   "outputs": [],
   "source": [
    "def get_dx_ranges(xyzq_list):\n",
    "    dx_ranges = []\n",
    "    for i in trange(len(xyzq_list)):\n",
    "        track_xmin = xyzq_list[i][:, 0].min()\n",
    "        track_xmax = xyzq_list[i][:, 0].max()\n",
    "        \n",
    "        dx_max = forward_model_single._xmax - track_xmax\n",
    "        dx_min = forward_model_single._xmin - track_xmin\n",
    "\n",
    "        dx_ranges.append([dx_min, dx_max])\n",
    "    dx_ranges = torch.tensor(dx_ranges)\n",
    "\n",
    "    return dx_ranges"
   ]
  },
  {
   "cell_type": "code",
   "execution_count": 8,
   "id": "eea75642-db29-4e91-b9eb-e126d923b8af",
   "metadata": {},
   "outputs": [
    {
     "data": {
      "text/plain": [
       "'cuda:0'"
      ]
     },
     "execution_count": 8,
     "metadata": {},
     "output_type": "execute_result"
    }
   ],
   "source": [
    "DEVICE = 'cuda:0' if torch.cuda.is_available() else torch.device('cpu')\n",
    "\n",
    "DEVICE"
   ]
  },
  {
   "cell_type": "code",
   "execution_count": 9,
   "id": "ddac3927-d188-4b2c-a948-fb90b098aef7",
   "metadata": {},
   "outputs": [],
   "source": [
    "plib = plib.to(DEVICE)  # put plib to device"
   ]
  },
  {
   "cell_type": "code",
   "execution_count": 10,
   "id": "c5334678-bbfd-47e8-a577-f38e5f0bff66",
   "metadata": {},
   "outputs": [
    {
     "data": {
      "application/vnd.jupyter.widget-view+json": {
       "model_id": "445e105759d84388832eb196277cd904",
       "version_major": 2,
       "version_minor": 0
      },
      "text/plain": [
       "  0%|          | 0/10000 [00:00<?, ?it/s]"
      ]
     },
     "metadata": {},
     "output_type": "display_data"
    }
   ],
   "source": [
    "# Create the single forward model\n",
    "forward_model_single = FlashHypothesis(cfg, plib).to(DEVICE)\n",
    "\n",
    "# Create the batch forward model\n",
    "dx_ranges = get_dx_ranges(xyzq_list)\n",
    "forward_model = MultiFlashHypothesis(plib, dx_ranges).to(DEVICE)"
   ]
  },
  {
   "cell_type": "markdown",
   "id": "01624f99-09cc-454a-85f0-074ffbb4b110",
   "metadata": {
    "jp-MarkdownHeadingCollapsed": true
   },
   "source": [
    "### Sanity check"
   ]
  },
  {
   "cell_type": "markdown",
   "id": "6889674e-e640-41a2-938f-2f95537f011b",
   "metadata": {},
   "source": [
    "Center in x for the detector -- should be `-210`"
   ]
  },
  {
   "cell_type": "code",
   "execution_count": 11,
   "id": "0559725a-eb91-41e5-bfb2-b974c8eaad28",
   "metadata": {},
   "outputs": [
    {
     "data": {
      "text/plain": [
       "-210.0"
      ]
     },
     "execution_count": 11,
     "metadata": {},
     "output_type": "execute_result"
    }
   ],
   "source": [
    "(forward_model_single._xmin + forward_model_single._xmax) / 2"
   ]
  },
  {
   "cell_type": "markdown",
   "id": "cf76baf2-71f5-4d8e-a412-109d15bb5381",
   "metadata": {
    "jp-MarkdownHeadingCollapsed": true,
    "tags": []
   },
   "source": [
    "### Forward model test"
   ]
  },
  {
   "cell_type": "code",
   "execution_count": 12,
   "id": "d0bf1821-7b9e-4863-9816-0a4cf544e869",
   "metadata": {},
   "outputs": [],
   "source": [
    "def cmp_pmt(idx=0, dx_shift=0, method='clamp'):\n",
    "    track_i = xyzq_list[idx]\n",
    "    pmt_i = pmt_list[idx]\n",
    "    # dx_i = dx_list[idx]\n",
    "    \n",
    "    track_i_shifted = torch.clone(track_i)\n",
    "    track_i_shifted[:, 0] += dx_shift\n",
    "    if method == 'clamp':\n",
    "        track_i_shifted[:, 0] = torch.clamp(track_i_shifted[:, 0],\n",
    "                                            forward_model_single._xmin, forward_model_single._xmax)\n",
    "    else:\n",
    "        idx_filtered = (track_i_shifted[:, 0] >= forward_model_single._xmin) * (track_i_shifted[:, 0] <= forward_model_single._xmax)\n",
    "        track_i_shifted = track_i_shifted[idx_filtered]\n",
    "    print(f'track size: {track_i_shifted.shape[0]}')\n",
    "    track_i_shifted = track_i_shifted.to(forward_model_single.plib.device)\n",
    "    pmt_i_shifted_sim = forward_model_single(track_i_shifted)\n",
    "    # pmt_i_sim = forward_model(track_i)\n",
    "    \n",
    "    fig, ax = plt.subplots(1, 1)\n",
    "    ax.set(xlabel='pmt channel', ylabel='count')\n",
    "    ax.set_title(f'track {idx}')\n",
    "    \n",
    "    ax.plot(pmt_i, '-', label='groundtruth')\n",
    "    # ax.plot(pmt_i_sim.detach().numpy(), '-', label='dx = 0')\n",
    "    ax.plot(pmt_i_shifted_sim.detach().cpu().numpy(), '-', label=f'dx = {dx_shift:.2f}')\n",
    "    \n",
    "    # ax.grid()\n",
    "    ax.legend(loc=0)\n",
    "    fig.tight_layout()\n",
    "    \n",
    "    # fig.savefig('plot.pdf', bbox_inches='tight')\n",
    "    plt.show()"
   ]
  },
  {
   "cell_type": "code",
   "execution_count": 13,
   "id": "1e96c704-d651-4db2-b778-1d62ed80b299",
   "metadata": {},
   "outputs": [
    {
     "name": "stdout",
     "output_type": "stream",
     "text": [
      "track size: 1109\n"
     ]
    },
    {
     "data": {
      "image/png": "[encoded data removed]",
      "text/plain": [
       "<Figure size 640x480 with 1 Axes>"
      ]
     },
     "metadata": {},
     "output_type": "display_data"
    }
   ],
   "source": [
    "cmp_pmt(0, 50)"
   ]
  },
  {
   "cell_type": "code",
   "execution_count": 14,
   "id": "5569948a-3618-41a7-bc65-284260689d3e",
   "metadata": {},
   "outputs": [
    {
     "name": "stdout",
     "output_type": "stream",
     "text": [
      "track size: 1109\n"
     ]
    },
    {
     "data": {
      "image/png": "[encoded data removed]",
      "text/plain": [
       "<Figure size 640x480 with 1 Axes>"
      ]
     },
     "metadata": {},
     "output_type": "display_data"
    }
   ],
   "source": [
    "cmp_pmt(0, -50)"
   ]
  },
  {
   "cell_type": "code",
   "execution_count": 15,
   "id": "dfb249f7-01da-41f1-b02d-295f87febaba",
   "metadata": {},
   "outputs": [
    {
     "name": "stdout",
     "output_type": "stream",
     "text": [
      "track size: 1109\n"
     ]
    },
    {
     "data": {
      "image/png": "[encoded data removed]",
      "text/plain": [
       "<Figure size 640x480 with 1 Axes>"
      ]
     },
     "metadata": {},
     "output_type": "display_data"
    }
   ],
   "source": [
    "cmp_pmt(0, dx_list[0])"
   ]
  },
  {
   "cell_type": "markdown",
   "id": "c74fa399-0905-4e78-85b4-6af358cc845a",
   "metadata": {},
   "source": [
    "#### Scan loss for random tracks"
   ]
  },
  {
   "cell_type": "code",
   "execution_count": 29,
   "id": "57086792-ae6b-42af-b1fa-4af407d2de52",
   "metadata": {},
   "outputs": [],
   "source": [
    "def scan_loss(indices, n_step=100):\n",
    "    pmt_sim_list = []\n",
    "    dx_list = []\n",
    "    for idx in tqdm(indices):\n",
    "        dx = torch.linspace(dx_ranges[idx][0], dx_ranges[idx][1], n_step)\n",
    "        \n",
    "        batch = []\n",
    "        sizes = []\n",
    "        \n",
    "        xyzq = xyzq_list[idx]\n",
    "        for i in range(n_step):\n",
    "            batch.append(xyzq)\n",
    "            sizes.append(xyzq.shape[0])\n",
    "        \n",
    "        batch = torch.vstack(batch)\n",
    "        sizes = torch.tensor(sizes)\n",
    "        \n",
    "        pmt_sim = forward_model.apply(dx.to(DEVICE), batch.to(DEVICE), sizes.to(DEVICE), plib)\n",
    "        pmt_sim_list.append(pmt_sim)\n",
    "        dx_list.append(dx)\n",
    "\n",
    "    criterion = PoissonMatchLoss()\n",
    "    \n",
    "    fig, ax = plt.subplots(1, 1)\n",
    "    ax.set(xlabel='dx (cm)', ylabel='MSE loss')\n",
    "    \n",
    "    for i, idx in enumerate(indices):\n",
    "        dx = dx_list[i]\n",
    "        pmt_sim = pmt_sim_list[i]\n",
    "        ax.plot(dx, criterion(pmt_sim, pmt_list[idx].to(DEVICE)).detach().cpu(), '-', label=f'track {idx}')\n",
    "    \n",
    "    # ax.grid()\n",
    "    ax.legend(loc=0)\n",
    "    fig.tight_layout()\n",
    "    \n",
    "    # fig.savefig('plot.pdf', bbox_inches='tight')\n",
    "    plt.show()"
   ]
  },
  {
   "cell_type": "code",
   "execution_count": 30,
   "id": "c3bf6614-611d-49dd-859a-08258fcfb8b2",
   "metadata": {},
   "outputs": [],
   "source": [
    "indices = np.random.choice(np.arange(1000), 10, replace=False)"
   ]
  },
  {
   "cell_type": "code",
   "execution_count": 31,
   "id": "fa846b60-8137-4e7c-a3d6-9f9776283030",
   "metadata": {},
   "outputs": [
    {
     "data": {
      "application/vnd.jupyter.widget-view+json": {
       "model_id": "9895aaa13c6b484481bffb80f38f3d54",
       "version_major": 2,
       "version_minor": 0
      },
      "text/plain": [
       "  0%|          | 0/10 [00:00<?, ?it/s]"
      ]
     },
     "metadata": {},
     "output_type": "display_data"
    },
    {
     "data": {
      "image/png": "[encoded data removed]",
      "text/plain": [
       "<Figure size 640x480 with 1 Axes>"
      ]
     },
     "metadata": {},
     "output_type": "display_data"
    }
   ],
   "source": [
    "scan_loss(indices)"
   ]
  },
  {
   "cell_type": "markdown",
   "id": "e8fb5f2c-2585-4101-bddb-e2e432c54744",
   "metadata": {},
   "source": [
    "## Dataset w/ resample"
   ]
  },
  {
   "cell_type": "markdown",
   "id": "301a47ad-b24a-4946-ae02-58dedb049c9c",
   "metadata": {},
   "source": [
    "For regular CNN, in order to batch the data we have to do something to make each data point share the same shape. We can, of course, choose the resample resolution according to the data to not lose too much information."
   ]
  },
  {
   "cell_type": "code",
   "execution_count": 40,
   "id": "ebcf83f7-402b-42fb-91b2-5300840f5949",
   "metadata": {},
   "outputs": [],
   "source": [
    "def resample_xyzq(tensor, dim=10):\n",
    "    n = tensor.shape[0]\n",
    "    \n",
    "    # Interpolating to 10 x 4 tensor\n",
    "    num_interpolated_points = dim\n",
    "    \n",
    "    # Convert the PyTorch tensor to a NumPy array\n",
    "    tensor_np = tensor.detach().cpu().numpy()\n",
    "    \n",
    "    # Create an array of original indices\n",
    "    original_indices = np.arange(n)\n",
    "    \n",
    "    # Create an array of new indices for the interpolated points\n",
    "    new_indices = np.linspace(0, n - 1, num=num_interpolated_points)\n",
    "    \n",
    "    # Interpolating each column separately\n",
    "    interpolated_tensor_np = np.zeros((num_interpolated_points, 4))\n",
    "    for i in range(4):\n",
    "        interp_func = interp1d(original_indices, tensor_np[:, i], kind='linear')\n",
    "        interpolated_tensor_np[:, i] = interp_func(new_indices)\n",
    "    \n",
    "    # Convert the interpolated NumPy array back to a PyTorch tensor\n",
    "    interpolated_tensor = torch.from_numpy(interpolated_tensor_np).to(dtype=tensor.dtype).to(tensor.device)\n",
    "    \n",
    "    return interpolated_tensor"
   ]
  },
  {
   "cell_type": "code",
   "execution_count": 41,
   "id": "81f28847-350b-4cda-b0fc-eca817685aa0",
   "metadata": {},
   "outputs": [],
   "source": [
    "class ResampledDataset(Dataset):\n",
    "    def __init__(self, xyzq_list, pmt_list, dx_list, n_resample=400):\n",
    "        \"\"\"\n",
    "        Args:\n",
    "            xyzq_list (list of tensors): Each tensor has shape (n_i, 4)\n",
    "            pmt_list: Each tensor has shape (180,)\n",
    "            dx_list: Each tensor has shape (1,)\n",
    "        \"\"\"\n",
    "        self.xyzq_list = xyzq_list\n",
    "        self.pmt_list = pmt_list\n",
    "        self.dx_list = dx_list\n",
    "\n",
    "        self.n_resample = n_resample\n",
    "\n",
    "    def __len__(self):\n",
    "        return len(self.dx_list)\n",
    "\n",
    "    def __getitem__(self, idx):\n",
    "        xyzq = self.xyzq_list[idx]\n",
    "        xyzq = resample_xyzq(xyzq, self.n_resample)\n",
    "        \n",
    "        pmt = self.pmt_list[idx]\n",
    "        dx = self.dx_list[idx]\n",
    "        \n",
    "        return xyzq, pmt, dx"
   ]
  },
  {
   "cell_type": "markdown",
   "id": "ef0fd8e7-efa0-4fa9-9076-3addfe05e5a8",
   "metadata": {
    "jp-MarkdownHeadingCollapsed": true
   },
   "source": [
    "### Test"
   ]
  },
  {
   "cell_type": "code",
   "execution_count": 42,
   "id": "1149f4b6-50d1-4594-b0f2-46b1dae2c1ee",
   "metadata": {},
   "outputs": [],
   "source": [
    "dataset = ResampledDataset(xyzq_list, pmt_list, dx_list)"
   ]
  },
  {
   "cell_type": "code",
   "execution_count": 43,
   "id": "ac552e43-ab90-4516-aad7-76fb8aa6c165",
   "metadata": {},
   "outputs": [],
   "source": [
    "# Create the DataLoader with the custom collate function\n",
    "batch_size = 2\n",
    "dataloader = DataLoader(dataset, batch_size=batch_size)"
   ]
  },
  {
   "cell_type": "code",
   "execution_count": 44,
   "id": "1b75bae0-b540-4890-bbaf-8c9450e2d9ec",
   "metadata": {},
   "outputs": [],
   "source": [
    "batch = next(iter(dataloader))"
   ]
  },
  {
   "cell_type": "code",
   "execution_count": 45,
   "id": "c10e65f1-f7f0-4826-9b1f-5a20f5e86135",
   "metadata": {},
   "outputs": [],
   "source": [
    "xyzqs, pmts, dxs = batch"
   ]
  },
  {
   "cell_type": "code",
   "execution_count": 46,
   "id": "2f71233e-e21a-4f21-9231-e0d04e91a794",
   "metadata": {},
   "outputs": [
    {
     "data": {
      "text/plain": [
       "torch.Size([2, 400, 4])"
      ]
     },
     "execution_count": 46,
     "metadata": {},
     "output_type": "execute_result"
    }
   ],
   "source": [
    "xyzqs.shape"
   ]
  },
  {
   "cell_type": "code",
   "execution_count": 47,
   "id": "188254cc-b9c5-481a-ac89-3387d558ed63",
   "metadata": {},
   "outputs": [
    {
     "data": {
      "text/plain": [
       "torch.Size([2, 180])"
      ]
     },
     "execution_count": 47,
     "metadata": {},
     "output_type": "execute_result"
    }
   ],
   "source": [
    "pmts.shape"
   ]
  },
  {
   "cell_type": "code",
   "execution_count": 48,
   "id": "76526ce2-9edd-4666-a0f9-8a6cd2b97902",
   "metadata": {},
   "outputs": [
    {
     "data": {
      "text/plain": [
       "torch.Size([2])"
      ]
     },
     "execution_count": 48,
     "metadata": {},
     "output_type": "execute_result"
    }
   ],
   "source": [
    "dxs.shape"
   ]
  },
  {
   "cell_type": "markdown",
   "id": "df094016-e62b-44ee-b185-c8a9db32d467",
   "metadata": {},
   "source": [
    "## Network structure"
   ]
  },
  {
   "cell_type": "markdown",
   "id": "e6d8b1f4-b845-42c4-ae3b-f5689d61f5ad",
   "metadata": {},
   "source": [
    "Here you can define your version of CNN-based reconstruction network!"
   ]
  },
  {
   "cell_type": "code",
   "execution_count": 21,
   "id": "fa44091e-9bec-4010-8518-a1ac72f43486",
   "metadata": {},
   "outputs": [],
   "source": [
    "class ReconCNN(nn.Module):\n",
    "    def __init__(self, hidden_features, out_features=128, pmt_count=180):\n",
    "        super(ReconCNN, self).__init__()\n",
    "        \n",
    "        # Subnetwork for A\n",
    "        self.conv1 = nn.Conv1d(in_channels=4, out_channels=hidden_features[0], kernel_size=3, padding=1)\n",
    "        self.conv2 = nn.Conv1d(hidden_features[0], hidden_features[1], kernel_size=3, padding=1)\n",
    "        self.fc = torch.nn.Linear(hidden_features[1], out_features)\n",
    "        self.global_avg_pool = nn.AdaptiveAvgPool1d(1)  # Output size is 1\n",
    "        \n",
    "        # Subnetwork for B\n",
    "        self.branch_b = nn.Sequential(\n",
    "            nn.Linear(pmt_count, 512),\n",
    "            nn.ReLU(),\n",
    "            nn.Linear(512, out_features),\n",
    "            nn.ReLU()\n",
    "        )\n",
    "        \n",
    "        # Combining both branches\n",
    "        self.combined_fc = nn.Sequential(\n",
    "            nn.Linear(2 * out_features, 128),\n",
    "            nn.ReLU(),\n",
    "            nn.Linear(128, 32),\n",
    "            nn.ReLU(),\n",
    "            nn.Linear(32, 1)\n",
    "        )\n",
    "\n",
    "    def branch_a(self, x):\n",
    "        x = x.transpose(1, 2)\n",
    "        x = self.conv1(x)      # Apply convolution\n",
    "        x = F.relu(x)          # Activation function\n",
    "        x = self.conv2(x)\n",
    "        x = F.relu(x)\n",
    "        x = self.global_avg_pool(x)  # Global Average Pooling over sequence length\n",
    "        x = x.squeeze(-1)            # Remove the last dimension, shape: (batch_size, 128)\n",
    "        x = self.fc(x)\n",
    "\n",
    "        return x\n",
    "    \n",
    "    def forward(self, a, b):\n",
    "        out_a = self.branch_a(a)\n",
    "        out_b = self.branch_b(b)\n",
    "        # print(x.shape, out_b.shape)\n",
    "        # Concatenate along feature dimension\n",
    "        combined = torch.cat((out_a, out_b), dim=1)\n",
    "        output = self.combined_fc(combined)\n",
    "        output = 2 * F.sigmoid(output) - 1\n",
    "        \n",
    "        return output"
   ]
  },
  {
   "cell_type": "markdown",
   "id": "5abb14c6-53d9-4093-bed1-855f57abade9",
   "metadata": {
    "jp-MarkdownHeadingCollapsed": true
   },
   "source": [
    "### Test"
   ]
  },
  {
   "cell_type": "code",
   "execution_count": 23,
   "id": "a949ec7e-e235-4ea1-ae66-d10a4e1dd832",
   "metadata": {},
   "outputs": [
    {
     "name": "stdout",
     "output_type": "stream",
     "text": [
      "Output feature vector shape: torch.Size([2, 1])\n"
     ]
    },
    {
     "name": "stderr",
     "output_type": "stream",
     "text": [
      "OpenBLAS Warning : Detect OpenMP Loop and this application may hang. Please rebuild the library with USE_OPENMP=1 option.\n",
      "OpenBLAS Warning : Detect OpenMP Loop and this application may hang. Please rebuild the library with USE_OPENMP=1 option.\n",
      "OpenBLAS Warning : Detect OpenMP Loop and this application may hang. Please rebuild the library with USE_OPENMP=1 option.\n",
      "OpenBLAS Warning : Detect OpenMP Loop and this application may hang. Please rebuild the library with USE_OPENMP=1 option.\n"
     ]
    }
   ],
   "source": [
    "# Instantiate the model\n",
    "model = ReconCNN(hidden_features=[64, 256], out_features=128)\n",
    "\n",
    "# Iterate over the DataLoader\n",
    "for batch in dataloader:\n",
    "    # Forward pass\n",
    "    xyzqs, pmts, _ = batch\n",
    "    output = model(xyzqs, pmts)\n",
    "\n",
    "    print(\"Output feature vector shape:\", output.shape)\n",
    "    # Perform your training steps here (e.g., loss computation, backpropagation)\n",
    "    # For demonstration, we'll process one batch\n",
    "    break"
   ]
  },
  {
   "cell_type": "code",
   "execution_count": 24,
   "id": "c3233d54-2f89-46be-9c24-9b298f9db715",
   "metadata": {},
   "outputs": [],
   "source": [
    "def count_parameters(module):\n",
    "    return sum(p.numel() for p in module.parameters())"
   ]
  },
  {
   "cell_type": "code",
   "execution_count": 25,
   "id": "d7600eed-fd30-4bf4-be1d-67619e94d8f7",
   "metadata": {},
   "outputs": [
    {
     "data": {
      "text/plain": [
       "278529"
      ]
     },
     "execution_count": 25,
     "metadata": {},
     "output_type": "execute_result"
    }
   ],
   "source": [
    "count_parameters(model)"
   ]
  },
  {
   "cell_type": "code",
   "execution_count": 26,
   "id": "040159b7-3faf-4416-bc46-48861b854fe2",
   "metadata": {},
   "outputs": [
    {
     "data": {
      "text/plain": [
       "158336"
      ]
     },
     "execution_count": 26,
     "metadata": {},
     "output_type": "execute_result"
    }
   ],
   "source": [
    "count_parameters(model.branch_b)"
   ]
  },
  {
   "cell_type": "markdown",
   "id": "e21bec4b-66f4-4365-82df-dc09bbbfc9bb",
   "metadata": {},
   "source": [
    "## Training!"
   ]
  },
  {
   "cell_type": "markdown",
   "id": "22e6f986-4a72-4cc7-8db8-a086e8961495",
   "metadata": {},
   "source": [
    "### Feature normalization"
   ]
  },
  {
   "cell_type": "code",
   "execution_count": 27,
   "id": "fa8dc339-64ed-40e4-80ff-3f416c0692d5",
   "metadata": {},
   "outputs": [],
   "source": [
    "XYZQ = torch.concat(xyzq_list, dim=0)\n",
    "PMT = torch.stack(pmt_list)\n",
    "dX = torch.tensor(dx_list, dtype=XYZQ.dtype)"
   ]
  },
  {
   "cell_type": "code",
   "execution_count": 28,
   "id": "8c51ca54-5db3-4916-a568-afdbf282bb58",
   "metadata": {},
   "outputs": [
    {
     "data": {
      "text/plain": [
       "(torch.Size([12748908, 4]), torch.Size([10000, 180]), torch.Size([10000]))"
      ]
     },
     "execution_count": 28,
     "metadata": {},
     "output_type": "execute_result"
    }
   ],
   "source": [
    "XYZQ.shape, PMT.shape, dX.shape"
   ]
  },
  {
   "cell_type": "code",
   "execution_count": 29,
   "id": "6beeceb5-bc0c-456f-ae6c-beb140c96dd3",
   "metadata": {},
   "outputs": [],
   "source": [
    "XYZQ_mu = XYZQ.mean(dim=0)\n",
    "XYZQ_std = XYZQ.std(dim=0)\n",
    "PMT_mu = PMT.mean(dim=0)\n",
    "PMT_std = PMT.std(dim=0)"
   ]
  },
  {
   "cell_type": "code",
   "execution_count": 30,
   "id": "7b61119c-e700-4756-a1b1-890195f6a33a",
   "metadata": {},
   "outputs": [
    {
     "data": {
      "text/plain": [
       "(tensor([-2.1000e+02, -2.3927e+01,  3.1733e-01,  2.6390e+04]),\n",
       " tensor([ 35.7958,  74.8276, 404.3167, 428.9499]))"
      ]
     },
     "execution_count": 30,
     "metadata": {},
     "output_type": "execute_result"
    }
   ],
   "source": [
    "XYZQ_mu, XYZQ_std"
   ]
  },
  {
   "cell_type": "code",
   "execution_count": 31,
   "id": "ce1e9b12-08cb-4103-a3cb-e7cd7b3580e8",
   "metadata": {},
   "outputs": [
    {
     "data": {
      "text/plain": [
       "(tensor([ 889.4356,  870.9064, 1167.6302, 1527.8296]),\n",
       " tensor([3626.9465, 3141.2056, 4427.1680, 5026.2666]))"
      ]
     },
     "execution_count": 31,
     "metadata": {},
     "output_type": "execute_result"
    }
   ],
   "source": [
    "PMT_mu[:4], PMT_std[:4]"
   ]
  },
  {
   "cell_type": "markdown",
   "id": "8e3e175b-3d23-432e-8436-74997d8d2266",
   "metadata": {},
   "source": [
    "### Pre-load to GPU"
   ]
  },
  {
   "cell_type": "markdown",
   "id": "2599b287-2557-4a47-bcde-e0b3539d32f8",
   "metadata": {},
   "source": [
    "Then we preload the data to GPU for higher GPU utilization -- if you are using CPU then this step can be skipped."
   ]
  },
  {
   "cell_type": "code",
   "execution_count": 32,
   "id": "bcd1ebd9-71fa-4798-aba8-57f54d8c8dc6",
   "metadata": {},
   "outputs": [
    {
     "data": {
      "application/vnd.jupyter.widget-view+json": {
       "model_id": "787e55d1567e41ca86aadf82e2835995",
       "version_major": 2,
       "version_minor": 0
      },
      "text/plain": [
       "  0%|          | 0/10000 [00:00<?, ?it/s]"
      ]
     },
     "metadata": {},
     "output_type": "display_data"
    }
   ],
   "source": [
    "xyzq_list_gpu = []\n",
    "pmt_list_gpu = []\n",
    "dx_list_gpu = []\n",
    "for i in tqdm(range(len(xyzq_list))):\n",
    "    xyzq = xyzq_list[i]\n",
    "    pmt = pmt_list[i]\n",
    "    dx = dx_list[i]\n",
    "\n",
    "    # Normalization\n",
    "    xyzq = (xyzq - XYZQ_mu) / XYZQ_std\n",
    "    pmt = (pmt - PMT_mu) / PMT_std\n",
    "\n",
    "    # Preload to GPU\n",
    "    xyzq_list_gpu.append(xyzq.to(DEVICE))\n",
    "    pmt_list_gpu.append(pmt.to(DEVICE))\n",
    "    dx_list_gpu.append(torch.tensor(dx, dtype=pmt.dtype).to(DEVICE))"
   ]
  },
  {
   "cell_type": "code",
   "execution_count": 33,
   "id": "89d4f38d-0b30-44bf-9c26-182fd61e7769",
   "metadata": {},
   "outputs": [],
   "source": [
    "XYZQ_mu_gpu = XYZQ_mu.to(DEVICE)\n",
    "XYZQ_std_gpu = XYZQ_std.to(DEVICE)\n",
    "PMT_mu_gpu = PMT_mu.to(DEVICE)\n",
    "PMT_std_gpu = PMT_std.to(DEVICE)"
   ]
  },
  {
   "cell_type": "markdown",
   "id": "36be5076-7357-4a56-bf1b-70f61441c4c4",
   "metadata": {
    "jp-MarkdownHeadingCollapsed": true
   },
   "source": [
    "#### Test"
   ]
  },
  {
   "cell_type": "code",
   "execution_count": 34,
   "id": "12e31c4f-cf2b-40a6-b05e-898c80e3d45e",
   "metadata": {},
   "outputs": [
    {
     "data": {
      "text/plain": [
       "torch.Size([1109, 4])"
      ]
     },
     "execution_count": 34,
     "metadata": {},
     "output_type": "execute_result"
    }
   ],
   "source": [
    "xyzq_list_gpu[0].shape"
   ]
  },
  {
   "cell_type": "code",
   "execution_count": 35,
   "id": "418e7644-fd38-4202-b29b-d77646721a45",
   "metadata": {},
   "outputs": [
    {
     "data": {
      "text/plain": [
       "torch.Size([180])"
      ]
     },
     "execution_count": 35,
     "metadata": {},
     "output_type": "execute_result"
    }
   ],
   "source": [
    "pmt_list_gpu[0].shape"
   ]
  },
  {
   "cell_type": "code",
   "execution_count": 36,
   "id": "390543e5-7820-4e8d-8f2c-70efb836bb14",
   "metadata": {},
   "outputs": [
    {
     "data": {
      "text/plain": [
       "tensor(68.0650, device='cuda:0')"
      ]
     },
     "execution_count": 36,
     "metadata": {},
     "output_type": "execute_result"
    }
   ],
   "source": [
    "dx_list_gpu[0]"
   ]
  },
  {
   "cell_type": "code",
   "execution_count": 49,
   "id": "e1181ba2-8442-496e-8dc8-d0535cc3f284",
   "metadata": {},
   "outputs": [],
   "source": [
    "dataset = ResampledDataset(xyzq_list_gpu, pmt_list_gpu, dx_list_gpu)"
   ]
  },
  {
   "cell_type": "code",
   "execution_count": 50,
   "id": "35dd3b48-f2fe-456f-a5bb-4a338b77a4c7",
   "metadata": {},
   "outputs": [],
   "source": [
    "# Create the DataLoader with the custom collate function\n",
    "batch_size = 2\n",
    "dataloader = DataLoader(dataset, batch_size=batch_size)"
   ]
  },
  {
   "cell_type": "code",
   "execution_count": 51,
   "id": "be49ed44-5dcf-4468-b0fb-bfd9205568c5",
   "metadata": {},
   "outputs": [],
   "source": [
    "batch = next(iter(dataloader))"
   ]
  },
  {
   "cell_type": "code",
   "execution_count": 53,
   "id": "932edb12-b5a9-40a3-bbcb-1ff5814ed39f",
   "metadata": {},
   "outputs": [],
   "source": [
    "xyzqs, pmts, dxs = batch"
   ]
  },
  {
   "cell_type": "code",
   "execution_count": 54,
   "id": "bb4a8ca4-ff03-4696-97f4-cc1397894c93",
   "metadata": {},
   "outputs": [
    {
     "data": {
      "text/plain": [
       "torch.Size([2, 400, 4])"
      ]
     },
     "execution_count": 54,
     "metadata": {},
     "output_type": "execute_result"
    }
   ],
   "source": [
    "xyzqs.size()"
   ]
  },
  {
   "cell_type": "code",
   "execution_count": 55,
   "id": "e24e85e0-7868-403c-b4b6-f528c06d07e7",
   "metadata": {},
   "outputs": [
    {
     "data": {
      "text/plain": [
       "torch.Size([2, 180])"
      ]
     },
     "execution_count": 55,
     "metadata": {},
     "output_type": "execute_result"
    }
   ],
   "source": [
    "pmts.shape"
   ]
  },
  {
   "cell_type": "code",
   "execution_count": 56,
   "id": "776a9b83-5194-4c2c-a65f-b75b376e23ae",
   "metadata": {},
   "outputs": [
    {
     "data": {
      "text/plain": [
       "torch.Size([2])"
      ]
     },
     "execution_count": 56,
     "metadata": {},
     "output_type": "execute_result"
    }
   ],
   "source": [
    "dxs.shape"
   ]
  },
  {
   "cell_type": "code",
   "execution_count": 57,
   "id": "94f9f5f5-0fe7-4bf3-80da-84b2ab641c25",
   "metadata": {},
   "outputs": [
    {
     "data": {
      "text/plain": [
       "device(type='cuda', index=0)"
      ]
     },
     "execution_count": 57,
     "metadata": {},
     "output_type": "execute_result"
    }
   ],
   "source": [
    "dxs.device"
   ]
  },
  {
   "cell_type": "markdown",
   "id": "08b9b83d-9a96-4a99-b57d-32f64670e6a8",
   "metadata": {},
   "source": [
    "### Train the model w/ labels!"
   ]
  },
  {
   "cell_type": "markdown",
   "id": "3a573c2f-f1d6-4d81-a253-7e65a7c073b8",
   "metadata": {},
   "source": [
    "Training params:"
   ]
  },
  {
   "cell_type": "code",
   "execution_count": 58,
   "id": "a3be3820-491a-4d6e-8596-d17c5a9be602",
   "metadata": {},
   "outputs": [],
   "source": [
    "num_epochs = 500\n",
    "batch_size = 1000\n",
    "lr = 1e-3\n",
    "\n",
    "save_filename = 'models/recon_cnn.pt'\n",
    "reload_filename = None"
   ]
  },
  {
   "cell_type": "markdown",
   "id": "30f57122-cb5f-4b11-bcc5-bab42d99d83e",
   "metadata": {},
   "source": [
    "Make the training/validation/test dataloaders"
   ]
  },
  {
   "cell_type": "code",
   "execution_count": 59,
   "id": "62287d16-c027-42b3-8da3-96dbaf878239",
   "metadata": {},
   "outputs": [],
   "source": [
    "os.makedirs('models', exist_ok=True)\n",
    "\n",
    "dataset = ResampledDataset(xyzq_list_gpu, pmt_list_gpu, dx_list_gpu, n_resample=400)\n",
    "\n",
    "# Split the dataset into training and test sets\n",
    "train_size = int(0.6 * len(dataset))  # 20% of dataset for training\n",
    "vali_size = int(0.2 * len(dataset))  # The rest for testing\n",
    "test_size = len(dataset) - train_size - vali_size # The rest for testing\n",
    "train_dataset, vali_dataset, test_dataset = random_split(dataset, [train_size, vali_size, test_size])\n",
    "\n",
    "# Create DataLoaders for both the training and test sets\n",
    "train_dataloader = DataLoader(train_dataset, batch_size=batch_size, shuffle=True)\n",
    "vali_dataloader = DataLoader(vali_dataset, batch_size=batch_size, shuffle=False)\n",
    "test_dataloader = DataLoader(test_dataset, batch_size=batch_size, shuffle=False)"
   ]
  },
  {
   "cell_type": "markdown",
   "id": "e366ffd8-eb26-46eb-9234-35adb8172fdc",
   "metadata": {},
   "source": [
    "Initialize the recon network"
   ]
  },
  {
   "cell_type": "code",
   "execution_count": 60,
   "id": "5ecf43df-3dcd-4ac3-a677-4888f0e58e69",
   "metadata": {},
   "outputs": [],
   "source": [
    "# Initialize the network, loss function, and optimizer as before\n",
    "model = ReconCNN(\n",
    "    hidden_features=[64, 256],\n",
    "    out_features=128,\n",
    "    pmt_count=180).to(DEVICE)\n",
    "criterion = nn.MSELoss()\n",
    "optimizer = optim.Adam(model.parameters(), lr=lr)\n",
    "# optimizer = optim.Adam(model.parameters(), lr=1e-2, betas=(0.9, 0.999), weight_decay=1e-4)\n",
    "# scheduler = optim.lr_scheduler.StepLR(optimizer, step_size=10, gamma=0.1)\n",
    "\n",
    "if reload_filename:\n",
    "    model.load_state_dict(torch.load(reload_filename, map_location=DEVICE))"
   ]
  },
  {
   "cell_type": "markdown",
   "id": "b49837ef-35d4-464f-b4df-1f1219c65400",
   "metadata": {},
   "source": [
    "Train it!"
   ]
  },
  {
   "cell_type": "code",
   "execution_count": 61,
   "id": "f61901e9-67f5-445e-86e5-f34e34e5bef6",
   "metadata": {
    "scrolled": true,
    "tags": []
   },
   "outputs": [
    {
     "name": "stdout",
     "output_type": "stream",
     "text": [
      "Epoch [1/500], Step [1/6], Validation Loss: 3469.0187\n",
      "Model on disk updated\n",
      "Epoch [1/500], Training Loss: 2905.5875\n",
      "Epoch [2/500], Step [1/6], Validation Loss: 759.9568\n",
      "Model on disk updated\n",
      "Epoch [2/500], Training Loss: 933.5356\n",
      "Epoch [3/500], Step [1/6], Validation Loss: 513.1542\n",
      "Model on disk updated\n",
      "Epoch [3/500], Training Loss: 532.5493\n",
      "Epoch [4/500], Step [1/6], Validation Loss: 396.3874\n",
      "Model on disk updated\n",
      "Epoch [4/500], Training Loss: 359.0976\n",
      "Epoch [5/500], Step [1/6], Validation Loss: 301.3346\n",
      "Model on disk updated\n",
      "Epoch [5/500], Training Loss: 299.9374\n",
      "Epoch [6/500], Step [1/6], Validation Loss: 258.8273\n",
      "Model on disk updated\n",
      "Epoch [6/500], Training Loss: 265.2378\n",
      "Epoch [7/500], Step [1/6], Validation Loss: 238.9857\n",
      "Model on disk updated\n",
      "Epoch [7/500], Training Loss: 235.4208\n",
      "Epoch [8/500], Step [1/6], Validation Loss: 201.3334\n",
      "Model on disk updated\n",
      "Epoch [8/500], Training Loss: 214.7129\n",
      "Epoch [9/500], Step [1/6], Validation Loss: 218.9429\n",
      "Epoch [9/500], Training Loss: 192.4456\n",
      "Epoch [10/500], Step [1/6], Validation Loss: 195.7096\n",
      "Model on disk updated\n",
      "Epoch [10/500], Training Loss: 171.0561\n",
      "Epoch [11/500], Step [1/6], Validation Loss: 160.9591\n",
      "Model on disk updated\n",
      "Epoch [11/500], Training Loss: 153.1464\n",
      "Epoch [12/500], Step [1/6], Validation Loss: 146.9100\n",
      "Model on disk updated\n",
      "Epoch [12/500], Training Loss: 136.4736\n",
      "Epoch [13/500], Step [1/6], Validation Loss: 135.5677\n",
      "Model on disk updated\n",
      "Epoch [13/500], Training Loss: 122.6723\n",
      "Epoch [14/500], Step [1/6], Validation Loss: 123.2963\n",
      "Model on disk updated\n",
      "Epoch [14/500], Training Loss: 110.5219\n",
      "Epoch [15/500], Step [1/6], Validation Loss: 113.5617\n",
      "Model on disk updated\n",
      "Epoch [15/500], Training Loss: 102.0350\n",
      "Epoch [16/500], Step [1/6], Validation Loss: 109.4629\n",
      "Model on disk updated\n",
      "Epoch [16/500], Training Loss: 91.5667\n",
      "Epoch [17/500], Step [1/6], Validation Loss: 94.2377\n",
      "Model on disk updated\n",
      "Epoch [17/500], Training Loss: 87.4074\n",
      "Epoch [18/500], Step [1/6], Validation Loss: 90.9377\n",
      "Model on disk updated\n",
      "Epoch [18/500], Training Loss: 78.8997\n",
      "Epoch [19/500], Step [1/6], Validation Loss: 89.8920\n",
      "Model on disk updated\n",
      "Epoch [19/500], Training Loss: 71.3454\n",
      "Epoch [20/500], Step [1/6], Validation Loss: 79.6072\n",
      "Model on disk updated\n",
      "Epoch [20/500], Training Loss: 64.6213\n",
      "Epoch [21/500], Step [1/6], Validation Loss: 80.0154\n",
      "Epoch [21/500], Training Loss: 66.1689\n",
      "Epoch [22/500], Step [1/6], Validation Loss: 77.8924\n",
      "Model on disk updated\n",
      "Epoch [22/500], Training Loss: 58.5997\n",
      "Epoch [23/500], Step [1/6], Validation Loss: 66.6788\n",
      "Model on disk updated\n",
      "Epoch [23/500], Training Loss: 53.5564\n",
      "Epoch [24/500], Step [1/6], Validation Loss: 65.5013\n",
      "Model on disk updated\n",
      "Epoch [24/500], Training Loss: 47.3567\n",
      "Epoch [25/500], Step [1/6], Validation Loss: 65.8113\n",
      "Epoch [25/500], Training Loss: 45.5189\n",
      "Epoch [26/500], Step [1/6], Validation Loss: 74.5894\n",
      "Epoch [26/500], Training Loss: 50.5986\n",
      "Epoch [27/500], Step [1/6], Validation Loss: 60.6001\n",
      "Model on disk updated\n",
      "Epoch [27/500], Training Loss: 47.1860\n",
      "Epoch [28/500], Step [1/6], Validation Loss: 57.4702\n",
      "Model on disk updated\n",
      "Epoch [28/500], Training Loss: 37.9180\n",
      "Epoch [29/500], Step [1/6], Validation Loss: 53.4284\n",
      "Model on disk updated\n",
      "Epoch [29/500], Training Loss: 42.3804\n",
      "Epoch [30/500], Step [1/6], Validation Loss: 54.9086\n",
      "Epoch [30/500], Training Loss: 36.5400\n",
      "Epoch [31/500], Step [1/6], Validation Loss: 56.3719\n",
      "Epoch [31/500], Training Loss: 32.3494\n",
      "Epoch [32/500], Step [1/6], Validation Loss: 45.6583\n",
      "Model on disk updated\n",
      "Epoch [32/500], Training Loss: 32.3714\n",
      "Epoch [33/500], Step [1/6], Validation Loss: 45.2531\n",
      "Model on disk updated\n",
      "Epoch [33/500], Training Loss: 35.3141\n",
      "Epoch [34/500], Step [1/6], Validation Loss: 53.0708\n",
      "Epoch [34/500], Training Loss: 33.0246\n",
      "Epoch [35/500], Step [1/6], Validation Loss: 48.5793\n",
      "Epoch [35/500], Training Loss: 32.2718\n",
      "Epoch [36/500], Step [1/6], Validation Loss: 52.2659\n",
      "Epoch [36/500], Training Loss: 28.7553\n",
      "Epoch [37/500], Step [1/6], Validation Loss: 42.8306\n",
      "Model on disk updated\n",
      "Epoch [37/500], Training Loss: 25.0745\n",
      "Epoch [38/500], Step [1/6], Validation Loss: 40.7390\n",
      "Model on disk updated\n",
      "Epoch [38/500], Training Loss: 23.5072\n",
      "Epoch [39/500], Step [1/6], Validation Loss: 39.4993\n",
      "Model on disk updated\n",
      "Epoch [39/500], Training Loss: 22.1511\n",
      "Epoch [40/500], Step [1/6], Validation Loss: 43.4890\n",
      "Epoch [40/500], Training Loss: 24.5992\n",
      "Epoch [41/500], Step [1/6], Validation Loss: 39.9478\n",
      "Epoch [41/500], Training Loss: 22.2182\n",
      "Epoch [42/500], Step [1/6], Validation Loss: 39.7910\n",
      "Epoch [42/500], Training Loss: 20.3382\n",
      "Epoch [43/500], Step [1/6], Validation Loss: 36.1563\n",
      "Model on disk updated\n",
      "Epoch [43/500], Training Loss: 19.3426\n",
      "Epoch [44/500], Step [1/6], Validation Loss: 35.6854\n",
      "Model on disk updated\n",
      "Epoch [44/500], Training Loss: 20.9023\n",
      "Epoch [45/500], Step [1/6], Validation Loss: 34.6704\n",
      "Model on disk updated\n",
      "Epoch [45/500], Training Loss: 21.5374\n",
      "Epoch [46/500], Step [1/6], Validation Loss: 37.8601\n",
      "Epoch [46/500], Training Loss: 18.0755\n",
      "Epoch [47/500], Step [1/6], Validation Loss: 35.6523\n",
      "Epoch [47/500], Training Loss: 20.9511\n",
      "Epoch [48/500], Step [1/6], Validation Loss: 37.4633\n",
      "Epoch [48/500], Training Loss: 19.0472\n",
      "Epoch [49/500], Step [1/6], Validation Loss: 34.1614\n",
      "Model on disk updated\n",
      "Epoch [49/500], Training Loss: 19.0095\n",
      "Epoch [50/500], Step [1/6], Validation Loss: 38.6527\n",
      "Epoch [50/500], Training Loss: 22.9785\n",
      "Epoch [51/500], Step [1/6], Validation Loss: 58.0287\n",
      "Epoch [51/500], Training Loss: 31.3539\n",
      "Epoch [52/500], Step [1/6], Validation Loss: 40.2782\n",
      "Epoch [52/500], Training Loss: 21.0897\n",
      "Epoch [53/500], Step [1/6], Validation Loss: 32.4037\n",
      "Model on disk updated\n",
      "Epoch [53/500], Training Loss: 17.1158\n",
      "Epoch [54/500], Step [1/6], Validation Loss: 31.2088\n",
      "Model on disk updated\n",
      "Epoch [54/500], Training Loss: 14.9694\n",
      "Epoch [55/500], Step [1/6], Validation Loss: 31.6511\n",
      "Epoch [55/500], Training Loss: 16.0890\n",
      "Epoch [56/500], Step [1/6], Validation Loss: 31.3087\n",
      "Epoch [56/500], Training Loss: 17.4207\n",
      "Epoch [57/500], Step [1/6], Validation Loss: 32.4246\n",
      "Epoch [57/500], Training Loss: 15.7166\n",
      "Epoch [58/500], Step [1/6], Validation Loss: 32.4682\n",
      "Epoch [58/500], Training Loss: 14.1269\n",
      "Epoch [59/500], Step [1/6], Validation Loss: 35.4858\n",
      "Epoch [59/500], Training Loss: 16.3913\n",
      "Epoch [60/500], Step [1/6], Validation Loss: 33.2046\n",
      "Epoch [60/500], Training Loss: 18.6370\n",
      "Epoch [61/500], Step [1/6], Validation Loss: 34.7228\n",
      "Epoch [61/500], Training Loss: 20.7977\n",
      "Epoch [62/500], Step [1/6], Validation Loss: 31.8955\n",
      "Epoch [62/500], Training Loss: 21.0645\n",
      "Epoch [63/500], Step [1/6], Validation Loss: 30.9822\n",
      "Model on disk updated\n",
      "Epoch [63/500], Training Loss: 15.8399\n",
      "Epoch [64/500], Step [1/6], Validation Loss: 30.9762\n",
      "Model on disk updated\n",
      "Epoch [64/500], Training Loss: 14.1003\n",
      "Epoch [65/500], Step [1/6], Validation Loss: 31.7784\n",
      "Epoch [65/500], Training Loss: 13.8342\n",
      "Epoch [66/500], Step [1/6], Validation Loss: 30.5894\n",
      "Model on disk updated\n",
      "Epoch [66/500], Training Loss: 13.3877\n",
      "Epoch [67/500], Step [1/6], Validation Loss: 29.3011\n",
      "Model on disk updated\n",
      "Epoch [67/500], Training Loss: 12.0264\n",
      "Epoch [68/500], Step [1/6], Validation Loss: 33.0376\n",
      "Epoch [68/500], Training Loss: 13.0137\n",
      "Epoch [69/500], Step [1/6], Validation Loss: 28.3747\n",
      "Model on disk updated\n",
      "Epoch [69/500], Training Loss: 12.3907\n",
      "Epoch [70/500], Step [1/6], Validation Loss: 31.3981\n",
      "Epoch [70/500], Training Loss: 11.9683\n",
      "Epoch [71/500], Step [1/6], Validation Loss: 31.4443\n",
      "Epoch [71/500], Training Loss: 12.2483\n",
      "Epoch [72/500], Step [1/6], Validation Loss: 31.8365\n",
      "Epoch [72/500], Training Loss: 11.7413\n",
      "Epoch [73/500], Step [1/6], Validation Loss: 31.3804\n",
      "Epoch [73/500], Training Loss: 12.4896\n",
      "Epoch [74/500], Step [1/6], Validation Loss: 29.7173\n",
      "Epoch [74/500], Training Loss: 12.0109\n",
      "Epoch [75/500], Step [1/6], Validation Loss: 33.1977\n",
      "Epoch [75/500], Training Loss: 12.3859\n",
      "Epoch [76/500], Step [1/6], Validation Loss: 28.6170\n",
      "Epoch [76/500], Training Loss: 10.8021\n",
      "Epoch [77/500], Step [1/6], Validation Loss: 28.4363\n",
      "Epoch [77/500], Training Loss: 11.2197\n",
      "Epoch [78/500], Step [1/6], Validation Loss: 28.7880\n",
      "Epoch [78/500], Training Loss: 10.2189\n",
      "Epoch [79/500], Step [1/6], Validation Loss: 28.8157\n",
      "Epoch [79/500], Training Loss: 10.6295\n",
      "Epoch [80/500], Step [1/6], Validation Loss: 28.9550\n",
      "Epoch [80/500], Training Loss: 10.1865\n",
      "Epoch [81/500], Step [1/6], Validation Loss: 27.6739\n",
      "Model on disk updated\n",
      "Epoch [81/500], Training Loss: 10.5667\n",
      "Epoch [82/500], Step [1/6], Validation Loss: 26.4486\n",
      "Model on disk updated\n",
      "Epoch [82/500], Training Loss: 9.9464\n",
      "Epoch [83/500], Step [1/6], Validation Loss: 38.4832\n",
      "Epoch [83/500], Training Loss: 20.4140\n",
      "Epoch [84/500], Step [1/6], Validation Loss: 29.7560\n",
      "Epoch [84/500], Training Loss: 18.3003\n",
      "Epoch [85/500], Step [1/6], Validation Loss: 30.1305\n",
      "Epoch [85/500], Training Loss: 14.1017\n",
      "Epoch [86/500], Step [1/6], Validation Loss: 26.7952\n",
      "Epoch [86/500], Training Loss: 11.6560\n",
      "Epoch [87/500], Step [1/6], Validation Loss: 27.6682\n",
      "Epoch [87/500], Training Loss: 10.8506\n",
      "Epoch [88/500], Step [1/6], Validation Loss: 32.7504\n",
      "Epoch [88/500], Training Loss: 12.2022\n",
      "Epoch [89/500], Step [1/6], Validation Loss: 28.9257\n",
      "Epoch [89/500], Training Loss: 12.4334\n",
      "Epoch [90/500], Step [1/6], Validation Loss: 25.3288\n",
      "Model on disk updated\n",
      "Epoch [90/500], Training Loss: 9.6868\n",
      "Epoch [91/500], Step [1/6], Validation Loss: 25.4719\n",
      "Epoch [91/500], Training Loss: 8.5563\n",
      "Epoch [92/500], Step [1/6], Validation Loss: 24.7879\n",
      "Model on disk updated\n",
      "Epoch [92/500], Training Loss: 8.1044\n",
      "Epoch [93/500], Step [1/6], Validation Loss: 27.7198\n",
      "Epoch [93/500], Training Loss: 8.4161\n",
      "Epoch [94/500], Step [1/6], Validation Loss: 26.6256\n",
      "Epoch [94/500], Training Loss: 8.7579\n",
      "Epoch [95/500], Step [1/6], Validation Loss: 26.1510\n",
      "Epoch [95/500], Training Loss: 8.3380\n",
      "Epoch [96/500], Step [1/6], Validation Loss: 27.3380\n",
      "Epoch [96/500], Training Loss: 9.4629\n",
      "Epoch [97/500], Step [1/6], Validation Loss: 28.7808\n",
      "Epoch [97/500], Training Loss: 11.7655\n",
      "Epoch [98/500], Step [1/6], Validation Loss: 27.9450\n",
      "Epoch [98/500], Training Loss: 10.1691\n",
      "Epoch [99/500], Step [1/6], Validation Loss: 24.7382\n",
      "Model on disk updated\n",
      "Epoch [99/500], Training Loss: 8.1881\n",
      "Epoch [100/500], Step [1/6], Validation Loss: 25.2593\n",
      "Epoch [100/500], Training Loss: 7.9146\n",
      "Epoch [101/500], Step [1/6], Validation Loss: 24.3467\n",
      "Model on disk updated\n",
      "Epoch [101/500], Training Loss: 8.1687\n",
      "Epoch [102/500], Step [1/6], Validation Loss: 26.0202\n",
      "Epoch [102/500], Training Loss: 8.2521\n",
      "Epoch [103/500], Step [1/6], Validation Loss: 28.0151\n",
      "Epoch [103/500], Training Loss: 11.3025\n",
      "Epoch [104/500], Step [1/6], Validation Loss: 25.8539\n",
      "Epoch [104/500], Training Loss: 8.4802\n",
      "Epoch [105/500], Step [1/6], Validation Loss: 26.6775\n",
      "Epoch [105/500], Training Loss: 7.3682\n",
      "Epoch [106/500], Step [1/6], Validation Loss: 24.5697\n",
      "Epoch [106/500], Training Loss: 6.7448\n",
      "Epoch [107/500], Step [1/6], Validation Loss: 23.9962\n",
      "Model on disk updated\n",
      "Epoch [107/500], Training Loss: 6.6131\n",
      "Epoch [108/500], Step [1/6], Validation Loss: 25.1676\n",
      "Epoch [108/500], Training Loss: 6.6540\n",
      "Epoch [109/500], Step [1/6], Validation Loss: 22.7652\n",
      "Model on disk updated\n",
      "Epoch [109/500], Training Loss: 8.1634\n",
      "Epoch [110/500], Step [1/6], Validation Loss: 24.9007\n",
      "Epoch [110/500], Training Loss: 5.9947\n",
      "Epoch [111/500], Step [1/6], Validation Loss: 24.5026\n",
      "Epoch [111/500], Training Loss: 6.5411\n",
      "Epoch [112/500], Step [1/6], Validation Loss: 30.1899\n",
      "Epoch [112/500], Training Loss: 11.7270\n",
      "Epoch [113/500], Step [1/6], Validation Loss: 26.5266\n",
      "Epoch [113/500], Training Loss: 12.4662\n",
      "Epoch [114/500], Step [1/6], Validation Loss: 32.5450\n",
      "Epoch [114/500], Training Loss: 11.2263\n",
      "Epoch [115/500], Step [1/6], Validation Loss: 22.3642\n",
      "Model on disk updated\n",
      "Epoch [115/500], Training Loss: 5.8780\n",
      "Epoch [116/500], Step [1/6], Validation Loss: 22.8156\n",
      "Epoch [116/500], Training Loss: 6.0480\n",
      "Epoch [117/500], Step [1/6], Validation Loss: 22.5203\n",
      "Epoch [117/500], Training Loss: 6.8771\n",
      "Epoch [118/500], Step [1/6], Validation Loss: 22.6052\n",
      "Epoch [118/500], Training Loss: 6.1863\n",
      "Epoch [119/500], Step [1/6], Validation Loss: 24.2751\n",
      "Epoch [119/500], Training Loss: 8.7254\n",
      "Epoch [120/500], Step [1/6], Validation Loss: 26.7929\n",
      "Epoch [120/500], Training Loss: 7.0201\n",
      "Epoch [121/500], Step [1/6], Validation Loss: 22.7574\n",
      "Epoch [121/500], Training Loss: 6.1097\n",
      "Epoch [122/500], Step [1/6], Validation Loss: 22.8264\n",
      "Epoch [122/500], Training Loss: 5.7161\n",
      "Epoch [123/500], Step [1/6], Validation Loss: 23.9716\n",
      "Epoch [123/500], Training Loss: 6.2689\n",
      "Epoch [124/500], Step [1/6], Validation Loss: 21.5187\n",
      "Model on disk updated\n",
      "Epoch [124/500], Training Loss: 6.5381\n",
      "Epoch [125/500], Step [1/6], Validation Loss: 23.4581\n",
      "Epoch [125/500], Training Loss: 5.5934\n",
      "Epoch [126/500], Step [1/6], Validation Loss: 20.9053\n",
      "Model on disk updated\n",
      "Epoch [126/500], Training Loss: 5.6982\n",
      "Epoch [127/500], Step [1/6], Validation Loss: 21.2638\n",
      "Epoch [127/500], Training Loss: 6.6534\n",
      "Epoch [128/500], Step [1/6], Validation Loss: 20.5904\n",
      "Model on disk updated\n",
      "Epoch [128/500], Training Loss: 5.1753\n",
      "Epoch [129/500], Step [1/6], Validation Loss: 20.3623\n",
      "Model on disk updated\n",
      "Epoch [129/500], Training Loss: 4.4911\n",
      "Epoch [130/500], Step [1/6], Validation Loss: 24.0292\n",
      "Epoch [130/500], Training Loss: 5.3969\n",
      "Epoch [131/500], Step [1/6], Validation Loss: 20.8285\n",
      "Epoch [131/500], Training Loss: 4.2642\n",
      "Epoch [132/500], Step [1/6], Validation Loss: 21.2796\n",
      "Epoch [132/500], Training Loss: 5.3228\n",
      "Epoch [133/500], Step [1/6], Validation Loss: 23.0526\n",
      "Epoch [133/500], Training Loss: 5.1937\n",
      "Epoch [134/500], Step [1/6], Validation Loss: 22.1783\n",
      "Epoch [134/500], Training Loss: 4.5593\n",
      "Epoch [135/500], Step [1/6], Validation Loss: 20.6403\n",
      "Epoch [135/500], Training Loss: 4.0334\n",
      "Epoch [136/500], Step [1/6], Validation Loss: 19.8309\n",
      "Model on disk updated\n",
      "Epoch [136/500], Training Loss: 3.8353\n",
      "Epoch [137/500], Step [1/6], Validation Loss: 19.9847\n",
      "Epoch [137/500], Training Loss: 4.2643\n",
      "Epoch [138/500], Step [1/6], Validation Loss: 21.8563\n",
      "Epoch [138/500], Training Loss: 5.9466\n",
      "Epoch [139/500], Step [1/6], Validation Loss: 21.5883\n",
      "Epoch [139/500], Training Loss: 4.6653\n",
      "Epoch [140/500], Step [1/6], Validation Loss: 23.0368\n",
      "Epoch [140/500], Training Loss: 5.1373\n",
      "Epoch [141/500], Step [1/6], Validation Loss: 29.2386\n",
      "Epoch [141/500], Training Loss: 9.2682\n",
      "Epoch [142/500], Step [1/6], Validation Loss: 21.8319\n",
      "Epoch [142/500], Training Loss: 5.4041\n",
      "Epoch [143/500], Step [1/6], Validation Loss: 28.5529\n",
      "Epoch [143/500], Training Loss: 10.4558\n",
      "Epoch [144/500], Step [1/6], Validation Loss: 23.4372\n",
      "Epoch [144/500], Training Loss: 6.0288\n",
      "Epoch [145/500], Step [1/6], Validation Loss: 27.2070\n",
      "Epoch [145/500], Training Loss: 8.2005\n",
      "Epoch [146/500], Step [1/6], Validation Loss: 24.9719\n",
      "Epoch [146/500], Training Loss: 8.7512\n",
      "Epoch [147/500], Step [1/6], Validation Loss: 33.1005\n",
      "Epoch [147/500], Training Loss: 14.3195\n",
      "Epoch [148/500], Step [1/6], Validation Loss: 32.5244\n",
      "Epoch [148/500], Training Loss: 12.1965\n",
      "Epoch [149/500], Step [1/6], Validation Loss: 29.4135\n",
      "Epoch [149/500], Training Loss: 12.0229\n",
      "Epoch [150/500], Step [1/6], Validation Loss: 32.8826\n",
      "Epoch [150/500], Training Loss: 9.4637\n",
      "Epoch [151/500], Step [1/6], Validation Loss: 29.0640\n",
      "Epoch [151/500], Training Loss: 8.3154\n",
      "Epoch [152/500], Step [1/6], Validation Loss: 21.5704\n",
      "Epoch [152/500], Training Loss: 5.0837\n",
      "Epoch [153/500], Step [1/6], Validation Loss: 20.1847\n",
      "Epoch [153/500], Training Loss: 4.6745\n",
      "Epoch [154/500], Step [1/6], Validation Loss: 22.1073\n",
      "Epoch [154/500], Training Loss: 5.5410\n",
      "Epoch [155/500], Step [1/6], Validation Loss: 24.5187\n",
      "Epoch [155/500], Training Loss: 5.4061\n",
      "Epoch [156/500], Step [1/6], Validation Loss: 20.5135\n",
      "Epoch [156/500], Training Loss: 3.5201\n",
      "Epoch [157/500], Step [1/6], Validation Loss: 19.5577\n",
      "Model on disk updated\n",
      "Epoch [157/500], Training Loss: 3.2610\n",
      "Epoch [158/500], Step [1/6], Validation Loss: 19.7594\n",
      "Epoch [158/500], Training Loss: 3.2239\n",
      "Epoch [159/500], Step [1/6], Validation Loss: 19.5727\n",
      "Epoch [159/500], Training Loss: 3.1513\n",
      "Epoch [160/500], Step [1/6], Validation Loss: 19.3147\n",
      "Model on disk updated\n",
      "Epoch [160/500], Training Loss: 2.9037\n",
      "Epoch [161/500], Step [1/6], Validation Loss: 19.1845\n",
      "Model on disk updated\n",
      "Epoch [161/500], Training Loss: 3.6572\n",
      "Epoch [162/500], Step [1/6], Validation Loss: 19.8570\n",
      "Epoch [162/500], Training Loss: 3.5599\n",
      "Epoch [163/500], Step [1/6], Validation Loss: 18.8957\n",
      "Model on disk updated\n",
      "Epoch [163/500], Training Loss: 3.6860\n",
      "Epoch [164/500], Step [1/6], Validation Loss: 20.8471\n",
      "Epoch [164/500], Training Loss: 4.1348\n",
      "Epoch [165/500], Step [1/6], Validation Loss: 20.8419\n",
      "Epoch [165/500], Training Loss: 3.4788\n",
      "Epoch [166/500], Step [1/6], Validation Loss: 18.3127\n",
      "Model on disk updated\n",
      "Epoch [166/500], Training Loss: 2.8655\n",
      "Epoch [167/500], Step [1/6], Validation Loss: 20.0053\n",
      "Epoch [167/500], Training Loss: 3.4198\n",
      "Epoch [168/500], Step [1/6], Validation Loss: 17.9880\n",
      "Model on disk updated\n",
      "Epoch [168/500], Training Loss: 2.6002\n",
      "Epoch [169/500], Step [1/6], Validation Loss: 18.2567\n",
      "Epoch [169/500], Training Loss: 2.3144\n",
      "Epoch [170/500], Step [1/6], Validation Loss: 19.1417\n",
      "Epoch [170/500], Training Loss: 2.4957\n",
      "Epoch [171/500], Step [1/6], Validation Loss: 18.6561\n",
      "Epoch [171/500], Training Loss: 2.3799\n",
      "Epoch [172/500], Step [1/6], Validation Loss: 18.3411\n",
      "Epoch [172/500], Training Loss: 2.5309\n",
      "Epoch [173/500], Step [1/6], Validation Loss: 18.7055\n",
      "Epoch [173/500], Training Loss: 2.9004\n",
      "Epoch [174/500], Step [1/6], Validation Loss: 18.1805\n",
      "Epoch [174/500], Training Loss: 2.5304\n",
      "Epoch [175/500], Step [1/6], Validation Loss: 17.6479\n",
      "Model on disk updated\n",
      "Epoch [175/500], Training Loss: 2.7927\n",
      "Epoch [176/500], Step [1/6], Validation Loss: 17.5774\n",
      "Model on disk updated\n",
      "Epoch [176/500], Training Loss: 2.4472\n",
      "Epoch [177/500], Step [1/6], Validation Loss: 23.5348\n",
      "Epoch [177/500], Training Loss: 6.2560\n",
      "Epoch [178/500], Step [1/6], Validation Loss: 21.0384\n",
      "Epoch [178/500], Training Loss: 4.7717\n",
      "Epoch [179/500], Step [1/6], Validation Loss: 17.7555\n",
      "Epoch [179/500], Training Loss: 4.2064\n",
      "Epoch [180/500], Step [1/6], Validation Loss: 18.0016\n",
      "Epoch [180/500], Training Loss: 2.2592\n",
      "Epoch [181/500], Step [1/6], Validation Loss: 18.0758\n",
      "Epoch [181/500], Training Loss: 2.0812\n",
      "Epoch [182/500], Step [1/6], Validation Loss: 17.6252\n",
      "Epoch [182/500], Training Loss: 1.9568\n",
      "Epoch [183/500], Step [1/6], Validation Loss: 18.2834\n",
      "Epoch [183/500], Training Loss: 2.8358\n",
      "Epoch [184/500], Step [1/6], Validation Loss: 20.4602\n",
      "Epoch [184/500], Training Loss: 3.4487\n",
      "Epoch [185/500], Step [1/6], Validation Loss: 18.7868\n",
      "Epoch [185/500], Training Loss: 2.9528\n",
      "Epoch [186/500], Step [1/6], Validation Loss: 20.8350\n",
      "Epoch [186/500], Training Loss: 3.2155\n",
      "Epoch [187/500], Step [1/6], Validation Loss: 18.5567\n",
      "Epoch [187/500], Training Loss: 2.2595\n",
      "Epoch [188/500], Step [1/6], Validation Loss: 19.7140\n",
      "Epoch [188/500], Training Loss: 2.4938\n",
      "Epoch [189/500], Step [1/6], Validation Loss: 17.7136\n",
      "Epoch [189/500], Training Loss: 2.3559\n",
      "Epoch [190/500], Step [1/6], Validation Loss: 19.9099\n",
      "Epoch [190/500], Training Loss: 5.0211\n",
      "Epoch [191/500], Step [1/6], Validation Loss: 31.5819\n",
      "Epoch [191/500], Training Loss: 8.2256\n",
      "Epoch [192/500], Step [1/6], Validation Loss: 24.7383\n",
      "Epoch [192/500], Training Loss: 5.9942\n",
      "Epoch [193/500], Step [1/6], Validation Loss: 19.5232\n",
      "Epoch [193/500], Training Loss: 3.7292\n",
      "Epoch [194/500], Step [1/6], Validation Loss: 20.8526\n",
      "Epoch [194/500], Training Loss: 5.2505\n",
      "Epoch [195/500], Step [1/6], Validation Loss: 20.0679\n",
      "Epoch [195/500], Training Loss: 3.8258\n",
      "Epoch [196/500], Step [1/6], Validation Loss: 19.0713\n",
      "Epoch [196/500], Training Loss: 3.1930\n",
      "Epoch [197/500], Step [1/6], Validation Loss: 18.5792\n",
      "Epoch [197/500], Training Loss: 2.6669\n",
      "Epoch [198/500], Step [1/6], Validation Loss: 17.9567\n",
      "Epoch [198/500], Training Loss: 2.2593\n",
      "Epoch [199/500], Step [1/6], Validation Loss: 20.1062\n",
      "Epoch [199/500], Training Loss: 3.4121\n",
      "Epoch [200/500], Step [1/6], Validation Loss: 17.5952\n",
      "Epoch [200/500], Training Loss: 4.8307\n",
      "Epoch [201/500], Step [1/6], Validation Loss: 19.4887\n",
      "Epoch [201/500], Training Loss: 4.1334\n",
      "Epoch [202/500], Step [1/6], Validation Loss: 20.7683\n",
      "Epoch [202/500], Training Loss: 4.6245\n",
      "Epoch [203/500], Step [1/6], Validation Loss: 21.1847\n",
      "Epoch [203/500], Training Loss: 5.2800\n",
      "Epoch [204/500], Step [1/6], Validation Loss: 19.0559\n",
      "Epoch [204/500], Training Loss: 3.0827\n",
      "Epoch [205/500], Step [1/6], Validation Loss: 18.0206\n",
      "Epoch [205/500], Training Loss: 2.6526\n",
      "Epoch [206/500], Step [1/6], Validation Loss: 17.3992\n",
      "Model on disk updated\n",
      "Epoch [206/500], Training Loss: 2.7098\n",
      "Epoch [207/500], Step [1/6], Validation Loss: 28.8093\n",
      "Epoch [207/500], Training Loss: 7.4180\n",
      "Epoch [208/500], Step [1/6], Validation Loss: 17.8634\n",
      "Epoch [208/500], Training Loss: 5.1429\n",
      "Epoch [209/500], Step [1/6], Validation Loss: 21.7309\n",
      "Epoch [209/500], Training Loss: 3.2996\n",
      "Epoch [210/500], Step [1/6], Validation Loss: 18.0456\n",
      "Epoch [210/500], Training Loss: 2.4462\n",
      "Epoch [211/500], Step [1/6], Validation Loss: 17.7592\n",
      "Epoch [211/500], Training Loss: 2.2024\n",
      "Epoch [212/500], Step [1/6], Validation Loss: 18.0735\n",
      "Epoch [212/500], Training Loss: 2.4966\n",
      "Epoch [213/500], Step [1/6], Validation Loss: 18.7612\n",
      "Epoch [213/500], Training Loss: 2.1732\n",
      "Epoch [214/500], Step [1/6], Validation Loss: 17.6127\n",
      "Epoch [214/500], Training Loss: 2.1276\n",
      "Epoch [215/500], Step [1/6], Validation Loss: 17.0044\n",
      "Model on disk updated\n",
      "Epoch [215/500], Training Loss: 1.6871\n",
      "Epoch [216/500], Step [1/6], Validation Loss: 19.6937\n",
      "Epoch [216/500], Training Loss: 3.1812\n",
      "Epoch [217/500], Step [1/6], Validation Loss: 17.1323\n",
      "Epoch [217/500], Training Loss: 2.3346\n",
      "Epoch [218/500], Step [1/6], Validation Loss: 17.6075\n",
      "Epoch [218/500], Training Loss: 2.0085\n",
      "Epoch [219/500], Step [1/6], Validation Loss: 17.9140\n",
      "Epoch [219/500], Training Loss: 1.9681\n",
      "Epoch [220/500], Step [1/6], Validation Loss: 17.4206\n",
      "Epoch [220/500], Training Loss: 2.0893\n",
      "Epoch [221/500], Step [1/6], Validation Loss: 17.7819\n",
      "Epoch [221/500], Training Loss: 2.5741\n",
      "Epoch [222/500], Step [1/6], Validation Loss: 23.3427\n",
      "Epoch [222/500], Training Loss: 6.1125\n",
      "Epoch [223/500], Step [1/6], Validation Loss: 42.2122\n",
      "Epoch [223/500], Training Loss: 14.9843\n",
      "Epoch [224/500], Step [1/6], Validation Loss: 20.6073\n",
      "Epoch [224/500], Training Loss: 6.2484\n",
      "Epoch [225/500], Step [1/6], Validation Loss: 18.3131\n",
      "Epoch [225/500], Training Loss: 3.8823\n",
      "Epoch [226/500], Step [1/6], Validation Loss: 22.0023\n",
      "Epoch [226/500], Training Loss: 4.2659\n",
      "Epoch [227/500], Step [1/6], Validation Loss: 19.1046\n",
      "Epoch [227/500], Training Loss: 2.4198\n",
      "Epoch [228/500], Step [1/6], Validation Loss: 19.5955\n",
      "Epoch [228/500], Training Loss: 2.6469\n",
      "Epoch [229/500], Step [1/6], Validation Loss: 19.1412\n",
      "Epoch [229/500], Training Loss: 2.5439\n",
      "Epoch [230/500], Step [1/6], Validation Loss: 16.9709\n",
      "Model on disk updated\n",
      "Epoch [230/500], Training Loss: 1.7888\n",
      "Epoch [231/500], Step [1/6], Validation Loss: 17.2992\n",
      "Epoch [231/500], Training Loss: 1.6137\n",
      "Epoch [232/500], Step [1/6], Validation Loss: 17.3411\n",
      "Epoch [232/500], Training Loss: 2.3626\n",
      "Epoch [233/500], Step [1/6], Validation Loss: 17.3544\n",
      "Epoch [233/500], Training Loss: 2.6627\n",
      "Epoch [234/500], Step [1/6], Validation Loss: 18.3567\n",
      "Epoch [234/500], Training Loss: 2.1616\n",
      "Epoch [235/500], Step [1/6], Validation Loss: 16.8988\n",
      "Model on disk updated\n",
      "Epoch [235/500], Training Loss: 1.9252\n",
      "Epoch [236/500], Step [1/6], Validation Loss: 17.5654\n",
      "Epoch [236/500], Training Loss: 1.6424\n",
      "Epoch [237/500], Step [1/6], Validation Loss: 16.8514\n",
      "Model on disk updated\n",
      "Epoch [237/500], Training Loss: 1.2846\n",
      "Epoch [238/500], Step [1/6], Validation Loss: 17.2413\n",
      "Epoch [238/500], Training Loss: 1.8006\n",
      "Epoch [239/500], Step [1/6], Validation Loss: 17.7965\n",
      "Epoch [239/500], Training Loss: 2.8171\n",
      "Epoch [240/500], Step [1/6], Validation Loss: 16.9500\n",
      "Epoch [240/500], Training Loss: 2.7374\n",
      "Epoch [241/500], Step [1/6], Validation Loss: 17.0777\n",
      "Epoch [241/500], Training Loss: 1.6440\n",
      "Epoch [242/500], Step [1/6], Validation Loss: 16.1273\n",
      "Model on disk updated\n",
      "Epoch [242/500], Training Loss: 1.5118\n",
      "Epoch [243/500], Step [1/6], Validation Loss: 16.6557\n",
      "Epoch [243/500], Training Loss: 1.5504\n",
      "Epoch [244/500], Step [1/6], Validation Loss: 16.7078\n",
      "Epoch [244/500], Training Loss: 1.5094\n",
      "Epoch [245/500], Step [1/6], Validation Loss: 16.9183\n",
      "Epoch [245/500], Training Loss: 1.7145\n",
      "Epoch [246/500], Step [1/6], Validation Loss: 20.2345\n",
      "Epoch [246/500], Training Loss: 3.0031\n",
      "Epoch [247/500], Step [1/6], Validation Loss: 17.5787\n",
      "Epoch [247/500], Training Loss: 2.9551\n",
      "Epoch [248/500], Step [1/6], Validation Loss: 20.2417\n",
      "Epoch [248/500], Training Loss: 2.9267\n",
      "Epoch [249/500], Step [1/6], Validation Loss: 17.8342\n",
      "Epoch [249/500], Training Loss: 3.8519\n",
      "Epoch [250/500], Step [1/6], Validation Loss: 17.9945\n",
      "Epoch [250/500], Training Loss: 3.5791\n",
      "Epoch [251/500], Step [1/6], Validation Loss: 33.1893\n",
      "Epoch [251/500], Training Loss: 9.5510\n",
      "Epoch [252/500], Step [1/6], Validation Loss: 19.1940\n",
      "Epoch [252/500], Training Loss: 5.6960\n",
      "Epoch [253/500], Step [1/6], Validation Loss: 19.5550\n",
      "Epoch [253/500], Training Loss: 5.2698\n",
      "Epoch [254/500], Step [1/6], Validation Loss: 18.4382\n",
      "Epoch [254/500], Training Loss: 4.7718\n",
      "Epoch [255/500], Step [1/6], Validation Loss: 18.8388\n",
      "Epoch [255/500], Training Loss: 3.2779\n",
      "Epoch [256/500], Step [1/6], Validation Loss: 17.5308\n",
      "Epoch [256/500], Training Loss: 2.8517\n",
      "Epoch [257/500], Step [1/6], Validation Loss: 19.0444\n",
      "Epoch [257/500], Training Loss: 3.6752\n",
      "Epoch [258/500], Step [1/6], Validation Loss: 18.2177\n",
      "Epoch [258/500], Training Loss: 2.4242\n",
      "Epoch [259/500], Step [1/6], Validation Loss: 17.7997\n",
      "Epoch [259/500], Training Loss: 2.4204\n",
      "Epoch [260/500], Step [1/6], Validation Loss: 20.0445\n",
      "Epoch [260/500], Training Loss: 3.2904\n",
      "Epoch [261/500], Step [1/6], Validation Loss: 16.8306\n",
      "Epoch [261/500], Training Loss: 3.7849\n",
      "Epoch [262/500], Step [1/6], Validation Loss: 19.1085\n",
      "Epoch [262/500], Training Loss: 2.8116\n",
      "Epoch [263/500], Step [1/6], Validation Loss: 19.5472\n",
      "Epoch [263/500], Training Loss: 3.7361\n",
      "Epoch [264/500], Step [1/6], Validation Loss: 19.5163\n",
      "Epoch [264/500], Training Loss: 3.5791\n",
      "Epoch [265/500], Step [1/6], Validation Loss: 21.0582\n",
      "Epoch [265/500], Training Loss: 4.4255\n",
      "Epoch [266/500], Step [1/6], Validation Loss: 19.5940\n",
      "Epoch [266/500], Training Loss: 2.5360\n",
      "Epoch [267/500], Step [1/6], Validation Loss: 17.4319\n",
      "Epoch [267/500], Training Loss: 2.2885\n",
      "Epoch [268/500], Step [1/6], Validation Loss: 17.0907\n",
      "Epoch [268/500], Training Loss: 1.8164\n",
      "Epoch [269/500], Step [1/6], Validation Loss: 16.8926\n",
      "Epoch [269/500], Training Loss: 1.3616\n",
      "Epoch [270/500], Step [1/6], Validation Loss: 17.2352\n",
      "Epoch [270/500], Training Loss: 1.3896\n",
      "Epoch [271/500], Step [1/6], Validation Loss: 16.5251\n",
      "Epoch [271/500], Training Loss: 1.2257\n",
      "Epoch [272/500], Step [1/6], Validation Loss: 17.6719\n",
      "Epoch [272/500], Training Loss: 1.6784\n",
      "Epoch [273/500], Step [1/6], Validation Loss: 23.3004\n",
      "Epoch [273/500], Training Loss: 5.7191\n",
      "Epoch [274/500], Step [1/6], Validation Loss: 17.6920\n",
      "Epoch [274/500], Training Loss: 3.6293\n",
      "Epoch [275/500], Step [1/6], Validation Loss: 21.5618\n",
      "Epoch [275/500], Training Loss: 3.3370\n",
      "Epoch [276/500], Step [1/6], Validation Loss: 19.6352\n",
      "Epoch [276/500], Training Loss: 3.0546\n",
      "Epoch [277/500], Step [1/6], Validation Loss: 17.1760\n",
      "Epoch [277/500], Training Loss: 2.6169\n",
      "Epoch [278/500], Step [1/6], Validation Loss: 17.7868\n",
      "Epoch [278/500], Training Loss: 2.5092\n",
      "Epoch [279/500], Step [1/6], Validation Loss: 19.7177\n",
      "Epoch [279/500], Training Loss: 2.7952\n",
      "Epoch [280/500], Step [1/6], Validation Loss: 18.5477\n",
      "Epoch [280/500], Training Loss: 3.1216\n",
      "Epoch [281/500], Step [1/6], Validation Loss: 19.1482\n",
      "Epoch [281/500], Training Loss: 2.6085\n",
      "Epoch [282/500], Step [1/6], Validation Loss: 17.1714\n",
      "Epoch [282/500], Training Loss: 1.9579\n",
      "Epoch [283/500], Step [1/6], Validation Loss: 16.6374\n",
      "Epoch [283/500], Training Loss: 1.4832\n",
      "Epoch [284/500], Step [1/6], Validation Loss: 16.4643\n",
      "Epoch [284/500], Training Loss: 1.3196\n",
      "Epoch [285/500], Step [1/6], Validation Loss: 16.5505\n",
      "Epoch [285/500], Training Loss: 1.0950\n",
      "Epoch [286/500], Step [1/6], Validation Loss: 16.4052\n",
      "Epoch [286/500], Training Loss: 1.0715\n",
      "Epoch [287/500], Step [1/6], Validation Loss: 16.0729\n",
      "Model on disk updated\n",
      "Epoch [287/500], Training Loss: 1.7832\n",
      "Epoch [288/500], Step [1/6], Validation Loss: 18.7881\n",
      "Epoch [288/500], Training Loss: 1.9689\n",
      "Epoch [289/500], Step [1/6], Validation Loss: 18.0776\n",
      "Epoch [289/500], Training Loss: 2.0450\n",
      "Epoch [290/500], Step [1/6], Validation Loss: 19.4294\n",
      "Epoch [290/500], Training Loss: 2.3317\n",
      "Epoch [291/500], Step [1/6], Validation Loss: 15.8517\n",
      "Model on disk updated\n",
      "Epoch [291/500], Training Loss: 1.4124\n",
      "Epoch [292/500], Step [1/6], Validation Loss: 16.1925\n",
      "Epoch [292/500], Training Loss: 1.7025\n",
      "Epoch [293/500], Step [1/6], Validation Loss: 16.1555\n",
      "Epoch [293/500], Training Loss: 1.1818\n",
      "Epoch [294/500], Step [1/6], Validation Loss: 16.4884\n",
      "Epoch [294/500], Training Loss: 1.2909\n",
      "Epoch [295/500], Step [1/6], Validation Loss: 17.1957\n",
      "Epoch [295/500], Training Loss: 1.4626\n",
      "Epoch [296/500], Step [1/6], Validation Loss: 16.0250\n",
      "Epoch [296/500], Training Loss: 3.0231\n",
      "Epoch [297/500], Step [1/6], Validation Loss: 17.0137\n",
      "Epoch [297/500], Training Loss: 2.0870\n",
      "Epoch [298/500], Step [1/6], Validation Loss: 16.9339\n",
      "Epoch [298/500], Training Loss: 2.0118\n",
      "Epoch [299/500], Step [1/6], Validation Loss: 16.0263\n",
      "Epoch [299/500], Training Loss: 1.2962\n",
      "Epoch [300/500], Step [1/6], Validation Loss: 16.6705\n",
      "Epoch [300/500], Training Loss: 2.1973\n",
      "Epoch [301/500], Step [1/6], Validation Loss: 17.5728\n",
      "Epoch [301/500], Training Loss: 1.6710\n",
      "Epoch [302/500], Step [1/6], Validation Loss: 16.6034\n",
      "Epoch [302/500], Training Loss: 1.4713\n",
      "Epoch [303/500], Step [1/6], Validation Loss: 17.0864\n",
      "Epoch [303/500], Training Loss: 1.7591\n",
      "Epoch [304/500], Step [1/6], Validation Loss: 16.0612\n",
      "Epoch [304/500], Training Loss: 1.1662\n",
      "Epoch [305/500], Step [1/6], Validation Loss: 16.1726\n",
      "Epoch [305/500], Training Loss: 0.9894\n",
      "Epoch [306/500], Step [1/6], Validation Loss: 15.8677\n",
      "Epoch [306/500], Training Loss: 0.8247\n",
      "Epoch [307/500], Step [1/6], Validation Loss: 15.7009\n",
      "Model on disk updated\n",
      "Epoch [307/500], Training Loss: 0.7617\n",
      "Epoch [308/500], Step [1/6], Validation Loss: 15.5914\n",
      "Model on disk updated\n",
      "Epoch [308/500], Training Loss: 0.7719\n",
      "Epoch [309/500], Step [1/6], Validation Loss: 15.5785\n",
      "Model on disk updated\n",
      "Epoch [309/500], Training Loss: 0.9298\n",
      "Epoch [310/500], Step [1/6], Validation Loss: 15.7437\n",
      "Epoch [310/500], Training Loss: 0.8802\n",
      "Epoch [311/500], Step [1/6], Validation Loss: 17.2859\n",
      "Epoch [311/500], Training Loss: 1.8750\n",
      "Epoch [312/500], Step [1/6], Validation Loss: 16.3917\n",
      "Epoch [312/500], Training Loss: 1.7871\n",
      "Epoch [313/500], Step [1/6], Validation Loss: 15.7767\n",
      "Epoch [313/500], Training Loss: 2.1835\n",
      "Epoch [314/500], Step [1/6], Validation Loss: 16.2376\n",
      "Epoch [314/500], Training Loss: 1.1907\n",
      "Epoch [315/500], Step [1/6], Validation Loss: 16.6519\n",
      "Epoch [315/500], Training Loss: 2.7677\n",
      "Epoch [316/500], Step [1/6], Validation Loss: 22.9427\n",
      "Epoch [316/500], Training Loss: 6.7025\n",
      "Epoch [317/500], Step [1/6], Validation Loss: 24.5975\n",
      "Epoch [317/500], Training Loss: 8.4503\n",
      "Epoch [318/500], Step [1/6], Validation Loss: 22.1753\n",
      "Epoch [318/500], Training Loss: 5.4036\n",
      "Epoch [319/500], Step [1/6], Validation Loss: 18.8840\n",
      "Epoch [319/500], Training Loss: 3.0659\n",
      "Epoch [320/500], Step [1/6], Validation Loss: 18.0088\n",
      "Epoch [320/500], Training Loss: 3.2892\n",
      "Epoch [321/500], Step [1/6], Validation Loss: 17.5344\n",
      "Epoch [321/500], Training Loss: 2.6601\n",
      "Epoch [322/500], Step [1/6], Validation Loss: 19.0801\n",
      "Epoch [322/500], Training Loss: 2.2952\n",
      "Epoch [323/500], Step [1/6], Validation Loss: 17.0549\n",
      "Epoch [323/500], Training Loss: 1.5107\n",
      "Epoch [324/500], Step [1/6], Validation Loss: 17.1096\n",
      "Epoch [324/500], Training Loss: 1.6563\n",
      "Epoch [325/500], Step [1/6], Validation Loss: 17.0227\n",
      "Epoch [325/500], Training Loss: 1.3730\n",
      "Epoch [326/500], Step [1/6], Validation Loss: 16.2510\n",
      "Epoch [326/500], Training Loss: 1.2913\n",
      "Epoch [327/500], Step [1/6], Validation Loss: 16.0814\n",
      "Epoch [327/500], Training Loss: 1.7523\n",
      "Epoch [328/500], Step [1/6], Validation Loss: 16.9913\n",
      "Epoch [328/500], Training Loss: 1.8499\n",
      "Epoch [329/500], Step [1/6], Validation Loss: 16.9006\n",
      "Epoch [329/500], Training Loss: 1.7444\n",
      "Epoch [330/500], Step [1/6], Validation Loss: 23.4759\n",
      "Epoch [330/500], Training Loss: 4.4147\n",
      "Epoch [331/500], Step [1/6], Validation Loss: 18.6662\n",
      "Epoch [331/500], Training Loss: 2.6377\n",
      "Epoch [332/500], Step [1/6], Validation Loss: 16.1784\n",
      "Epoch [332/500], Training Loss: 2.1771\n",
      "Epoch [333/500], Step [1/6], Validation Loss: 15.8804\n",
      "Epoch [333/500], Training Loss: 2.3945\n",
      "Epoch [334/500], Step [1/6], Validation Loss: 15.7034\n",
      "Epoch [334/500], Training Loss: 1.0496\n",
      "Epoch [335/500], Step [1/6], Validation Loss: 15.8552\n",
      "Epoch [335/500], Training Loss: 0.9079\n",
      "Epoch [336/500], Step [1/6], Validation Loss: 15.6099\n",
      "Epoch [336/500], Training Loss: 1.3549\n",
      "Epoch [337/500], Step [1/6], Validation Loss: 16.0425\n",
      "Epoch [337/500], Training Loss: 1.3676\n",
      "Epoch [338/500], Step [1/6], Validation Loss: 16.5544\n",
      "Epoch [338/500], Training Loss: 1.2637\n",
      "Epoch [339/500], Step [1/6], Validation Loss: 15.7211\n",
      "Epoch [339/500], Training Loss: 0.7466\n",
      "Epoch [340/500], Step [1/6], Validation Loss: 16.2770\n",
      "Epoch [340/500], Training Loss: 1.5672\n",
      "Epoch [341/500], Step [1/6], Validation Loss: 15.5475\n",
      "Model on disk updated\n",
      "Epoch [341/500], Training Loss: 0.7982\n",
      "Epoch [342/500], Step [1/6], Validation Loss: 15.5744\n",
      "Epoch [342/500], Training Loss: 1.0449\n",
      "Epoch [343/500], Step [1/6], Validation Loss: 16.1667\n",
      "Epoch [343/500], Training Loss: 0.9750\n",
      "Epoch [344/500], Step [1/6], Validation Loss: 15.3038\n",
      "Model on disk updated\n",
      "Epoch [344/500], Training Loss: 0.6636\n",
      "Epoch [345/500], Step [1/6], Validation Loss: 15.8199\n",
      "Epoch [345/500], Training Loss: 0.9421\n",
      "Epoch [346/500], Step [1/6], Validation Loss: 15.6966\n",
      "Epoch [346/500], Training Loss: 3.5581\n",
      "Epoch [347/500], Step [1/6], Validation Loss: 26.4454\n",
      "Epoch [347/500], Training Loss: 6.3369\n",
      "Epoch [348/500], Step [1/6], Validation Loss: 20.1834\n",
      "Epoch [348/500], Training Loss: 4.6958\n",
      "Epoch [349/500], Step [1/6], Validation Loss: 17.5180\n",
      "Epoch [349/500], Training Loss: 2.1744\n",
      "Epoch [350/500], Step [1/6], Validation Loss: 16.2036\n",
      "Epoch [350/500], Training Loss: 1.4183\n",
      "Epoch [351/500], Step [1/6], Validation Loss: 16.2666\n",
      "Epoch [351/500], Training Loss: 1.3878\n",
      "Epoch [352/500], Step [1/6], Validation Loss: 15.9664\n",
      "Epoch [352/500], Training Loss: 2.7538\n",
      "Epoch [353/500], Step [1/6], Validation Loss: 16.6373\n",
      "Epoch [353/500], Training Loss: 3.5861\n",
      "Epoch [354/500], Step [1/6], Validation Loss: 16.2070\n",
      "Epoch [354/500], Training Loss: 2.7599\n",
      "Epoch [355/500], Step [1/6], Validation Loss: 17.5116\n",
      "Epoch [355/500], Training Loss: 3.0720\n",
      "Epoch [356/500], Step [1/6], Validation Loss: 17.2970\n",
      "Epoch [356/500], Training Loss: 2.2678\n",
      "Epoch [357/500], Step [1/6], Validation Loss: 18.4014\n",
      "Epoch [357/500], Training Loss: 2.4011\n",
      "Epoch [358/500], Step [1/6], Validation Loss: 15.6413\n",
      "Epoch [358/500], Training Loss: 3.3177\n",
      "Epoch [359/500], Step [1/6], Validation Loss: 23.8668\n",
      "Epoch [359/500], Training Loss: 5.1894\n",
      "Epoch [360/500], Step [1/6], Validation Loss: 18.3902\n",
      "Epoch [360/500], Training Loss: 7.8863\n",
      "Epoch [361/500], Step [1/6], Validation Loss: 25.1977\n",
      "Epoch [361/500], Training Loss: 5.8082\n",
      "Epoch [362/500], Step [1/6], Validation Loss: 16.9926\n",
      "Epoch [362/500], Training Loss: 5.4502\n",
      "Epoch [363/500], Step [1/6], Validation Loss: 26.3949\n",
      "Epoch [363/500], Training Loss: 6.1192\n",
      "Epoch [364/500], Step [1/6], Validation Loss: 19.4980\n",
      "Epoch [364/500], Training Loss: 5.3558\n",
      "Epoch [365/500], Step [1/6], Validation Loss: 19.9798\n",
      "Epoch [365/500], Training Loss: 6.5835\n",
      "Epoch [366/500], Step [1/6], Validation Loss: 36.6872\n",
      "Epoch [366/500], Training Loss: 15.1249\n",
      "Epoch [367/500], Step [1/6], Validation Loss: 25.2964\n",
      "Epoch [367/500], Training Loss: 6.7392\n",
      "Epoch [368/500], Step [1/6], Validation Loss: 22.6885\n",
      "Epoch [368/500], Training Loss: 6.3607\n",
      "Epoch [369/500], Step [1/6], Validation Loss: 23.5468\n",
      "Epoch [369/500], Training Loss: 4.8995\n",
      "Epoch [370/500], Step [1/6], Validation Loss: 17.6806\n",
      "Epoch [370/500], Training Loss: 2.4807\n",
      "Epoch [371/500], Step [1/6], Validation Loss: 16.8885\n",
      "Epoch [371/500], Training Loss: 2.1845\n",
      "Epoch [372/500], Step [1/6], Validation Loss: 16.1362\n",
      "Epoch [372/500], Training Loss: 1.5197\n",
      "Epoch [373/500], Step [1/6], Validation Loss: 16.7839\n",
      "Epoch [373/500], Training Loss: 1.5934\n",
      "Epoch [374/500], Step [1/6], Validation Loss: 17.5161\n",
      "Epoch [374/500], Training Loss: 1.6403\n",
      "Epoch [375/500], Step [1/6], Validation Loss: 16.4602\n",
      "Epoch [375/500], Training Loss: 1.2024\n",
      "Epoch [376/500], Step [1/6], Validation Loss: 16.4072\n",
      "Epoch [376/500], Training Loss: 0.9594\n",
      "Epoch [377/500], Step [1/6], Validation Loss: 15.7523\n",
      "Epoch [377/500], Training Loss: 1.0088\n",
      "Epoch [378/500], Step [1/6], Validation Loss: 15.4180\n",
      "Epoch [378/500], Training Loss: 0.8084\n",
      "Epoch [379/500], Step [1/6], Validation Loss: 15.6297\n",
      "Epoch [379/500], Training Loss: 0.7264\n",
      "Epoch [380/500], Step [1/6], Validation Loss: 15.3647\n",
      "Epoch [380/500], Training Loss: 0.6330\n",
      "Epoch [381/500], Step [1/6], Validation Loss: 15.2154\n",
      "Model on disk updated\n",
      "Epoch [381/500], Training Loss: 0.6080\n",
      "Epoch [382/500], Step [1/6], Validation Loss: 15.3488\n",
      "Epoch [382/500], Training Loss: 0.6598\n",
      "Epoch [383/500], Step [1/6], Validation Loss: 15.2349\n",
      "Epoch [383/500], Training Loss: 0.6939\n",
      "Epoch [384/500], Step [1/6], Validation Loss: 15.4699\n",
      "Epoch [384/500], Training Loss: 0.7294\n",
      "Epoch [385/500], Step [1/6], Validation Loss: 15.5247\n",
      "Epoch [385/500], Training Loss: 0.7868\n",
      "Epoch [386/500], Step [1/6], Validation Loss: 15.1218\n",
      "Model on disk updated\n",
      "Epoch [386/500], Training Loss: 0.6133\n",
      "Epoch [387/500], Step [1/6], Validation Loss: 15.2925\n",
      "Epoch [387/500], Training Loss: 0.7823\n",
      "Epoch [388/500], Step [1/6], Validation Loss: 15.4584\n",
      "Epoch [388/500], Training Loss: 0.7780\n",
      "Epoch [389/500], Step [1/6], Validation Loss: 15.4773\n",
      "Epoch [389/500], Training Loss: 0.7340\n",
      "Epoch [390/500], Step [1/6], Validation Loss: 15.8768\n",
      "Epoch [390/500], Training Loss: 0.7143\n",
      "Epoch [391/500], Step [1/6], Validation Loss: 15.2084\n",
      "Epoch [391/500], Training Loss: 0.7646\n",
      "Epoch [392/500], Step [1/6], Validation Loss: 15.1968\n",
      "Epoch [392/500], Training Loss: 0.6658\n",
      "Epoch [393/500], Step [1/6], Validation Loss: 15.1701\n",
      "Epoch [393/500], Training Loss: 0.5818\n",
      "Epoch [394/500], Step [1/6], Validation Loss: 15.4489\n",
      "Epoch [394/500], Training Loss: 0.8004\n",
      "Epoch [395/500], Step [1/6], Validation Loss: 15.1794\n",
      "Epoch [395/500], Training Loss: 0.7490\n",
      "Epoch [396/500], Step [1/6], Validation Loss: 18.6146\n",
      "Epoch [396/500], Training Loss: 1.7496\n",
      "Epoch [397/500], Step [1/6], Validation Loss: 16.7270\n",
      "Epoch [397/500], Training Loss: 1.6449\n",
      "Epoch [398/500], Step [1/6], Validation Loss: 16.2233\n",
      "Epoch [398/500], Training Loss: 2.0579\n",
      "Epoch [399/500], Step [1/6], Validation Loss: 20.0848\n",
      "Epoch [399/500], Training Loss: 3.4350\n",
      "Epoch [400/500], Step [1/6], Validation Loss: 16.7340\n",
      "Epoch [400/500], Training Loss: 2.0089\n",
      "Epoch [401/500], Step [1/6], Validation Loss: 16.4208\n",
      "Epoch [401/500], Training Loss: 1.9000\n",
      "Epoch [402/500], Step [1/6], Validation Loss: 16.3303\n",
      "Epoch [402/500], Training Loss: 1.4658\n",
      "Epoch [403/500], Step [1/6], Validation Loss: 15.9864\n",
      "Epoch [403/500], Training Loss: 1.4773\n",
      "Epoch [404/500], Step [1/6], Validation Loss: 15.7632\n",
      "Epoch [404/500], Training Loss: 1.2327\n",
      "Epoch [405/500], Step [1/6], Validation Loss: 15.4470\n",
      "Epoch [405/500], Training Loss: 0.8412\n",
      "Epoch [406/500], Step [1/6], Validation Loss: 15.2643\n",
      "Epoch [406/500], Training Loss: 0.6915\n",
      "Epoch [407/500], Step [1/6], Validation Loss: 15.2827\n",
      "Epoch [407/500], Training Loss: 0.7227\n",
      "Epoch [408/500], Step [1/6], Validation Loss: 14.9659\n",
      "Model on disk updated\n",
      "Epoch [408/500], Training Loss: 1.2061\n",
      "Epoch [409/500], Step [1/6], Validation Loss: 16.0922\n",
      "Epoch [409/500], Training Loss: 1.2624\n",
      "Epoch [410/500], Step [1/6], Validation Loss: 15.7115\n",
      "Epoch [410/500], Training Loss: 1.2322\n",
      "Epoch [411/500], Step [1/6], Validation Loss: 15.3117\n",
      "Epoch [411/500], Training Loss: 0.9453\n",
      "Epoch [412/500], Step [1/6], Validation Loss: 15.0992\n",
      "Epoch [412/500], Training Loss: 0.9199\n",
      "Epoch [413/500], Step [1/6], Validation Loss: 15.9260\n",
      "Epoch [413/500], Training Loss: 1.2902\n",
      "Epoch [414/500], Step [1/6], Validation Loss: 16.6356\n",
      "Epoch [414/500], Training Loss: 1.6833\n",
      "Epoch [415/500], Step [1/6], Validation Loss: 15.8683\n",
      "Epoch [415/500], Training Loss: 1.2241\n",
      "Epoch [416/500], Step [1/6], Validation Loss: 16.6209\n",
      "Epoch [416/500], Training Loss: 1.8190\n",
      "Epoch [417/500], Step [1/6], Validation Loss: 18.3515\n",
      "Epoch [417/500], Training Loss: 2.2801\n",
      "Epoch [418/500], Step [1/6], Validation Loss: 15.8938\n",
      "Epoch [418/500], Training Loss: 2.2623\n",
      "Epoch [419/500], Step [1/6], Validation Loss: 15.7089\n",
      "Epoch [419/500], Training Loss: 3.9586\n",
      "Epoch [420/500], Step [1/6], Validation Loss: 15.7506\n",
      "Epoch [420/500], Training Loss: 2.2724\n",
      "Epoch [421/500], Step [1/6], Validation Loss: 18.5074\n",
      "Epoch [421/500], Training Loss: 2.7535\n",
      "Epoch [422/500], Step [1/6], Validation Loss: 17.1073\n",
      "Epoch [422/500], Training Loss: 2.9702\n",
      "Epoch [423/500], Step [1/6], Validation Loss: 19.1759\n",
      "Epoch [423/500], Training Loss: 2.8417\n",
      "Epoch [424/500], Step [1/6], Validation Loss: 15.1118\n",
      "Epoch [424/500], Training Loss: 1.3197\n",
      "Epoch [425/500], Step [1/6], Validation Loss: 15.8054\n",
      "Epoch [425/500], Training Loss: 1.4678\n",
      "Epoch [426/500], Step [1/6], Validation Loss: 15.1864\n",
      "Epoch [426/500], Training Loss: 1.0736\n",
      "Epoch [427/500], Step [1/6], Validation Loss: 15.7409\n",
      "Epoch [427/500], Training Loss: 1.2461\n",
      "Epoch [428/500], Step [1/6], Validation Loss: 16.3230\n",
      "Epoch [428/500], Training Loss: 2.5112\n",
      "Epoch [429/500], Step [1/6], Validation Loss: 15.9245\n",
      "Epoch [429/500], Training Loss: 1.4383\n",
      "Epoch [430/500], Step [1/6], Validation Loss: 15.7397\n",
      "Epoch [430/500], Training Loss: 0.9529\n",
      "Epoch [431/500], Step [1/6], Validation Loss: 15.8577\n",
      "Epoch [431/500], Training Loss: 1.1763\n",
      "Epoch [432/500], Step [1/6], Validation Loss: 15.4328\n",
      "Epoch [432/500], Training Loss: 1.1085\n",
      "Epoch [433/500], Step [1/6], Validation Loss: 15.5247\n",
      "Epoch [433/500], Training Loss: 0.7238\n",
      "Epoch [434/500], Step [1/6], Validation Loss: 15.2250\n",
      "Epoch [434/500], Training Loss: 0.7815\n",
      "Epoch [435/500], Step [1/6], Validation Loss: 15.1743\n",
      "Epoch [435/500], Training Loss: 0.6772\n",
      "Epoch [436/500], Step [1/6], Validation Loss: 15.4179\n",
      "Epoch [436/500], Training Loss: 0.7712\n",
      "Epoch [437/500], Step [1/6], Validation Loss: 14.8929\n",
      "Model on disk updated\n",
      "Epoch [437/500], Training Loss: 0.5794\n",
      "Epoch [438/500], Step [1/6], Validation Loss: 14.8464\n",
      "Model on disk updated\n",
      "Epoch [438/500], Training Loss: 0.5491\n",
      "Epoch [439/500], Step [1/6], Validation Loss: 15.1627\n",
      "Epoch [439/500], Training Loss: 0.7127\n",
      "Epoch [440/500], Step [1/6], Validation Loss: 15.6270\n",
      "Epoch [440/500], Training Loss: 0.8506\n",
      "Epoch [441/500], Step [1/6], Validation Loss: 14.7342\n",
      "Model on disk updated\n",
      "Epoch [441/500], Training Loss: 0.7194\n",
      "Epoch [442/500], Step [1/6], Validation Loss: 15.3137\n",
      "Epoch [442/500], Training Loss: 0.7244\n",
      "Epoch [443/500], Step [1/6], Validation Loss: 15.0968\n",
      "Epoch [443/500], Training Loss: 0.7636\n",
      "Epoch [444/500], Step [1/6], Validation Loss: 15.7454\n",
      "Epoch [444/500], Training Loss: 0.9232\n",
      "Epoch [445/500], Step [1/6], Validation Loss: 16.8937\n",
      "Epoch [445/500], Training Loss: 2.6816\n",
      "Epoch [446/500], Step [1/6], Validation Loss: 35.4047\n",
      "Epoch [446/500], Training Loss: 16.3059\n",
      "Epoch [447/500], Step [1/6], Validation Loss: 27.1152\n",
      "Epoch [447/500], Training Loss: 15.4015\n",
      "Epoch [448/500], Step [1/6], Validation Loss: 25.3911\n",
      "Epoch [448/500], Training Loss: 9.3837\n",
      "Epoch [449/500], Step [1/6], Validation Loss: 22.3255\n",
      "Epoch [449/500], Training Loss: 6.4114\n",
      "Epoch [450/500], Step [1/6], Validation Loss: 18.3047\n",
      "Epoch [450/500], Training Loss: 4.7326\n",
      "Epoch [451/500], Step [1/6], Validation Loss: 16.4510\n",
      "Epoch [451/500], Training Loss: 2.2937\n",
      "Epoch [452/500], Step [1/6], Validation Loss: 15.8851\n",
      "Epoch [452/500], Training Loss: 1.8164\n",
      "Epoch [453/500], Step [1/6], Validation Loss: 14.6125\n",
      "Model on disk updated\n",
      "Epoch [453/500], Training Loss: 1.2050\n",
      "Epoch [454/500], Step [1/6], Validation Loss: 15.8183\n",
      "Epoch [454/500], Training Loss: 1.1512\n",
      "Epoch [455/500], Step [1/6], Validation Loss: 14.7421\n",
      "Epoch [455/500], Training Loss: 0.8577\n",
      "Epoch [456/500], Step [1/6], Validation Loss: 15.6203\n",
      "Epoch [456/500], Training Loss: 0.9154\n",
      "Epoch [457/500], Step [1/6], Validation Loss: 15.1057\n",
      "Epoch [457/500], Training Loss: 0.7831\n",
      "Epoch [458/500], Step [1/6], Validation Loss: 15.0086\n",
      "Epoch [458/500], Training Loss: 0.6333\n",
      "Epoch [459/500], Step [1/6], Validation Loss: 14.7115\n",
      "Epoch [459/500], Training Loss: 0.5721\n",
      "Epoch [460/500], Step [1/6], Validation Loss: 14.7935\n",
      "Epoch [460/500], Training Loss: 0.6043\n",
      "Epoch [461/500], Step [1/6], Validation Loss: 14.7922\n",
      "Epoch [461/500], Training Loss: 1.0064\n",
      "Epoch [462/500], Step [1/6], Validation Loss: 15.3052\n",
      "Epoch [462/500], Training Loss: 1.0252\n",
      "Epoch [463/500], Step [1/6], Validation Loss: 16.5665\n",
      "Epoch [463/500], Training Loss: 1.1805\n",
      "Epoch [464/500], Step [1/6], Validation Loss: 14.8091\n",
      "Epoch [464/500], Training Loss: 0.7503\n",
      "Epoch [465/500], Step [1/6], Validation Loss: 15.1300\n",
      "Epoch [465/500], Training Loss: 0.7036\n",
      "Epoch [466/500], Step [1/6], Validation Loss: 15.2751\n",
      "Epoch [466/500], Training Loss: 0.8352\n",
      "Epoch [467/500], Step [1/6], Validation Loss: 15.4546\n",
      "Epoch [467/500], Training Loss: 1.4162\n",
      "Epoch [468/500], Step [1/6], Validation Loss: 15.4960\n",
      "Epoch [468/500], Training Loss: 0.9047\n",
      "Epoch [469/500], Step [1/6], Validation Loss: 15.4693\n",
      "Epoch [469/500], Training Loss: 1.0695\n",
      "Epoch [470/500], Step [1/6], Validation Loss: 14.7862\n",
      "Epoch [470/500], Training Loss: 1.4639\n",
      "Epoch [471/500], Step [1/6], Validation Loss: 15.2094\n",
      "Epoch [471/500], Training Loss: 1.2594\n",
      "Epoch [472/500], Step [1/6], Validation Loss: 15.5197\n",
      "Epoch [472/500], Training Loss: 1.0783\n",
      "Epoch [473/500], Step [1/6], Validation Loss: 15.2202\n",
      "Epoch [473/500], Training Loss: 1.2001\n",
      "Epoch [474/500], Step [1/6], Validation Loss: 16.7904\n",
      "Epoch [474/500], Training Loss: 2.0851\n",
      "Epoch [475/500], Step [1/6], Validation Loss: 16.7155\n",
      "Epoch [475/500], Training Loss: 2.6026\n",
      "Epoch [476/500], Step [1/6], Validation Loss: 16.3314\n",
      "Epoch [476/500], Training Loss: 3.0811\n",
      "Epoch [477/500], Step [1/6], Validation Loss: 16.4792\n",
      "Epoch [477/500], Training Loss: 5.9416\n",
      "Epoch [478/500], Step [1/6], Validation Loss: 16.2686\n",
      "Epoch [478/500], Training Loss: 3.1037\n",
      "Epoch [479/500], Step [1/6], Validation Loss: 16.1260\n",
      "Epoch [479/500], Training Loss: 2.3319\n",
      "Epoch [480/500], Step [1/6], Validation Loss: 16.5846\n",
      "Epoch [480/500], Training Loss: 2.3735\n",
      "Epoch [481/500], Step [1/6], Validation Loss: 18.4986\n",
      "Epoch [481/500], Training Loss: 6.4801\n",
      "Epoch [482/500], Step [1/6], Validation Loss: 22.8478\n",
      "Epoch [482/500], Training Loss: 4.5174\n",
      "Epoch [483/500], Step [1/6], Validation Loss: 18.6130\n",
      "Epoch [483/500], Training Loss: 4.6752\n",
      "Epoch [484/500], Step [1/6], Validation Loss: 15.8114\n",
      "Epoch [484/500], Training Loss: 3.6571\n",
      "Epoch [485/500], Step [1/6], Validation Loss: 17.2177\n",
      "Epoch [485/500], Training Loss: 3.1271\n",
      "Epoch [486/500], Step [1/6], Validation Loss: 15.3998\n",
      "Epoch [486/500], Training Loss: 1.7625\n",
      "Epoch [487/500], Step [1/6], Validation Loss: 15.9950\n",
      "Epoch [487/500], Training Loss: 1.5794\n",
      "Epoch [488/500], Step [1/6], Validation Loss: 16.0703\n",
      "Epoch [488/500], Training Loss: 1.2809\n",
      "Epoch [489/500], Step [1/6], Validation Loss: 15.4563\n",
      "Epoch [489/500], Training Loss: 1.3928\n",
      "Epoch [490/500], Step [1/6], Validation Loss: 14.8890\n",
      "Epoch [490/500], Training Loss: 0.9260\n",
      "Epoch [491/500], Step [1/6], Validation Loss: 15.0305\n",
      "Epoch [491/500], Training Loss: 0.7292\n",
      "Epoch [492/500], Step [1/6], Validation Loss: 14.4593\n",
      "Model on disk updated\n",
      "Epoch [492/500], Training Loss: 0.6015\n",
      "Epoch [493/500], Step [1/6], Validation Loss: 14.6912\n",
      "Epoch [493/500], Training Loss: 0.5661\n",
      "Epoch [494/500], Step [1/6], Validation Loss: 14.8849\n",
      "Epoch [494/500], Training Loss: 0.5437\n",
      "Epoch [495/500], Step [1/6], Validation Loss: 14.8926\n",
      "Epoch [495/500], Training Loss: 0.4786\n",
      "Epoch [496/500], Step [1/6], Validation Loss: 14.8415\n",
      "Epoch [496/500], Training Loss: 0.6272\n",
      "Epoch [497/500], Step [1/6], Validation Loss: 14.9700\n",
      "Epoch [497/500], Training Loss: 0.5596\n",
      "Epoch [498/500], Step [1/6], Validation Loss: 14.9215\n",
      "Epoch [498/500], Training Loss: 0.4151\n",
      "Epoch [499/500], Step [1/6], Validation Loss: 14.8559\n",
      "Epoch [499/500], Training Loss: 0.3839\n",
      "Epoch [500/500], Step [1/6], Validation Loss: 14.6308\n",
      "Epoch [500/500], Training Loss: 0.3820\n",
      "Training complete.\n"
     ]
    }
   ],
   "source": [
    "# Training loop\n",
    "train_loss = []\n",
    "vali_loss = []\n",
    "best_loss = None\n",
    "\n",
    "for epoch in range(num_epochs):\n",
    "    model.train()  # Set the model to training mode\n",
    "    running_loss = 0.0\n",
    "    for i, batch in enumerate(train_dataloader):\n",
    "        xyzqs, pmts, dxs = batch\n",
    "        \n",
    "        # Zero the parameter gradients\n",
    "        optimizer.zero_grad()\n",
    "        \n",
    "        # Forward + backward + optimize\n",
    "        _dx = model(xyzqs, pmts).flatten()\n",
    "        dx = _dx * (forward_model_single._xmax - forward_model_single._xmin) / 2\n",
    "        loss = criterion(dx.flatten(), dxs)\n",
    "\n",
    "        # print(f'Epoch [{epoch + 1}/{num_epochs}], Step [{i + 1}/{len(train_dataloader)}], '\n",
    "        #       f'Training Loss: {loss:.4f}')\n",
    "        \n",
    "        loss.backward()\n",
    "        optimizer.step()\n",
    "        # scheduler.step()  # Adjust the learning rate if using a scheduler\n",
    "        \n",
    "        running_loss += loss.item()\n",
    "        \n",
    "        if not (i % 100):  # Every 100 batches\n",
    "            # Evaluate on validation dataset\n",
    "            model.eval()  # Set model to evaluation mode\n",
    "            with torch.no_grad():\n",
    "                val_losses = []\n",
    "                \n",
    "                for batch_val in vali_dataloader:\n",
    "                    xyzqs_val, pmts_val, dxs_val = batch_val\n",
    "                    \n",
    "                    _dx = model(xyzqs_val, pmts_val).flatten()\n",
    "                    dx = _dx * (forward_model_single._xmax - forward_model_single._xmin) / 2\n",
    "                    loss_val = criterion(dx.flatten(), dxs_val)\n",
    "                    val_losses.append(loss_val.item())\n",
    "                    # break  # just do one loop\n",
    "                \n",
    "                avg_val_loss = sum(val_losses) / len(val_losses)\n",
    "\n",
    "            print(f'Epoch [{epoch+1}/{num_epochs}], Step [{i+1}/{len(train_dataloader)}], '\n",
    "                  f'Validation Loss: {avg_val_loss:.4f}')\n",
    "            vali_loss.append(avg_val_loss)\n",
    "            model.train()  # Switch back to training mode\n",
    "\n",
    "            if save_filename:\n",
    "                if (best_loss is None) or (avg_val_loss < best_loss):\n",
    "                    print('Model on disk updated')\n",
    "                    best_loss = avg_val_loss\n",
    "                    torch.save(model.state_dict(), save_filename)\n",
    "            \n",
    "    # Print epoch loss\n",
    "    epoch_loss = running_loss / len(train_dataloader)\n",
    "    print(f\"Epoch [{epoch+1}/{num_epochs}], Training Loss: {epoch_loss:.4f}\")\n",
    "    # print(f\"Epoch [{epoch+1}/{num_epochs}], Training Loss: {epoch_loss:.4f}, LR: {scheduler.get_last_lr()[0]}\")\n",
    "    train_loss.append(epoch_loss)\n",
    "\n",
    "print(\"Training complete.\")"
   ]
  },
  {
   "cell_type": "markdown",
   "id": "d07cfc38-eafb-42f6-8980-b9d68d7f50b6",
   "metadata": {},
   "source": [
    "## Post analysis"
   ]
  },
  {
   "cell_type": "markdown",
   "id": "aab00d4f-ef6d-447a-ad18-56640b8e20ae",
   "metadata": {},
   "source": [
    "### Check the loss curves"
   ]
  },
  {
   "cell_type": "code",
   "execution_count": 62,
   "id": "ccc42743-2df2-4007-a5d5-8bb764b1ca86",
   "metadata": {},
   "outputs": [
    {
     "data": {
      "image/png": "[encoded data removed]",
      "text/plain": [
       "<Figure size 640x480 with 1 Axes>"
      ]
     },
     "metadata": {},
     "output_type": "display_data"
    }
   ],
   "source": [
    "fig, ax = plt.subplots(1, 1)\n",
    "ax.set(xlabel='epoch', ylabel='loss')\n",
    "ax.set_title(f'Learning rate {lr}')\n",
    "# ax.set_ylim(3000, 4000)\n",
    "# ax.set_xlim(100, 500)\n",
    "ax.set_yscale('log')\n",
    "\n",
    "ax.plot(train_loss, label='train loss')\n",
    "ax.plot(vali_loss, label='vali loss')\n",
    "\n",
    "# ax.grid()\n",
    "ax.legend(loc=0)\n",
    "fig.tight_layout()\n",
    "\n",
    "# fig.savefig('plot.pdf', bbox_inches='tight')\n",
    "plt.show()"
   ]
  },
  {
   "cell_type": "markdown",
   "id": "dd16e395-5eb2-43ff-b333-00c636e9c6b1",
   "metadata": {},
   "source": [
    "### Check model performance on test dataset"
   ]
  },
  {
   "cell_type": "markdown",
   "id": "6366119a-0254-40cb-9bbb-863b59ccd7d5",
   "metadata": {},
   "source": [
    "#### Load the model"
   ]
  },
  {
   "cell_type": "code",
   "execution_count": 63,
   "id": "b5a015b9-273d-4ea1-9bfb-f151461cb19d",
   "metadata": {},
   "outputs": [
    {
     "data": {
      "text/plain": [
       "ReconCNN(\n",
       "  (conv1): Conv1d(4, 64, kernel_size=(3,), stride=(1,), padding=(1,))\n",
       "  (conv2): Conv1d(64, 256, kernel_size=(3,), stride=(1,), padding=(1,))\n",
       "  (fc): Linear(in_features=256, out_features=128, bias=True)\n",
       "  (global_avg_pool): AdaptiveAvgPool1d(output_size=1)\n",
       "  (branch_b): Sequential(\n",
       "    (0): Linear(in_features=180, out_features=512, bias=True)\n",
       "    (1): ReLU()\n",
       "    (2): Linear(in_features=512, out_features=128, bias=True)\n",
       "    (3): ReLU()\n",
       "  )\n",
       "  (combined_fc): Sequential(\n",
       "    (0): Linear(in_features=256, out_features=128, bias=True)\n",
       "    (1): ReLU()\n",
       "    (2): Linear(in_features=128, out_features=32, bias=True)\n",
       "    (3): ReLU()\n",
       "    (4): Linear(in_features=32, out_features=1, bias=True)\n",
       "  )\n",
       ")"
      ]
     },
     "execution_count": 63,
     "metadata": {},
     "output_type": "execute_result"
    }
   ],
   "source": [
    "model_label = ReconCNN(hidden_features=[64, 256], out_features=128).to(DEVICE)\n",
    "model_label.load_state_dict(torch.load(save_filename, map_location=DEVICE))\n",
    "model_label.eval()"
   ]
  },
  {
   "cell_type": "markdown",
   "id": "8e6ab504-6394-404d-81c8-20eaadd77f48",
   "metadata": {},
   "source": [
    "#### Predict on test dataset (all in one batch)"
   ]
  },
  {
   "cell_type": "code",
   "execution_count": 64,
   "id": "d300e259-43bf-4572-9bfa-6571671bd0f8",
   "metadata": {},
   "outputs": [],
   "source": [
    "def get_dx_loss(dataloader, model):\n",
    "    \n",
    "    loss_dx_list = []\n",
    "    \n",
    "    for batch in tqdm(dataloader):\n",
    "        xyzqs, pmts, dxs = batch\n",
    "        _dx = model(xyzqs, pmts)\n",
    "        dx = _dx * (forward_model_single._xmax - forward_model_single._xmin) / 2\n",
    "        \n",
    "        loss_dx = (dx.flatten() - dxs) ** 2\n",
    "        loss_dx_list.append(loss_dx.detach().cpu())\n",
    "        \n",
    "    return torch.hstack(loss_dx_list)"
   ]
  },
  {
   "cell_type": "code",
   "execution_count": 65,
   "id": "00ebba78-e54b-43ee-8f4c-42eff330d3cf",
   "metadata": {},
   "outputs": [
    {
     "data": {
      "application/vnd.jupyter.widget-view+json": {
       "model_id": "8194539acecf4201b7ae6c72dcfaa6de",
       "version_major": 2,
       "version_minor": 0
      },
      "text/plain": [
       "  0%|          | 0/2 [00:00<?, ?it/s]"
      ]
     },
     "metadata": {},
     "output_type": "display_data"
    }
   ],
   "source": [
    "loss_dx_label = get_dx_loss(test_dataloader, model_label)"
   ]
  },
  {
   "cell_type": "code",
   "execution_count": 66,
   "id": "6cf18ec1-dc7c-4dad-bf49-de5561f01bdd",
   "metadata": {},
   "outputs": [],
   "source": [
    "def plot_rms_dx_dist(loss_dx, thres_rms=1e3, save=None):\n",
    "    \n",
    "    rms_dx = torch.sqrt(loss_dx)\n",
    "    \n",
    "    fig, ax = plt.subplots(1, 1, figsize=(6, 4))\n",
    "    ax.set(xlabel='rms(dx)', ylabel='count')\n",
    "    \n",
    "    # ax.set_yscale('log')\n",
    "    \n",
    "    p = (rms_dx < thres_rms).sum() / len(rms_dx) * 100\n",
    "    ax.hist(rms_dx[rms_dx < thres_rms], 100, label=f'label ({p:.2f}%)', alpha=0.8)\n",
    "    \n",
    "    # ax.grid()\n",
    "    ax.legend(loc=0)\n",
    "    fig.tight_layout()\n",
    "    \n",
    "    if save:\n",
    "        fig.savefig(save, dpi=200, bbox_inches='tight')\n",
    "        \n",
    "    plt.show()"
   ]
  },
  {
   "cell_type": "code",
   "execution_count": 67,
   "id": "4ae9246b-f9f9-44db-ba07-6f111c927a87",
   "metadata": {},
   "outputs": [
    {
     "data": {
      "image/png": "[encoded data removed]",
      "text/plain": [
       "<Figure size 600x400 with 1 Axes>"
      ]
     },
     "metadata": {},
     "output_type": "display_data"
    }
   ],
   "source": [
    "os.makedirs('pics', exist_ok=True)\n",
    "\n",
    "plot_rms_dx_dist(loss_dx_label, save='pics/recon_cnn_r400_rms_dx_dist.png')"
   ]
  },
  {
   "cell_type": "markdown",
   "id": "d4066d90-c575-402d-95e4-e1bac04b6e4e",
   "metadata": {},
   "source": [
    "## Backlogs"
   ]
  },
  {
   "cell_type": "code",
   "execution_count": null,
   "id": "464c919c-0321-4a7b-8f16-47a4a15de122",
   "metadata": {},
   "outputs": [],
   "source": []
  }
 ],
 "metadata": {
  "kernelspec": {
   "display_name": "Python 3 (ipykernel)",
   "language": "python",
   "name": "python3"
  },
  "language_info": {
   "codemirror_mode": {
    "name": "ipython",
    "version": 3
   },
   "file_extension": ".py",
   "mimetype": "text/x-python",
   "name": "python",
   "nbconvert_exporter": "python",
   "pygments_lexer": "ipython3",
   "version": "3.10.14"
  }
 },
 "nbformat": 4,
 "nbformat_minor": 5
}
