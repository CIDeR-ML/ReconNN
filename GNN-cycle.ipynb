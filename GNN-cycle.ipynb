{
 "cells": [
  {
   "cell_type": "markdown",
   "id": "48806d4f-b356-4075-b908-551f8e9a1a1f",
   "metadata": {},
   "source": [
    "# ReconNN: GNN + cycle training"
   ]
  },
  {
   "cell_type": "markdown",
   "id": "77cc1a4e-2b2c-4a2e-8343-f289ff17c022",
   "metadata": {},
   "source": [
    "In this notebook, we are going to do cycle training using GNN and the forward model to improve the reconstruction performance"
   ]
  },
  {
   "cell_type": "code",
   "execution_count": 1,
   "id": "64f8ca63-7a03-471a-8d13-ca6d04dddd50",
   "metadata": {},
   "outputs": [],
   "source": [
    "import os\n",
    "import torch\n",
    "import torch.nn as nn\n",
    "import torch.nn.functional as F\n",
    "import torch.optim as optim\n",
    "from torch.utils.data import Dataset, random_split\n",
    "from torch_geometric.nn import GCNConv, global_mean_pool\n",
    "from torch_geometric.data import Data, DataLoader\n",
    "\n",
    "import yaml\n",
    "import numpy as np\n",
    "import matplotlib.pyplot as plt\n",
    "from scipy.interpolate import interp1d\n",
    "from tqdm.auto import tqdm, trange\n",
    "\n",
    "from photonlib import MultiLib, PhotonLib\n",
    "\n",
    "from pfmatch.io import H5File\n",
    "from pfmatch.apps import ToyMC\n",
    "from pfmatch.utils import load_detector_config\n",
    "from pfmatch.algorithms.hypothesis import FlashHypothesis, MultiFlashHypothesis\n",
    "from pfmatch.algorithms import PoissonMatchLoss\n",
    "from contextlib import closing"
   ]
  },
  {
   "cell_type": "markdown",
   "id": "cf5f691d-f722-43ce-9355-f177fd392276",
   "metadata": {},
   "source": [
    "## Dataset"
   ]
  },
  {
   "cell_type": "markdown",
   "id": "76616f23-c1d1-4cf8-837c-983539d84679",
   "metadata": {},
   "source": [
    "In this section let's generate the (TPC, PMT) data by using the Icarus detector and the `ToyMC` simulator. You can download the Icarus detector h5 file here. After downloading, please put it under `detectors` folder (you'll need to create that folder first)."
   ]
  },
  {
   "cell_type": "markdown",
   "id": "2a07a9bb-029d-48a5-b73a-5258cb6ed158",
   "metadata": {},
   "source": [
    "### Config the detector"
   ]
  },
  {
   "cell_type": "code",
   "execution_count": 2,
   "id": "d256e507-6ffa-4bda-b775-faf02030892c",
   "metadata": {},
   "outputs": [],
   "source": [
    "cfg='''\n",
    "multilib:\n",
    "    filepath: detectors/plib_2x2.h5\n",
    "    \n",
    "photonlib:\n",
    "    filepath: detectors/plib_icarus.h5\n",
    "        \n",
    "Detector: icarus_detector\n",
    "    \n",
    "ToyMC:\n",
    "    TimeAlgo: \"random\" # random, periodic, same\n",
    "    TrackAlgo: \"random\" # random, top-bottom\n",
    "    PeriodTPC: [-1300.,1300] # in micro-second, [-340-965(drift time),1698.4-340]\n",
    "    PeriodPMT: [-1000., 1000.] # in micro-second, [-1150, 3450-1150]\n",
    "    PEVariation: 0.0 # channel-to-channel (PMT-wise) variation in (fake) reco PE amount\n",
    "    LightYieldVariation: 0.0  # light yield variation per point in QCluster_t\n",
    "    PosXVariation: 0.0 # total x position variation in cm\n",
    "    TruncateTPC: 0 # 1=truncate TPC trajectory mimicing readout effect\n",
    "    NumTracks: 5\n",
    "    NumpySeed: 1\n",
    "    NeutrinoTime: 0.\n",
    "\n",
    "LightPath:\n",
    "    SegmentSize: 0.5\n",
    "'''\n",
    "cfg = yaml.safe_load(cfg)"
   ]
  },
  {
   "cell_type": "code",
   "execution_count": 3,
   "id": "1234cc14-5f1e-45a1-8733-ddaeda67150b",
   "metadata": {},
   "outputs": [
    {
     "name": "stdout",
     "output_type": "stream",
     "text": [
      "[PhotonLib] loading detectors/plib_icarus.h5\n",
      "[PhotonLib] file loaded\n"
     ]
    }
   ],
   "source": [
    "plib = PhotonLib.load(cfg)"
   ]
  },
  {
   "cell_type": "markdown",
   "id": "df8b0908-fe73-4f88-aed6-ca8ed856360e",
   "metadata": {
    "jp-MarkdownHeadingCollapsed": true
   },
   "source": [
    "### Generate the data"
   ]
  },
  {
   "cell_type": "markdown",
   "id": "b0f9ecd5-65ed-4013-b28b-00d0a7dca946",
   "metadata": {},
   "source": [
    "If you already generated the data, you can skip this subsection and jump to the load data subsection directly."
   ]
  },
  {
   "cell_type": "code",
   "execution_count": null,
   "id": "95308cda-6388-4539-9dd3-819246319af5",
   "metadata": {},
   "outputs": [
    {
     "name": "stdout",
     "output_type": "stream",
     "text": [
      "[PhotonLib] loading detectors/plib_icarus.h5\n",
      "[PhotonLib] file loaded\n"
     ]
    }
   ],
   "source": [
    "det_cfg = load_detector_config(cfg)\n",
    "gen = ToyMC(cfg, det_cfg, plib)"
   ]
  },
  {
   "cell_type": "markdown",
   "id": "cf1957af-88e6-4efa-9adc-b964ec152c4e",
   "metadata": {},
   "source": [
    "Now we are going to generate 100k data points and save them into a `data/icarus-100k.h5` file."
   ]
  },
  {
   "cell_type": "code",
   "execution_count": null,
   "id": "7903f9f4-2ddf-4a4f-a74c-ef376b2f87c8",
   "metadata": {},
   "outputs": [],
   "source": [
    "os.makedirs('data', exist_ok=True)\n",
    "\n",
    "bad_cnts = 0\n",
    "with closing(H5File.open('data/icarus-100k.h5', 'w')) as f:\n",
    "    for __ in trange(1000):\n",
    "        data = gen.make_flashmatch_inputs(100)\n",
    "\n",
    "        out_q = [[q] for q in data.raw_qcluster_v]\n",
    "        out_f = [[fl] for fl in data.flash_v]\n",
    "        match_vv = [[(0,0)]] * len(out_q)\n",
    "        if len(out_q) != len(out_f):\n",
    "            bad_cnts += 1\n",
    "            continue\n",
    "        f.write_many(out_q, out_f, match_vv)\n",
    "print('bad', bad_cnts)"
   ]
  },
  {
   "cell_type": "markdown",
   "id": "1c3c4546-8a9a-402b-aa29-9f808323a03d",
   "metadata": {},
   "source": [
    "### Load the data"
   ]
  },
  {
   "cell_type": "code",
   "execution_count": 4,
   "id": "a0e950c7-7025-46df-a8ba-77b18485a61f",
   "metadata": {},
   "outputs": [],
   "source": [
    "def load_data(data_root, fnames, plib=None, n_pts=1000, fake=True):\n",
    "\n",
    "    xyzq_list = []\n",
    "    pmt_list = []\n",
    "    dx_list = []\n",
    "    \n",
    "    for fname in fnames:\n",
    "        fullname = os.path.join(data_root, fname)\n",
    "        print(f'processing {fullname}...')\n",
    "        f = H5File.open(fullname, 'r')\n",
    "        \n",
    "        for idx in trange(n_pts):\n",
    "            try:\n",
    "                q_v, f_v, _ = f.read_one(idx, 180)\n",
    "            except Exception as e:\n",
    "                print(e)\n",
    "                continue\n",
    "\n",
    "            if plib:\n",
    "                q_v[0].shift_to_center(plib)\n",
    "            xyzq = q_v[0].qpt_v  # (x, y, z, q)\n",
    "            if plib is None:\n",
    "                mu_x = xyzq[:, 0].mean()\n",
    "                xyzq[:, 0] -= mu_x  # normalization\n",
    "            if fake:\n",
    "                pmt = f_v[0].pe_v  # PMT readout\n",
    "            else:\n",
    "                pmt = f_v[0].pe_true_v  # PMT readout\n",
    "            dx = q_v[0].xmin_true - xyzq[:, 0].min().item()  # true dx\n",
    "    \n",
    "            xyzq_list.append(xyzq)\n",
    "            pmt_list.append(pmt)\n",
    "            dx_list.append(dx)\n",
    "\n",
    "    return xyzq_list, pmt_list, dx_list"
   ]
  },
  {
   "cell_type": "code",
   "execution_count": 5,
   "id": "89dad708-bc29-4d2b-b442-78e5c572bb93",
   "metadata": {
    "scrolled": true
   },
   "outputs": [],
   "source": [
    "data_root = 'data'\n",
    "fnames = sorted([n for n in os.listdir(data_root) if n.startswith('icarus')])"
   ]
  },
  {
   "cell_type": "code",
   "execution_count": 6,
   "id": "f6f50987-597c-418f-9770-8345daa3e7a8",
   "metadata": {},
   "outputs": [
    {
     "name": "stdout",
     "output_type": "stream",
     "text": [
      "processing data/icarus-100k.h5...\n",
      "[H5File] opening data/icarus-100k.h5 in mode r\n"
     ]
    },
    {
     "data": {
      "application/vnd.jupyter.widget-view+json": {
       "model_id": "ece2312cfad34edcbe048f556c763023",
       "version_major": 2,
       "version_minor": 0
      },
      "text/plain": [
       "  0%|          | 0/10000 [00:00<?, ?it/s]"
      ]
     },
     "metadata": {},
     "output_type": "display_data"
    }
   ],
   "source": [
    "xyzq_list, pmt_list, dx_list = load_data(data_root, fnames, plib=plib, n_pts=10000, fake=True)"
   ]
  },
  {
   "cell_type": "markdown",
   "id": "32d1d2d0-ed14-49fd-8765-3d0701afa586",
   "metadata": {
    "jp-MarkdownHeadingCollapsed": true,
    "tags": []
   },
   "source": [
    "#### Test"
   ]
  },
  {
   "cell_type": "code",
   "execution_count": 12,
   "id": "b8b08082-eaaa-4a5b-a976-27e95a3f5380",
   "metadata": {},
   "outputs": [
    {
     "data": {
      "text/plain": [
       "torch.Size([1109, 4])"
      ]
     },
     "execution_count": 12,
     "metadata": {},
     "output_type": "execute_result"
    }
   ],
   "source": [
    "xyzq_list[0].shape"
   ]
  },
  {
   "cell_type": "code",
   "execution_count": 13,
   "id": "8c5a6284-d7c9-40e8-a5bd-4b6f49293cc3",
   "metadata": {},
   "outputs": [
    {
     "data": {
      "text/plain": [
       "torch.Size([180])"
      ]
     },
     "execution_count": 13,
     "metadata": {},
     "output_type": "execute_result"
    }
   ],
   "source": [
    "pmt_list[0].shape"
   ]
  },
  {
   "cell_type": "code",
   "execution_count": 14,
   "id": "91e82595-0d17-4cb5-8c01-01c74852c9e2",
   "metadata": {
    "scrolled": true
   },
   "outputs": [
    {
     "data": {
      "text/plain": [
       "68.06504821777344"
      ]
     },
     "execution_count": 14,
     "metadata": {},
     "output_type": "execute_result"
    }
   ],
   "source": [
    "dx_list[0]"
   ]
  },
  {
   "cell_type": "code",
   "execution_count": 15,
   "id": "d35d3f62-5e76-4229-ad50-528140cd3ec2",
   "metadata": {},
   "outputs": [
    {
     "data": {
      "text/plain": [
       "tensor(0.5000)"
      ]
     },
     "execution_count": 15,
     "metadata": {},
     "output_type": "execute_result"
    }
   ],
   "source": [
    "sep = torch.norm(xyzq_list[0][0, :3] - xyzq_list[0][1, :3])\n",
    "\n",
    "sep"
   ]
  },
  {
   "cell_type": "markdown",
   "id": "fbe6048f-41e7-4436-a0e9-bf37107fb285",
   "metadata": {},
   "source": [
    "Check center in x of the first 10 normalized tracks -- should be `-210`"
   ]
  },
  {
   "cell_type": "code",
   "execution_count": 16,
   "id": "86a33157-0f50-49c8-98b0-3752f9728492",
   "metadata": {},
   "outputs": [
    {
     "name": "stdout",
     "output_type": "stream",
     "text": [
      "tensor(-210.0000) tensor(-209.9963)\n",
      "tensor(-210.) tensor(-210.0092)\n",
      "tensor(-210.) tensor(-209.9918)\n",
      "tensor(-210.) tensor(-209.9996)\n",
      "tensor(-210.) tensor(-210.0238)\n",
      "tensor(-210.) tensor(-209.9958)\n",
      "tensor(-210.0000) tensor(-209.9997)\n",
      "tensor(-210.) tensor(-210.0060)\n",
      "tensor(-210.) tensor(-209.9686)\n",
      "tensor(-210.) tensor(-209.9930)\n"
     ]
    }
   ],
   "source": [
    "for i in range(10):\n",
    "    x = xyzq_list[i][:, 0]\n",
    "    x_c = (x.max() + x.min()) / 2  # this is the correct way\n",
    "    x_m = x.mean()\n",
    "    \n",
    "    print(x_c, x_m)"
   ]
  },
  {
   "cell_type": "markdown",
   "id": "7da76f56-7d2a-4600-bb22-a6ccd5361ded",
   "metadata": {
    "tags": []
   },
   "source": [
    "## Forward simulator"
   ]
  },
  {
   "cell_type": "markdown",
   "id": "1b6b2941-6369-4c13-846e-e2035693f98e",
   "metadata": {},
   "source": [
    "Now we are going to setup forward models -- they would be used a bit during our training and post analysis."
   ]
  },
  {
   "cell_type": "code",
   "execution_count": 7,
   "id": "a1537428-5b16-4b14-9fba-41f244e02e9b",
   "metadata": {},
   "outputs": [],
   "source": [
    "def get_dx_ranges(xyzq_list):\n",
    "    dx_ranges = []\n",
    "    for i in trange(len(xyzq_list)):\n",
    "        track_xmin = xyzq_list[i][:, 0].min()\n",
    "        track_xmax = xyzq_list[i][:, 0].max()\n",
    "        \n",
    "        dx_max = forward_model_single._xmax - track_xmax\n",
    "        dx_min = forward_model_single._xmin - track_xmin\n",
    "\n",
    "        dx_ranges.append([dx_min, dx_max])\n",
    "    dx_ranges = torch.tensor(dx_ranges)\n",
    "\n",
    "    return dx_ranges"
   ]
  },
  {
   "cell_type": "code",
   "execution_count": 8,
   "id": "eea75642-db29-4e91-b9eb-e126d923b8af",
   "metadata": {},
   "outputs": [
    {
     "data": {
      "text/plain": [
       "'cuda:0'"
      ]
     },
     "execution_count": 8,
     "metadata": {},
     "output_type": "execute_result"
    }
   ],
   "source": [
    "DEVICE = 'cuda:0' if torch.cuda.is_available() else torch.device('cpu')\n",
    "\n",
    "DEVICE"
   ]
  },
  {
   "cell_type": "code",
   "execution_count": 9,
   "id": "ddac3927-d188-4b2c-a948-fb90b098aef7",
   "metadata": {},
   "outputs": [],
   "source": [
    "plib = plib.to(DEVICE)  # put plib to device"
   ]
  },
  {
   "cell_type": "code",
   "execution_count": 10,
   "id": "c5334678-bbfd-47e8-a577-f38e5f0bff66",
   "metadata": {},
   "outputs": [
    {
     "data": {
      "application/vnd.jupyter.widget-view+json": {
       "model_id": "f543a467e2f94a0d8132c76a8f35210c",
       "version_major": 2,
       "version_minor": 0
      },
      "text/plain": [
       "  0%|          | 0/10000 [00:00<?, ?it/s]"
      ]
     },
     "metadata": {},
     "output_type": "display_data"
    }
   ],
   "source": [
    "# Create the single forward model\n",
    "forward_model_single = FlashHypothesis(cfg, plib).to(DEVICE)\n",
    "\n",
    "# Create the batch forward model\n",
    "dx_ranges = get_dx_ranges(xyzq_list)\n",
    "forward_model = MultiFlashHypothesis(plib, dx_ranges).to(DEVICE)"
   ]
  },
  {
   "cell_type": "code",
   "execution_count": 25,
   "id": "6845439e-79dd-4fb7-af1d-228f0bde68ae",
   "metadata": {},
   "outputs": [],
   "source": [
    "dx_ranges_gpu = dx_ranges.to(DEVICE)"
   ]
  },
  {
   "cell_type": "markdown",
   "id": "01624f99-09cc-454a-85f0-074ffbb4b110",
   "metadata": {
    "jp-MarkdownHeadingCollapsed": true
   },
   "source": [
    "### Sanity check"
   ]
  },
  {
   "cell_type": "markdown",
   "id": "6889674e-e640-41a2-938f-2f95537f011b",
   "metadata": {},
   "source": [
    "Center in x for the detector -- should be `-210`"
   ]
  },
  {
   "cell_type": "code",
   "execution_count": 11,
   "id": "0559725a-eb91-41e5-bfb2-b974c8eaad28",
   "metadata": {},
   "outputs": [
    {
     "data": {
      "text/plain": [
       "-210.0"
      ]
     },
     "execution_count": 11,
     "metadata": {},
     "output_type": "execute_result"
    }
   ],
   "source": [
    "(forward_model_single._xmin + forward_model_single._xmax) / 2"
   ]
  },
  {
   "cell_type": "markdown",
   "id": "cf76baf2-71f5-4d8e-a412-109d15bb5381",
   "metadata": {
    "tags": []
   },
   "source": [
    "### Forward model test"
   ]
  },
  {
   "cell_type": "code",
   "execution_count": 12,
   "id": "d0bf1821-7b9e-4863-9816-0a4cf544e869",
   "metadata": {},
   "outputs": [],
   "source": [
    "def cmp_pmt(idx=0, dx_shift=0, method='clamp'):\n",
    "    track_i = xyzq_list[idx]\n",
    "    pmt_i = pmt_list[idx]\n",
    "    # dx_i = dx_list[idx]\n",
    "    \n",
    "    track_i_shifted = torch.clone(track_i)\n",
    "    track_i_shifted[:, 0] += dx_shift\n",
    "    if method == 'clamp':\n",
    "        track_i_shifted[:, 0] = torch.clamp(track_i_shifted[:, 0],\n",
    "                                            forward_model_single._xmin, forward_model_single._xmax)\n",
    "    else:\n",
    "        idx_filtered = (track_i_shifted[:, 0] >= forward_model_single._xmin) * (track_i_shifted[:, 0] <= forward_model_single._xmax)\n",
    "        track_i_shifted = track_i_shifted[idx_filtered]\n",
    "    print(f'track size: {track_i_shifted.shape[0]}')\n",
    "    track_i_shifted = track_i_shifted.to(forward_model_single.plib.device)\n",
    "    pmt_i_shifted_sim = forward_model_single(track_i_shifted)\n",
    "    # pmt_i_sim = forward_model(track_i)\n",
    "    \n",
    "    fig, ax = plt.subplots(1, 1)\n",
    "    ax.set(xlabel='pmt channel', ylabel='count')\n",
    "    ax.set_title(f'track {idx}')\n",
    "    \n",
    "    ax.plot(pmt_i, '-', label='groundtruth')\n",
    "    # ax.plot(pmt_i_sim.detach().numpy(), '-', label='dx = 0')\n",
    "    ax.plot(pmt_i_shifted_sim.detach().cpu().numpy(), '-', label=f'dx = {dx_shift:.2f}')\n",
    "    \n",
    "    # ax.grid()\n",
    "    ax.legend(loc=0)\n",
    "    fig.tight_layout()\n",
    "    \n",
    "    # fig.savefig('plot.pdf', bbox_inches='tight')\n",
    "    plt.show()"
   ]
  },
  {
   "cell_type": "code",
   "execution_count": 13,
   "id": "1e96c704-d651-4db2-b778-1d62ed80b299",
   "metadata": {},
   "outputs": [
    {
     "name": "stdout",
     "output_type": "stream",
     "text": [
      "track size: 1109\n"
     ]
    },
    {
     "data": {
      "image/png": "[encoded data removed]",
      "text/plain": [
       "<Figure size 640x480 with 1 Axes>"
      ]
     },
     "metadata": {},
     "output_type": "display_data"
    }
   ],
   "source": [
    "cmp_pmt(0, 50)"
   ]
  },
  {
   "cell_type": "code",
   "execution_count": 14,
   "id": "5569948a-3618-41a7-bc65-284260689d3e",
   "metadata": {},
   "outputs": [
    {
     "name": "stdout",
     "output_type": "stream",
     "text": [
      "track size: 1109\n"
     ]
    },
    {
     "data": {
      "image/png": "[encoded data removed]",
      "text/plain": [
       "<Figure size 640x480 with 1 Axes>"
      ]
     },
     "metadata": {},
     "output_type": "display_data"
    }
   ],
   "source": [
    "cmp_pmt(0, -50)"
   ]
  },
  {
   "cell_type": "code",
   "execution_count": 15,
   "id": "dfb249f7-01da-41f1-b02d-295f87febaba",
   "metadata": {},
   "outputs": [
    {
     "name": "stdout",
     "output_type": "stream",
     "text": [
      "track size: 1109\n"
     ]
    },
    {
     "data": {
      "image/png": "[encoded data removed]",
      "text/plain": [
       "<Figure size 640x480 with 1 Axes>"
      ]
     },
     "metadata": {},
     "output_type": "display_data"
    }
   ],
   "source": [
    "cmp_pmt(0, dx_list[0])"
   ]
  },
  {
   "cell_type": "markdown",
   "id": "c74fa399-0905-4e78-85b4-6af358cc845a",
   "metadata": {},
   "source": [
    "#### Scan loss for random tracks"
   ]
  },
  {
   "cell_type": "code",
   "execution_count": 29,
   "id": "57086792-ae6b-42af-b1fa-4af407d2de52",
   "metadata": {},
   "outputs": [],
   "source": [
    "def scan_loss(indices, n_step=100):\n",
    "    pmt_sim_list = []\n",
    "    dx_list = []\n",
    "    for idx in tqdm(indices):\n",
    "        dx = torch.linspace(dx_ranges[idx][0], dx_ranges[idx][1], n_step)\n",
    "        \n",
    "        batch = []\n",
    "        sizes = []\n",
    "        \n",
    "        xyzq = xyzq_list[idx]\n",
    "        for i in range(n_step):\n",
    "            batch.append(xyzq)\n",
    "            sizes.append(xyzq.shape[0])\n",
    "        \n",
    "        batch = torch.vstack(batch)\n",
    "        sizes = torch.tensor(sizes)\n",
    "        \n",
    "        pmt_sim = forward_model.apply(dx.to(DEVICE), batch.to(DEVICE), sizes.to(DEVICE), plib)\n",
    "        pmt_sim_list.append(pmt_sim)\n",
    "        dx_list.append(dx)\n",
    "\n",
    "    criterion = PoissonMatchLoss()\n",
    "    \n",
    "    fig, ax = plt.subplots(1, 1)\n",
    "    ax.set(xlabel='dx (cm)', ylabel='MSE loss')\n",
    "    \n",
    "    for i, idx in enumerate(indices):\n",
    "        dx = dx_list[i]\n",
    "        pmt_sim = pmt_sim_list[i]\n",
    "        ax.plot(dx, criterion(pmt_sim, pmt_list[idx].to(DEVICE)).detach().cpu(), '-', label=f'track {idx}')\n",
    "    \n",
    "    # ax.grid()\n",
    "    ax.legend(loc=0)\n",
    "    fig.tight_layout()\n",
    "    \n",
    "    # fig.savefig('plot.pdf', bbox_inches='tight')\n",
    "    plt.show()"
   ]
  },
  {
   "cell_type": "code",
   "execution_count": 30,
   "id": "c3bf6614-611d-49dd-859a-08258fcfb8b2",
   "metadata": {},
   "outputs": [],
   "source": [
    "indices = np.random.choice(np.arange(1000), 10, replace=False)"
   ]
  },
  {
   "cell_type": "code",
   "execution_count": 31,
   "id": "fa846b60-8137-4e7c-a3d6-9f9776283030",
   "metadata": {},
   "outputs": [
    {
     "data": {
      "application/vnd.jupyter.widget-view+json": {
       "model_id": "9895aaa13c6b484481bffb80f38f3d54",
       "version_major": 2,
       "version_minor": 0
      },
      "text/plain": [
       "  0%|          | 0/10 [00:00<?, ?it/s]"
      ]
     },
     "metadata": {},
     "output_type": "display_data"
    },
    {
     "data": {
      "image/png": "[encoded data removed]",
      "text/plain": [
       "<Figure size 640x480 with 1 Axes>"
      ]
     },
     "metadata": {},
     "output_type": "display_data"
    }
   ],
   "source": [
    "scan_loss(indices)"
   ]
  },
  {
   "cell_type": "markdown",
   "id": "e8fb5f2c-2585-4101-bddb-e2e432c54744",
   "metadata": {},
   "source": [
    "## Graph dataset"
   ]
  },
  {
   "cell_type": "code",
   "execution_count": 11,
   "id": "81f28847-350b-4cda-b0fc-eca817685aa0",
   "metadata": {},
   "outputs": [],
   "source": [
    "class GraphDataset(Dataset):\n",
    "    def __init__(self, xyzq_list, pmt_list, dx_list):\n",
    "        \"\"\"\n",
    "        Args:\n",
    "            xyzq_list (list of tensors): Each tensor has shape (n_i, 4)\n",
    "            pmt_list: Each tensor has shape (180,)\n",
    "            dx_list: Each tensor has shape (1,)\n",
    "        \"\"\"\n",
    "        self.xyzq_list = xyzq_list\n",
    "        self.pmt_list = pmt_list\n",
    "        self.dx_list = dx_list\n",
    "\n",
    "    def __len__(self):\n",
    "        return len(self.dx_list)\n",
    "\n",
    "    def __getitem__(self, idx):\n",
    "        xyzq = self.xyzq_list[idx]\n",
    "        n_node = xyzq.shape[0]\n",
    "        edge_index = torch.zeros(2, n_node - 1, dtype=torch.int64)\n",
    "        edge_index[0] = torch.arange(n_node - 1)\n",
    "        edge_index[1] = torch.arange(1, n_node)\n",
    "        edge_index = edge_index.to(xyzq.device)\n",
    "        graph = Data(x=xyzq, edge_index=edge_index)\n",
    "        graph = graph.to(xyzq.device)\n",
    "        \n",
    "        pmt = self.pmt_list[idx]\n",
    "        dx = self.dx_list[idx]\n",
    "        \n",
    "        return graph, pmt, dx"
   ]
  },
  {
   "cell_type": "markdown",
   "id": "ef0fd8e7-efa0-4fa9-9076-3addfe05e5a8",
   "metadata": {
    "jp-MarkdownHeadingCollapsed": true
   },
   "source": [
    "### Test"
   ]
  },
  {
   "cell_type": "code",
   "execution_count": 12,
   "id": "1149f4b6-50d1-4594-b0f2-46b1dae2c1ee",
   "metadata": {},
   "outputs": [],
   "source": [
    "dataset = GraphDataset(xyzq_list, pmt_list, dx_list)"
   ]
  },
  {
   "cell_type": "code",
   "execution_count": 13,
   "id": "ac552e43-ab90-4516-aad7-76fb8aa6c165",
   "metadata": {},
   "outputs": [
    {
     "name": "stderr",
     "output_type": "stream",
     "text": [
      "/sdf/group/mli/zhezhang/conda/envs/ml/lib/python3.10/site-packages/torch_geometric/deprecation.py:26: UserWarning: 'data.DataLoader' is deprecated, use 'loader.DataLoader' instead\n",
      "  warnings.warn(out)\n"
     ]
    }
   ],
   "source": [
    "# Create the DataLoader with the custom collate function\n",
    "batch_size = 1000\n",
    "dataloader = DataLoader(dataset, batch_size=batch_size)"
   ]
  },
  {
   "cell_type": "code",
   "execution_count": 14,
   "id": "1b75bae0-b540-4890-bbaf-8c9450e2d9ec",
   "metadata": {},
   "outputs": [],
   "source": [
    "batch = next(iter(dataloader))"
   ]
  },
  {
   "cell_type": "code",
   "execution_count": 20,
   "id": "c10e65f1-f7f0-4826-9b1f-5a20f5e86135",
   "metadata": {},
   "outputs": [],
   "source": [
    "graphs, pmts, dxs = batch"
   ]
  },
  {
   "cell_type": "code",
   "execution_count": 21,
   "id": "2f71233e-e21a-4f21-9231-e0d04e91a794",
   "metadata": {},
   "outputs": [
    {
     "data": {
      "text/plain": [
       "(1254423, 1254423)"
      ]
     },
     "execution_count": 21,
     "metadata": {},
     "output_type": "execute_result"
    }
   ],
   "source": [
    "graphs.size()"
   ]
  },
  {
   "cell_type": "code",
   "execution_count": 22,
   "id": "188254cc-b9c5-481a-ac89-3387d558ed63",
   "metadata": {},
   "outputs": [
    {
     "data": {
      "text/plain": [
       "torch.Size([1000, 180])"
      ]
     },
     "execution_count": 22,
     "metadata": {},
     "output_type": "execute_result"
    }
   ],
   "source": [
    "pmts.shape"
   ]
  },
  {
   "cell_type": "code",
   "execution_count": 23,
   "id": "76526ce2-9edd-4666-a0f9-8a6cd2b97902",
   "metadata": {},
   "outputs": [
    {
     "data": {
      "text/plain": [
       "torch.Size([1000])"
      ]
     },
     "execution_count": 23,
     "metadata": {},
     "output_type": "execute_result"
    }
   ],
   "source": [
    "dxs.shape"
   ]
  },
  {
   "cell_type": "markdown",
   "id": "df094016-e62b-44ee-b185-c8a9db32d467",
   "metadata": {},
   "source": [
    "## Network structure"
   ]
  },
  {
   "cell_type": "markdown",
   "id": "e6d8b1f4-b845-42c4-ae3b-f5689d61f5ad",
   "metadata": {},
   "source": [
    "Here you can define your version of GNN-based reconstruction network!"
   ]
  },
  {
   "cell_type": "code",
   "execution_count": 12,
   "id": "fa44091e-9bec-4010-8518-a1ac72f43486",
   "metadata": {},
   "outputs": [],
   "source": [
    "class ReconGNN(nn.Module):\n",
    "    def __init__(self, hidden_features, out_features=128, pmt_count=180):\n",
    "        super(ReconGNN, self).__init__()\n",
    "        # Subnetwork for A\n",
    "        self.conv1 = GCNConv(4, hidden_features[0])\n",
    "        self.conv2 = GCNConv(hidden_features[0], hidden_features[1])\n",
    "        self.fc = torch.nn.Linear(hidden_features[1], out_features)\n",
    "        # Subnetwork for B\n",
    "        self.branch_b = nn.Sequential(\n",
    "            nn.Linear(pmt_count, 512),\n",
    "            nn.ReLU(),\n",
    "            nn.Linear(512, out_features),\n",
    "            nn.ReLU()\n",
    "        )\n",
    "        # Combining both branches\n",
    "        self.combined_fc = nn.Sequential(\n",
    "            nn.Linear(2 * out_features, 128),\n",
    "            nn.ReLU(),\n",
    "            nn.Linear(128, 32),\n",
    "            nn.ReLU(),\n",
    "            nn.Linear(32, 1)\n",
    "        )\n",
    "    \n",
    "    def forward(self, a, b):\n",
    "        x, edge_index = a.x, a.edge_index\n",
    "\n",
    "        x = self.conv1(x, edge_index)\n",
    "        x = F.relu(x)\n",
    "        x = self.conv2(x, edge_index)\n",
    "        x = F.relu(x)\n",
    "\n",
    "        x = global_mean_pool(x, a.batch if hasattr(a, 'batch') else None)\n",
    "        x = self.fc(x)\n",
    "        \n",
    "        out_b = self.branch_b(b)\n",
    "        # print(x.shape, out_b.shape)\n",
    "        # Concatenate along feature dimension\n",
    "        combined = torch.cat((x, out_b), dim=1)\n",
    "        output = self.combined_fc(combined)\n",
    "        output = 2 * F.sigmoid(output) - 1\n",
    "        \n",
    "        return output"
   ]
  },
  {
   "cell_type": "markdown",
   "id": "5abb14c6-53d9-4093-bed1-855f57abade9",
   "metadata": {
    "jp-MarkdownHeadingCollapsed": true
   },
   "source": [
    "### Test"
   ]
  },
  {
   "cell_type": "code",
   "execution_count": 25,
   "id": "a949ec7e-e235-4ea1-ae66-d10a4e1dd832",
   "metadata": {},
   "outputs": [
    {
     "name": "stdout",
     "output_type": "stream",
     "text": [
      "Output feature vector shape: torch.Size([1000, 1])\n"
     ]
    }
   ],
   "source": [
    "# Instantiate the model\n",
    "model = ReconGNN(hidden_features=[64, 256], out_features=128)\n",
    "\n",
    "# Iterate over the DataLoader\n",
    "for batch in dataloader:\n",
    "    # Forward pass\n",
    "    graphs, pmts, _ = batch\n",
    "    output = model(graphs, pmts)\n",
    "\n",
    "    print(\"Output feature vector shape:\", output.shape)\n",
    "    # Perform your training steps here (e.g., loss computation, backpropagation)\n",
    "    # For demonstration, we'll process one batch\n",
    "    break"
   ]
  },
  {
   "cell_type": "code",
   "execution_count": 26,
   "id": "c3233d54-2f89-46be-9c24-9b298f9db715",
   "metadata": {},
   "outputs": [],
   "source": [
    "def count_parameters(module):\n",
    "    return sum(p.numel() for p in module.parameters())"
   ]
  },
  {
   "cell_type": "code",
   "execution_count": 27,
   "id": "d7600eed-fd30-4bf4-be1d-67619e94d8f7",
   "metadata": {},
   "outputs": [
    {
     "data": {
      "text/plain": [
       "245249"
      ]
     },
     "execution_count": 27,
     "metadata": {},
     "output_type": "execute_result"
    }
   ],
   "source": [
    "count_parameters(model)"
   ]
  },
  {
   "cell_type": "code",
   "execution_count": 28,
   "id": "040159b7-3faf-4416-bc46-48861b854fe2",
   "metadata": {},
   "outputs": [
    {
     "data": {
      "text/plain": [
       "158336"
      ]
     },
     "execution_count": 28,
     "metadata": {},
     "output_type": "execute_result"
    }
   ],
   "source": [
    "count_parameters(model.branch_b)"
   ]
  },
  {
   "cell_type": "markdown",
   "id": "e21bec4b-66f4-4365-82df-dc09bbbfc9bb",
   "metadata": {},
   "source": [
    "## Training!"
   ]
  },
  {
   "cell_type": "markdown",
   "id": "22e6f986-4a72-4cc7-8db8-a086e8961495",
   "metadata": {},
   "source": [
    "### Feature normalization"
   ]
  },
  {
   "cell_type": "markdown",
   "id": "e1a59a3c-893f-4d8b-a2b1-6da0e52ac8b0",
   "metadata": {},
   "source": [
    "Here we perform the feature normalization for the `q` part of the `(x, y, z, q)` node in the TPC track. `(x, y, z)` is treated as coordinates here so no need to normalize, it will go through quantization process instead."
   ]
  },
  {
   "cell_type": "code",
   "execution_count": 13,
   "id": "fa8dc339-64ed-40e4-80ff-3f416c0692d5",
   "metadata": {},
   "outputs": [],
   "source": [
    "XYZQ = torch.concat(xyzq_list, dim=0)\n",
    "PMT = torch.stack(pmt_list)\n",
    "dX = torch.tensor(dx_list, dtype=XYZQ.dtype)"
   ]
  },
  {
   "cell_type": "code",
   "execution_count": 14,
   "id": "8c51ca54-5db3-4916-a568-afdbf282bb58",
   "metadata": {},
   "outputs": [
    {
     "data": {
      "text/plain": [
       "(torch.Size([12748908, 4]), torch.Size([10000, 180]), torch.Size([10000]))"
      ]
     },
     "execution_count": 14,
     "metadata": {},
     "output_type": "execute_result"
    }
   ],
   "source": [
    "XYZQ.shape, PMT.shape, dX.shape"
   ]
  },
  {
   "cell_type": "code",
   "execution_count": 15,
   "id": "6beeceb5-bc0c-456f-ae6c-beb140c96dd3",
   "metadata": {},
   "outputs": [],
   "source": [
    "XYZQ_mu = XYZQ.mean(dim=0)\n",
    "XYZQ_std = XYZQ.std(dim=0)\n",
    "PMT_mu = PMT.mean(dim=0)\n",
    "PMT_std = PMT.std(dim=0)"
   ]
  },
  {
   "cell_type": "code",
   "execution_count": 16,
   "id": "7b61119c-e700-4756-a1b1-890195f6a33a",
   "metadata": {},
   "outputs": [
    {
     "data": {
      "text/plain": [
       "(tensor([-2.1000e+02, -2.3927e+01,  3.1733e-01,  2.6390e+04]),\n",
       " tensor([ 35.7958,  74.8276, 404.3167, 428.9499]))"
      ]
     },
     "execution_count": 16,
     "metadata": {},
     "output_type": "execute_result"
    }
   ],
   "source": [
    "XYZQ_mu, XYZQ_std"
   ]
  },
  {
   "cell_type": "code",
   "execution_count": 17,
   "id": "ce1e9b12-08cb-4103-a3cb-e7cd7b3580e8",
   "metadata": {},
   "outputs": [
    {
     "data": {
      "text/plain": [
       "(tensor([ 889.4356,  870.9064, 1167.6302, 1527.8296]),\n",
       " tensor([3626.9465, 3141.2056, 4427.1680, 5026.2666]))"
      ]
     },
     "execution_count": 17,
     "metadata": {},
     "output_type": "execute_result"
    }
   ],
   "source": [
    "PMT_mu[:4], PMT_std[:4]"
   ]
  },
  {
   "cell_type": "markdown",
   "id": "8e3e175b-3d23-432e-8436-74997d8d2266",
   "metadata": {},
   "source": [
    "### Pre-load to GPU"
   ]
  },
  {
   "cell_type": "markdown",
   "id": "2599b287-2557-4a47-bcde-e0b3539d32f8",
   "metadata": {},
   "source": [
    "Then we preload the data to GPU for higher GPU utilization -- if you are using CPU then this step can be skipped."
   ]
  },
  {
   "cell_type": "code",
   "execution_count": 18,
   "id": "bcd1ebd9-71fa-4798-aba8-57f54d8c8dc6",
   "metadata": {},
   "outputs": [
    {
     "data": {
      "application/vnd.jupyter.widget-view+json": {
       "model_id": "5b77b7bf96474d56ace54e333dd9582f",
       "version_major": 2,
       "version_minor": 0
      },
      "text/plain": [
       "  0%|          | 0/10000 [00:00<?, ?it/s]"
      ]
     },
     "metadata": {},
     "output_type": "display_data"
    }
   ],
   "source": [
    "xyzq_list_gpu = []\n",
    "pmt_list_gpu = []\n",
    "dx_list_gpu = []\n",
    "for i in tqdm(range(len(xyzq_list))):\n",
    "    xyzq = xyzq_list[i]\n",
    "    pmt = pmt_list[i]\n",
    "    dx = dx_list[i]\n",
    "\n",
    "    # Normalization\n",
    "    xyzq = (xyzq - XYZQ_mu) / XYZQ_std\n",
    "    pmt = (pmt - PMT_mu) / PMT_std\n",
    "\n",
    "    # Preload to GPU\n",
    "    xyzq_list_gpu.append(xyzq.to(DEVICE))\n",
    "    pmt_list_gpu.append(pmt.to(DEVICE))\n",
    "    dx_list_gpu.append(torch.tensor(dx, dtype=pmt.dtype).to(DEVICE))"
   ]
  },
  {
   "cell_type": "code",
   "execution_count": 19,
   "id": "89d4f38d-0b30-44bf-9c26-182fd61e7769",
   "metadata": {},
   "outputs": [],
   "source": [
    "XYZQ_mu_gpu = XYZQ_mu.to(DEVICE)\n",
    "XYZQ_std_gpu = XYZQ_std.to(DEVICE)\n",
    "PMT_mu_gpu = PMT_mu.to(DEVICE)\n",
    "PMT_std_gpu = PMT_std.to(DEVICE)"
   ]
  },
  {
   "cell_type": "markdown",
   "id": "36be5076-7357-4a56-bf1b-70f61441c4c4",
   "metadata": {
    "jp-MarkdownHeadingCollapsed": true
   },
   "source": [
    "#### Test"
   ]
  },
  {
   "cell_type": "code",
   "execution_count": 38,
   "id": "12e31c4f-cf2b-40a6-b05e-898c80e3d45e",
   "metadata": {},
   "outputs": [
    {
     "data": {
      "text/plain": [
       "torch.Size([1109, 4])"
      ]
     },
     "execution_count": 38,
     "metadata": {},
     "output_type": "execute_result"
    }
   ],
   "source": [
    "xyzq_list_gpu[0].shape"
   ]
  },
  {
   "cell_type": "code",
   "execution_count": 39,
   "id": "418e7644-fd38-4202-b29b-d77646721a45",
   "metadata": {},
   "outputs": [
    {
     "data": {
      "text/plain": [
       "torch.Size([180])"
      ]
     },
     "execution_count": 39,
     "metadata": {},
     "output_type": "execute_result"
    }
   ],
   "source": [
    "pmt_list_gpu[0].shape"
   ]
  },
  {
   "cell_type": "code",
   "execution_count": 40,
   "id": "390543e5-7820-4e8d-8f2c-70efb836bb14",
   "metadata": {},
   "outputs": [
    {
     "data": {
      "text/plain": [
       "tensor(68.0650, device='cuda:0')"
      ]
     },
     "execution_count": 40,
     "metadata": {},
     "output_type": "execute_result"
    }
   ],
   "source": [
    "dx_list_gpu[0]"
   ]
  },
  {
   "cell_type": "code",
   "execution_count": 52,
   "id": "e1181ba2-8442-496e-8dc8-d0535cc3f284",
   "metadata": {},
   "outputs": [],
   "source": [
    "dataset = GraphDataset(xyzq_list_gpu, pmt_list_gpu, dx_list_gpu)"
   ]
  },
  {
   "cell_type": "code",
   "execution_count": 61,
   "id": "35dd3b48-f2fe-456f-a5bb-4a338b77a4c7",
   "metadata": {},
   "outputs": [],
   "source": [
    "# Create the DataLoader with the custom collate function\n",
    "batch_size = 1000\n",
    "dataloader = DataLoader(dataset, batch_size=batch_size)"
   ]
  },
  {
   "cell_type": "code",
   "execution_count": 62,
   "id": "be49ed44-5dcf-4468-b0fb-bfd9205568c5",
   "metadata": {},
   "outputs": [],
   "source": [
    "batch = next(iter(dataloader))"
   ]
  },
  {
   "cell_type": "code",
   "execution_count": 63,
   "id": "932edb12-b5a9-40a3-bbcb-1ff5814ed39f",
   "metadata": {},
   "outputs": [],
   "source": [
    "graphs, pmts, dxs = batch"
   ]
  },
  {
   "cell_type": "code",
   "execution_count": 64,
   "id": "bb4a8ca4-ff03-4696-97f4-cc1397894c93",
   "metadata": {},
   "outputs": [
    {
     "data": {
      "text/plain": [
       "(1254423, 1254423)"
      ]
     },
     "execution_count": 64,
     "metadata": {},
     "output_type": "execute_result"
    }
   ],
   "source": [
    "graphs.size()"
   ]
  },
  {
   "cell_type": "code",
   "execution_count": 65,
   "id": "e24e85e0-7868-403c-b4b6-f528c06d07e7",
   "metadata": {},
   "outputs": [
    {
     "data": {
      "text/plain": [
       "torch.Size([1000, 180])"
      ]
     },
     "execution_count": 65,
     "metadata": {},
     "output_type": "execute_result"
    }
   ],
   "source": [
    "pmts.shape"
   ]
  },
  {
   "cell_type": "code",
   "execution_count": 66,
   "id": "776a9b83-5194-4c2c-a65f-b75b376e23ae",
   "metadata": {},
   "outputs": [
    {
     "data": {
      "text/plain": [
       "torch.Size([1000])"
      ]
     },
     "execution_count": 66,
     "metadata": {},
     "output_type": "execute_result"
    }
   ],
   "source": [
    "dxs.shape"
   ]
  },
  {
   "cell_type": "code",
   "execution_count": 70,
   "id": "94f9f5f5-0fe7-4bf3-80da-84b2ab641c25",
   "metadata": {},
   "outputs": [
    {
     "data": {
      "text/plain": [
       "device(type='cuda', index=0)"
      ]
     },
     "execution_count": 70,
     "metadata": {},
     "output_type": "execute_result"
    }
   ],
   "source": [
    "dxs.device"
   ]
  },
  {
   "cell_type": "markdown",
   "id": "08b9b83d-9a96-4a99-b57d-32f64670e6a8",
   "metadata": {},
   "source": [
    "### Train the model w/ forward model!"
   ]
  },
  {
   "cell_type": "code",
   "execution_count": 22,
   "id": "34c5d9fa-8236-4a4f-82d5-852bfb950700",
   "metadata": {},
   "outputs": [],
   "source": [
    "def calc_loss(dx, forward_model, criterion,\n",
    "              graphs, pmts, xmin, xmax):\n",
    "    \n",
    "    batch = []\n",
    "    sizes = []\n",
    "    for i in range(len(graphs)):\n",
    "        _xyzq = graphs[i].x\n",
    "        xyzq = XYZQ_std_gpu * _xyzq + XYZQ_mu_gpu\n",
    "        x_shifted = xyzq[:, 0] + dx[i]\n",
    "        idx_in = (x_shifted >= xmin) & (x_shifted <= xmax)\n",
    "        xyzq = xyzq[idx_in]\n",
    "        batch.append(xyzq)\n",
    "        sizes.append(xyzq.shape[0])\n",
    "    batch = torch.vstack(batch)\n",
    "    sizes = torch.tensor(sizes, device=dx.device)\n",
    "    \n",
    "    pmt_sim = forward_model.apply(dx, batch, sizes, forward_model.vis_model)\n",
    "    loss = criterion(pmt_sim, PMT_std_gpu * pmts + PMT_mu_gpu).mean()\n",
    "    \n",
    "    return loss"
   ]
  },
  {
   "cell_type": "markdown",
   "id": "3a573c2f-f1d6-4d81-a253-7e65a7c073b8",
   "metadata": {},
   "source": [
    "Training params:"
   ]
  },
  {
   "cell_type": "code",
   "execution_count": 20,
   "id": "a3be3820-491a-4d6e-8596-d17c5a9be602",
   "metadata": {},
   "outputs": [],
   "source": [
    "num_epochs = 500\n",
    "batch_size = 1000\n",
    "lr = 1e-3\n",
    "\n",
    "save_filename = 'models/recon_gnn_cycle.pt'\n",
    "reload_filename = None"
   ]
  },
  {
   "cell_type": "markdown",
   "id": "30f57122-cb5f-4b11-bcc5-bab42d99d83e",
   "metadata": {},
   "source": [
    "Make the training/validation/test dataloaders"
   ]
  },
  {
   "cell_type": "code",
   "execution_count": 21,
   "id": "62287d16-c027-42b3-8da3-96dbaf878239",
   "metadata": {},
   "outputs": [
    {
     "name": "stderr",
     "output_type": "stream",
     "text": [
      "/sdf/group/mli/zhezhang/conda/envs/ml/lib/python3.10/site-packages/torch_geometric/deprecation.py:26: UserWarning: 'data.DataLoader' is deprecated, use 'loader.DataLoader' instead\n",
      "  warnings.warn(out)\n"
     ]
    }
   ],
   "source": [
    "os.makedirs('models', exist_ok=True)\n",
    "\n",
    "dataset = GraphDataset(xyzq_list_gpu, pmt_list_gpu, dx_list_gpu)\n",
    "\n",
    "# Split the dataset into training and test sets\n",
    "train_size = int(0.6 * len(dataset))  # 20% of dataset for training\n",
    "vali_size = int(0.2 * len(dataset))  # The rest for testing\n",
    "test_size = len(dataset) - train_size - vali_size # The rest for testing\n",
    "train_dataset, vali_dataset, test_dataset = random_split(dataset, [train_size, vali_size, test_size])\n",
    "\n",
    "# Create DataLoaders for both the training and test sets\n",
    "train_dataloader = DataLoader(train_dataset, batch_size=batch_size, shuffle=True)\n",
    "vali_dataloader = DataLoader(vali_dataset, batch_size=batch_size, shuffle=False)\n",
    "test_dataloader = DataLoader(test_dataset, batch_size=batch_size, shuffle=False)"
   ]
  },
  {
   "cell_type": "markdown",
   "id": "e366ffd8-eb26-46eb-9234-35adb8172fdc",
   "metadata": {},
   "source": [
    "Initialize the recon network"
   ]
  },
  {
   "cell_type": "code",
   "execution_count": 23,
   "id": "5ecf43df-3dcd-4ac3-a677-4888f0e58e69",
   "metadata": {},
   "outputs": [],
   "source": [
    "# Initialize the network, loss function, and optimizer as before\n",
    "model = ReconGNN(\n",
    "    hidden_features=[64, 256],\n",
    "    out_features=128,\n",
    "    pmt_count=180).to(DEVICE)\n",
    "criterion = PoissonMatchLoss()\n",
    "optimizer = optim.Adam(model.parameters(), lr=lr)\n",
    "# optimizer = optim.Adam(model.parameters(), lr=1e-2, betas=(0.9, 0.999), weight_decay=1e-4)\n",
    "# scheduler = optim.lr_scheduler.StepLR(optimizer, step_size=10, gamma=0.1)\n",
    "\n",
    "if reload_filename:\n",
    "    model.load_state_dict(torch.load(reload_filename, map_location=DEVICE))"
   ]
  },
  {
   "cell_type": "markdown",
   "id": "b49837ef-35d4-464f-b4df-1f1219c65400",
   "metadata": {},
   "source": [
    "Train it!"
   ]
  },
  {
   "cell_type": "code",
   "execution_count": 26,
   "id": "f61901e9-67f5-445e-86e5-f34e34e5bef6",
   "metadata": {
    "scrolled": true,
    "tags": []
   },
   "outputs": [
    {
     "name": "stdout",
     "output_type": "stream",
     "text": [
      "Epoch [1/500], Step [1/6], Validation Loss: 1316.8563\n",
      "Model on disk updated\n",
      "Epoch [1/500], Training Loss: 893.7492\n",
      "Epoch [2/500], Step [1/6], Validation Loss: 372.0887\n",
      "Model on disk updated\n",
      "Epoch [2/500], Training Loss: 310.3730\n",
      "Epoch [3/500], Step [1/6], Validation Loss: 200.5553\n",
      "Model on disk updated\n",
      "Epoch [3/500], Training Loss: 192.9776\n",
      "Epoch [4/500], Step [1/6], Validation Loss: 138.8571\n",
      "Model on disk updated\n",
      "Epoch [4/500], Training Loss: 129.1968\n",
      "Epoch [5/500], Step [1/6], Validation Loss: 136.0804\n",
      "Model on disk updated\n",
      "Epoch [5/500], Training Loss: 116.4350\n",
      "Epoch [6/500], Step [1/6], Validation Loss: 104.4163\n",
      "Model on disk updated\n",
      "Epoch [6/500], Training Loss: 86.7820\n",
      "Epoch [7/500], Step [1/6], Validation Loss: 89.0106\n",
      "Model on disk updated\n",
      "Epoch [7/500], Training Loss: 77.7068\n",
      "Epoch [8/500], Step [1/6], Validation Loss: 80.2659\n",
      "Model on disk updated\n",
      "Epoch [8/500], Training Loss: 65.3541\n",
      "Epoch [9/500], Step [1/6], Validation Loss: 79.2174\n",
      "Model on disk updated\n",
      "Epoch [9/500], Training Loss: 62.0440\n",
      "Epoch [10/500], Step [1/6], Validation Loss: 68.4229\n",
      "Model on disk updated\n",
      "Epoch [10/500], Training Loss: 59.6391\n",
      "Epoch [11/500], Step [1/6], Validation Loss: 65.4519\n",
      "Model on disk updated\n",
      "Epoch [11/500], Training Loss: 52.4571\n",
      "Epoch [12/500], Step [1/6], Validation Loss: 65.3070\n",
      "Model on disk updated\n",
      "Epoch [12/500], Training Loss: 48.1048\n",
      "Epoch [13/500], Step [1/6], Validation Loss: 56.7799\n",
      "Model on disk updated\n",
      "Epoch [13/500], Training Loss: 44.4376\n",
      "Epoch [14/500], Step [1/6], Validation Loss: 53.7000\n",
      "Model on disk updated\n",
      "Epoch [14/500], Training Loss: 39.8270\n",
      "Epoch [15/500], Step [1/6], Validation Loss: 50.6773\n",
      "Model on disk updated\n",
      "Epoch [15/500], Training Loss: 36.8718\n",
      "Epoch [16/500], Step [1/6], Validation Loss: 51.2531\n",
      "Epoch [16/500], Training Loss: 33.9177\n",
      "Epoch [17/500], Step [1/6], Validation Loss: 50.1514\n",
      "Model on disk updated\n",
      "Epoch [17/500], Training Loss: 30.4541\n",
      "Epoch [18/500], Step [1/6], Validation Loss: 45.1794\n",
      "Model on disk updated\n",
      "Epoch [18/500], Training Loss: 28.8122\n",
      "Epoch [19/500], Step [1/6], Validation Loss: 42.9356\n",
      "Model on disk updated\n",
      "Epoch [19/500], Training Loss: 27.9160\n",
      "Epoch [20/500], Step [1/6], Validation Loss: 43.3449\n",
      "Epoch [20/500], Training Loss: 26.6790\n",
      "Epoch [21/500], Step [1/6], Validation Loss: 40.0337\n",
      "Model on disk updated\n",
      "Epoch [21/500], Training Loss: 25.9517\n",
      "Epoch [22/500], Step [1/6], Validation Loss: 40.1526\n",
      "Epoch [22/500], Training Loss: 22.7197\n",
      "Epoch [23/500], Step [1/6], Validation Loss: 39.0950\n",
      "Model on disk updated\n",
      "Epoch [23/500], Training Loss: 22.0533\n",
      "Epoch [24/500], Step [1/6], Validation Loss: 36.9411\n",
      "Model on disk updated\n",
      "Epoch [24/500], Training Loss: 21.5974\n",
      "Epoch [25/500], Step [1/6], Validation Loss: 44.4016\n",
      "Epoch [25/500], Training Loss: 21.0419\n",
      "Epoch [26/500], Step [1/6], Validation Loss: 35.8352\n",
      "Model on disk updated\n",
      "Epoch [26/500], Training Loss: 19.9199\n",
      "Epoch [27/500], Step [1/6], Validation Loss: 38.9374\n",
      "Epoch [27/500], Training Loss: 18.5660\n",
      "Epoch [28/500], Step [1/6], Validation Loss: 37.0452\n",
      "Epoch [28/500], Training Loss: 17.0497\n",
      "Epoch [29/500], Step [1/6], Validation Loss: 34.9081\n",
      "Model on disk updated\n",
      "Epoch [29/500], Training Loss: 16.7822\n",
      "Epoch [30/500], Step [1/6], Validation Loss: 33.3761\n",
      "Model on disk updated\n",
      "Epoch [30/500], Training Loss: 15.8377\n",
      "Epoch [31/500], Step [1/6], Validation Loss: 29.3046\n",
      "Model on disk updated\n",
      "Epoch [31/500], Training Loss: 14.3713\n",
      "Epoch [32/500], Step [1/6], Validation Loss: 30.0845\n",
      "Epoch [32/500], Training Loss: 15.4701\n",
      "Epoch [33/500], Step [1/6], Validation Loss: 31.1399\n",
      "Epoch [33/500], Training Loss: 14.5997\n",
      "Epoch [34/500], Step [1/6], Validation Loss: 32.7612\n",
      "Epoch [34/500], Training Loss: 14.4279\n",
      "Epoch [35/500], Step [1/6], Validation Loss: 33.4607\n",
      "Epoch [35/500], Training Loss: 13.2250\n",
      "Epoch [36/500], Step [1/6], Validation Loss: 31.1413\n",
      "Epoch [36/500], Training Loss: 12.4078\n",
      "Epoch [37/500], Step [1/6], Validation Loss: 28.6666\n",
      "Model on disk updated\n",
      "Epoch [37/500], Training Loss: 13.5538\n",
      "Epoch [38/500], Step [1/6], Validation Loss: 32.8246\n",
      "Epoch [38/500], Training Loss: 14.8821\n",
      "Epoch [39/500], Step [1/6], Validation Loss: 54.9386\n",
      "Epoch [39/500], Training Loss: 16.9287\n",
      "Epoch [40/500], Step [1/6], Validation Loss: 42.2920\n",
      "Epoch [40/500], Training Loss: 14.8228\n",
      "Epoch [41/500], Step [1/6], Validation Loss: 36.8165\n",
      "Epoch [41/500], Training Loss: 12.6062\n",
      "Epoch [42/500], Step [1/6], Validation Loss: 35.8102\n",
      "Epoch [42/500], Training Loss: 12.2915\n",
      "Epoch [43/500], Step [1/6], Validation Loss: 33.3559\n",
      "Epoch [43/500], Training Loss: 12.8731\n",
      "Epoch [44/500], Step [1/6], Validation Loss: 35.1590\n",
      "Epoch [44/500], Training Loss: 12.1737\n",
      "Epoch [45/500], Step [1/6], Validation Loss: 31.3907\n",
      "Epoch [45/500], Training Loss: 11.6529\n",
      "Epoch [46/500], Step [1/6], Validation Loss: 26.6193\n",
      "Model on disk updated\n",
      "Epoch [46/500], Training Loss: 9.9520\n",
      "Epoch [47/500], Step [1/6], Validation Loss: 29.6062\n",
      "Epoch [47/500], Training Loss: 9.4780\n",
      "Epoch [48/500], Step [1/6], Validation Loss: 28.5922\n",
      "Epoch [48/500], Training Loss: 9.3409\n",
      "Epoch [49/500], Step [1/6], Validation Loss: 28.9623\n",
      "Epoch [49/500], Training Loss: 8.9789\n",
      "Epoch [50/500], Step [1/6], Validation Loss: 27.8634\n",
      "Epoch [50/500], Training Loss: 8.7715\n",
      "Epoch [51/500], Step [1/6], Validation Loss: 27.1294\n",
      "Epoch [51/500], Training Loss: 9.5969\n",
      "Epoch [52/500], Step [1/6], Validation Loss: 27.6249\n",
      "Epoch [52/500], Training Loss: 11.2336\n",
      "Epoch [53/500], Step [1/6], Validation Loss: 32.8953\n",
      "Epoch [53/500], Training Loss: 12.8954\n",
      "Epoch [54/500], Step [1/6], Validation Loss: 23.4684\n",
      "Model on disk updated\n",
      "Epoch [54/500], Training Loss: 11.6641\n",
      "Epoch [55/500], Step [1/6], Validation Loss: 25.2473\n",
      "Epoch [55/500], Training Loss: 9.7689\n",
      "Epoch [56/500], Step [1/6], Validation Loss: 27.8995\n",
      "Epoch [56/500], Training Loss: 8.4029\n",
      "Epoch [57/500], Step [1/6], Validation Loss: 27.3798\n",
      "Epoch [57/500], Training Loss: 9.5647\n",
      "Epoch [58/500], Step [1/6], Validation Loss: 30.1119\n",
      "Epoch [58/500], Training Loss: 10.1959\n",
      "Epoch [59/500], Step [1/6], Validation Loss: 27.5082\n",
      "Epoch [59/500], Training Loss: 9.6417\n",
      "Epoch [60/500], Step [1/6], Validation Loss: 22.0340\n",
      "Model on disk updated\n",
      "Epoch [60/500], Training Loss: 9.5695\n",
      "Epoch [61/500], Step [1/6], Validation Loss: 31.8249\n",
      "Epoch [61/500], Training Loss: 10.8057\n",
      "Epoch [62/500], Step [1/6], Validation Loss: 34.8026\n",
      "Epoch [62/500], Training Loss: 11.3849\n",
      "Epoch [63/500], Step [1/6], Validation Loss: 29.3482\n",
      "Epoch [63/500], Training Loss: 10.5365\n",
      "Epoch [64/500], Step [1/6], Validation Loss: 28.5590\n",
      "Epoch [64/500], Training Loss: 9.5043\n",
      "Epoch [65/500], Step [1/6], Validation Loss: 25.7732\n",
      "Epoch [65/500], Training Loss: 7.5088\n",
      "Epoch [66/500], Step [1/6], Validation Loss: 25.0381\n",
      "Epoch [66/500], Training Loss: 7.1867\n",
      "Epoch [67/500], Step [1/6], Validation Loss: 27.0658\n",
      "Epoch [67/500], Training Loss: 7.3416\n",
      "Epoch [68/500], Step [1/6], Validation Loss: 21.2617\n",
      "Model on disk updated\n",
      "Epoch [68/500], Training Loss: 8.4137\n",
      "Epoch [69/500], Step [1/6], Validation Loss: 25.0062\n",
      "Epoch [69/500], Training Loss: 9.2503\n",
      "Epoch [70/500], Step [1/6], Validation Loss: 25.7306\n",
      "Epoch [70/500], Training Loss: 9.4321\n",
      "Epoch [71/500], Step [1/6], Validation Loss: 24.7012\n",
      "Epoch [71/500], Training Loss: 8.5184\n",
      "Epoch [72/500], Step [1/6], Validation Loss: 28.9488\n",
      "Epoch [72/500], Training Loss: 7.7530\n",
      "Epoch [73/500], Step [1/6], Validation Loss: 29.7882\n",
      "Epoch [73/500], Training Loss: 8.0668\n",
      "Epoch [74/500], Step [1/6], Validation Loss: 21.8167\n",
      "Epoch [74/500], Training Loss: 8.4604\n",
      "Epoch [75/500], Step [1/6], Validation Loss: 23.0887\n",
      "Epoch [75/500], Training Loss: 8.4195\n",
      "Epoch [76/500], Step [1/6], Validation Loss: 24.5536\n",
      "Epoch [76/500], Training Loss: 7.5994\n",
      "Epoch [77/500], Step [1/6], Validation Loss: 25.5560\n",
      "Epoch [77/500], Training Loss: 6.7030\n",
      "Epoch [78/500], Step [1/6], Validation Loss: 22.4812\n",
      "Epoch [78/500], Training Loss: 8.0485\n",
      "Epoch [79/500], Step [1/6], Validation Loss: 30.4626\n",
      "Epoch [79/500], Training Loss: 6.8298\n",
      "Epoch [80/500], Step [1/6], Validation Loss: 31.6716\n",
      "Epoch [80/500], Training Loss: 7.1449\n",
      "Epoch [81/500], Step [1/6], Validation Loss: 23.9314\n",
      "Epoch [81/500], Training Loss: 8.2101\n",
      "Epoch [82/500], Step [1/6], Validation Loss: 28.9755\n",
      "Epoch [82/500], Training Loss: 10.3747\n",
      "Epoch [83/500], Step [1/6], Validation Loss: 22.9193\n",
      "Epoch [83/500], Training Loss: 9.7531\n",
      "Epoch [84/500], Step [1/6], Validation Loss: 24.1477\n",
      "Epoch [84/500], Training Loss: 8.0748\n",
      "Epoch [85/500], Step [1/6], Validation Loss: 21.5088\n",
      "Epoch [85/500], Training Loss: 7.6742\n",
      "Epoch [86/500], Step [1/6], Validation Loss: 24.8978\n",
      "Epoch [86/500], Training Loss: 6.9599\n",
      "Epoch [87/500], Step [1/6], Validation Loss: 26.3378\n",
      "Epoch [87/500], Training Loss: 6.3464\n",
      "Epoch [88/500], Step [1/6], Validation Loss: 25.3723\n",
      "Epoch [88/500], Training Loss: 7.2069\n",
      "Epoch [89/500], Step [1/6], Validation Loss: 25.5367\n",
      "Epoch [89/500], Training Loss: 6.9943\n",
      "Epoch [90/500], Step [1/6], Validation Loss: 24.9254\n",
      "Epoch [90/500], Training Loss: 7.7346\n",
      "Epoch [91/500], Step [1/6], Validation Loss: 29.6759\n",
      "Epoch [91/500], Training Loss: 8.1837\n",
      "Epoch [92/500], Step [1/6], Validation Loss: 24.2723\n",
      "Epoch [92/500], Training Loss: 7.1251\n",
      "Epoch [93/500], Step [1/6], Validation Loss: 22.8075\n",
      "Epoch [93/500], Training Loss: 9.2322\n",
      "Epoch [94/500], Step [1/6], Validation Loss: 24.9590\n",
      "Epoch [94/500], Training Loss: 8.4477\n",
      "Epoch [95/500], Step [1/6], Validation Loss: 25.8001\n",
      "Epoch [95/500], Training Loss: 6.8801\n",
      "Epoch [96/500], Step [1/6], Validation Loss: 23.0896\n",
      "Epoch [96/500], Training Loss: 6.2694\n",
      "Epoch [97/500], Step [1/6], Validation Loss: 24.6831\n",
      "Epoch [97/500], Training Loss: 7.0771\n",
      "Epoch [98/500], Step [1/6], Validation Loss: 23.6717\n",
      "Epoch [98/500], Training Loss: 7.3012\n",
      "Epoch [99/500], Step [1/6], Validation Loss: 24.4890\n",
      "Epoch [99/500], Training Loss: 6.4185\n",
      "Epoch [100/500], Step [1/6], Validation Loss: 21.7824\n",
      "Epoch [100/500], Training Loss: 5.9188\n",
      "Epoch [101/500], Step [1/6], Validation Loss: 20.3685\n",
      "Model on disk updated\n",
      "Epoch [101/500], Training Loss: 5.7312\n",
      "Epoch [102/500], Step [1/6], Validation Loss: 21.2590\n",
      "Epoch [102/500], Training Loss: 5.3764\n",
      "Epoch [103/500], Step [1/6], Validation Loss: 21.6121\n",
      "Epoch [103/500], Training Loss: 6.4065\n",
      "Epoch [104/500], Step [1/6], Validation Loss: 23.7639\n",
      "Epoch [104/500], Training Loss: 5.2811\n",
      "Epoch [105/500], Step [1/6], Validation Loss: 26.2935\n",
      "Epoch [105/500], Training Loss: 5.1461\n",
      "Epoch [106/500], Step [1/6], Validation Loss: 21.8339\n",
      "Epoch [106/500], Training Loss: 5.4364\n",
      "Epoch [107/500], Step [1/6], Validation Loss: 20.8926\n",
      "Epoch [107/500], Training Loss: 5.3559\n",
      "Epoch [108/500], Step [1/6], Validation Loss: 21.5189\n",
      "Epoch [108/500], Training Loss: 4.9692\n",
      "Epoch [109/500], Step [1/6], Validation Loss: 20.3121\n",
      "Model on disk updated\n",
      "Epoch [109/500], Training Loss: 8.1513\n",
      "Epoch [110/500], Step [1/6], Validation Loss: 35.1503\n",
      "Epoch [110/500], Training Loss: 8.6168\n",
      "Epoch [111/500], Step [1/6], Validation Loss: 23.5948\n",
      "Epoch [111/500], Training Loss: 9.3480\n",
      "Epoch [112/500], Step [1/6], Validation Loss: 28.6943\n",
      "Epoch [112/500], Training Loss: 9.4062\n",
      "Epoch [113/500], Step [1/6], Validation Loss: 31.1431\n",
      "Epoch [113/500], Training Loss: 10.6691\n",
      "Epoch [114/500], Step [1/6], Validation Loss: 29.0298\n",
      "Epoch [114/500], Training Loss: 10.4157\n",
      "Epoch [115/500], Step [1/6], Validation Loss: 20.7135\n",
      "Epoch [115/500], Training Loss: 9.4429\n",
      "Epoch [116/500], Step [1/6], Validation Loss: 27.0281\n",
      "Epoch [116/500], Training Loss: 8.7535\n",
      "Epoch [117/500], Step [1/6], Validation Loss: 24.1855\n",
      "Epoch [117/500], Training Loss: 10.2121\n",
      "Epoch [118/500], Step [1/6], Validation Loss: 21.9032\n",
      "Epoch [118/500], Training Loss: 7.9536\n",
      "Epoch [119/500], Step [1/6], Validation Loss: 23.5246\n",
      "Epoch [119/500], Training Loss: 6.5749\n",
      "Epoch [120/500], Step [1/6], Validation Loss: 21.5964\n",
      "Epoch [120/500], Training Loss: 7.7489\n",
      "Epoch [121/500], Step [1/6], Validation Loss: 25.8519\n",
      "Epoch [121/500], Training Loss: 8.2241\n",
      "Epoch [122/500], Step [1/6], Validation Loss: 23.6500\n",
      "Epoch [122/500], Training Loss: 6.4845\n",
      "Epoch [123/500], Step [1/6], Validation Loss: 21.2487\n",
      "Epoch [123/500], Training Loss: 6.7350\n",
      "Epoch [124/500], Step [1/6], Validation Loss: 20.0033\n",
      "Model on disk updated\n",
      "Epoch [124/500], Training Loss: 6.2465\n",
      "Epoch [125/500], Step [1/6], Validation Loss: 20.6224\n",
      "Epoch [125/500], Training Loss: 5.4119\n",
      "Epoch [126/500], Step [1/6], Validation Loss: 21.6611\n",
      "Epoch [126/500], Training Loss: 5.2113\n",
      "Epoch [127/500], Step [1/6], Validation Loss: 19.8840\n",
      "Model on disk updated\n",
      "Epoch [127/500], Training Loss: 5.8405\n",
      "Epoch [128/500], Step [1/6], Validation Loss: 22.2917\n",
      "Epoch [128/500], Training Loss: 5.5484\n",
      "Epoch [129/500], Step [1/6], Validation Loss: 18.8993\n",
      "Model on disk updated\n",
      "Epoch [129/500], Training Loss: 4.8535\n",
      "Epoch [130/500], Step [1/6], Validation Loss: 19.9795\n",
      "Epoch [130/500], Training Loss: 5.0181\n",
      "Epoch [131/500], Step [1/6], Validation Loss: 21.1569\n",
      "Epoch [131/500], Training Loss: 4.6682\n",
      "Epoch [132/500], Step [1/6], Validation Loss: 23.8555\n",
      "Epoch [132/500], Training Loss: 5.4582\n",
      "Epoch [133/500], Step [1/6], Validation Loss: 18.4445\n",
      "Model on disk updated\n",
      "Epoch [133/500], Training Loss: 5.2780\n",
      "Epoch [134/500], Step [1/6], Validation Loss: 19.7467\n",
      "Epoch [134/500], Training Loss: 4.6305\n",
      "Epoch [135/500], Step [1/6], Validation Loss: 18.5375\n",
      "Epoch [135/500], Training Loss: 5.1354\n",
      "Epoch [136/500], Step [1/6], Validation Loss: 18.0077\n",
      "Model on disk updated\n",
      "Epoch [136/500], Training Loss: 6.6436\n",
      "Epoch [137/500], Step [1/6], Validation Loss: 22.5205\n",
      "Epoch [137/500], Training Loss: 7.9141\n",
      "Epoch [138/500], Step [1/6], Validation Loss: 26.6171\n",
      "Epoch [138/500], Training Loss: 8.4399\n",
      "Epoch [139/500], Step [1/6], Validation Loss: 23.2024\n",
      "Epoch [139/500], Training Loss: 8.9207\n",
      "Epoch [140/500], Step [1/6], Validation Loss: 21.1327\n",
      "Epoch [140/500], Training Loss: 7.8045\n",
      "Epoch [141/500], Step [1/6], Validation Loss: 22.1225\n",
      "Epoch [141/500], Training Loss: 7.3038\n",
      "Epoch [142/500], Step [1/6], Validation Loss: 17.5943\n",
      "Model on disk updated\n",
      "Epoch [142/500], Training Loss: 5.9542\n",
      "Epoch [143/500], Step [1/6], Validation Loss: 18.5203\n",
      "Epoch [143/500], Training Loss: 5.7362\n",
      "Epoch [144/500], Step [1/6], Validation Loss: 24.0561\n",
      "Epoch [144/500], Training Loss: 6.6988\n",
      "Epoch [145/500], Step [1/6], Validation Loss: 19.3809\n",
      "Epoch [145/500], Training Loss: 7.6670\n",
      "Epoch [146/500], Step [1/6], Validation Loss: 30.7234\n",
      "Epoch [146/500], Training Loss: 6.4212\n",
      "Epoch [147/500], Step [1/6], Validation Loss: 23.0347\n",
      "Epoch [147/500], Training Loss: 7.7456\n",
      "Epoch [148/500], Step [1/6], Validation Loss: 17.8924\n",
      "Epoch [148/500], Training Loss: 6.2267\n",
      "Epoch [149/500], Step [1/6], Validation Loss: 22.1310\n",
      "Epoch [149/500], Training Loss: 5.4111\n",
      "Epoch [150/500], Step [1/6], Validation Loss: 17.7194\n",
      "Epoch [150/500], Training Loss: 4.5370\n",
      "Epoch [151/500], Step [1/6], Validation Loss: 20.1747\n",
      "Epoch [151/500], Training Loss: 5.3417\n",
      "Epoch [152/500], Step [1/6], Validation Loss: 20.1301\n",
      "Epoch [152/500], Training Loss: 6.4697\n",
      "Epoch [153/500], Step [1/6], Validation Loss: 25.0359\n",
      "Epoch [153/500], Training Loss: 6.9120\n",
      "Epoch [154/500], Step [1/6], Validation Loss: 20.1750\n",
      "Epoch [154/500], Training Loss: 5.0727\n",
      "Epoch [155/500], Step [1/6], Validation Loss: 19.3543\n",
      "Epoch [155/500], Training Loss: 5.1031\n",
      "Epoch [156/500], Step [1/6], Validation Loss: 19.1834\n",
      "Epoch [156/500], Training Loss: 4.4070\n",
      "Epoch [157/500], Step [1/6], Validation Loss: 19.9489\n",
      "Epoch [157/500], Training Loss: 4.3232\n",
      "Epoch [158/500], Step [1/6], Validation Loss: 18.9678\n",
      "Epoch [158/500], Training Loss: 5.1164\n",
      "Epoch [159/500], Step [1/6], Validation Loss: 19.6476\n",
      "Epoch [159/500], Training Loss: 5.5849\n",
      "Epoch [160/500], Step [1/6], Validation Loss: 19.4012\n",
      "Epoch [160/500], Training Loss: 6.9244\n",
      "Epoch [161/500], Step [1/6], Validation Loss: 23.3076\n",
      "Epoch [161/500], Training Loss: 7.3916\n",
      "Epoch [162/500], Step [1/6], Validation Loss: 16.2359\n",
      "Model on disk updated\n",
      "Epoch [162/500], Training Loss: 7.1851\n",
      "Epoch [163/500], Step [1/6], Validation Loss: 18.6903\n",
      "Epoch [163/500], Training Loss: 5.9058\n",
      "Epoch [164/500], Step [1/6], Validation Loss: 19.5806\n",
      "Epoch [164/500], Training Loss: 5.0414\n",
      "Epoch [165/500], Step [1/6], Validation Loss: 24.2484\n",
      "Epoch [165/500], Training Loss: 5.3613\n",
      "Epoch [166/500], Step [1/6], Validation Loss: 17.9587\n",
      "Epoch [166/500], Training Loss: 5.3816\n",
      "Epoch [167/500], Step [1/6], Validation Loss: 16.7965\n",
      "Epoch [167/500], Training Loss: 5.8800\n",
      "Epoch [168/500], Step [1/6], Validation Loss: 22.8163\n",
      "Epoch [168/500], Training Loss: 5.9116\n",
      "Epoch [169/500], Step [1/6], Validation Loss: 18.0090\n",
      "Epoch [169/500], Training Loss: 5.7198\n",
      "Epoch [170/500], Step [1/6], Validation Loss: 18.2662\n",
      "Epoch [170/500], Training Loss: 4.9879\n",
      "Epoch [171/500], Step [1/6], Validation Loss: 18.3237\n",
      "Epoch [171/500], Training Loss: 4.5652\n",
      "Epoch [172/500], Step [1/6], Validation Loss: 19.9359\n",
      "Epoch [172/500], Training Loss: 4.2523\n",
      "Epoch [173/500], Step [1/6], Validation Loss: 19.5366\n",
      "Epoch [173/500], Training Loss: 4.4142\n",
      "Epoch [174/500], Step [1/6], Validation Loss: 18.0930\n",
      "Epoch [174/500], Training Loss: 5.2126\n",
      "Epoch [175/500], Step [1/6], Validation Loss: 17.8236\n",
      "Epoch [175/500], Training Loss: 5.1764\n",
      "Epoch [176/500], Step [1/6], Validation Loss: 16.5320\n",
      "Epoch [176/500], Training Loss: 5.0463\n",
      "Epoch [177/500], Step [1/6], Validation Loss: 19.5872\n",
      "Epoch [177/500], Training Loss: 5.9800\n",
      "Epoch [178/500], Step [1/6], Validation Loss: 19.7543\n",
      "Epoch [178/500], Training Loss: 6.3867\n",
      "Epoch [179/500], Step [1/6], Validation Loss: 20.3772\n",
      "Epoch [179/500], Training Loss: 5.5570\n",
      "Epoch [180/500], Step [1/6], Validation Loss: 20.7396\n",
      "Epoch [180/500], Training Loss: 5.9516\n",
      "Epoch [181/500], Step [1/6], Validation Loss: 16.3456\n",
      "Epoch [181/500], Training Loss: 5.9299\n",
      "Epoch [182/500], Step [1/6], Validation Loss: 16.8723\n",
      "Epoch [182/500], Training Loss: 4.8375\n",
      "Epoch [183/500], Step [1/6], Validation Loss: 17.7227\n",
      "Epoch [183/500], Training Loss: 5.2102\n",
      "Epoch [184/500], Step [1/6], Validation Loss: 19.2216\n",
      "Epoch [184/500], Training Loss: 4.4283\n",
      "Epoch [185/500], Step [1/6], Validation Loss: 19.6631\n",
      "Epoch [185/500], Training Loss: 4.7474\n",
      "Epoch [186/500], Step [1/6], Validation Loss: 18.4816\n",
      "Epoch [186/500], Training Loss: 4.6929\n",
      "Epoch [187/500], Step [1/6], Validation Loss: 16.8421\n",
      "Epoch [187/500], Training Loss: 4.7425\n",
      "Epoch [188/500], Step [1/6], Validation Loss: 15.4920\n",
      "Model on disk updated\n",
      "Epoch [188/500], Training Loss: 5.9707\n",
      "Epoch [189/500], Step [1/6], Validation Loss: 21.4102\n",
      "Epoch [189/500], Training Loss: 6.0099\n",
      "Epoch [190/500], Step [1/6], Validation Loss: 23.1913\n",
      "Epoch [190/500], Training Loss: 4.8871\n",
      "Epoch [191/500], Step [1/6], Validation Loss: 18.6436\n",
      "Epoch [191/500], Training Loss: 4.1605\n",
      "Epoch [192/500], Step [1/6], Validation Loss: 17.0336\n",
      "Epoch [192/500], Training Loss: 4.2088\n",
      "Epoch [193/500], Step [1/6], Validation Loss: 17.1079\n",
      "Epoch [193/500], Training Loss: 4.0862\n",
      "Epoch [194/500], Step [1/6], Validation Loss: 17.3174\n",
      "Epoch [194/500], Training Loss: 3.9853\n",
      "Epoch [195/500], Step [1/6], Validation Loss: 16.2455\n",
      "Epoch [195/500], Training Loss: 3.7932\n",
      "Epoch [196/500], Step [1/6], Validation Loss: 16.5761\n",
      "Epoch [196/500], Training Loss: 5.8558\n",
      "Epoch [197/500], Step [1/6], Validation Loss: 29.5861\n",
      "Epoch [197/500], Training Loss: 6.3869\n",
      "Epoch [198/500], Step [1/6], Validation Loss: 18.6237\n",
      "Epoch [198/500], Training Loss: 5.9721\n",
      "Epoch [199/500], Step [1/6], Validation Loss: 18.5731\n",
      "Epoch [199/500], Training Loss: 4.8466\n",
      "Epoch [200/500], Step [1/6], Validation Loss: 16.7986\n",
      "Epoch [200/500], Training Loss: 4.7268\n",
      "Epoch [201/500], Step [1/6], Validation Loss: 20.2584\n",
      "Epoch [201/500], Training Loss: 4.5136\n",
      "Epoch [202/500], Step [1/6], Validation Loss: 20.6608\n",
      "Epoch [202/500], Training Loss: 4.2110\n",
      "Epoch [203/500], Step [1/6], Validation Loss: 17.3671\n",
      "Epoch [203/500], Training Loss: 4.3609\n",
      "Epoch [204/500], Step [1/6], Validation Loss: 17.1090\n",
      "Epoch [204/500], Training Loss: 5.9707\n",
      "Epoch [205/500], Step [1/6], Validation Loss: 18.5402\n",
      "Epoch [205/500], Training Loss: 8.7550\n",
      "Epoch [206/500], Step [1/6], Validation Loss: 24.8050\n",
      "Epoch [206/500], Training Loss: 6.3207\n",
      "Epoch [207/500], Step [1/6], Validation Loss: 22.1650\n",
      "Epoch [207/500], Training Loss: 7.6693\n",
      "Epoch [208/500], Step [1/6], Validation Loss: 15.8650\n",
      "Epoch [208/500], Training Loss: 5.9510\n",
      "Epoch [209/500], Step [1/6], Validation Loss: 19.2495\n",
      "Epoch [209/500], Training Loss: 5.7138\n",
      "Epoch [210/500], Step [1/6], Validation Loss: 18.4030\n",
      "Epoch [210/500], Training Loss: 4.9283\n",
      "Epoch [211/500], Step [1/6], Validation Loss: 16.4810\n",
      "Epoch [211/500], Training Loss: 4.8852\n",
      "Epoch [212/500], Step [1/6], Validation Loss: 20.3968\n",
      "Epoch [212/500], Training Loss: 5.1927\n",
      "Epoch [213/500], Step [1/6], Validation Loss: 18.4572\n",
      "Epoch [213/500], Training Loss: 6.2145\n",
      "Epoch [214/500], Step [1/6], Validation Loss: 19.0492\n",
      "Epoch [214/500], Training Loss: 5.7807\n",
      "Epoch [215/500], Step [1/6], Validation Loss: 19.7530\n",
      "Epoch [215/500], Training Loss: 5.0098\n",
      "Epoch [216/500], Step [1/6], Validation Loss: 19.1929\n",
      "Epoch [216/500], Training Loss: 4.5106\n",
      "Epoch [217/500], Step [1/6], Validation Loss: 18.1550\n",
      "Epoch [217/500], Training Loss: 4.8594\n",
      "Epoch [218/500], Step [1/6], Validation Loss: 16.1722\n",
      "Epoch [218/500], Training Loss: 4.8777\n",
      "Epoch [219/500], Step [1/6], Validation Loss: 17.5989\n",
      "Epoch [219/500], Training Loss: 4.5926\n",
      "Epoch [220/500], Step [1/6], Validation Loss: 19.5560\n",
      "Epoch [220/500], Training Loss: 4.4889\n",
      "Epoch [221/500], Step [1/6], Validation Loss: 18.3725\n",
      "Epoch [221/500], Training Loss: 4.8490\n",
      "Epoch [222/500], Step [1/6], Validation Loss: 20.2622\n",
      "Epoch [222/500], Training Loss: 5.8875\n",
      "Epoch [223/500], Step [1/6], Validation Loss: 18.0033\n",
      "Epoch [223/500], Training Loss: 5.3616\n",
      "Epoch [224/500], Step [1/6], Validation Loss: 17.6923\n",
      "Epoch [224/500], Training Loss: 4.4895\n",
      "Epoch [225/500], Step [1/6], Validation Loss: 17.0021\n",
      "Epoch [225/500], Training Loss: 4.1997\n",
      "Epoch [226/500], Step [1/6], Validation Loss: 17.1606\n",
      "Epoch [226/500], Training Loss: 4.3032\n",
      "Epoch [227/500], Step [1/6], Validation Loss: 19.1266\n",
      "Epoch [227/500], Training Loss: 4.2845\n",
      "Epoch [228/500], Step [1/6], Validation Loss: 18.9563\n",
      "Epoch [228/500], Training Loss: 4.1835\n",
      "Epoch [229/500], Step [1/6], Validation Loss: 15.5995\n",
      "Epoch [229/500], Training Loss: 5.4233\n",
      "Epoch [230/500], Step [1/6], Validation Loss: 17.7864\n",
      "Epoch [230/500], Training Loss: 5.6557\n",
      "Epoch [231/500], Step [1/6], Validation Loss: 23.1687\n",
      "Epoch [231/500], Training Loss: 6.6174\n",
      "Epoch [232/500], Step [1/6], Validation Loss: 16.9234\n",
      "Epoch [232/500], Training Loss: 5.2457\n",
      "Epoch [233/500], Step [1/6], Validation Loss: 18.2738\n",
      "Epoch [233/500], Training Loss: 5.4614\n",
      "Epoch [234/500], Step [1/6], Validation Loss: 18.1283\n",
      "Epoch [234/500], Training Loss: 5.2929\n",
      "Epoch [235/500], Step [1/6], Validation Loss: 18.2468\n",
      "Epoch [235/500], Training Loss: 4.8810\n",
      "Epoch [236/500], Step [1/6], Validation Loss: 17.6249\n",
      "Epoch [236/500], Training Loss: 4.9388\n",
      "Epoch [237/500], Step [1/6], Validation Loss: 17.7676\n",
      "Epoch [237/500], Training Loss: 6.5361\n",
      "Epoch [238/500], Step [1/6], Validation Loss: 26.9563\n",
      "Epoch [238/500], Training Loss: 7.8586\n",
      "Epoch [239/500], Step [1/6], Validation Loss: 27.5167\n",
      "Epoch [239/500], Training Loss: 8.6859\n",
      "Epoch [240/500], Step [1/6], Validation Loss: 18.7167\n",
      "Epoch [240/500], Training Loss: 9.6795\n",
      "Epoch [241/500], Step [1/6], Validation Loss: 22.1318\n",
      "Epoch [241/500], Training Loss: 8.8694\n",
      "Epoch [242/500], Step [1/6], Validation Loss: 15.3735\n",
      "Model on disk updated\n",
      "Epoch [242/500], Training Loss: 7.3833\n",
      "Epoch [243/500], Step [1/6], Validation Loss: 20.1633\n",
      "Epoch [243/500], Training Loss: 8.3744\n",
      "Epoch [244/500], Step [1/6], Validation Loss: 26.4260\n",
      "Epoch [244/500], Training Loss: 9.7897\n",
      "Epoch [245/500], Step [1/6], Validation Loss: 19.8669\n",
      "Epoch [245/500], Training Loss: 9.2556\n",
      "Epoch [246/500], Step [1/6], Validation Loss: 20.5263\n",
      "Epoch [246/500], Training Loss: 8.7090\n",
      "Epoch [247/500], Step [1/6], Validation Loss: 17.0332\n",
      "Epoch [247/500], Training Loss: 6.5161\n",
      "Epoch [248/500], Step [1/6], Validation Loss: 18.8406\n",
      "Epoch [248/500], Training Loss: 5.7736\n",
      "Epoch [249/500], Step [1/6], Validation Loss: 17.6860\n",
      "Epoch [249/500], Training Loss: 4.9737\n",
      "Epoch [250/500], Step [1/6], Validation Loss: 17.9547\n",
      "Epoch [250/500], Training Loss: 4.4530\n",
      "Epoch [251/500], Step [1/6], Validation Loss: 16.7552\n",
      "Epoch [251/500], Training Loss: 5.8016\n",
      "Epoch [252/500], Step [1/6], Validation Loss: 18.6265\n",
      "Epoch [252/500], Training Loss: 6.2368\n",
      "Epoch [253/500], Step [1/6], Validation Loss: 19.6108\n",
      "Epoch [253/500], Training Loss: 4.7806\n",
      "Epoch [254/500], Step [1/6], Validation Loss: 18.1971\n",
      "Epoch [254/500], Training Loss: 5.0291\n",
      "Epoch [255/500], Step [1/6], Validation Loss: 22.0632\n",
      "Epoch [255/500], Training Loss: 4.5857\n",
      "Epoch [256/500], Step [1/6], Validation Loss: 18.1277\n",
      "Epoch [256/500], Training Loss: 4.4211\n",
      "Epoch [257/500], Step [1/6], Validation Loss: 16.4509\n",
      "Epoch [257/500], Training Loss: 4.2242\n",
      "Epoch [258/500], Step [1/6], Validation Loss: 15.9805\n",
      "Epoch [258/500], Training Loss: 4.4583\n",
      "Epoch [259/500], Step [1/6], Validation Loss: 17.9196\n",
      "Epoch [259/500], Training Loss: 4.1159\n",
      "Epoch [260/500], Step [1/6], Validation Loss: 16.8287\n",
      "Epoch [260/500], Training Loss: 4.7160\n",
      "Epoch [261/500], Step [1/6], Validation Loss: 20.8501\n",
      "Epoch [261/500], Training Loss: 7.6689\n",
      "Epoch [262/500], Step [1/6], Validation Loss: 15.8877\n",
      "Epoch [262/500], Training Loss: 6.7777\n",
      "Epoch [263/500], Step [1/6], Validation Loss: 19.9516\n",
      "Epoch [263/500], Training Loss: 6.6642\n",
      "Epoch [264/500], Step [1/6], Validation Loss: 17.4036\n",
      "Epoch [264/500], Training Loss: 5.0896\n",
      "Epoch [265/500], Step [1/6], Validation Loss: 21.9715\n",
      "Epoch [265/500], Training Loss: 4.4484\n",
      "Epoch [266/500], Step [1/6], Validation Loss: 18.6246\n",
      "Epoch [266/500], Training Loss: 4.2919\n",
      "Epoch [267/500], Step [1/6], Validation Loss: 16.0073\n",
      "Epoch [267/500], Training Loss: 4.9311\n",
      "Epoch [268/500], Step [1/6], Validation Loss: 15.2913\n",
      "Model on disk updated\n",
      "Epoch [268/500], Training Loss: 7.3318\n",
      "Epoch [269/500], Step [1/6], Validation Loss: 25.0278\n",
      "Epoch [269/500], Training Loss: 8.5045\n",
      "Epoch [270/500], Step [1/6], Validation Loss: 24.4989\n",
      "Epoch [270/500], Training Loss: 7.1393\n",
      "Epoch [271/500], Step [1/6], Validation Loss: 20.6836\n",
      "Epoch [271/500], Training Loss: 5.3926\n",
      "Epoch [272/500], Step [1/6], Validation Loss: 17.0663\n",
      "Epoch [272/500], Training Loss: 4.5983\n",
      "Epoch [273/500], Step [1/6], Validation Loss: 16.5944\n",
      "Epoch [273/500], Training Loss: 4.2832\n",
      "Epoch [274/500], Step [1/6], Validation Loss: 16.2576\n",
      "Epoch [274/500], Training Loss: 4.2870\n",
      "Epoch [275/500], Step [1/6], Validation Loss: 16.2022\n",
      "Epoch [275/500], Training Loss: 3.8030\n",
      "Epoch [276/500], Step [1/6], Validation Loss: 16.5279\n",
      "Epoch [276/500], Training Loss: 4.2877\n",
      "Epoch [277/500], Step [1/6], Validation Loss: 17.6793\n",
      "Epoch [277/500], Training Loss: 3.9950\n",
      "Epoch [278/500], Step [1/6], Validation Loss: 15.4897\n",
      "Epoch [278/500], Training Loss: 3.4902\n",
      "Epoch [279/500], Step [1/6], Validation Loss: 17.2487\n",
      "Epoch [279/500], Training Loss: 3.3426\n",
      "Epoch [280/500], Step [1/6], Validation Loss: 16.7999\n",
      "Epoch [280/500], Training Loss: 3.6053\n",
      "Epoch [281/500], Step [1/6], Validation Loss: 17.1455\n",
      "Epoch [281/500], Training Loss: 3.6916\n",
      "Epoch [282/500], Step [1/6], Validation Loss: 15.9864\n",
      "Epoch [282/500], Training Loss: 3.5452\n",
      "Epoch [283/500], Step [1/6], Validation Loss: 20.5334\n",
      "Epoch [283/500], Training Loss: 6.0856\n",
      "Epoch [284/500], Step [1/6], Validation Loss: 19.7426\n",
      "Epoch [284/500], Training Loss: 5.7495\n",
      "Epoch [285/500], Step [1/6], Validation Loss: 17.2279\n",
      "Epoch [285/500], Training Loss: 5.6950\n",
      "Epoch [286/500], Step [1/6], Validation Loss: 18.1100\n",
      "Epoch [286/500], Training Loss: 4.3267\n",
      "Epoch [287/500], Step [1/6], Validation Loss: 18.4850\n",
      "Epoch [287/500], Training Loss: 4.1044\n",
      "Epoch [288/500], Step [1/6], Validation Loss: 16.0759\n",
      "Epoch [288/500], Training Loss: 4.1173\n",
      "Epoch [289/500], Step [1/6], Validation Loss: 14.8110\n",
      "Model on disk updated\n",
      "Epoch [289/500], Training Loss: 3.9686\n",
      "Epoch [290/500], Step [1/6], Validation Loss: 16.5205\n",
      "Epoch [290/500], Training Loss: 3.9579\n",
      "Epoch [291/500], Step [1/6], Validation Loss: 16.5070\n",
      "Epoch [291/500], Training Loss: 3.6346\n",
      "Epoch [292/500], Step [1/6], Validation Loss: 16.1709\n",
      "Epoch [292/500], Training Loss: 3.5921\n",
      "Epoch [293/500], Step [1/6], Validation Loss: 18.7353\n",
      "Epoch [293/500], Training Loss: 4.8298\n",
      "Epoch [294/500], Step [1/6], Validation Loss: 16.2504\n",
      "Epoch [294/500], Training Loss: 5.1980\n",
      "Epoch [295/500], Step [1/6], Validation Loss: 17.2074\n",
      "Epoch [295/500], Training Loss: 4.4562\n",
      "Epoch [296/500], Step [1/6], Validation Loss: 18.8313\n",
      "Epoch [296/500], Training Loss: 3.8780\n",
      "Epoch [297/500], Step [1/6], Validation Loss: 16.5679\n",
      "Epoch [297/500], Training Loss: 3.7380\n",
      "Epoch [298/500], Step [1/6], Validation Loss: 16.5075\n",
      "Epoch [298/500], Training Loss: 3.8843\n",
      "Epoch [299/500], Step [1/6], Validation Loss: 17.3646\n",
      "Epoch [299/500], Training Loss: 3.8081\n",
      "Epoch [300/500], Step [1/6], Validation Loss: 15.9147\n",
      "Epoch [300/500], Training Loss: 3.5094\n",
      "Epoch [301/500], Step [1/6], Validation Loss: 15.7701\n",
      "Epoch [301/500], Training Loss: 3.5504\n",
      "Epoch [302/500], Step [1/6], Validation Loss: 16.5266\n",
      "Epoch [302/500], Training Loss: 3.3705\n",
      "Epoch [303/500], Step [1/6], Validation Loss: 17.4141\n",
      "Epoch [303/500], Training Loss: 3.6943\n",
      "Epoch [304/500], Step [1/6], Validation Loss: 16.0955\n",
      "Epoch [304/500], Training Loss: 5.1680\n",
      "Epoch [305/500], Step [1/6], Validation Loss: 18.3864\n",
      "Epoch [305/500], Training Loss: 5.8581\n",
      "Epoch [306/500], Step [1/6], Validation Loss: 20.4157\n",
      "Epoch [306/500], Training Loss: 4.3538\n",
      "Epoch [307/500], Step [1/6], Validation Loss: 18.7821\n",
      "Epoch [307/500], Training Loss: 4.1329\n",
      "Epoch [308/500], Step [1/6], Validation Loss: 18.0627\n",
      "Epoch [308/500], Training Loss: 3.8441\n",
      "Epoch [309/500], Step [1/6], Validation Loss: 16.5134\n",
      "Epoch [309/500], Training Loss: 3.8125\n",
      "Epoch [310/500], Step [1/6], Validation Loss: 16.4157\n",
      "Epoch [310/500], Training Loss: 3.4703\n",
      "Epoch [311/500], Step [1/6], Validation Loss: 16.1368\n",
      "Epoch [311/500], Training Loss: 3.7424\n",
      "Epoch [312/500], Step [1/6], Validation Loss: 16.6289\n",
      "Epoch [312/500], Training Loss: 3.6429\n",
      "Epoch [313/500], Step [1/6], Validation Loss: 18.3050\n",
      "Epoch [313/500], Training Loss: 3.5635\n",
      "Epoch [314/500], Step [1/6], Validation Loss: 16.9955\n",
      "Epoch [314/500], Training Loss: 4.0683\n",
      "Epoch [315/500], Step [1/6], Validation Loss: 14.0842\n",
      "Model on disk updated\n",
      "Epoch [315/500], Training Loss: 4.3468\n",
      "Epoch [316/500], Step [1/6], Validation Loss: 17.4646\n",
      "Epoch [316/500], Training Loss: 4.4891\n",
      "Epoch [317/500], Step [1/6], Validation Loss: 17.1515\n",
      "Epoch [317/500], Training Loss: 4.8365\n",
      "Epoch [318/500], Step [1/6], Validation Loss: 17.1881\n",
      "Epoch [318/500], Training Loss: 4.8737\n",
      "Epoch [319/500], Step [1/6], Validation Loss: 19.3831\n",
      "Epoch [319/500], Training Loss: 5.0745\n",
      "Epoch [320/500], Step [1/6], Validation Loss: 21.0667\n",
      "Epoch [320/500], Training Loss: 5.1553\n",
      "Epoch [321/500], Step [1/6], Validation Loss: 15.2825\n",
      "Epoch [321/500], Training Loss: 4.9497\n",
      "Epoch [322/500], Step [1/6], Validation Loss: 16.4424\n",
      "Epoch [322/500], Training Loss: 5.1401\n",
      "Epoch [323/500], Step [1/6], Validation Loss: 20.6992\n",
      "Epoch [323/500], Training Loss: 4.9682\n",
      "Epoch [324/500], Step [1/6], Validation Loss: 19.0005\n",
      "Epoch [324/500], Training Loss: 6.3618\n",
      "Epoch [325/500], Step [1/6], Validation Loss: 18.0212\n",
      "Epoch [325/500], Training Loss: 4.8177\n",
      "Epoch [326/500], Step [1/6], Validation Loss: 17.6608\n",
      "Epoch [326/500], Training Loss: 4.7191\n",
      "Epoch [327/500], Step [1/6], Validation Loss: 15.0547\n",
      "Epoch [327/500], Training Loss: 4.3365\n",
      "Epoch [328/500], Step [1/6], Validation Loss: 16.3256\n",
      "Epoch [328/500], Training Loss: 3.8582\n",
      "Epoch [329/500], Step [1/6], Validation Loss: 16.9926\n",
      "Epoch [329/500], Training Loss: 3.4655\n",
      "Epoch [330/500], Step [1/6], Validation Loss: 16.0251\n",
      "Epoch [330/500], Training Loss: 3.7964\n",
      "Epoch [331/500], Step [1/6], Validation Loss: 17.1511\n",
      "Epoch [331/500], Training Loss: 4.8054\n",
      "Epoch [332/500], Step [1/6], Validation Loss: 21.9123\n",
      "Epoch [332/500], Training Loss: 4.8573\n",
      "Epoch [333/500], Step [1/6], Validation Loss: 19.2624\n",
      "Epoch [333/500], Training Loss: 4.5412\n",
      "Epoch [334/500], Step [1/6], Validation Loss: 16.7092\n",
      "Epoch [334/500], Training Loss: 4.3245\n",
      "Epoch [335/500], Step [1/6], Validation Loss: 14.5814\n",
      "Epoch [335/500], Training Loss: 4.3142\n",
      "Epoch [336/500], Step [1/6], Validation Loss: 17.7782\n",
      "Epoch [336/500], Training Loss: 4.1617\n",
      "Epoch [337/500], Step [1/6], Validation Loss: 16.9871\n",
      "Epoch [337/500], Training Loss: 3.9490\n",
      "Epoch [338/500], Step [1/6], Validation Loss: 18.5266\n",
      "Epoch [338/500], Training Loss: 3.8985\n",
      "Epoch [339/500], Step [1/6], Validation Loss: 16.4333\n",
      "Epoch [339/500], Training Loss: 3.4966\n",
      "Epoch [340/500], Step [1/6], Validation Loss: 16.8306\n",
      "Epoch [340/500], Training Loss: 4.5382\n",
      "Epoch [341/500], Step [1/6], Validation Loss: 14.8919\n",
      "Epoch [341/500], Training Loss: 4.9302\n",
      "Epoch [342/500], Step [1/6], Validation Loss: 19.9864\n",
      "Epoch [342/500], Training Loss: 5.3425\n",
      "Epoch [343/500], Step [1/6], Validation Loss: 19.0053\n",
      "Epoch [343/500], Training Loss: 5.1035\n",
      "Epoch [344/500], Step [1/6], Validation Loss: 16.0213\n",
      "Epoch [344/500], Training Loss: 4.5400\n",
      "Epoch [345/500], Step [1/6], Validation Loss: 16.3516\n",
      "Epoch [345/500], Training Loss: 4.1209\n",
      "Epoch [346/500], Step [1/6], Validation Loss: 16.6777\n",
      "Epoch [346/500], Training Loss: 3.9097\n",
      "Epoch [347/500], Step [1/6], Validation Loss: 16.6565\n",
      "Epoch [347/500], Training Loss: 4.4245\n",
      "Epoch [348/500], Step [1/6], Validation Loss: 22.9594\n",
      "Epoch [348/500], Training Loss: 7.1950\n",
      "Epoch [349/500], Step [1/6], Validation Loss: 15.9553\n",
      "Epoch [349/500], Training Loss: 6.3351\n",
      "Epoch [350/500], Step [1/6], Validation Loss: 16.2648\n",
      "Epoch [350/500], Training Loss: 5.3210\n",
      "Epoch [351/500], Step [1/6], Validation Loss: 20.3957\n",
      "Epoch [351/500], Training Loss: 5.9921\n",
      "Epoch [352/500], Step [1/6], Validation Loss: 19.4749\n",
      "Epoch [352/500], Training Loss: 6.4688\n",
      "Epoch [353/500], Step [1/6], Validation Loss: 14.5666\n",
      "Epoch [353/500], Training Loss: 6.8689\n",
      "Epoch [354/500], Step [1/6], Validation Loss: 16.3074\n",
      "Epoch [354/500], Training Loss: 7.2242\n",
      "Epoch [355/500], Step [1/6], Validation Loss: 20.2789\n",
      "Epoch [355/500], Training Loss: 5.2524\n",
      "Epoch [356/500], Step [1/6], Validation Loss: 17.6310\n",
      "Epoch [356/500], Training Loss: 5.5981\n",
      "Epoch [357/500], Step [1/6], Validation Loss: 21.3217\n",
      "Epoch [357/500], Training Loss: 5.3559\n",
      "Epoch [358/500], Step [1/6], Validation Loss: 13.1853\n",
      "Model on disk updated\n",
      "Epoch [358/500], Training Loss: 4.9825\n",
      "Epoch [359/500], Step [1/6], Validation Loss: 15.5362\n",
      "Epoch [359/500], Training Loss: 4.7712\n",
      "Epoch [360/500], Step [1/6], Validation Loss: 18.8148\n",
      "Epoch [360/500], Training Loss: 4.2652\n",
      "Epoch [361/500], Step [1/6], Validation Loss: 17.7887\n",
      "Epoch [361/500], Training Loss: 4.0340\n",
      "Epoch [362/500], Step [1/6], Validation Loss: 16.6581\n",
      "Epoch [362/500], Training Loss: 4.1397\n",
      "Epoch [363/500], Step [1/6], Validation Loss: 14.8222\n",
      "Epoch [363/500], Training Loss: 3.8138\n",
      "Epoch [364/500], Step [1/6], Validation Loss: 14.9625\n",
      "Epoch [364/500], Training Loss: 3.9263\n",
      "Epoch [365/500], Step [1/6], Validation Loss: 22.0393\n",
      "Epoch [365/500], Training Loss: 6.6080\n",
      "Epoch [366/500], Step [1/6], Validation Loss: 18.5550\n",
      "Epoch [366/500], Training Loss: 6.4078\n",
      "Epoch [367/500], Step [1/6], Validation Loss: 15.7142\n",
      "Epoch [367/500], Training Loss: 6.3212\n",
      "Epoch [368/500], Step [1/6], Validation Loss: 18.1646\n",
      "Epoch [368/500], Training Loss: 4.6465\n",
      "Epoch [369/500], Step [1/6], Validation Loss: 17.2105\n",
      "Epoch [369/500], Training Loss: 4.1865\n",
      "Epoch [370/500], Step [1/6], Validation Loss: 18.3024\n",
      "Epoch [370/500], Training Loss: 4.2560\n",
      "Epoch [371/500], Step [1/6], Validation Loss: 15.7276\n",
      "Epoch [371/500], Training Loss: 4.3729\n",
      "Epoch [372/500], Step [1/6], Validation Loss: 15.3655\n",
      "Epoch [372/500], Training Loss: 4.2619\n",
      "Epoch [373/500], Step [1/6], Validation Loss: 17.2115\n",
      "Epoch [373/500], Training Loss: 4.6769\n",
      "Epoch [374/500], Step [1/6], Validation Loss: 16.9924\n",
      "Epoch [374/500], Training Loss: 4.3420\n",
      "Epoch [375/500], Step [1/6], Validation Loss: 15.9984\n",
      "Epoch [375/500], Training Loss: 4.1525\n",
      "Epoch [376/500], Step [1/6], Validation Loss: 14.7829\n",
      "Epoch [376/500], Training Loss: 3.7258\n",
      "Epoch [377/500], Step [1/6], Validation Loss: 18.8930\n",
      "Epoch [377/500], Training Loss: 4.3084\n",
      "Epoch [378/500], Step [1/6], Validation Loss: 16.7631\n",
      "Epoch [378/500], Training Loss: 4.0609\n",
      "Epoch [379/500], Step [1/6], Validation Loss: 15.9811\n",
      "Epoch [379/500], Training Loss: 4.0726\n",
      "Epoch [380/500], Step [1/6], Validation Loss: 16.2410\n",
      "Epoch [380/500], Training Loss: 5.1956\n",
      "Epoch [381/500], Step [1/6], Validation Loss: 32.1041\n",
      "Epoch [381/500], Training Loss: 10.1116\n",
      "Epoch [382/500], Step [1/6], Validation Loss: 16.2982\n",
      "Epoch [382/500], Training Loss: 8.5271\n",
      "Epoch [383/500], Step [1/6], Validation Loss: 15.2067\n",
      "Epoch [383/500], Training Loss: 5.8935\n",
      "Epoch [384/500], Step [1/6], Validation Loss: 20.7752\n",
      "Epoch [384/500], Training Loss: 4.9514\n",
      "Epoch [385/500], Step [1/6], Validation Loss: 16.5849\n",
      "Epoch [385/500], Training Loss: 4.1237\n",
      "Epoch [386/500], Step [1/6], Validation Loss: 16.2755\n",
      "Epoch [386/500], Training Loss: 4.0120\n",
      "Epoch [387/500], Step [1/6], Validation Loss: 16.6336\n",
      "Epoch [387/500], Training Loss: 3.8908\n",
      "Epoch [388/500], Step [1/6], Validation Loss: 17.1824\n",
      "Epoch [388/500], Training Loss: 5.8759\n",
      "Epoch [389/500], Step [1/6], Validation Loss: 15.5427\n",
      "Epoch [389/500], Training Loss: 6.1301\n",
      "Epoch [390/500], Step [1/6], Validation Loss: 20.3458\n",
      "Epoch [390/500], Training Loss: 5.6715\n",
      "Epoch [391/500], Step [1/6], Validation Loss: 22.1197\n",
      "Epoch [391/500], Training Loss: 6.0184\n",
      "Epoch [392/500], Step [1/6], Validation Loss: 16.9825\n",
      "Epoch [392/500], Training Loss: 4.3268\n",
      "Epoch [393/500], Step [1/6], Validation Loss: 17.6000\n",
      "Epoch [393/500], Training Loss: 4.0953\n",
      "Epoch [394/500], Step [1/6], Validation Loss: 14.1414\n",
      "Epoch [394/500], Training Loss: 3.9932\n",
      "Epoch [395/500], Step [1/6], Validation Loss: 17.0916\n",
      "Epoch [395/500], Training Loss: 3.6971\n",
      "Epoch [396/500], Step [1/6], Validation Loss: 15.9781\n",
      "Epoch [396/500], Training Loss: 4.0379\n",
      "Epoch [397/500], Step [1/6], Validation Loss: 15.4450\n",
      "Epoch [397/500], Training Loss: 3.7504\n",
      "Epoch [398/500], Step [1/6], Validation Loss: 14.8900\n",
      "Epoch [398/500], Training Loss: 3.6328\n",
      "Epoch [399/500], Step [1/6], Validation Loss: 17.2952\n",
      "Epoch [399/500], Training Loss: 3.3783\n",
      "Epoch [400/500], Step [1/6], Validation Loss: 16.9807\n",
      "Epoch [400/500], Training Loss: 4.9825\n",
      "Epoch [401/500], Step [1/6], Validation Loss: 19.1900\n",
      "Epoch [401/500], Training Loss: 7.9618\n",
      "Epoch [402/500], Step [1/6], Validation Loss: 20.5441\n",
      "Epoch [402/500], Training Loss: 7.5624\n",
      "Epoch [403/500], Step [1/6], Validation Loss: 16.3331\n",
      "Epoch [403/500], Training Loss: 5.9727\n",
      "Epoch [404/500], Step [1/6], Validation Loss: 19.8775\n",
      "Epoch [404/500], Training Loss: 4.5088\n",
      "Epoch [405/500], Step [1/6], Validation Loss: 17.5682\n",
      "Epoch [405/500], Training Loss: 4.1266\n",
      "Epoch [406/500], Step [1/6], Validation Loss: 13.8455\n",
      "Epoch [406/500], Training Loss: 5.4817\n",
      "Epoch [407/500], Step [1/6], Validation Loss: 18.6794\n",
      "Epoch [407/500], Training Loss: 4.9294\n",
      "Epoch [408/500], Step [1/6], Validation Loss: 19.6562\n",
      "Epoch [408/500], Training Loss: 5.0192\n",
      "Epoch [409/500], Step [1/6], Validation Loss: 17.9379\n",
      "Epoch [409/500], Training Loss: 4.0593\n",
      "Epoch [410/500], Step [1/6], Validation Loss: 15.7040\n",
      "Epoch [410/500], Training Loss: 4.1296\n",
      "Epoch [411/500], Step [1/6], Validation Loss: 14.7163\n",
      "Epoch [411/500], Training Loss: 4.1503\n",
      "Epoch [412/500], Step [1/6], Validation Loss: 17.5032\n",
      "Epoch [412/500], Training Loss: 4.1749\n",
      "Epoch [413/500], Step [1/6], Validation Loss: 15.4675\n",
      "Epoch [413/500], Training Loss: 3.9426\n",
      "Epoch [414/500], Step [1/6], Validation Loss: 16.2423\n",
      "Epoch [414/500], Training Loss: 3.5472\n",
      "Epoch [415/500], Step [1/6], Validation Loss: 15.4834\n",
      "Epoch [415/500], Training Loss: 3.5743\n",
      "Epoch [416/500], Step [1/6], Validation Loss: 14.8822\n",
      "Epoch [416/500], Training Loss: 4.7777\n",
      "Epoch [417/500], Step [1/6], Validation Loss: 19.1976\n",
      "Epoch [417/500], Training Loss: 5.7683\n",
      "Epoch [418/500], Step [1/6], Validation Loss: 25.4532\n",
      "Epoch [418/500], Training Loss: 8.2889\n",
      "Epoch [419/500], Step [1/6], Validation Loss: 18.5484\n",
      "Epoch [419/500], Training Loss: 7.3422\n",
      "Epoch [420/500], Step [1/6], Validation Loss: 15.1851\n",
      "Epoch [420/500], Training Loss: 4.8925\n",
      "Epoch [421/500], Step [1/6], Validation Loss: 17.3909\n",
      "Epoch [421/500], Training Loss: 5.4013\n",
      "Epoch [422/500], Step [1/6], Validation Loss: 18.3800\n",
      "Epoch [422/500], Training Loss: 5.9666\n",
      "Epoch [423/500], Step [1/6], Validation Loss: 14.5850\n",
      "Epoch [423/500], Training Loss: 6.1011\n",
      "Epoch [424/500], Step [1/6], Validation Loss: 16.4569\n",
      "Epoch [424/500], Training Loss: 4.9834\n",
      "Epoch [425/500], Step [1/6], Validation Loss: 16.7575\n",
      "Epoch [425/500], Training Loss: 4.2388\n",
      "Epoch [426/500], Step [1/6], Validation Loss: 17.0266\n",
      "Epoch [426/500], Training Loss: 4.8764\n",
      "Epoch [427/500], Step [1/6], Validation Loss: 18.7202\n",
      "Epoch [427/500], Training Loss: 7.7110\n",
      "Epoch [428/500], Step [1/6], Validation Loss: 15.3286\n",
      "Epoch [428/500], Training Loss: 6.4231\n",
      "Epoch [429/500], Step [1/6], Validation Loss: 16.3845\n",
      "Epoch [429/500], Training Loss: 5.6714\n",
      "Epoch [430/500], Step [1/6], Validation Loss: 19.6628\n",
      "Epoch [430/500], Training Loss: 4.8763\n",
      "Epoch [431/500], Step [1/6], Validation Loss: 16.3947\n",
      "Epoch [431/500], Training Loss: 5.2599\n",
      "Epoch [432/500], Step [1/6], Validation Loss: 15.9245\n",
      "Epoch [432/500], Training Loss: 5.1902\n",
      "Epoch [433/500], Step [1/6], Validation Loss: 14.9483\n",
      "Epoch [433/500], Training Loss: 4.9044\n",
      "Epoch [434/500], Step [1/6], Validation Loss: 15.0848\n",
      "Epoch [434/500], Training Loss: 4.2434\n",
      "Epoch [435/500], Step [1/6], Validation Loss: 17.5715\n",
      "Epoch [435/500], Training Loss: 3.6484\n",
      "Epoch [436/500], Step [1/6], Validation Loss: 14.8578\n",
      "Epoch [436/500], Training Loss: 3.6331\n",
      "Epoch [437/500], Step [1/6], Validation Loss: 15.2164\n",
      "Epoch [437/500], Training Loss: 3.9546\n",
      "Epoch [438/500], Step [1/6], Validation Loss: 15.3834\n",
      "Epoch [438/500], Training Loss: 4.6029\n",
      "Epoch [439/500], Step [1/6], Validation Loss: 20.9028\n",
      "Epoch [439/500], Training Loss: 5.2596\n",
      "Epoch [440/500], Step [1/6], Validation Loss: 16.9732\n",
      "Epoch [440/500], Training Loss: 4.9912\n",
      "Epoch [441/500], Step [1/6], Validation Loss: 15.9586\n",
      "Epoch [441/500], Training Loss: 4.6965\n",
      "Epoch [442/500], Step [1/6], Validation Loss: 18.3357\n",
      "Epoch [442/500], Training Loss: 5.0170\n",
      "Epoch [443/500], Step [1/6], Validation Loss: 18.7923\n",
      "Epoch [443/500], Training Loss: 4.1053\n",
      "Epoch [444/500], Step [1/6], Validation Loss: 16.3917\n",
      "Epoch [444/500], Training Loss: 3.7889\n",
      "Epoch [445/500], Step [1/6], Validation Loss: 16.7711\n",
      "Epoch [445/500], Training Loss: 3.5183\n",
      "Epoch [446/500], Step [1/6], Validation Loss: 15.5376\n",
      "Epoch [446/500], Training Loss: 3.8971\n",
      "Epoch [447/500], Step [1/6], Validation Loss: 14.9636\n",
      "Epoch [447/500], Training Loss: 3.6732\n",
      "Epoch [448/500], Step [1/6], Validation Loss: 15.5007\n",
      "Epoch [448/500], Training Loss: 5.8548\n",
      "Epoch [449/500], Step [1/6], Validation Loss: 23.5494\n",
      "Epoch [449/500], Training Loss: 6.1836\n",
      "Epoch [450/500], Step [1/6], Validation Loss: 19.2855\n",
      "Epoch [450/500], Training Loss: 5.2476\n",
      "Epoch [451/500], Step [1/6], Validation Loss: 16.5006\n",
      "Epoch [451/500], Training Loss: 4.7212\n",
      "Epoch [452/500], Step [1/6], Validation Loss: 16.5074\n",
      "Epoch [452/500], Training Loss: 4.3772\n",
      "Epoch [453/500], Step [1/6], Validation Loss: 17.0882\n",
      "Epoch [453/500], Training Loss: 4.2627\n",
      "Epoch [454/500], Step [1/6], Validation Loss: 16.9322\n",
      "Epoch [454/500], Training Loss: 3.8652\n",
      "Epoch [455/500], Step [1/6], Validation Loss: 16.2297\n",
      "Epoch [455/500], Training Loss: 4.0458\n",
      "Epoch [456/500], Step [1/6], Validation Loss: 16.6834\n",
      "Epoch [456/500], Training Loss: 3.9119\n",
      "Epoch [457/500], Step [1/6], Validation Loss: 15.2337\n",
      "Epoch [457/500], Training Loss: 5.1336\n",
      "Epoch [458/500], Step [1/6], Validation Loss: 16.0126\n",
      "Epoch [458/500], Training Loss: 6.6445\n",
      "Epoch [459/500], Step [1/6], Validation Loss: 21.1065\n",
      "Epoch [459/500], Training Loss: 5.0531\n",
      "Epoch [460/500], Step [1/6], Validation Loss: 19.6228\n",
      "Epoch [460/500], Training Loss: 4.9415\n",
      "Epoch [461/500], Step [1/6], Validation Loss: 16.7126\n",
      "Epoch [461/500], Training Loss: 5.3617\n",
      "Epoch [462/500], Step [1/6], Validation Loss: 14.3395\n",
      "Epoch [462/500], Training Loss: 8.7492\n",
      "Epoch [463/500], Step [1/6], Validation Loss: 22.6442\n",
      "Epoch [463/500], Training Loss: 11.4674\n",
      "Epoch [464/500], Step [1/6], Validation Loss: 23.1838\n",
      "Epoch [464/500], Training Loss: 7.8755\n",
      "Epoch [465/500], Step [1/6], Validation Loss: 30.6577\n",
      "Epoch [465/500], Training Loss: 7.4572\n",
      "Epoch [466/500], Step [1/6], Validation Loss: 17.0908\n",
      "Epoch [466/500], Training Loss: 6.7431\n",
      "Epoch [467/500], Step [1/6], Validation Loss: 14.9716\n",
      "Epoch [467/500], Training Loss: 5.5805\n",
      "Epoch [468/500], Step [1/6], Validation Loss: 15.4519\n",
      "Epoch [468/500], Training Loss: 7.5369\n",
      "Epoch [469/500], Step [1/6], Validation Loss: 26.7230\n",
      "Epoch [469/500], Training Loss: 9.5408\n",
      "Epoch [470/500], Step [1/6], Validation Loss: 20.0415\n",
      "Epoch [470/500], Training Loss: 7.7640\n",
      "Epoch [471/500], Step [1/6], Validation Loss: 18.2930\n",
      "Epoch [471/500], Training Loss: 6.0531\n",
      "Epoch [472/500], Step [1/6], Validation Loss: 16.8094\n",
      "Epoch [472/500], Training Loss: 4.8544\n",
      "Epoch [473/500], Step [1/6], Validation Loss: 14.7660\n",
      "Epoch [473/500], Training Loss: 4.2254\n",
      "Epoch [474/500], Step [1/6], Validation Loss: 15.0842\n",
      "Epoch [474/500], Training Loss: 5.2228\n",
      "Epoch [475/500], Step [1/6], Validation Loss: 17.3926\n",
      "Epoch [475/500], Training Loss: 6.8247\n",
      "Epoch [476/500], Step [1/6], Validation Loss: 17.3049\n",
      "Epoch [476/500], Training Loss: 5.6312\n",
      "Epoch [477/500], Step [1/6], Validation Loss: 16.7868\n",
      "Epoch [477/500], Training Loss: 4.6768\n",
      "Epoch [478/500], Step [1/6], Validation Loss: 16.9309\n",
      "Epoch [478/500], Training Loss: 4.0618\n",
      "Epoch [479/500], Step [1/6], Validation Loss: 16.0250\n",
      "Epoch [479/500], Training Loss: 3.6213\n",
      "Epoch [480/500], Step [1/6], Validation Loss: 15.1396\n",
      "Epoch [480/500], Training Loss: 3.7354\n",
      "Epoch [481/500], Step [1/6], Validation Loss: 18.0182\n",
      "Epoch [481/500], Training Loss: 3.9261\n",
      "Epoch [482/500], Step [1/6], Validation Loss: 13.2362\n",
      "Epoch [482/500], Training Loss: 4.5948\n",
      "Epoch [483/500], Step [1/6], Validation Loss: 19.2144\n",
      "Epoch [483/500], Training Loss: 5.1061\n",
      "Epoch [484/500], Step [1/6], Validation Loss: 16.3301\n",
      "Epoch [484/500], Training Loss: 5.5733\n",
      "Epoch [485/500], Step [1/6], Validation Loss: 17.5839\n",
      "Epoch [485/500], Training Loss: 4.8607\n",
      "Epoch [486/500], Step [1/6], Validation Loss: 17.2395\n",
      "Epoch [486/500], Training Loss: 4.0138\n",
      "Epoch [487/500], Step [1/6], Validation Loss: 15.3659\n",
      "Epoch [487/500], Training Loss: 3.6028\n",
      "Epoch [488/500], Step [1/6], Validation Loss: 13.3252\n",
      "Epoch [488/500], Training Loss: 3.8518\n",
      "Epoch [489/500], Step [1/6], Validation Loss: 16.0404\n",
      "Epoch [489/500], Training Loss: 3.7072\n",
      "Epoch [490/500], Step [1/6], Validation Loss: 18.6849\n",
      "Epoch [490/500], Training Loss: 5.0005\n",
      "Epoch [491/500], Step [1/6], Validation Loss: 18.7189\n",
      "Epoch [491/500], Training Loss: 4.6347\n",
      "Epoch [492/500], Step [1/6], Validation Loss: 18.2908\n",
      "Epoch [492/500], Training Loss: 4.7836\n",
      "Epoch [493/500], Step [1/6], Validation Loss: 14.6912\n",
      "Epoch [493/500], Training Loss: 4.2666\n",
      "Epoch [494/500], Step [1/6], Validation Loss: 14.2731\n",
      "Epoch [494/500], Training Loss: 3.7943\n",
      "Epoch [495/500], Step [1/6], Validation Loss: 13.4988\n",
      "Epoch [495/500], Training Loss: 4.1086\n",
      "Epoch [496/500], Step [1/6], Validation Loss: 15.9490\n",
      "Epoch [496/500], Training Loss: 4.0249\n",
      "Epoch [497/500], Step [1/6], Validation Loss: 16.6141\n",
      "Epoch [497/500], Training Loss: 3.6349\n",
      "Epoch [498/500], Step [1/6], Validation Loss: 17.0072\n",
      "Epoch [498/500], Training Loss: 4.8034\n",
      "Epoch [499/500], Step [1/6], Validation Loss: 19.1006\n",
      "Epoch [499/500], Training Loss: 4.3058\n",
      "Epoch [500/500], Step [1/6], Validation Loss: 16.4185\n",
      "Epoch [500/500], Training Loss: 4.3835\n",
      "Training complete.\n"
     ]
    }
   ],
   "source": [
    "# Training loop\n",
    "train_loss = []\n",
    "vali_loss = []\n",
    "best_loss = None\n",
    "\n",
    "for epoch in range(num_epochs):\n",
    "    model.train()  # Set the model to training mode\n",
    "    running_loss = 0.0\n",
    "    for i, batch in enumerate(train_dataloader):\n",
    "        graphs, pmts, _ = batch  # we don't need the groundtruth label (dx) info\n",
    "        \n",
    "        # Zero the parameter gradients\n",
    "        optimizer.zero_grad()\n",
    "        \n",
    "        # Forward + backward + optimize\n",
    "        _dx = model(graphs, pmts).flatten()\n",
    "        dx = _dx * (forward_model_single._xmax - forward_model_single._xmin) / 2\n",
    "        loss = calc_loss(dx, forward_model, criterion, graphs, pmts,\n",
    "                         xmin=forward_model_single._xmin, xmax=forward_model_single._xmax)\n",
    "\n",
    "        # print(f'Epoch [{epoch + 1}/{num_epochs}], Step [{i + 1}/{len(train_dataloader)}], '\n",
    "        #       f'Training Loss: {loss:.4f}')\n",
    "        \n",
    "        loss.backward()\n",
    "        optimizer.step()\n",
    "        # scheduler.step()  # Adjust the learning rate if using a scheduler\n",
    "        \n",
    "        running_loss += loss.item()\n",
    "        \n",
    "        if not (i % 100):  # Every 100 batches\n",
    "            # Evaluate on validation dataset\n",
    "            model.eval()  # Set model to evaluation mode\n",
    "            with torch.no_grad():\n",
    "                val_losses = []\n",
    "                \n",
    "                for batch_val in vali_dataloader:\n",
    "                    graphs_val, pmts_val, _ = batch_val\n",
    "                    \n",
    "                    _dx = model(graphs_val, pmts_val).flatten()\n",
    "                    dx = _dx * (forward_model_single._xmax - forward_model_single._xmin) / 2\n",
    "                    loss_val = calc_loss(\n",
    "                        dx, forward_model, criterion, graphs_val, pmts_val,\n",
    "                        xmin=forward_model_single._xmin, xmax=forward_model_single._xmax)\n",
    "                    val_losses.append(loss_val.item())\n",
    "                    # break  # just do one loop\n",
    "                \n",
    "                avg_val_loss = sum(val_losses) / len(val_losses)\n",
    "\n",
    "            print(f'Epoch [{epoch+1}/{num_epochs}], Step [{i+1}/{len(train_dataloader)}], '\n",
    "                  f'Validation Loss: {avg_val_loss:.4f}')\n",
    "            vali_loss.append(avg_val_loss)\n",
    "            model.train()  # Switch back to training mode\n",
    "\n",
    "            if save_filename:\n",
    "                if (best_loss is None) or (avg_val_loss < best_loss):\n",
    "                    print('Model on disk updated')\n",
    "                    best_loss = avg_val_loss\n",
    "                    torch.save(model.state_dict(), save_filename)\n",
    "            \n",
    "    # Print epoch loss\n",
    "    epoch_loss = running_loss / len(train_dataloader)\n",
    "    print(f\"Epoch [{epoch+1}/{num_epochs}], Training Loss: {epoch_loss:.4f}\")\n",
    "    # print(f\"Epoch [{epoch+1}/{num_epochs}], Training Loss: {epoch_loss:.4f}, LR: {scheduler.get_last_lr()[0]}\")\n",
    "    train_loss.append(epoch_loss)\n",
    "\n",
    "print(\"Training complete.\")"
   ]
  },
  {
   "cell_type": "markdown",
   "id": "d07cfc38-eafb-42f6-8980-b9d68d7f50b6",
   "metadata": {},
   "source": [
    "## Post analysis"
   ]
  },
  {
   "cell_type": "markdown",
   "id": "aab00d4f-ef6d-447a-ad18-56640b8e20ae",
   "metadata": {},
   "source": [
    "### Check the loss curves"
   ]
  },
  {
   "cell_type": "code",
   "execution_count": 27,
   "id": "ccc42743-2df2-4007-a5d5-8bb764b1ca86",
   "metadata": {},
   "outputs": [
    {
     "data": {
      "image/png": "[encoded data removed]",
      "text/plain": [
       "<Figure size 640x480 with 1 Axes>"
      ]
     },
     "metadata": {},
     "output_type": "display_data"
    }
   ],
   "source": [
    "fig, ax = plt.subplots(1, 1)\n",
    "ax.set(xlabel='epoch', ylabel='loss')\n",
    "ax.set_title(f'Learning rate {lr}')\n",
    "# ax.set_ylim(3000, 4000)\n",
    "# ax.set_xlim(100, 500)\n",
    "ax.set_yscale('log')\n",
    "\n",
    "ax.plot(train_loss, label='train loss')\n",
    "ax.plot(vali_loss, label='vali loss')\n",
    "\n",
    "# ax.grid()\n",
    "ax.legend(loc=0)\n",
    "fig.tight_layout()\n",
    "\n",
    "# fig.savefig('plot.pdf', bbox_inches='tight')\n",
    "plt.show()"
   ]
  },
  {
   "cell_type": "markdown",
   "id": "dd16e395-5eb2-43ff-b333-00c636e9c6b1",
   "metadata": {},
   "source": [
    "### Check model performance on test dataset"
   ]
  },
  {
   "cell_type": "markdown",
   "id": "6366119a-0254-40cb-9bbb-863b59ccd7d5",
   "metadata": {},
   "source": [
    "#### Load the model"
   ]
  },
  {
   "cell_type": "code",
   "execution_count": 28,
   "id": "b5a015b9-273d-4ea1-9bfb-f151461cb19d",
   "metadata": {},
   "outputs": [
    {
     "data": {
      "text/plain": [
       "ReconGNN(\n",
       "  (conv1): GCNConv(4, 64)\n",
       "  (conv2): GCNConv(64, 256)\n",
       "  (fc): Linear(in_features=256, out_features=128, bias=True)\n",
       "  (branch_b): Sequential(\n",
       "    (0): Linear(in_features=180, out_features=512, bias=True)\n",
       "    (1): ReLU()\n",
       "    (2): Linear(in_features=512, out_features=128, bias=True)\n",
       "    (3): ReLU()\n",
       "  )\n",
       "  (combined_fc): Sequential(\n",
       "    (0): Linear(in_features=256, out_features=128, bias=True)\n",
       "    (1): ReLU()\n",
       "    (2): Linear(in_features=128, out_features=32, bias=True)\n",
       "    (3): ReLU()\n",
       "    (4): Linear(in_features=32, out_features=1, bias=True)\n",
       "  )\n",
       ")"
      ]
     },
     "execution_count": 28,
     "metadata": {},
     "output_type": "execute_result"
    }
   ],
   "source": [
    "model_cycle = ReconGNN(hidden_features=[64, 256], out_features=128).to(DEVICE)\n",
    "model_cycle.load_state_dict(torch.load(save_filename, map_location=DEVICE))\n",
    "model_cycle.eval()"
   ]
  },
  {
   "cell_type": "markdown",
   "id": "8e6ab504-6394-404d-81c8-20eaadd77f48",
   "metadata": {},
   "source": [
    "#### Predict on test dataset (all in one batch)"
   ]
  },
  {
   "cell_type": "code",
   "execution_count": 29,
   "id": "d300e259-43bf-4572-9bfa-6571671bd0f8",
   "metadata": {},
   "outputs": [],
   "source": [
    "def get_dx_loss(dataloader, model):\n",
    "    \n",
    "    loss_dx_list = []\n",
    "    \n",
    "    for batch in tqdm(dataloader):\n",
    "        graphs, pmts, dxs = batch\n",
    "        _dx = model(graphs, pmts)\n",
    "        dx = _dx * (forward_model_single._xmax - forward_model_single._xmin) / 2\n",
    "        \n",
    "        loss_dx = (dx.flatten() - dxs) ** 2\n",
    "        loss_dx_list.append(loss_dx.detach().cpu())\n",
    "        \n",
    "    return torch.hstack(loss_dx_list)"
   ]
  },
  {
   "cell_type": "code",
   "execution_count": 34,
   "id": "00ebba78-e54b-43ee-8f4c-42eff330d3cf",
   "metadata": {},
   "outputs": [
    {
     "data": {
      "application/vnd.jupyter.widget-view+json": {
       "model_id": "deb8c94e47aa4c93b42fddd2ebc8e515",
       "version_major": 2,
       "version_minor": 0
      },
      "text/plain": [
       "  0%|          | 0/2 [00:00<?, ?it/s]"
      ]
     },
     "metadata": {},
     "output_type": "display_data"
    }
   ],
   "source": [
    "loss_dx_cycle = get_dx_loss(test_dataloader, model_cycle)"
   ]
  },
  {
   "cell_type": "code",
   "execution_count": 35,
   "id": "6cf18ec1-dc7c-4dad-bf49-de5561f01bdd",
   "metadata": {},
   "outputs": [],
   "source": [
    "def plot_rms_dx_dist(loss_dx, thres_rms=1e3, save=None):\n",
    "    \n",
    "    rms_dx = torch.sqrt(loss_dx)\n",
    "    \n",
    "    fig, ax = plt.subplots(1, 1, figsize=(6, 4))\n",
    "    ax.set(xlabel='rms(dx)', ylabel='count')\n",
    "    \n",
    "    # ax.set_yscale('log')\n",
    "    \n",
    "    p = (rms_dx < thres_rms).sum() / len(rms_dx) * 100\n",
    "    ax.hist(rms_dx[rms_dx < thres_rms], 100, label=f'label ({p:.2f}%)', alpha=0.8)\n",
    "    \n",
    "    # ax.grid()\n",
    "    ax.legend(loc=0)\n",
    "    fig.tight_layout()\n",
    "    \n",
    "    if save:\n",
    "        fig.savefig(save, dpi=200, bbox_inches='tight')\n",
    "        \n",
    "    plt.show()"
   ]
  },
  {
   "cell_type": "code",
   "execution_count": 36,
   "id": "4ae9246b-f9f9-44db-ba07-6f111c927a87",
   "metadata": {},
   "outputs": [
    {
     "data": {
      "image/png": "[encoded data removed]",
      "text/plain": [
       "<Figure size 600x400 with 1 Axes>"
      ]
     },
     "metadata": {},
     "output_type": "display_data"
    }
   ],
   "source": [
    "os.makedirs('pics', exist_ok=True)\n",
    "\n",
    "plot_rms_dx_dist(loss_dx_cycle, save='pics/recon_gnn_cycle_rms_dx_dist.png')"
   ]
  },
  {
   "cell_type": "markdown",
   "id": "d4066d90-c575-402d-95e4-e1bac04b6e4e",
   "metadata": {},
   "source": [
    "## Backlogs"
   ]
  },
  {
   "cell_type": "code",
   "execution_count": null,
   "id": "464c919c-0321-4a7b-8f16-47a4a15de122",
   "metadata": {},
   "outputs": [],
   "source": []
  }
 ],
 "metadata": {
  "kernelspec": {
   "display_name": "Python 3 (ipykernel)",
   "language": "python",
   "name": "python3"
  },
  "language_info": {
   "codemirror_mode": {
    "name": "ipython",
    "version": 3
   },
   "file_extension": ".py",
   "mimetype": "text/x-python",
   "name": "python",
   "nbconvert_exporter": "python",
   "pygments_lexer": "ipython3",
   "version": "3.10.14"
  }
 },
 "nbformat": 4,
 "nbformat_minor": 5
}
