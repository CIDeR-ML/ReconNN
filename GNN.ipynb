{
 "cells": [
  {
   "cell_type": "markdown",
   "id": "48806d4f-b356-4075-b908-551f8e9a1a1f",
   "metadata": {},
   "source": [
    "# ReconNN: GNN edition"
   ]
  },
  {
   "cell_type": "markdown",
   "id": "77cc1a4e-2b2c-4a2e-8343-f289ff17c022",
   "metadata": {},
   "source": [
    "In this notebook, we are going to train a GNN-based neural network to archieve our TPC reconstruction goal."
   ]
  },
  {
   "cell_type": "code",
   "execution_count": 1,
   "id": "64f8ca63-7a03-471a-8d13-ca6d04dddd50",
   "metadata": {},
   "outputs": [],
   "source": [
    "import os\n",
    "import torch\n",
    "import torch.nn as nn\n",
    "import torch.nn.functional as F\n",
    "import torch.optim as optim\n",
    "from torch.utils.data import Dataset, random_split\n",
    "from torch_geometric.nn import GCNConv, global_mean_pool\n",
    "from torch_geometric.data import Data, DataLoader\n",
    "\n",
    "import yaml\n",
    "import numpy as np\n",
    "import matplotlib.pyplot as plt\n",
    "from scipy.interpolate import interp1d\n",
    "from tqdm.auto import tqdm, trange\n",
    "\n",
    "from photonlib import MultiLib, PhotonLib\n",
    "\n",
    "from pfmatch.io import H5File\n",
    "from pfmatch.apps import ToyMC\n",
    "from pfmatch.utils import load_detector_config\n",
    "from pfmatch.algorithms.hypothesis import FlashHypothesis, MultiFlashHypothesis\n",
    "from pfmatch.algorithms import PoissonMatchLoss\n",
    "from contextlib import closing"
   ]
  },
  {
   "cell_type": "markdown",
   "id": "cf5f691d-f722-43ce-9355-f177fd392276",
   "metadata": {},
   "source": [
    "## Dataset"
   ]
  },
  {
   "cell_type": "markdown",
   "id": "76616f23-c1d1-4cf8-837c-983539d84679",
   "metadata": {},
   "source": [
    "In this section let's generate the (TPC, PMT) data by using the Icarus detector and the `ToyMC` simulator. You can download the Icarus detector h5 file here. After downloading, please put it under `detectors` folder (you'll need to create that folder first)."
   ]
  },
  {
   "cell_type": "markdown",
   "id": "2a07a9bb-029d-48a5-b73a-5258cb6ed158",
   "metadata": {},
   "source": [
    "### Config the detector"
   ]
  },
  {
   "cell_type": "code",
   "execution_count": 2,
   "id": "d256e507-6ffa-4bda-b775-faf02030892c",
   "metadata": {},
   "outputs": [],
   "source": [
    "cfg='''\n",
    "multilib:\n",
    "    filepath: detectors/plib_2x2.h5\n",
    "    \n",
    "photonlib:\n",
    "    filepath: detectors/plib_icarus.h5\n",
    "        \n",
    "Detector: icarus_detector\n",
    "    \n",
    "ToyMC:\n",
    "    TimeAlgo: \"random\" # random, periodic, same\n",
    "    TrackAlgo: \"random\" # random, top-bottom\n",
    "    PeriodTPC: [-1300.,1300] # in micro-second, [-340-965(drift time),1698.4-340]\n",
    "    PeriodPMT: [-1000., 1000.] # in micro-second, [-1150, 3450-1150]\n",
    "    PEVariation: 0.0 # channel-to-channel (PMT-wise) variation in (fake) reco PE amount\n",
    "    LightYieldVariation: 0.0  # light yield variation per point in QCluster_t\n",
    "    PosXVariation: 0.0 # total x position variation in cm\n",
    "    TruncateTPC: 0 # 1=truncate TPC trajectory mimicing readout effect\n",
    "    NumTracks: 5\n",
    "    NumpySeed: 1\n",
    "    NeutrinoTime: 0.\n",
    "\n",
    "LightPath:\n",
    "    SegmentSize: 0.5\n",
    "'''\n",
    "cfg = yaml.safe_load(cfg)"
   ]
  },
  {
   "cell_type": "code",
   "execution_count": 3,
   "id": "1234cc14-5f1e-45a1-8733-ddaeda67150b",
   "metadata": {},
   "outputs": [
    {
     "name": "stdout",
     "output_type": "stream",
     "text": [
      "[PhotonLib] loading detectors/plib_icarus.h5\n",
      "[PhotonLib] file loaded\n"
     ]
    }
   ],
   "source": [
    "plib = PhotonLib.load(cfg)"
   ]
  },
  {
   "cell_type": "markdown",
   "id": "df8b0908-fe73-4f88-aed6-ca8ed856360e",
   "metadata": {
    "jp-MarkdownHeadingCollapsed": true
   },
   "source": [
    "### Generate the data"
   ]
  },
  {
   "cell_type": "markdown",
   "id": "b0f9ecd5-65ed-4013-b28b-00d0a7dca946",
   "metadata": {},
   "source": [
    "If you already generated the data, you can skip this subsection and jump to the load data subsection directly."
   ]
  },
  {
   "cell_type": "code",
   "execution_count": null,
   "id": "95308cda-6388-4539-9dd3-819246319af5",
   "metadata": {},
   "outputs": [
    {
     "name": "stdout",
     "output_type": "stream",
     "text": [
      "[PhotonLib] loading detectors/plib_icarus.h5\n",
      "[PhotonLib] file loaded\n"
     ]
    }
   ],
   "source": [
    "det_cfg = load_detector_config(cfg)\n",
    "gen = ToyMC(cfg, det_cfg, plib)"
   ]
  },
  {
   "cell_type": "markdown",
   "id": "cf1957af-88e6-4efa-9adc-b964ec152c4e",
   "metadata": {},
   "source": [
    "Now we are going to generate 100k data points and save them into a `data/icarus-100k.h5` file."
   ]
  },
  {
   "cell_type": "code",
   "execution_count": null,
   "id": "7903f9f4-2ddf-4a4f-a74c-ef376b2f87c8",
   "metadata": {},
   "outputs": [],
   "source": [
    "os.makedirs('data', exist_ok=True)\n",
    "\n",
    "bad_cnts = 0\n",
    "with closing(H5File.open('data/icarus-100k.h5', 'w')) as f:\n",
    "    for __ in trange(1000):\n",
    "        data = gen.make_flashmatch_inputs(100)\n",
    "\n",
    "        out_q = [[q] for q in data.raw_qcluster_v]\n",
    "        out_f = [[fl] for fl in data.flash_v]\n",
    "        match_vv = [[(0,0)]] * len(out_q)\n",
    "        if len(out_q) != len(out_f):\n",
    "            bad_cnts += 1\n",
    "            continue\n",
    "        f.write_many(out_q, out_f, match_vv)\n",
    "print('bad', bad_cnts)"
   ]
  },
  {
   "cell_type": "markdown",
   "id": "1c3c4546-8a9a-402b-aa29-9f808323a03d",
   "metadata": {},
   "source": [
    "### Load the data"
   ]
  },
  {
   "cell_type": "code",
   "execution_count": 4,
   "id": "a0e950c7-7025-46df-a8ba-77b18485a61f",
   "metadata": {},
   "outputs": [],
   "source": [
    "def load_data(data_root, fnames, plib=None, n_pts=1000, fake=True):\n",
    "\n",
    "    xyzq_list = []\n",
    "    pmt_list = []\n",
    "    dx_list = []\n",
    "    \n",
    "    for fname in fnames:\n",
    "        fullname = os.path.join(data_root, fname)\n",
    "        print(f'processing {fullname}...')\n",
    "        f = H5File.open(fullname, 'r')\n",
    "        \n",
    "        for idx in trange(n_pts):\n",
    "            try:\n",
    "                q_v, f_v, _ = f.read_one(idx, 180)\n",
    "            except Exception as e:\n",
    "                print(e)\n",
    "                continue\n",
    "\n",
    "            if plib:\n",
    "                q_v[0].shift_to_center(plib)\n",
    "            xyzq = q_v[0].qpt_v  # (x, y, z, q)\n",
    "            if plib is None:\n",
    "                mu_x = xyzq[:, 0].mean()\n",
    "                xyzq[:, 0] -= mu_x  # normalization\n",
    "            if fake:\n",
    "                pmt = f_v[0].pe_v  # PMT readout\n",
    "            else:\n",
    "                pmt = f_v[0].pe_true_v  # PMT readout\n",
    "            dx = q_v[0].xmin_true - xyzq[:, 0].min().item()  # true dx\n",
    "    \n",
    "            xyzq_list.append(xyzq)\n",
    "            pmt_list.append(pmt)\n",
    "            dx_list.append(dx)\n",
    "\n",
    "    return xyzq_list, pmt_list, dx_list"
   ]
  },
  {
   "cell_type": "code",
   "execution_count": 5,
   "id": "89dad708-bc29-4d2b-b442-78e5c572bb93",
   "metadata": {
    "scrolled": true
   },
   "outputs": [],
   "source": [
    "data_root = 'data'\n",
    "fnames = sorted([n for n in os.listdir(data_root) if n.startswith('icarus')])"
   ]
  },
  {
   "cell_type": "code",
   "execution_count": 6,
   "id": "f6f50987-597c-418f-9770-8345daa3e7a8",
   "metadata": {},
   "outputs": [
    {
     "name": "stdout",
     "output_type": "stream",
     "text": [
      "processing data/icarus-100k.h5...\n",
      "[H5File] opening data/icarus-100k.h5 in mode r\n"
     ]
    },
    {
     "data": {
      "application/vnd.jupyter.widget-view+json": {
       "model_id": "33a9a15995c84c51aafe53f267a7693e",
       "version_major": 2,
       "version_minor": 0
      },
      "text/plain": [
       "  0%|          | 0/10000 [00:00<?, ?it/s]"
      ]
     },
     "metadata": {},
     "output_type": "display_data"
    }
   ],
   "source": [
    "xyzq_list, pmt_list, dx_list = load_data(data_root, fnames, plib=plib, n_pts=10000, fake=True)"
   ]
  },
  {
   "cell_type": "markdown",
   "id": "32d1d2d0-ed14-49fd-8765-3d0701afa586",
   "metadata": {
    "jp-MarkdownHeadingCollapsed": true,
    "tags": []
   },
   "source": [
    "#### Test"
   ]
  },
  {
   "cell_type": "code",
   "execution_count": 12,
   "id": "b8b08082-eaaa-4a5b-a976-27e95a3f5380",
   "metadata": {},
   "outputs": [
    {
     "data": {
      "text/plain": [
       "torch.Size([1109, 4])"
      ]
     },
     "execution_count": 12,
     "metadata": {},
     "output_type": "execute_result"
    }
   ],
   "source": [
    "xyzq_list[0].shape"
   ]
  },
  {
   "cell_type": "code",
   "execution_count": 13,
   "id": "8c5a6284-d7c9-40e8-a5bd-4b6f49293cc3",
   "metadata": {},
   "outputs": [
    {
     "data": {
      "text/plain": [
       "torch.Size([180])"
      ]
     },
     "execution_count": 13,
     "metadata": {},
     "output_type": "execute_result"
    }
   ],
   "source": [
    "pmt_list[0].shape"
   ]
  },
  {
   "cell_type": "code",
   "execution_count": 14,
   "id": "91e82595-0d17-4cb5-8c01-01c74852c9e2",
   "metadata": {
    "scrolled": true
   },
   "outputs": [
    {
     "data": {
      "text/plain": [
       "68.06504821777344"
      ]
     },
     "execution_count": 14,
     "metadata": {},
     "output_type": "execute_result"
    }
   ],
   "source": [
    "dx_list[0]"
   ]
  },
  {
   "cell_type": "code",
   "execution_count": 15,
   "id": "d35d3f62-5e76-4229-ad50-528140cd3ec2",
   "metadata": {},
   "outputs": [
    {
     "data": {
      "text/plain": [
       "tensor(0.5000)"
      ]
     },
     "execution_count": 15,
     "metadata": {},
     "output_type": "execute_result"
    }
   ],
   "source": [
    "sep = torch.norm(xyzq_list[0][0, :3] - xyzq_list[0][1, :3])\n",
    "\n",
    "sep"
   ]
  },
  {
   "cell_type": "markdown",
   "id": "fbe6048f-41e7-4436-a0e9-bf37107fb285",
   "metadata": {},
   "source": [
    "Check center in x of the first 10 normalized tracks -- should be `-210`"
   ]
  },
  {
   "cell_type": "code",
   "execution_count": 16,
   "id": "86a33157-0f50-49c8-98b0-3752f9728492",
   "metadata": {},
   "outputs": [
    {
     "name": "stdout",
     "output_type": "stream",
     "text": [
      "tensor(-210.0000) tensor(-209.9963)\n",
      "tensor(-210.) tensor(-210.0092)\n",
      "tensor(-210.) tensor(-209.9918)\n",
      "tensor(-210.) tensor(-209.9996)\n",
      "tensor(-210.) tensor(-210.0238)\n",
      "tensor(-210.) tensor(-209.9958)\n",
      "tensor(-210.0000) tensor(-209.9997)\n",
      "tensor(-210.) tensor(-210.0060)\n",
      "tensor(-210.) tensor(-209.9686)\n",
      "tensor(-210.) tensor(-209.9930)\n"
     ]
    }
   ],
   "source": [
    "for i in range(10):\n",
    "    x = xyzq_list[i][:, 0]\n",
    "    x_c = (x.max() + x.min()) / 2  # this is the correct way\n",
    "    x_m = x.mean()\n",
    "    \n",
    "    print(x_c, x_m)"
   ]
  },
  {
   "cell_type": "markdown",
   "id": "7da76f56-7d2a-4600-bb22-a6ccd5361ded",
   "metadata": {
    "tags": []
   },
   "source": [
    "## Forward simulator"
   ]
  },
  {
   "cell_type": "markdown",
   "id": "1b6b2941-6369-4c13-846e-e2035693f98e",
   "metadata": {},
   "source": [
    "Now we are going to setup forward models -- they would be used a bit during our training and post analysis."
   ]
  },
  {
   "cell_type": "code",
   "execution_count": 7,
   "id": "a1537428-5b16-4b14-9fba-41f244e02e9b",
   "metadata": {},
   "outputs": [],
   "source": [
    "def get_dx_ranges(xyzq_list):\n",
    "    dx_ranges = []\n",
    "    for i in trange(len(xyzq_list)):\n",
    "        track_xmin = xyzq_list[i][:, 0].min()\n",
    "        track_xmax = xyzq_list[i][:, 0].max()\n",
    "        \n",
    "        dx_max = forward_model_single._xmax - track_xmax\n",
    "        dx_min = forward_model_single._xmin - track_xmin\n",
    "\n",
    "        dx_ranges.append([dx_min, dx_max])\n",
    "    dx_ranges = torch.tensor(dx_ranges)\n",
    "\n",
    "    return dx_ranges"
   ]
  },
  {
   "cell_type": "code",
   "execution_count": 8,
   "id": "eea75642-db29-4e91-b9eb-e126d923b8af",
   "metadata": {},
   "outputs": [
    {
     "data": {
      "text/plain": [
       "'cuda:0'"
      ]
     },
     "execution_count": 8,
     "metadata": {},
     "output_type": "execute_result"
    }
   ],
   "source": [
    "DEVICE = 'cuda:0' if torch.cuda.is_available() else torch.device('cpu')\n",
    "\n",
    "DEVICE"
   ]
  },
  {
   "cell_type": "code",
   "execution_count": 9,
   "id": "ddac3927-d188-4b2c-a948-fb90b098aef7",
   "metadata": {},
   "outputs": [],
   "source": [
    "plib = plib.to(DEVICE)  # put plib to device"
   ]
  },
  {
   "cell_type": "code",
   "execution_count": 10,
   "id": "c5334678-bbfd-47e8-a577-f38e5f0bff66",
   "metadata": {},
   "outputs": [
    {
     "data": {
      "application/vnd.jupyter.widget-view+json": {
       "model_id": "0b3de9c5cf7d4fd1850f9072a1d184da",
       "version_major": 2,
       "version_minor": 0
      },
      "text/plain": [
       "  0%|          | 0/10000 [00:00<?, ?it/s]"
      ]
     },
     "metadata": {},
     "output_type": "display_data"
    }
   ],
   "source": [
    "# Create the single forward model\n",
    "forward_model_single = FlashHypothesis(cfg, plib).to(DEVICE)\n",
    "\n",
    "# Create the batch forward model\n",
    "dx_ranges = get_dx_ranges(xyzq_list)\n",
    "forward_model = MultiFlashHypothesis(plib, dx_ranges).to(DEVICE)"
   ]
  },
  {
   "cell_type": "markdown",
   "id": "01624f99-09cc-454a-85f0-074ffbb4b110",
   "metadata": {
    "jp-MarkdownHeadingCollapsed": true
   },
   "source": [
    "### Sanity check"
   ]
  },
  {
   "cell_type": "markdown",
   "id": "6889674e-e640-41a2-938f-2f95537f011b",
   "metadata": {},
   "source": [
    "Center in x for the detector -- should be `-210`"
   ]
  },
  {
   "cell_type": "code",
   "execution_count": 11,
   "id": "0559725a-eb91-41e5-bfb2-b974c8eaad28",
   "metadata": {},
   "outputs": [
    {
     "data": {
      "text/plain": [
       "-210.0"
      ]
     },
     "execution_count": 11,
     "metadata": {},
     "output_type": "execute_result"
    }
   ],
   "source": [
    "(forward_model_single._xmin + forward_model_single._xmax) / 2"
   ]
  },
  {
   "cell_type": "markdown",
   "id": "cf76baf2-71f5-4d8e-a412-109d15bb5381",
   "metadata": {
    "jp-MarkdownHeadingCollapsed": true,
    "tags": []
   },
   "source": [
    "### Forward model test"
   ]
  },
  {
   "cell_type": "code",
   "execution_count": 12,
   "id": "d0bf1821-7b9e-4863-9816-0a4cf544e869",
   "metadata": {},
   "outputs": [],
   "source": [
    "def cmp_pmt(idx=0, dx_shift=0, method='clamp'):\n",
    "    track_i = xyzq_list[idx]\n",
    "    pmt_i = pmt_list[idx]\n",
    "    # dx_i = dx_list[idx]\n",
    "    \n",
    "    track_i_shifted = torch.clone(track_i)\n",
    "    track_i_shifted[:, 0] += dx_shift\n",
    "    if method == 'clamp':\n",
    "        track_i_shifted[:, 0] = torch.clamp(track_i_shifted[:, 0],\n",
    "                                            forward_model_single._xmin, forward_model_single._xmax)\n",
    "    else:\n",
    "        idx_filtered = (track_i_shifted[:, 0] >= forward_model_single._xmin) * (track_i_shifted[:, 0] <= forward_model_single._xmax)\n",
    "        track_i_shifted = track_i_shifted[idx_filtered]\n",
    "    print(f'track size: {track_i_shifted.shape[0]}')\n",
    "    track_i_shifted = track_i_shifted.to(forward_model_single.plib.device)\n",
    "    pmt_i_shifted_sim = forward_model_single(track_i_shifted)\n",
    "    # pmt_i_sim = forward_model(track_i)\n",
    "    \n",
    "    fig, ax = plt.subplots(1, 1)\n",
    "    ax.set(xlabel='pmt channel', ylabel='count')\n",
    "    ax.set_title(f'track {idx}')\n",
    "    \n",
    "    ax.plot(pmt_i, '-', label='groundtruth')\n",
    "    # ax.plot(pmt_i_sim.detach().numpy(), '-', label='dx = 0')\n",
    "    ax.plot(pmt_i_shifted_sim.detach().cpu().numpy(), '-', label=f'dx = {dx_shift:.2f}')\n",
    "    \n",
    "    # ax.grid()\n",
    "    ax.legend(loc=0)\n",
    "    fig.tight_layout()\n",
    "    \n",
    "    # fig.savefig('plot.pdf', bbox_inches='tight')\n",
    "    plt.show()"
   ]
  },
  {
   "cell_type": "code",
   "execution_count": 13,
   "id": "1e96c704-d651-4db2-b778-1d62ed80b299",
   "metadata": {},
   "outputs": [
    {
     "name": "stdout",
     "output_type": "stream",
     "text": [
      "track size: 1109\n"
     ]
    },
    {
     "data": {
      "image/png": "[encoded data removed]",
      "text/plain": [
       "<Figure size 640x480 with 1 Axes>"
      ]
     },
     "metadata": {},
     "output_type": "display_data"
    }
   ],
   "source": [
    "cmp_pmt(0, 50)"
   ]
  },
  {
   "cell_type": "code",
   "execution_count": 14,
   "id": "5569948a-3618-41a7-bc65-284260689d3e",
   "metadata": {},
   "outputs": [
    {
     "name": "stdout",
     "output_type": "stream",
     "text": [
      "track size: 1109\n"
     ]
    },
    {
     "data": {
      "image/png": "[encoded data removed]",
      "text/plain": [
       "<Figure size 640x480 with 1 Axes>"
      ]
     },
     "metadata": {},
     "output_type": "display_data"
    }
   ],
   "source": [
    "cmp_pmt(0, -50)"
   ]
  },
  {
   "cell_type": "code",
   "execution_count": 15,
   "id": "dfb249f7-01da-41f1-b02d-295f87febaba",
   "metadata": {},
   "outputs": [
    {
     "name": "stdout",
     "output_type": "stream",
     "text": [
      "track size: 1109\n"
     ]
    },
    {
     "data": {
      "image/png": "[encoded data removed]",
      "text/plain": [
       "<Figure size 640x480 with 1 Axes>"
      ]
     },
     "metadata": {},
     "output_type": "display_data"
    }
   ],
   "source": [
    "cmp_pmt(0, dx_list[0])"
   ]
  },
  {
   "cell_type": "markdown",
   "id": "c74fa399-0905-4e78-85b4-6af358cc845a",
   "metadata": {},
   "source": [
    "#### Scan loss for random tracks"
   ]
  },
  {
   "cell_type": "code",
   "execution_count": 29,
   "id": "57086792-ae6b-42af-b1fa-4af407d2de52",
   "metadata": {},
   "outputs": [],
   "source": [
    "def scan_loss(indices, n_step=100):\n",
    "    pmt_sim_list = []\n",
    "    dx_list = []\n",
    "    for idx in tqdm(indices):\n",
    "        dx = torch.linspace(dx_ranges[idx][0], dx_ranges[idx][1], n_step)\n",
    "        \n",
    "        batch = []\n",
    "        sizes = []\n",
    "        \n",
    "        xyzq = xyzq_list[idx]\n",
    "        for i in range(n_step):\n",
    "            batch.append(xyzq)\n",
    "            sizes.append(xyzq.shape[0])\n",
    "        \n",
    "        batch = torch.vstack(batch)\n",
    "        sizes = torch.tensor(sizes)\n",
    "        \n",
    "        pmt_sim = forward_model.apply(dx.to(DEVICE), batch.to(DEVICE), sizes.to(DEVICE), plib)\n",
    "        pmt_sim_list.append(pmt_sim)\n",
    "        dx_list.append(dx)\n",
    "\n",
    "    criterion = PoissonMatchLoss()\n",
    "    \n",
    "    fig, ax = plt.subplots(1, 1)\n",
    "    ax.set(xlabel='dx (cm)', ylabel='MSE loss')\n",
    "    \n",
    "    for i, idx in enumerate(indices):\n",
    "        dx = dx_list[i]\n",
    "        pmt_sim = pmt_sim_list[i]\n",
    "        ax.plot(dx, criterion(pmt_sim, pmt_list[idx].to(DEVICE)).detach().cpu(), '-', label=f'track {idx}')\n",
    "    \n",
    "    # ax.grid()\n",
    "    ax.legend(loc=0)\n",
    "    fig.tight_layout()\n",
    "    \n",
    "    # fig.savefig('plot.pdf', bbox_inches='tight')\n",
    "    plt.show()"
   ]
  },
  {
   "cell_type": "code",
   "execution_count": 30,
   "id": "c3bf6614-611d-49dd-859a-08258fcfb8b2",
   "metadata": {},
   "outputs": [],
   "source": [
    "indices = np.random.choice(np.arange(1000), 10, replace=False)"
   ]
  },
  {
   "cell_type": "code",
   "execution_count": 31,
   "id": "fa846b60-8137-4e7c-a3d6-9f9776283030",
   "metadata": {},
   "outputs": [
    {
     "data": {
      "application/vnd.jupyter.widget-view+json": {
       "model_id": "9895aaa13c6b484481bffb80f38f3d54",
       "version_major": 2,
       "version_minor": 0
      },
      "text/plain": [
       "  0%|          | 0/10 [00:00<?, ?it/s]"
      ]
     },
     "metadata": {},
     "output_type": "display_data"
    },
    {
     "data": {
      "image/png": "[encoded data removed]",
      "text/plain": [
       "<Figure size 640x480 with 1 Axes>"
      ]
     },
     "metadata": {},
     "output_type": "display_data"
    }
   ],
   "source": [
    "scan_loss(indices)"
   ]
  },
  {
   "cell_type": "markdown",
   "id": "e8fb5f2c-2585-4101-bddb-e2e432c54744",
   "metadata": {},
   "source": [
    "## Graph dataset"
   ]
  },
  {
   "cell_type": "code",
   "execution_count": 11,
   "id": "81f28847-350b-4cda-b0fc-eca817685aa0",
   "metadata": {},
   "outputs": [],
   "source": [
    "class GraphDataset(Dataset):\n",
    "    def __init__(self, xyzq_list, pmt_list, dx_list):\n",
    "        \"\"\"\n",
    "        Args:\n",
    "            xyzq_list (list of tensors): Each tensor has shape (n_i, 4)\n",
    "            pmt_list: Each tensor has shape (180,)\n",
    "            dx_list: Each tensor has shape (1,)\n",
    "        \"\"\"\n",
    "        self.xyzq_list = xyzq_list\n",
    "        self.pmt_list = pmt_list\n",
    "        self.dx_list = dx_list\n",
    "\n",
    "    def __len__(self):\n",
    "        return len(self.dx_list)\n",
    "\n",
    "    def __getitem__(self, idx):\n",
    "        xyzq = self.xyzq_list[idx]\n",
    "        n_node = xyzq.shape[0]\n",
    "        edge_index = torch.zeros(2, n_node - 1, dtype=torch.int64)\n",
    "        edge_index[0] = torch.arange(n_node - 1)\n",
    "        edge_index[1] = torch.arange(1, n_node)\n",
    "        edge_index = edge_index.to(xyzq.device)\n",
    "        graph = Data(x=xyzq, edge_index=edge_index)\n",
    "        graph = graph.to(xyzq.device)\n",
    "        \n",
    "        pmt = self.pmt_list[idx]\n",
    "        dx = self.dx_list[idx]\n",
    "        \n",
    "        return graph, pmt, dx"
   ]
  },
  {
   "cell_type": "markdown",
   "id": "ef0fd8e7-efa0-4fa9-9076-3addfe05e5a8",
   "metadata": {
    "jp-MarkdownHeadingCollapsed": true
   },
   "source": [
    "### Test"
   ]
  },
  {
   "cell_type": "code",
   "execution_count": 12,
   "id": "1149f4b6-50d1-4594-b0f2-46b1dae2c1ee",
   "metadata": {},
   "outputs": [],
   "source": [
    "dataset = GraphDataset(xyzq_list, pmt_list, dx_list)"
   ]
  },
  {
   "cell_type": "code",
   "execution_count": 13,
   "id": "ac552e43-ab90-4516-aad7-76fb8aa6c165",
   "metadata": {},
   "outputs": [
    {
     "name": "stderr",
     "output_type": "stream",
     "text": [
      "/sdf/group/mli/zhezhang/conda/envs/ml/lib/python3.10/site-packages/torch_geometric/deprecation.py:26: UserWarning: 'data.DataLoader' is deprecated, use 'loader.DataLoader' instead\n",
      "  warnings.warn(out)\n"
     ]
    }
   ],
   "source": [
    "# Create the DataLoader with the custom collate function\n",
    "batch_size = 1000\n",
    "dataloader = DataLoader(dataset, batch_size=batch_size)"
   ]
  },
  {
   "cell_type": "code",
   "execution_count": 14,
   "id": "1b75bae0-b540-4890-bbaf-8c9450e2d9ec",
   "metadata": {},
   "outputs": [],
   "source": [
    "batch = next(iter(dataloader))"
   ]
  },
  {
   "cell_type": "code",
   "execution_count": 20,
   "id": "c10e65f1-f7f0-4826-9b1f-5a20f5e86135",
   "metadata": {},
   "outputs": [],
   "source": [
    "graphs, pmts, dxs = batch"
   ]
  },
  {
   "cell_type": "code",
   "execution_count": 21,
   "id": "2f71233e-e21a-4f21-9231-e0d04e91a794",
   "metadata": {},
   "outputs": [
    {
     "data": {
      "text/plain": [
       "(1254423, 1254423)"
      ]
     },
     "execution_count": 21,
     "metadata": {},
     "output_type": "execute_result"
    }
   ],
   "source": [
    "graphs.size()"
   ]
  },
  {
   "cell_type": "code",
   "execution_count": 22,
   "id": "188254cc-b9c5-481a-ac89-3387d558ed63",
   "metadata": {},
   "outputs": [
    {
     "data": {
      "text/plain": [
       "torch.Size([1000, 180])"
      ]
     },
     "execution_count": 22,
     "metadata": {},
     "output_type": "execute_result"
    }
   ],
   "source": [
    "pmts.shape"
   ]
  },
  {
   "cell_type": "code",
   "execution_count": 23,
   "id": "76526ce2-9edd-4666-a0f9-8a6cd2b97902",
   "metadata": {},
   "outputs": [
    {
     "data": {
      "text/plain": [
       "torch.Size([1000])"
      ]
     },
     "execution_count": 23,
     "metadata": {},
     "output_type": "execute_result"
    }
   ],
   "source": [
    "dxs.shape"
   ]
  },
  {
   "cell_type": "markdown",
   "id": "df094016-e62b-44ee-b185-c8a9db32d467",
   "metadata": {},
   "source": [
    "## Network structure"
   ]
  },
  {
   "cell_type": "markdown",
   "id": "e6d8b1f4-b845-42c4-ae3b-f5689d61f5ad",
   "metadata": {},
   "source": [
    "Here you can define your version of sparse CNN-based reconstruction network!"
   ]
  },
  {
   "cell_type": "code",
   "execution_count": 24,
   "id": "fa44091e-9bec-4010-8518-a1ac72f43486",
   "metadata": {},
   "outputs": [],
   "source": [
    "class ReconGNN(nn.Module):\n",
    "    def __init__(self, hidden_features, out_features=128, pmt_count=180):\n",
    "        super(ReconGNN, self).__init__()\n",
    "        # Subnetwork for A\n",
    "        self.conv1 = GCNConv(4, hidden_features[0])\n",
    "        self.conv2 = GCNConv(hidden_features[0], hidden_features[1])\n",
    "        self.fc = torch.nn.Linear(hidden_features[1], out_features)\n",
    "        # Subnetwork for B\n",
    "        self.branch_b = nn.Sequential(\n",
    "            nn.Linear(pmt_count, 512),\n",
    "            nn.ReLU(),\n",
    "            nn.Linear(512, out_features),\n",
    "            nn.ReLU()\n",
    "        )\n",
    "        # Combining both branches\n",
    "        self.combined_fc = nn.Sequential(\n",
    "            nn.Linear(2 * out_features, 128),\n",
    "            nn.ReLU(),\n",
    "            nn.Linear(128, 32),\n",
    "            nn.ReLU(),\n",
    "            nn.Linear(32, 1)\n",
    "        )\n",
    "    \n",
    "    def forward(self, a, b):\n",
    "        x, edge_index = a.x, a.edge_index\n",
    "\n",
    "        x = self.conv1(x, edge_index)\n",
    "        x = F.relu(x)\n",
    "        x = self.conv2(x, edge_index)\n",
    "        x = F.relu(x)\n",
    "\n",
    "        x = global_mean_pool(x, a.batch if hasattr(a, 'batch') else None)\n",
    "        x = self.fc(x)\n",
    "        \n",
    "        out_b = self.branch_b(b)\n",
    "        # print(x.shape, out_b.shape)\n",
    "        # Concatenate along feature dimension\n",
    "        combined = torch.cat((x, out_b), dim=1)\n",
    "        output = self.combined_fc(combined)\n",
    "        output = 2 * F.sigmoid(output) - 1\n",
    "        \n",
    "        return output"
   ]
  },
  {
   "cell_type": "markdown",
   "id": "5abb14c6-53d9-4093-bed1-855f57abade9",
   "metadata": {
    "jp-MarkdownHeadingCollapsed": true
   },
   "source": [
    "### Test"
   ]
  },
  {
   "cell_type": "code",
   "execution_count": 25,
   "id": "a949ec7e-e235-4ea1-ae66-d10a4e1dd832",
   "metadata": {},
   "outputs": [
    {
     "name": "stdout",
     "output_type": "stream",
     "text": [
      "Output feature vector shape: torch.Size([1000, 1])\n"
     ]
    }
   ],
   "source": [
    "# Instantiate the model\n",
    "model = ReconGNN(hidden_features=[64, 256], out_features=128)\n",
    "\n",
    "# Iterate over the DataLoader\n",
    "for batch in dataloader:\n",
    "    # Forward pass\n",
    "    graphs, pmts, _ = batch\n",
    "    output = model(graphs, pmts)\n",
    "\n",
    "    print(\"Output feature vector shape:\", output.shape)\n",
    "    # Perform your training steps here (e.g., loss computation, backpropagation)\n",
    "    # For demonstration, we'll process one batch\n",
    "    break"
   ]
  },
  {
   "cell_type": "code",
   "execution_count": 26,
   "id": "c3233d54-2f89-46be-9c24-9b298f9db715",
   "metadata": {},
   "outputs": [],
   "source": [
    "def count_parameters(module):\n",
    "    return sum(p.numel() for p in module.parameters())"
   ]
  },
  {
   "cell_type": "code",
   "execution_count": 27,
   "id": "d7600eed-fd30-4bf4-be1d-67619e94d8f7",
   "metadata": {},
   "outputs": [
    {
     "data": {
      "text/plain": [
       "245249"
      ]
     },
     "execution_count": 27,
     "metadata": {},
     "output_type": "execute_result"
    }
   ],
   "source": [
    "count_parameters(model)"
   ]
  },
  {
   "cell_type": "code",
   "execution_count": 28,
   "id": "040159b7-3faf-4416-bc46-48861b854fe2",
   "metadata": {},
   "outputs": [
    {
     "data": {
      "text/plain": [
       "158336"
      ]
     },
     "execution_count": 28,
     "metadata": {},
     "output_type": "execute_result"
    }
   ],
   "source": [
    "count_parameters(model.branch_b)"
   ]
  },
  {
   "cell_type": "markdown",
   "id": "e21bec4b-66f4-4365-82df-dc09bbbfc9bb",
   "metadata": {},
   "source": [
    "## Training!"
   ]
  },
  {
   "cell_type": "markdown",
   "id": "22e6f986-4a72-4cc7-8db8-a086e8961495",
   "metadata": {},
   "source": [
    "### Feature normalization"
   ]
  },
  {
   "cell_type": "markdown",
   "id": "e1a59a3c-893f-4d8b-a2b1-6da0e52ac8b0",
   "metadata": {},
   "source": [
    "Here we perform the feature normalization for the `q` part of the `(x, y, z, q)` node in the TPC track. `(x, y, z)` is treated as coordinates here so no need to normalize, it will go through quantization process instead."
   ]
  },
  {
   "cell_type": "code",
   "execution_count": 29,
   "id": "fa8dc339-64ed-40e4-80ff-3f416c0692d5",
   "metadata": {},
   "outputs": [],
   "source": [
    "XYZQ = torch.concat(xyzq_list, dim=0)\n",
    "PMT = torch.stack(pmt_list)\n",
    "dX = torch.tensor(dx_list, dtype=XYZQ.dtype)"
   ]
  },
  {
   "cell_type": "code",
   "execution_count": 30,
   "id": "8c51ca54-5db3-4916-a568-afdbf282bb58",
   "metadata": {},
   "outputs": [
    {
     "data": {
      "text/plain": [
       "(torch.Size([12748908, 4]), torch.Size([10000, 180]), torch.Size([10000]))"
      ]
     },
     "execution_count": 30,
     "metadata": {},
     "output_type": "execute_result"
    }
   ],
   "source": [
    "XYZQ.shape, PMT.shape, dX.shape"
   ]
  },
  {
   "cell_type": "code",
   "execution_count": 31,
   "id": "6beeceb5-bc0c-456f-ae6c-beb140c96dd3",
   "metadata": {},
   "outputs": [],
   "source": [
    "XYZQ_mu = XYZQ.mean(dim=0)\n",
    "XYZQ_std = XYZQ.std(dim=0)\n",
    "PMT_mu = PMT.mean(dim=0)\n",
    "PMT_std = PMT.std(dim=0)"
   ]
  },
  {
   "cell_type": "code",
   "execution_count": 32,
   "id": "7b61119c-e700-4756-a1b1-890195f6a33a",
   "metadata": {},
   "outputs": [
    {
     "data": {
      "text/plain": [
       "(tensor([-2.1000e+02, -2.3927e+01,  3.1733e-01,  2.6390e+04]),\n",
       " tensor([ 35.7958,  74.8276, 404.3167, 428.9499]))"
      ]
     },
     "execution_count": 32,
     "metadata": {},
     "output_type": "execute_result"
    }
   ],
   "source": [
    "XYZQ_mu, XYZQ_std"
   ]
  },
  {
   "cell_type": "code",
   "execution_count": 33,
   "id": "ce1e9b12-08cb-4103-a3cb-e7cd7b3580e8",
   "metadata": {},
   "outputs": [
    {
     "data": {
      "text/plain": [
       "(tensor([ 889.4356,  870.9064, 1167.6302, 1527.8296]),\n",
       " tensor([3626.9465, 3141.2056, 4427.1680, 5026.2666]))"
      ]
     },
     "execution_count": 33,
     "metadata": {},
     "output_type": "execute_result"
    }
   ],
   "source": [
    "PMT_mu[:4], PMT_std[:4]"
   ]
  },
  {
   "cell_type": "markdown",
   "id": "8e3e175b-3d23-432e-8436-74997d8d2266",
   "metadata": {},
   "source": [
    "### Pre-load to GPU"
   ]
  },
  {
   "cell_type": "markdown",
   "id": "2599b287-2557-4a47-bcde-e0b3539d32f8",
   "metadata": {},
   "source": [
    "Then we preload the data to GPU for higher GPU utilization -- if you are using CPU then this step can be skipped."
   ]
  },
  {
   "cell_type": "code",
   "execution_count": 34,
   "id": "bcd1ebd9-71fa-4798-aba8-57f54d8c8dc6",
   "metadata": {},
   "outputs": [
    {
     "data": {
      "application/vnd.jupyter.widget-view+json": {
       "model_id": "0f5733fe20c64108ab1ef8b64c64b7fb",
       "version_major": 2,
       "version_minor": 0
      },
      "text/plain": [
       "  0%|          | 0/10000 [00:00<?, ?it/s]"
      ]
     },
     "metadata": {},
     "output_type": "display_data"
    }
   ],
   "source": [
    "xyzq_list_gpu = []\n",
    "pmt_list_gpu = []\n",
    "dx_list_gpu = []\n",
    "for i in tqdm(range(len(xyzq_list))):\n",
    "    xyzq = xyzq_list[i]\n",
    "    pmt = pmt_list[i]\n",
    "    dx = dx_list[i]\n",
    "\n",
    "    # Normalization\n",
    "    xyzq = (xyzq - XYZQ_mu) / XYZQ_std\n",
    "    pmt = (pmt - PMT_mu) / PMT_std\n",
    "\n",
    "    # Preload to GPU\n",
    "    xyzq_list_gpu.append(xyzq.to(DEVICE))\n",
    "    pmt_list_gpu.append(pmt.to(DEVICE))\n",
    "    dx_list_gpu.append(torch.tensor(dx, dtype=pmt.dtype).to(DEVICE))"
   ]
  },
  {
   "cell_type": "code",
   "execution_count": 37,
   "id": "89d4f38d-0b30-44bf-9c26-182fd61e7769",
   "metadata": {},
   "outputs": [],
   "source": [
    "XYZQ_mu_gpu = XYZQ_mu.to(DEVICE)\n",
    "XYZQ_std_gpu = XYZQ_std.to(DEVICE)\n",
    "PMT_mu_gpu = PMT_mu.to(DEVICE)\n",
    "PMT_std_gpu = PMT_std.to(DEVICE)"
   ]
  },
  {
   "cell_type": "markdown",
   "id": "36be5076-7357-4a56-bf1b-70f61441c4c4",
   "metadata": {
    "jp-MarkdownHeadingCollapsed": true
   },
   "source": [
    "#### Test"
   ]
  },
  {
   "cell_type": "code",
   "execution_count": 38,
   "id": "12e31c4f-cf2b-40a6-b05e-898c80e3d45e",
   "metadata": {},
   "outputs": [
    {
     "data": {
      "text/plain": [
       "torch.Size([1109, 4])"
      ]
     },
     "execution_count": 38,
     "metadata": {},
     "output_type": "execute_result"
    }
   ],
   "source": [
    "xyzq_list_gpu[0].shape"
   ]
  },
  {
   "cell_type": "code",
   "execution_count": 39,
   "id": "418e7644-fd38-4202-b29b-d77646721a45",
   "metadata": {},
   "outputs": [
    {
     "data": {
      "text/plain": [
       "torch.Size([180])"
      ]
     },
     "execution_count": 39,
     "metadata": {},
     "output_type": "execute_result"
    }
   ],
   "source": [
    "pmt_list_gpu[0].shape"
   ]
  },
  {
   "cell_type": "code",
   "execution_count": 40,
   "id": "390543e5-7820-4e8d-8f2c-70efb836bb14",
   "metadata": {},
   "outputs": [
    {
     "data": {
      "text/plain": [
       "tensor(68.0650, device='cuda:0')"
      ]
     },
     "execution_count": 40,
     "metadata": {},
     "output_type": "execute_result"
    }
   ],
   "source": [
    "dx_list_gpu[0]"
   ]
  },
  {
   "cell_type": "code",
   "execution_count": 52,
   "id": "e1181ba2-8442-496e-8dc8-d0535cc3f284",
   "metadata": {},
   "outputs": [],
   "source": [
    "dataset = GraphDataset(xyzq_list_gpu, pmt_list_gpu, dx_list_gpu)"
   ]
  },
  {
   "cell_type": "code",
   "execution_count": 61,
   "id": "35dd3b48-f2fe-456f-a5bb-4a338b77a4c7",
   "metadata": {},
   "outputs": [],
   "source": [
    "# Create the DataLoader with the custom collate function\n",
    "batch_size = 1000\n",
    "dataloader = DataLoader(dataset, batch_size=batch_size)"
   ]
  },
  {
   "cell_type": "code",
   "execution_count": 62,
   "id": "be49ed44-5dcf-4468-b0fb-bfd9205568c5",
   "metadata": {},
   "outputs": [],
   "source": [
    "batch = next(iter(dataloader))"
   ]
  },
  {
   "cell_type": "code",
   "execution_count": 63,
   "id": "932edb12-b5a9-40a3-bbcb-1ff5814ed39f",
   "metadata": {},
   "outputs": [],
   "source": [
    "graphs, pmts, dxs = batch"
   ]
  },
  {
   "cell_type": "code",
   "execution_count": 64,
   "id": "bb4a8ca4-ff03-4696-97f4-cc1397894c93",
   "metadata": {},
   "outputs": [
    {
     "data": {
      "text/plain": [
       "(1254423, 1254423)"
      ]
     },
     "execution_count": 64,
     "metadata": {},
     "output_type": "execute_result"
    }
   ],
   "source": [
    "graphs.size()"
   ]
  },
  {
   "cell_type": "code",
   "execution_count": 65,
   "id": "e24e85e0-7868-403c-b4b6-f528c06d07e7",
   "metadata": {},
   "outputs": [
    {
     "data": {
      "text/plain": [
       "torch.Size([1000, 180])"
      ]
     },
     "execution_count": 65,
     "metadata": {},
     "output_type": "execute_result"
    }
   ],
   "source": [
    "pmts.shape"
   ]
  },
  {
   "cell_type": "code",
   "execution_count": 66,
   "id": "776a9b83-5194-4c2c-a65f-b75b376e23ae",
   "metadata": {},
   "outputs": [
    {
     "data": {
      "text/plain": [
       "torch.Size([1000])"
      ]
     },
     "execution_count": 66,
     "metadata": {},
     "output_type": "execute_result"
    }
   ],
   "source": [
    "dxs.shape"
   ]
  },
  {
   "cell_type": "code",
   "execution_count": 70,
   "id": "94f9f5f5-0fe7-4bf3-80da-84b2ab641c25",
   "metadata": {},
   "outputs": [
    {
     "data": {
      "text/plain": [
       "device(type='cuda', index=0)"
      ]
     },
     "execution_count": 70,
     "metadata": {},
     "output_type": "execute_result"
    }
   ],
   "source": [
    "dxs.device"
   ]
  },
  {
   "cell_type": "markdown",
   "id": "08b9b83d-9a96-4a99-b57d-32f64670e6a8",
   "metadata": {},
   "source": [
    "### Train the model w/ labels!"
   ]
  },
  {
   "cell_type": "markdown",
   "id": "3a573c2f-f1d6-4d81-a253-7e65a7c073b8",
   "metadata": {},
   "source": [
    "Training params:"
   ]
  },
  {
   "cell_type": "code",
   "execution_count": 71,
   "id": "a3be3820-491a-4d6e-8596-d17c5a9be602",
   "metadata": {},
   "outputs": [],
   "source": [
    "num_epochs = 500\n",
    "batch_size = 1000\n",
    "lr = 1e-3\n",
    "\n",
    "save_filename = 'models/recon_gnn.pt'\n",
    "reload_filename = None"
   ]
  },
  {
   "cell_type": "markdown",
   "id": "30f57122-cb5f-4b11-bcc5-bab42d99d83e",
   "metadata": {},
   "source": [
    "Make the training/validation/test dataloaders"
   ]
  },
  {
   "cell_type": "code",
   "execution_count": 72,
   "id": "62287d16-c027-42b3-8da3-96dbaf878239",
   "metadata": {},
   "outputs": [
    {
     "name": "stderr",
     "output_type": "stream",
     "text": [
      "/sdf/group/mli/zhezhang/conda/envs/ml/lib/python3.10/site-packages/torch_geometric/deprecation.py:26: UserWarning: 'data.DataLoader' is deprecated, use 'loader.DataLoader' instead\n",
      "  warnings.warn(out)\n"
     ]
    }
   ],
   "source": [
    "os.makedirs('models', exist_ok=True)\n",
    "\n",
    "dataset = GraphDataset(xyzq_list_gpu, pmt_list_gpu, dx_list_gpu)\n",
    "\n",
    "# Split the dataset into training and test sets\n",
    "train_size = int(0.6 * len(dataset))  # 20% of dataset for training\n",
    "vali_size = int(0.2 * len(dataset))  # The rest for testing\n",
    "test_size = len(dataset) - train_size - vali_size # The rest for testing\n",
    "train_dataset, vali_dataset, test_dataset = random_split(dataset, [train_size, vali_size, test_size])\n",
    "\n",
    "# Create DataLoaders for both the training and test sets\n",
    "train_dataloader = DataLoader(train_dataset, batch_size=batch_size, shuffle=True)\n",
    "vali_dataloader = DataLoader(vali_dataset, batch_size=batch_size, shuffle=False)\n",
    "test_dataloader = DataLoader(test_dataset, batch_size=batch_size, shuffle=False)"
   ]
  },
  {
   "cell_type": "markdown",
   "id": "e366ffd8-eb26-46eb-9234-35adb8172fdc",
   "metadata": {},
   "source": [
    "Initialize the recon network"
   ]
  },
  {
   "cell_type": "code",
   "execution_count": 73,
   "id": "5ecf43df-3dcd-4ac3-a677-4888f0e58e69",
   "metadata": {},
   "outputs": [],
   "source": [
    "# Initialize the network, loss function, and optimizer as before\n",
    "model = ReconGNN(\n",
    "    hidden_features=[64, 256],\n",
    "    out_features=128,\n",
    "    pmt_count=180).to(DEVICE)\n",
    "criterion = nn.MSELoss()\n",
    "optimizer = optim.Adam(model.parameters(), lr=lr)\n",
    "# optimizer = optim.Adam(model.parameters(), lr=1e-2, betas=(0.9, 0.999), weight_decay=1e-4)\n",
    "# scheduler = optim.lr_scheduler.StepLR(optimizer, step_size=10, gamma=0.1)\n",
    "\n",
    "if reload_filename:\n",
    "    model.load_state_dict(torch.load(reload_filename, map_location=DEVICE))"
   ]
  },
  {
   "cell_type": "markdown",
   "id": "b49837ef-35d4-464f-b4df-1f1219c65400",
   "metadata": {},
   "source": [
    "Train it!"
   ]
  },
  {
   "cell_type": "code",
   "execution_count": 74,
   "id": "f61901e9-67f5-445e-86e5-f34e34e5bef6",
   "metadata": {
    "scrolled": true,
    "tags": []
   },
   "outputs": [
    {
     "name": "stdout",
     "output_type": "stream",
     "text": [
      "Epoch [1/500], Step [1/6], Validation Loss: 3869.6063\n",
      "Model on disk updated\n",
      "Epoch [1/500], Training Loss: 3057.5520\n",
      "Epoch [2/500], Step [1/6], Validation Loss: 1009.1957\n",
      "Model on disk updated\n",
      "Epoch [2/500], Training Loss: 972.4344\n",
      "Epoch [3/500], Step [1/6], Validation Loss: 740.7960\n",
      "Model on disk updated\n",
      "Epoch [3/500], Training Loss: 577.1678\n",
      "Epoch [4/500], Step [1/6], Validation Loss: 503.8878\n",
      "Model on disk updated\n",
      "Epoch [4/500], Training Loss: 406.9980\n",
      "Epoch [5/500], Step [1/6], Validation Loss: 350.1629\n",
      "Model on disk updated\n",
      "Epoch [5/500], Training Loss: 301.3847\n",
      "Epoch [6/500], Step [1/6], Validation Loss: 314.3172\n",
      "Model on disk updated\n",
      "Epoch [6/500], Training Loss: 265.8177\n",
      "Epoch [7/500], Step [1/6], Validation Loss: 279.5771\n",
      "Model on disk updated\n",
      "Epoch [7/500], Training Loss: 237.0327\n",
      "Epoch [8/500], Step [1/6], Validation Loss: 250.4228\n",
      "Model on disk updated\n",
      "Epoch [8/500], Training Loss: 219.8585\n",
      "Epoch [9/500], Step [1/6], Validation Loss: 226.6716\n",
      "Model on disk updated\n",
      "Epoch [9/500], Training Loss: 189.9884\n",
      "Epoch [10/500], Step [1/6], Validation Loss: 217.5559\n",
      "Model on disk updated\n",
      "Epoch [10/500], Training Loss: 182.2112\n",
      "Epoch [11/500], Step [1/6], Validation Loss: 191.5254\n",
      "Model on disk updated\n",
      "Epoch [11/500], Training Loss: 160.4881\n",
      "Epoch [12/500], Step [1/6], Validation Loss: 169.2220\n",
      "Model on disk updated\n",
      "Epoch [12/500], Training Loss: 146.7287\n",
      "Epoch [13/500], Step [1/6], Validation Loss: 168.0254\n",
      "Model on disk updated\n",
      "Epoch [13/500], Training Loss: 130.8432\n",
      "Epoch [14/500], Step [1/6], Validation Loss: 153.9268\n",
      "Model on disk updated\n",
      "Epoch [14/500], Training Loss: 122.2975\n",
      "Epoch [15/500], Step [1/6], Validation Loss: 147.5752\n",
      "Model on disk updated\n",
      "Epoch [15/500], Training Loss: 110.0578\n",
      "Epoch [16/500], Step [1/6], Validation Loss: 138.1129\n",
      "Model on disk updated\n",
      "Epoch [16/500], Training Loss: 105.4644\n",
      "Epoch [17/500], Step [1/6], Validation Loss: 131.1316\n",
      "Model on disk updated\n",
      "Epoch [17/500], Training Loss: 93.1327\n",
      "Epoch [18/500], Step [1/6], Validation Loss: 120.9110\n",
      "Model on disk updated\n",
      "Epoch [18/500], Training Loss: 85.5476\n",
      "Epoch [19/500], Step [1/6], Validation Loss: 125.4663\n",
      "Epoch [19/500], Training Loss: 81.2518\n",
      "Epoch [20/500], Step [1/6], Validation Loss: 114.1180\n",
      "Model on disk updated\n",
      "Epoch [20/500], Training Loss: 73.2512\n",
      "Epoch [21/500], Step [1/6], Validation Loss: 102.9386\n",
      "Model on disk updated\n",
      "Epoch [21/500], Training Loss: 69.3207\n",
      "Epoch [22/500], Step [1/6], Validation Loss: 100.1466\n",
      "Model on disk updated\n",
      "Epoch [22/500], Training Loss: 61.6641\n",
      "Epoch [23/500], Step [1/6], Validation Loss: 91.7731\n",
      "Model on disk updated\n",
      "Epoch [23/500], Training Loss: 54.6451\n",
      "Epoch [24/500], Step [1/6], Validation Loss: 84.5735\n",
      "Model on disk updated\n",
      "Epoch [24/500], Training Loss: 52.4832\n",
      "Epoch [25/500], Step [1/6], Validation Loss: 82.1811\n",
      "Model on disk updated\n",
      "Epoch [25/500], Training Loss: 48.7056\n",
      "Epoch [26/500], Step [1/6], Validation Loss: 80.7589\n",
      "Model on disk updated\n",
      "Epoch [26/500], Training Loss: 45.5163\n",
      "Epoch [27/500], Step [1/6], Validation Loss: 73.7549\n",
      "Model on disk updated\n",
      "Epoch [27/500], Training Loss: 41.5127\n",
      "Epoch [28/500], Step [1/6], Validation Loss: 73.2773\n",
      "Model on disk updated\n",
      "Epoch [28/500], Training Loss: 43.2915\n",
      "Epoch [29/500], Step [1/6], Validation Loss: 78.9512\n",
      "Epoch [29/500], Training Loss: 52.9386\n",
      "Epoch [30/500], Step [1/6], Validation Loss: 99.5459\n",
      "Epoch [30/500], Training Loss: 57.9275\n",
      "Epoch [31/500], Step [1/6], Validation Loss: 76.3656\n",
      "Epoch [31/500], Training Loss: 48.4769\n",
      "Epoch [32/500], Step [1/6], Validation Loss: 79.4834\n",
      "Epoch [32/500], Training Loss: 40.0729\n",
      "Epoch [33/500], Step [1/6], Validation Loss: 61.8970\n",
      "Model on disk updated\n",
      "Epoch [33/500], Training Loss: 32.9911\n",
      "Epoch [34/500], Step [1/6], Validation Loss: 59.2385\n",
      "Model on disk updated\n",
      "Epoch [34/500], Training Loss: 31.7645\n",
      "Epoch [35/500], Step [1/6], Validation Loss: 57.1358\n",
      "Model on disk updated\n",
      "Epoch [35/500], Training Loss: 29.1162\n",
      "Epoch [36/500], Step [1/6], Validation Loss: 59.8886\n",
      "Epoch [36/500], Training Loss: 30.4222\n",
      "Epoch [37/500], Step [1/6], Validation Loss: 64.3603\n",
      "Epoch [37/500], Training Loss: 33.0157\n",
      "Epoch [38/500], Step [1/6], Validation Loss: 54.9663\n",
      "Model on disk updated\n",
      "Epoch [38/500], Training Loss: 26.2989\n",
      "Epoch [39/500], Step [1/6], Validation Loss: 55.4883\n",
      "Epoch [39/500], Training Loss: 26.6535\n",
      "Epoch [40/500], Step [1/6], Validation Loss: 53.0917\n",
      "Model on disk updated\n",
      "Epoch [40/500], Training Loss: 22.4519\n",
      "Epoch [41/500], Step [1/6], Validation Loss: 51.2593\n",
      "Model on disk updated\n",
      "Epoch [41/500], Training Loss: 22.0442\n",
      "Epoch [42/500], Step [1/6], Validation Loss: 50.3089\n",
      "Model on disk updated\n",
      "Epoch [42/500], Training Loss: 22.8810\n",
      "Epoch [43/500], Step [1/6], Validation Loss: 48.3308\n",
      "Model on disk updated\n",
      "Epoch [43/500], Training Loss: 20.1660\n",
      "Epoch [44/500], Step [1/6], Validation Loss: 48.3842\n",
      "Epoch [44/500], Training Loss: 19.4584\n",
      "Epoch [45/500], Step [1/6], Validation Loss: 46.3089\n",
      "Model on disk updated\n",
      "Epoch [45/500], Training Loss: 21.7469\n",
      "Epoch [46/500], Step [1/6], Validation Loss: 49.0845\n",
      "Epoch [46/500], Training Loss: 19.7053\n",
      "Epoch [47/500], Step [1/6], Validation Loss: 50.6809\n",
      "Epoch [47/500], Training Loss: 20.7303\n",
      "Epoch [48/500], Step [1/6], Validation Loss: 45.3511\n",
      "Model on disk updated\n",
      "Epoch [48/500], Training Loss: 20.3983\n",
      "Epoch [49/500], Step [1/6], Validation Loss: 49.3765\n",
      "Epoch [49/500], Training Loss: 18.4119\n",
      "Epoch [50/500], Step [1/6], Validation Loss: 47.5733\n",
      "Epoch [50/500], Training Loss: 18.4391\n",
      "Epoch [51/500], Step [1/6], Validation Loss: 43.6384\n",
      "Model on disk updated\n",
      "Epoch [51/500], Training Loss: 16.1821\n",
      "Epoch [52/500], Step [1/6], Validation Loss: 43.2076\n",
      "Model on disk updated\n",
      "Epoch [52/500], Training Loss: 18.1830\n",
      "Epoch [53/500], Step [1/6], Validation Loss: 44.6096\n",
      "Epoch [53/500], Training Loss: 19.6427\n",
      "Epoch [54/500], Step [1/6], Validation Loss: 56.9783\n",
      "Epoch [54/500], Training Loss: 21.8000\n",
      "Epoch [55/500], Step [1/6], Validation Loss: 48.9880\n",
      "Epoch [55/500], Training Loss: 21.9390\n",
      "Epoch [56/500], Step [1/6], Validation Loss: 40.5461\n",
      "Model on disk updated\n",
      "Epoch [56/500], Training Loss: 20.2470\n",
      "Epoch [57/500], Step [1/6], Validation Loss: 46.8404\n",
      "Epoch [57/500], Training Loss: 17.1200\n",
      "Epoch [58/500], Step [1/6], Validation Loss: 42.3785\n",
      "Epoch [58/500], Training Loss: 23.2474\n",
      "Epoch [59/500], Step [1/6], Validation Loss: 46.3913\n",
      "Epoch [59/500], Training Loss: 15.7525\n",
      "Epoch [60/500], Step [1/6], Validation Loss: 41.4542\n",
      "Epoch [60/500], Training Loss: 17.5906\n",
      "Epoch [61/500], Step [1/6], Validation Loss: 40.1414\n",
      "Model on disk updated\n",
      "Epoch [61/500], Training Loss: 13.5391\n",
      "Epoch [62/500], Step [1/6], Validation Loss: 40.6407\n",
      "Epoch [62/500], Training Loss: 12.8245\n",
      "Epoch [63/500], Step [1/6], Validation Loss: 39.6207\n",
      "Model on disk updated\n",
      "Epoch [63/500], Training Loss: 12.1086\n",
      "Epoch [64/500], Step [1/6], Validation Loss: 38.9528\n",
      "Model on disk updated\n",
      "Epoch [64/500], Training Loss: 11.6987\n",
      "Epoch [65/500], Step [1/6], Validation Loss: 38.6152\n",
      "Model on disk updated\n",
      "Epoch [65/500], Training Loss: 11.9221\n",
      "Epoch [66/500], Step [1/6], Validation Loss: 38.1568\n",
      "Model on disk updated\n",
      "Epoch [66/500], Training Loss: 10.4305\n",
      "Epoch [67/500], Step [1/6], Validation Loss: 36.0477\n",
      "Model on disk updated\n",
      "Epoch [67/500], Training Loss: 10.4904\n",
      "Epoch [68/500], Step [1/6], Validation Loss: 38.5679\n",
      "Epoch [68/500], Training Loss: 14.4369\n",
      "Epoch [69/500], Step [1/6], Validation Loss: 48.5098\n",
      "Epoch [69/500], Training Loss: 16.6846\n",
      "Epoch [70/500], Step [1/6], Validation Loss: 43.9302\n",
      "Epoch [70/500], Training Loss: 12.4522\n",
      "Epoch [71/500], Step [1/6], Validation Loss: 39.1923\n",
      "Epoch [71/500], Training Loss: 13.0333\n",
      "Epoch [72/500], Step [1/6], Validation Loss: 36.5168\n",
      "Epoch [72/500], Training Loss: 13.5285\n",
      "Epoch [73/500], Step [1/6], Validation Loss: 35.0804\n",
      "Model on disk updated\n",
      "Epoch [73/500], Training Loss: 16.0582\n",
      "Epoch [74/500], Step [1/6], Validation Loss: 40.7413\n",
      "Epoch [74/500], Training Loss: 11.8248\n",
      "Epoch [75/500], Step [1/6], Validation Loss: 37.6895\n",
      "Epoch [75/500], Training Loss: 11.1359\n",
      "Epoch [76/500], Step [1/6], Validation Loss: 37.6611\n",
      "Epoch [76/500], Training Loss: 9.3754\n",
      "Epoch [77/500], Step [1/6], Validation Loss: 39.7991\n",
      "Epoch [77/500], Training Loss: 10.7470\n",
      "Epoch [78/500], Step [1/6], Validation Loss: 35.2335\n",
      "Epoch [78/500], Training Loss: 13.4412\n",
      "Epoch [79/500], Step [1/6], Validation Loss: 38.8785\n",
      "Epoch [79/500], Training Loss: 16.7452\n",
      "Epoch [80/500], Step [1/6], Validation Loss: 51.9983\n",
      "Epoch [80/500], Training Loss: 17.1189\n",
      "Epoch [81/500], Step [1/6], Validation Loss: 39.3734\n",
      "Epoch [81/500], Training Loss: 18.3918\n",
      "Epoch [82/500], Step [1/6], Validation Loss: 45.3482\n",
      "Epoch [82/500], Training Loss: 12.7411\n",
      "Epoch [83/500], Step [1/6], Validation Loss: 33.6187\n",
      "Model on disk updated\n",
      "Epoch [83/500], Training Loss: 10.9775\n",
      "Epoch [84/500], Step [1/6], Validation Loss: 35.5183\n",
      "Epoch [84/500], Training Loss: 8.9485\n",
      "Epoch [85/500], Step [1/6], Validation Loss: 32.0528\n",
      "Model on disk updated\n",
      "Epoch [85/500], Training Loss: 7.6213\n",
      "Epoch [86/500], Step [1/6], Validation Loss: 31.6713\n",
      "Model on disk updated\n",
      "Epoch [86/500], Training Loss: 6.8138\n",
      "Epoch [87/500], Step [1/6], Validation Loss: 32.6808\n",
      "Epoch [87/500], Training Loss: 7.0822\n",
      "Epoch [88/500], Step [1/6], Validation Loss: 31.7745\n",
      "Epoch [88/500], Training Loss: 8.7115\n",
      "Epoch [89/500], Step [1/6], Validation Loss: 35.4173\n",
      "Epoch [89/500], Training Loss: 9.8046\n",
      "Epoch [90/500], Step [1/6], Validation Loss: 40.7238\n",
      "Epoch [90/500], Training Loss: 13.2451\n",
      "Epoch [91/500], Step [1/6], Validation Loss: 38.1975\n",
      "Epoch [91/500], Training Loss: 11.5949\n",
      "Epoch [92/500], Step [1/6], Validation Loss: 33.8963\n",
      "Epoch [92/500], Training Loss: 8.0589\n",
      "Epoch [93/500], Step [1/6], Validation Loss: 30.5170\n",
      "Model on disk updated\n",
      "Epoch [93/500], Training Loss: 6.6979\n",
      "Epoch [94/500], Step [1/6], Validation Loss: 31.4160\n",
      "Epoch [94/500], Training Loss: 6.5958\n",
      "Epoch [95/500], Step [1/6], Validation Loss: 30.0042\n",
      "Model on disk updated\n",
      "Epoch [95/500], Training Loss: 6.2012\n",
      "Epoch [96/500], Step [1/6], Validation Loss: 33.5141\n",
      "Epoch [96/500], Training Loss: 6.2106\n",
      "Epoch [97/500], Step [1/6], Validation Loss: 29.7387\n",
      "Model on disk updated\n",
      "Epoch [97/500], Training Loss: 5.6842\n",
      "Epoch [98/500], Step [1/6], Validation Loss: 30.5847\n",
      "Epoch [98/500], Training Loss: 6.4269\n",
      "Epoch [99/500], Step [1/6], Validation Loss: 30.6053\n",
      "Epoch [99/500], Training Loss: 7.2722\n",
      "Epoch [100/500], Step [1/6], Validation Loss: 34.4210\n",
      "Epoch [100/500], Training Loss: 8.4565\n",
      "Epoch [101/500], Step [1/6], Validation Loss: 38.3181\n",
      "Epoch [101/500], Training Loss: 10.6118\n",
      "Epoch [102/500], Step [1/6], Validation Loss: 36.2670\n",
      "Epoch [102/500], Training Loss: 13.6807\n",
      "Epoch [103/500], Step [1/6], Validation Loss: 31.1740\n",
      "Epoch [103/500], Training Loss: 9.0334\n",
      "Epoch [104/500], Step [1/6], Validation Loss: 37.3048\n",
      "Epoch [104/500], Training Loss: 10.4526\n",
      "Epoch [105/500], Step [1/6], Validation Loss: 31.7755\n",
      "Epoch [105/500], Training Loss: 9.6007\n",
      "Epoch [106/500], Step [1/6], Validation Loss: 30.1549\n",
      "Epoch [106/500], Training Loss: 8.1534\n",
      "Epoch [107/500], Step [1/6], Validation Loss: 36.5933\n",
      "Epoch [107/500], Training Loss: 8.3577\n",
      "Epoch [108/500], Step [1/6], Validation Loss: 30.2656\n",
      "Epoch [108/500], Training Loss: 7.7280\n",
      "Epoch [109/500], Step [1/6], Validation Loss: 31.0140\n",
      "Epoch [109/500], Training Loss: 5.8499\n",
      "Epoch [110/500], Step [1/6], Validation Loss: 29.0995\n",
      "Model on disk updated\n",
      "Epoch [110/500], Training Loss: 5.1423\n",
      "Epoch [111/500], Step [1/6], Validation Loss: 28.2199\n",
      "Model on disk updated\n",
      "Epoch [111/500], Training Loss: 4.6278\n",
      "Epoch [112/500], Step [1/6], Validation Loss: 29.5810\n",
      "Epoch [112/500], Training Loss: 4.7123\n",
      "Epoch [113/500], Step [1/6], Validation Loss: 28.2372\n",
      "Epoch [113/500], Training Loss: 4.5479\n",
      "Epoch [114/500], Step [1/6], Validation Loss: 28.9100\n",
      "Epoch [114/500], Training Loss: 4.9388\n",
      "Epoch [115/500], Step [1/6], Validation Loss: 30.5039\n",
      "Epoch [115/500], Training Loss: 5.4638\n",
      "Epoch [116/500], Step [1/6], Validation Loss: 28.7954\n",
      "Epoch [116/500], Training Loss: 4.7431\n",
      "Epoch [117/500], Step [1/6], Validation Loss: 27.8208\n",
      "Model on disk updated\n",
      "Epoch [117/500], Training Loss: 4.2599\n",
      "Epoch [118/500], Step [1/6], Validation Loss: 26.8516\n",
      "Model on disk updated\n",
      "Epoch [118/500], Training Loss: 4.7292\n",
      "Epoch [119/500], Step [1/6], Validation Loss: 28.9529\n",
      "Epoch [119/500], Training Loss: 4.4093\n",
      "Epoch [120/500], Step [1/6], Validation Loss: 28.9484\n",
      "Epoch [120/500], Training Loss: 4.9921\n",
      "Epoch [121/500], Step [1/6], Validation Loss: 28.9719\n",
      "Epoch [121/500], Training Loss: 5.6774\n",
      "Epoch [122/500], Step [1/6], Validation Loss: 28.8158\n",
      "Epoch [122/500], Training Loss: 4.9474\n",
      "Epoch [123/500], Step [1/6], Validation Loss: 30.8010\n",
      "Epoch [123/500], Training Loss: 5.3425\n",
      "Epoch [124/500], Step [1/6], Validation Loss: 32.3709\n",
      "Epoch [124/500], Training Loss: 6.1979\n",
      "Epoch [125/500], Step [1/6], Validation Loss: 32.2226\n",
      "Epoch [125/500], Training Loss: 6.2821\n",
      "Epoch [126/500], Step [1/6], Validation Loss: 28.3032\n",
      "Epoch [126/500], Training Loss: 7.2080\n",
      "Epoch [127/500], Step [1/6], Validation Loss: 35.4326\n",
      "Epoch [127/500], Training Loss: 7.0012\n",
      "Epoch [128/500], Step [1/6], Validation Loss: 27.7955\n",
      "Epoch [128/500], Training Loss: 8.4501\n",
      "Epoch [129/500], Step [1/6], Validation Loss: 35.7108\n",
      "Epoch [129/500], Training Loss: 10.7575\n",
      "Epoch [130/500], Step [1/6], Validation Loss: 34.2142\n",
      "Epoch [130/500], Training Loss: 14.3154\n",
      "Epoch [131/500], Step [1/6], Validation Loss: 37.3589\n",
      "Epoch [131/500], Training Loss: 11.3564\n",
      "Epoch [132/500], Step [1/6], Validation Loss: 32.3172\n",
      "Epoch [132/500], Training Loss: 7.7601\n",
      "Epoch [133/500], Step [1/6], Validation Loss: 34.1726\n",
      "Epoch [133/500], Training Loss: 6.7891\n",
      "Epoch [134/500], Step [1/6], Validation Loss: 31.9859\n",
      "Epoch [134/500], Training Loss: 6.2996\n",
      "Epoch [135/500], Step [1/6], Validation Loss: 26.8226\n",
      "Model on disk updated\n",
      "Epoch [135/500], Training Loss: 4.4111\n",
      "Epoch [136/500], Step [1/6], Validation Loss: 28.5920\n",
      "Epoch [136/500], Training Loss: 5.0173\n",
      "Epoch [137/500], Step [1/6], Validation Loss: 28.0447\n",
      "Epoch [137/500], Training Loss: 7.4814\n",
      "Epoch [138/500], Step [1/6], Validation Loss: 32.9248\n",
      "Epoch [138/500], Training Loss: 7.4979\n",
      "Epoch [139/500], Step [1/6], Validation Loss: 35.9279\n",
      "Epoch [139/500], Training Loss: 7.9014\n",
      "Epoch [140/500], Step [1/6], Validation Loss: 32.1405\n",
      "Epoch [140/500], Training Loss: 9.7265\n",
      "Epoch [141/500], Step [1/6], Validation Loss: 35.6703\n",
      "Epoch [141/500], Training Loss: 8.9280\n",
      "Epoch [142/500], Step [1/6], Validation Loss: 37.5595\n",
      "Epoch [142/500], Training Loss: 12.0520\n",
      "Epoch [143/500], Step [1/6], Validation Loss: 33.6815\n",
      "Epoch [143/500], Training Loss: 15.6678\n",
      "Epoch [144/500], Step [1/6], Validation Loss: 46.6608\n",
      "Epoch [144/500], Training Loss: 13.0845\n",
      "Epoch [145/500], Step [1/6], Validation Loss: 33.4923\n",
      "Epoch [145/500], Training Loss: 9.8752\n",
      "Epoch [146/500], Step [1/6], Validation Loss: 29.7484\n",
      "Epoch [146/500], Training Loss: 7.8250\n",
      "Epoch [147/500], Step [1/6], Validation Loss: 32.7047\n",
      "Epoch [147/500], Training Loss: 7.9832\n",
      "Epoch [148/500], Step [1/6], Validation Loss: 27.3978\n",
      "Epoch [148/500], Training Loss: 5.7908\n",
      "Epoch [149/500], Step [1/6], Validation Loss: 29.5234\n",
      "Epoch [149/500], Training Loss: 5.7841\n",
      "Epoch [150/500], Step [1/6], Validation Loss: 32.1676\n",
      "Epoch [150/500], Training Loss: 5.2196\n",
      "Epoch [151/500], Step [1/6], Validation Loss: 30.2213\n",
      "Epoch [151/500], Training Loss: 6.5935\n",
      "Epoch [152/500], Step [1/6], Validation Loss: 31.1393\n",
      "Epoch [152/500], Training Loss: 5.9763\n",
      "Epoch [153/500], Step [1/6], Validation Loss: 28.5037\n",
      "Epoch [153/500], Training Loss: 5.9082\n",
      "Epoch [154/500], Step [1/6], Validation Loss: 28.4407\n",
      "Epoch [154/500], Training Loss: 4.2266\n",
      "Epoch [155/500], Step [1/6], Validation Loss: 26.9136\n",
      "Epoch [155/500], Training Loss: 3.7856\n",
      "Epoch [156/500], Step [1/6], Validation Loss: 27.1197\n",
      "Epoch [156/500], Training Loss: 3.1234\n",
      "Epoch [157/500], Step [1/6], Validation Loss: 26.1188\n",
      "Model on disk updated\n",
      "Epoch [157/500], Training Loss: 2.9861\n",
      "Epoch [158/500], Step [1/6], Validation Loss: 27.6810\n",
      "Epoch [158/500], Training Loss: 3.3255\n",
      "Epoch [159/500], Step [1/6], Validation Loss: 26.1012\n",
      "Model on disk updated\n",
      "Epoch [159/500], Training Loss: 2.8304\n",
      "Epoch [160/500], Step [1/6], Validation Loss: 25.6317\n",
      "Model on disk updated\n",
      "Epoch [160/500], Training Loss: 2.5163\n",
      "Epoch [161/500], Step [1/6], Validation Loss: 26.5565\n",
      "Epoch [161/500], Training Loss: 2.5771\n",
      "Epoch [162/500], Step [1/6], Validation Loss: 26.0234\n",
      "Epoch [162/500], Training Loss: 2.6843\n",
      "Epoch [163/500], Step [1/6], Validation Loss: 25.4974\n",
      "Model on disk updated\n",
      "Epoch [163/500], Training Loss: 2.8345\n",
      "Epoch [164/500], Step [1/6], Validation Loss: 26.1861\n",
      "Epoch [164/500], Training Loss: 2.9313\n",
      "Epoch [165/500], Step [1/6], Validation Loss: 25.1479\n",
      "Model on disk updated\n",
      "Epoch [165/500], Training Loss: 2.6631\n",
      "Epoch [166/500], Step [1/6], Validation Loss: 25.2009\n",
      "Epoch [166/500], Training Loss: 2.5038\n",
      "Epoch [167/500], Step [1/6], Validation Loss: 26.0194\n",
      "Epoch [167/500], Training Loss: 2.5073\n",
      "Epoch [168/500], Step [1/6], Validation Loss: 25.6841\n",
      "Epoch [168/500], Training Loss: 2.3929\n",
      "Epoch [169/500], Step [1/6], Validation Loss: 26.7285\n",
      "Epoch [169/500], Training Loss: 2.6784\n",
      "Epoch [170/500], Step [1/6], Validation Loss: 25.9162\n",
      "Epoch [170/500], Training Loss: 2.6957\n",
      "Epoch [171/500], Step [1/6], Validation Loss: 27.5645\n",
      "Epoch [171/500], Training Loss: 2.9290\n",
      "Epoch [172/500], Step [1/6], Validation Loss: 24.6053\n",
      "Model on disk updated\n",
      "Epoch [172/500], Training Loss: 2.3287\n",
      "Epoch [173/500], Step [1/6], Validation Loss: 26.2113\n",
      "Epoch [173/500], Training Loss: 2.9515\n",
      "Epoch [174/500], Step [1/6], Validation Loss: 25.1166\n",
      "Epoch [174/500], Training Loss: 2.6047\n",
      "Epoch [175/500], Step [1/6], Validation Loss: 26.0697\n",
      "Epoch [175/500], Training Loss: 3.4527\n",
      "Epoch [176/500], Step [1/6], Validation Loss: 29.2891\n",
      "Epoch [176/500], Training Loss: 4.8740\n",
      "Epoch [177/500], Step [1/6], Validation Loss: 26.7899\n",
      "Epoch [177/500], Training Loss: 3.9304\n",
      "Epoch [178/500], Step [1/6], Validation Loss: 25.5475\n",
      "Epoch [178/500], Training Loss: 3.0316\n",
      "Epoch [179/500], Step [1/6], Validation Loss: 26.4477\n",
      "Epoch [179/500], Training Loss: 2.3863\n",
      "Epoch [180/500], Step [1/6], Validation Loss: 25.0330\n",
      "Epoch [180/500], Training Loss: 2.2855\n",
      "Epoch [181/500], Step [1/6], Validation Loss: 26.7867\n",
      "Epoch [181/500], Training Loss: 2.5308\n",
      "Epoch [182/500], Step [1/6], Validation Loss: 24.4790\n",
      "Model on disk updated\n",
      "Epoch [182/500], Training Loss: 2.4958\n",
      "Epoch [183/500], Step [1/6], Validation Loss: 26.5507\n",
      "Epoch [183/500], Training Loss: 2.4191\n",
      "Epoch [184/500], Step [1/6], Validation Loss: 25.3218\n",
      "Epoch [184/500], Training Loss: 2.6256\n",
      "Epoch [185/500], Step [1/6], Validation Loss: 25.9530\n",
      "Epoch [185/500], Training Loss: 2.8702\n",
      "Epoch [186/500], Step [1/6], Validation Loss: 25.1553\n",
      "Epoch [186/500], Training Loss: 2.3691\n",
      "Epoch [187/500], Step [1/6], Validation Loss: 24.6970\n",
      "Epoch [187/500], Training Loss: 2.1423\n",
      "Epoch [188/500], Step [1/6], Validation Loss: 26.2979\n",
      "Epoch [188/500], Training Loss: 2.2752\n",
      "Epoch [189/500], Step [1/6], Validation Loss: 24.7583\n",
      "Epoch [189/500], Training Loss: 1.9701\n",
      "Epoch [190/500], Step [1/6], Validation Loss: 24.3736\n",
      "Model on disk updated\n",
      "Epoch [190/500], Training Loss: 2.1230\n",
      "Epoch [191/500], Step [1/6], Validation Loss: 23.9636\n",
      "Model on disk updated\n",
      "Epoch [191/500], Training Loss: 2.0052\n",
      "Epoch [192/500], Step [1/6], Validation Loss: 25.6611\n",
      "Epoch [192/500], Training Loss: 1.9552\n",
      "Epoch [193/500], Step [1/6], Validation Loss: 24.2249\n",
      "Epoch [193/500], Training Loss: 2.0643\n",
      "Epoch [194/500], Step [1/6], Validation Loss: 26.2147\n",
      "Epoch [194/500], Training Loss: 3.2415\n",
      "Epoch [195/500], Step [1/6], Validation Loss: 25.0345\n",
      "Epoch [195/500], Training Loss: 2.5016\n",
      "Epoch [196/500], Step [1/6], Validation Loss: 24.2999\n",
      "Epoch [196/500], Training Loss: 2.5793\n",
      "Epoch [197/500], Step [1/6], Validation Loss: 28.4120\n",
      "Epoch [197/500], Training Loss: 2.5729\n",
      "Epoch [198/500], Step [1/6], Validation Loss: 24.0014\n",
      "Epoch [198/500], Training Loss: 2.9962\n",
      "Epoch [199/500], Step [1/6], Validation Loss: 24.2317\n",
      "Epoch [199/500], Training Loss: 2.4946\n",
      "Epoch [200/500], Step [1/6], Validation Loss: 25.5780\n",
      "Epoch [200/500], Training Loss: 2.4577\n",
      "Epoch [201/500], Step [1/6], Validation Loss: 26.9222\n",
      "Epoch [201/500], Training Loss: 4.6626\n",
      "Epoch [202/500], Step [1/6], Validation Loss: 28.0262\n",
      "Epoch [202/500], Training Loss: 6.8086\n",
      "Epoch [203/500], Step [1/6], Validation Loss: 28.5476\n",
      "Epoch [203/500], Training Loss: 6.8713\n",
      "Epoch [204/500], Step [1/6], Validation Loss: 25.8682\n",
      "Epoch [204/500], Training Loss: 4.2203\n",
      "Epoch [205/500], Step [1/6], Validation Loss: 26.2524\n",
      "Epoch [205/500], Training Loss: 3.0517\n",
      "Epoch [206/500], Step [1/6], Validation Loss: 25.2394\n",
      "Epoch [206/500], Training Loss: 3.3225\n",
      "Epoch [207/500], Step [1/6], Validation Loss: 23.9605\n",
      "Model on disk updated\n",
      "Epoch [207/500], Training Loss: 2.6890\n",
      "Epoch [208/500], Step [1/6], Validation Loss: 25.2149\n",
      "Epoch [208/500], Training Loss: 3.1126\n",
      "Epoch [209/500], Step [1/6], Validation Loss: 24.3882\n",
      "Epoch [209/500], Training Loss: 3.7214\n",
      "Epoch [210/500], Step [1/6], Validation Loss: 24.8841\n",
      "Epoch [210/500], Training Loss: 3.4413\n",
      "Epoch [211/500], Step [1/6], Validation Loss: 27.2320\n",
      "Epoch [211/500], Training Loss: 2.5529\n",
      "Epoch [212/500], Step [1/6], Validation Loss: 24.4294\n",
      "Epoch [212/500], Training Loss: 2.0504\n",
      "Epoch [213/500], Step [1/6], Validation Loss: 24.8189\n",
      "Epoch [213/500], Training Loss: 1.8412\n",
      "Epoch [214/500], Step [1/6], Validation Loss: 25.3382\n",
      "Epoch [214/500], Training Loss: 1.6791\n",
      "Epoch [215/500], Step [1/6], Validation Loss: 23.8894\n",
      "Model on disk updated\n",
      "Epoch [215/500], Training Loss: 1.8739\n",
      "Epoch [216/500], Step [1/6], Validation Loss: 26.9064\n",
      "Epoch [216/500], Training Loss: 1.9674\n",
      "Epoch [217/500], Step [1/6], Validation Loss: 23.8167\n",
      "Model on disk updated\n",
      "Epoch [217/500], Training Loss: 1.6156\n",
      "Epoch [218/500], Step [1/6], Validation Loss: 24.0991\n",
      "Epoch [218/500], Training Loss: 2.1300\n",
      "Epoch [219/500], Step [1/6], Validation Loss: 25.8173\n",
      "Epoch [219/500], Training Loss: 2.3177\n",
      "Epoch [220/500], Step [1/6], Validation Loss: 23.9625\n",
      "Epoch [220/500], Training Loss: 2.1729\n",
      "Epoch [221/500], Step [1/6], Validation Loss: 23.8025\n",
      "Model on disk updated\n",
      "Epoch [221/500], Training Loss: 1.9790\n",
      "Epoch [222/500], Step [1/6], Validation Loss: 25.6041\n",
      "Epoch [222/500], Training Loss: 1.9699\n",
      "Epoch [223/500], Step [1/6], Validation Loss: 23.5767\n",
      "Model on disk updated\n",
      "Epoch [223/500], Training Loss: 2.7028\n",
      "Epoch [224/500], Step [1/6], Validation Loss: 24.7208\n",
      "Epoch [224/500], Training Loss: 2.2640\n",
      "Epoch [225/500], Step [1/6], Validation Loss: 28.4587\n",
      "Epoch [225/500], Training Loss: 2.5935\n",
      "Epoch [226/500], Step [1/6], Validation Loss: 24.2140\n",
      "Epoch [226/500], Training Loss: 2.1891\n",
      "Epoch [227/500], Step [1/6], Validation Loss: 24.3657\n",
      "Epoch [227/500], Training Loss: 1.8901\n",
      "Epoch [228/500], Step [1/6], Validation Loss: 25.4943\n",
      "Epoch [228/500], Training Loss: 1.5869\n",
      "Epoch [229/500], Step [1/6], Validation Loss: 24.2983\n",
      "Epoch [229/500], Training Loss: 1.5981\n",
      "Epoch [230/500], Step [1/6], Validation Loss: 25.4868\n",
      "Epoch [230/500], Training Loss: 1.8731\n",
      "Epoch [231/500], Step [1/6], Validation Loss: 24.3813\n",
      "Epoch [231/500], Training Loss: 2.3610\n",
      "Epoch [232/500], Step [1/6], Validation Loss: 26.5669\n",
      "Epoch [232/500], Training Loss: 4.1736\n",
      "Epoch [233/500], Step [1/6], Validation Loss: 28.3871\n",
      "Epoch [233/500], Training Loss: 3.9279\n",
      "Epoch [234/500], Step [1/6], Validation Loss: 23.9999\n",
      "Epoch [234/500], Training Loss: 2.3276\n",
      "Epoch [235/500], Step [1/6], Validation Loss: 23.3747\n",
      "Model on disk updated\n",
      "Epoch [235/500], Training Loss: 2.3364\n",
      "Epoch [236/500], Step [1/6], Validation Loss: 23.7529\n",
      "Epoch [236/500], Training Loss: 2.0883\n",
      "Epoch [237/500], Step [1/6], Validation Loss: 25.1964\n",
      "Epoch [237/500], Training Loss: 2.0821\n",
      "Epoch [238/500], Step [1/6], Validation Loss: 27.7703\n",
      "Epoch [238/500], Training Loss: 2.9658\n",
      "Epoch [239/500], Step [1/6], Validation Loss: 24.3817\n",
      "Epoch [239/500], Training Loss: 2.0397\n",
      "Epoch [240/500], Step [1/6], Validation Loss: 25.4521\n",
      "Epoch [240/500], Training Loss: 2.0112\n",
      "Epoch [241/500], Step [1/6], Validation Loss: 27.6601\n",
      "Epoch [241/500], Training Loss: 2.1381\n",
      "Epoch [242/500], Step [1/6], Validation Loss: 26.1663\n",
      "Epoch [242/500], Training Loss: 3.1619\n",
      "Epoch [243/500], Step [1/6], Validation Loss: 25.1395\n",
      "Epoch [243/500], Training Loss: 4.4872\n",
      "Epoch [244/500], Step [1/6], Validation Loss: 31.7651\n",
      "Epoch [244/500], Training Loss: 5.3614\n",
      "Epoch [245/500], Step [1/6], Validation Loss: 24.5051\n",
      "Epoch [245/500], Training Loss: 2.9437\n",
      "Epoch [246/500], Step [1/6], Validation Loss: 25.3150\n",
      "Epoch [246/500], Training Loss: 2.8497\n",
      "Epoch [247/500], Step [1/6], Validation Loss: 29.0739\n",
      "Epoch [247/500], Training Loss: 3.1698\n",
      "Epoch [248/500], Step [1/6], Validation Loss: 27.6786\n",
      "Epoch [248/500], Training Loss: 3.1744\n",
      "Epoch [249/500], Step [1/6], Validation Loss: 27.3672\n",
      "Epoch [249/500], Training Loss: 2.4367\n",
      "Epoch [250/500], Step [1/6], Validation Loss: 26.2199\n",
      "Epoch [250/500], Training Loss: 3.1969\n",
      "Epoch [251/500], Step [1/6], Validation Loss: 26.5451\n",
      "Epoch [251/500], Training Loss: 3.1896\n",
      "Epoch [252/500], Step [1/6], Validation Loss: 26.6646\n",
      "Epoch [252/500], Training Loss: 5.5599\n",
      "Epoch [253/500], Step [1/6], Validation Loss: 31.7446\n",
      "Epoch [253/500], Training Loss: 3.0583\n",
      "Epoch [254/500], Step [1/6], Validation Loss: 26.1288\n",
      "Epoch [254/500], Training Loss: 2.5756\n",
      "Epoch [255/500], Step [1/6], Validation Loss: 25.6772\n",
      "Epoch [255/500], Training Loss: 2.4927\n",
      "Epoch [256/500], Step [1/6], Validation Loss: 25.6454\n",
      "Epoch [256/500], Training Loss: 2.0842\n",
      "Epoch [257/500], Step [1/6], Validation Loss: 23.8219\n",
      "Epoch [257/500], Training Loss: 2.7694\n",
      "Epoch [258/500], Step [1/6], Validation Loss: 31.4274\n",
      "Epoch [258/500], Training Loss: 3.5250\n",
      "Epoch [259/500], Step [1/6], Validation Loss: 24.0800\n",
      "Epoch [259/500], Training Loss: 1.8973\n",
      "Epoch [260/500], Step [1/6], Validation Loss: 24.6342\n",
      "Epoch [260/500], Training Loss: 2.0114\n",
      "Epoch [261/500], Step [1/6], Validation Loss: 24.7975\n",
      "Epoch [261/500], Training Loss: 2.0199\n",
      "Epoch [262/500], Step [1/6], Validation Loss: 25.1656\n",
      "Epoch [262/500], Training Loss: 1.6181\n",
      "Epoch [263/500], Step [1/6], Validation Loss: 25.5192\n",
      "Epoch [263/500], Training Loss: 1.5372\n",
      "Epoch [264/500], Step [1/6], Validation Loss: 25.8551\n",
      "Epoch [264/500], Training Loss: 2.1150\n",
      "Epoch [265/500], Step [1/6], Validation Loss: 23.9408\n",
      "Epoch [265/500], Training Loss: 1.7253\n",
      "Epoch [266/500], Step [1/6], Validation Loss: 26.5813\n",
      "Epoch [266/500], Training Loss: 2.2557\n",
      "Epoch [267/500], Step [1/6], Validation Loss: 23.6771\n",
      "Epoch [267/500], Training Loss: 2.0212\n",
      "Epoch [268/500], Step [1/6], Validation Loss: 23.3846\n",
      "Epoch [268/500], Training Loss: 1.5886\n",
      "Epoch [269/500], Step [1/6], Validation Loss: 24.9208\n",
      "Epoch [269/500], Training Loss: 2.4429\n",
      "Epoch [270/500], Step [1/6], Validation Loss: 25.2230\n",
      "Epoch [270/500], Training Loss: 3.7565\n",
      "Epoch [271/500], Step [1/6], Validation Loss: 29.3736\n",
      "Epoch [271/500], Training Loss: 5.2911\n",
      "Epoch [272/500], Step [1/6], Validation Loss: 24.8387\n",
      "Epoch [272/500], Training Loss: 3.3595\n",
      "Epoch [273/500], Step [1/6], Validation Loss: 25.2433\n",
      "Epoch [273/500], Training Loss: 2.3760\n",
      "Epoch [274/500], Step [1/6], Validation Loss: 27.9640\n",
      "Epoch [274/500], Training Loss: 3.6101\n",
      "Epoch [275/500], Step [1/6], Validation Loss: 26.8155\n",
      "Epoch [275/500], Training Loss: 2.2817\n",
      "Epoch [276/500], Step [1/6], Validation Loss: 24.1356\n",
      "Epoch [276/500], Training Loss: 1.6426\n",
      "Epoch [277/500], Step [1/6], Validation Loss: 24.2675\n",
      "Epoch [277/500], Training Loss: 1.3689\n",
      "Epoch [278/500], Step [1/6], Validation Loss: 23.6896\n",
      "Epoch [278/500], Training Loss: 1.1167\n",
      "Epoch [279/500], Step [1/6], Validation Loss: 24.1447\n",
      "Epoch [279/500], Training Loss: 1.0072\n",
      "Epoch [280/500], Step [1/6], Validation Loss: 24.0267\n",
      "Epoch [280/500], Training Loss: 1.0973\n",
      "Epoch [281/500], Step [1/6], Validation Loss: 23.6304\n",
      "Epoch [281/500], Training Loss: 1.6006\n",
      "Epoch [282/500], Step [1/6], Validation Loss: 28.2168\n",
      "Epoch [282/500], Training Loss: 3.4818\n",
      "Epoch [283/500], Step [1/6], Validation Loss: 26.3328\n",
      "Epoch [283/500], Training Loss: 2.4915\n",
      "Epoch [284/500], Step [1/6], Validation Loss: 24.5019\n",
      "Epoch [284/500], Training Loss: 2.4587\n",
      "Epoch [285/500], Step [1/6], Validation Loss: 28.1681\n",
      "Epoch [285/500], Training Loss: 3.4367\n",
      "Epoch [286/500], Step [1/6], Validation Loss: 28.2542\n",
      "Epoch [286/500], Training Loss: 4.6312\n",
      "Epoch [287/500], Step [1/6], Validation Loss: 29.2236\n",
      "Epoch [287/500], Training Loss: 4.7516\n",
      "Epoch [288/500], Step [1/6], Validation Loss: 27.7606\n",
      "Epoch [288/500], Training Loss: 8.0566\n",
      "Epoch [289/500], Step [1/6], Validation Loss: 24.2153\n",
      "Epoch [289/500], Training Loss: 13.2396\n",
      "Epoch [290/500], Step [1/6], Validation Loss: 37.5663\n",
      "Epoch [290/500], Training Loss: 12.6039\n",
      "Epoch [291/500], Step [1/6], Validation Loss: 28.2883\n",
      "Epoch [291/500], Training Loss: 8.3828\n",
      "Epoch [292/500], Step [1/6], Validation Loss: 29.9642\n",
      "Epoch [292/500], Training Loss: 4.9825\n",
      "Epoch [293/500], Step [1/6], Validation Loss: 25.6544\n",
      "Epoch [293/500], Training Loss: 2.5927\n",
      "Epoch [294/500], Step [1/6], Validation Loss: 24.0901\n",
      "Epoch [294/500], Training Loss: 2.6829\n",
      "Epoch [295/500], Step [1/6], Validation Loss: 23.9268\n",
      "Epoch [295/500], Training Loss: 2.0990\n",
      "Epoch [296/500], Step [1/6], Validation Loss: 23.9678\n",
      "Epoch [296/500], Training Loss: 1.9276\n",
      "Epoch [297/500], Step [1/6], Validation Loss: 24.1017\n",
      "Epoch [297/500], Training Loss: 1.8118\n",
      "Epoch [298/500], Step [1/6], Validation Loss: 23.5518\n",
      "Epoch [298/500], Training Loss: 1.3496\n",
      "Epoch [299/500], Step [1/6], Validation Loss: 24.5717\n",
      "Epoch [299/500], Training Loss: 1.3412\n",
      "Epoch [300/500], Step [1/6], Validation Loss: 24.2824\n",
      "Epoch [300/500], Training Loss: 1.5133\n",
      "Epoch [301/500], Step [1/6], Validation Loss: 23.8347\n",
      "Epoch [301/500], Training Loss: 1.2524\n",
      "Epoch [302/500], Step [1/6], Validation Loss: 24.9971\n",
      "Epoch [302/500], Training Loss: 1.2311\n",
      "Epoch [303/500], Step [1/6], Validation Loss: 23.6031\n",
      "Epoch [303/500], Training Loss: 1.5442\n",
      "Epoch [304/500], Step [1/6], Validation Loss: 23.9017\n",
      "Epoch [304/500], Training Loss: 1.5864\n",
      "Epoch [305/500], Step [1/6], Validation Loss: 24.5662\n",
      "Epoch [305/500], Training Loss: 1.5895\n",
      "Epoch [306/500], Step [1/6], Validation Loss: 24.6992\n",
      "Epoch [306/500], Training Loss: 1.1606\n",
      "Epoch [307/500], Step [1/6], Validation Loss: 25.1532\n",
      "Epoch [307/500], Training Loss: 1.2225\n",
      "Epoch [308/500], Step [1/6], Validation Loss: 25.0476\n",
      "Epoch [308/500], Training Loss: 1.2851\n",
      "Epoch [309/500], Step [1/6], Validation Loss: 23.6457\n",
      "Epoch [309/500], Training Loss: 1.0301\n",
      "Epoch [310/500], Step [1/6], Validation Loss: 23.4929\n",
      "Epoch [310/500], Training Loss: 0.8669\n",
      "Epoch [311/500], Step [1/6], Validation Loss: 23.3530\n",
      "Model on disk updated\n",
      "Epoch [311/500], Training Loss: 0.8352\n",
      "Epoch [312/500], Step [1/6], Validation Loss: 25.1294\n",
      "Epoch [312/500], Training Loss: 1.2524\n",
      "Epoch [313/500], Step [1/6], Validation Loss: 24.2806\n",
      "Epoch [313/500], Training Loss: 1.0271\n",
      "Epoch [314/500], Step [1/6], Validation Loss: 23.9916\n",
      "Epoch [314/500], Training Loss: 0.9612\n",
      "Epoch [315/500], Step [1/6], Validation Loss: 23.5664\n",
      "Epoch [315/500], Training Loss: 1.1384\n",
      "Epoch [316/500], Step [1/6], Validation Loss: 23.8839\n",
      "Epoch [316/500], Training Loss: 1.0414\n",
      "Epoch [317/500], Step [1/6], Validation Loss: 23.6993\n",
      "Epoch [317/500], Training Loss: 1.0570\n",
      "Epoch [318/500], Step [1/6], Validation Loss: 25.2952\n",
      "Epoch [318/500], Training Loss: 1.7175\n",
      "Epoch [319/500], Step [1/6], Validation Loss: 23.9124\n",
      "Epoch [319/500], Training Loss: 1.0910\n",
      "Epoch [320/500], Step [1/6], Validation Loss: 24.6948\n",
      "Epoch [320/500], Training Loss: 0.9547\n",
      "Epoch [321/500], Step [1/6], Validation Loss: 23.2821\n",
      "Model on disk updated\n",
      "Epoch [321/500], Training Loss: 1.0616\n",
      "Epoch [322/500], Step [1/6], Validation Loss: 22.5244\n",
      "Model on disk updated\n",
      "Epoch [322/500], Training Loss: 0.8729\n",
      "Epoch [323/500], Step [1/6], Validation Loss: 24.3308\n",
      "Epoch [323/500], Training Loss: 1.1310\n",
      "Epoch [324/500], Step [1/6], Validation Loss: 23.8807\n",
      "Epoch [324/500], Training Loss: 1.0539\n",
      "Epoch [325/500], Step [1/6], Validation Loss: 23.4746\n",
      "Epoch [325/500], Training Loss: 1.9242\n",
      "Epoch [326/500], Step [1/6], Validation Loss: 25.5438\n",
      "Epoch [326/500], Training Loss: 2.1959\n",
      "Epoch [327/500], Step [1/6], Validation Loss: 23.8945\n",
      "Epoch [327/500], Training Loss: 2.8831\n",
      "Epoch [328/500], Step [1/6], Validation Loss: 24.5436\n",
      "Epoch [328/500], Training Loss: 2.2577\n",
      "Epoch [329/500], Step [1/6], Validation Loss: 26.8897\n",
      "Epoch [329/500], Training Loss: 2.4954\n",
      "Epoch [330/500], Step [1/6], Validation Loss: 25.7395\n",
      "Epoch [330/500], Training Loss: 2.3579\n",
      "Epoch [331/500], Step [1/6], Validation Loss: 25.3717\n",
      "Epoch [331/500], Training Loss: 3.1977\n",
      "Epoch [332/500], Step [1/6], Validation Loss: 30.9800\n",
      "Epoch [332/500], Training Loss: 6.1946\n",
      "Epoch [333/500], Step [1/6], Validation Loss: 34.1097\n",
      "Epoch [333/500], Training Loss: 6.6394\n",
      "Epoch [334/500], Step [1/6], Validation Loss: 29.1866\n",
      "Epoch [334/500], Training Loss: 4.6920\n",
      "Epoch [335/500], Step [1/6], Validation Loss: 30.2039\n",
      "Epoch [335/500], Training Loss: 5.3943\n",
      "Epoch [336/500], Step [1/6], Validation Loss: 29.9148\n",
      "Epoch [336/500], Training Loss: 6.0832\n",
      "Epoch [337/500], Step [1/6], Validation Loss: 28.6530\n",
      "Epoch [337/500], Training Loss: 4.4476\n",
      "Epoch [338/500], Step [1/6], Validation Loss: 28.2355\n",
      "Epoch [338/500], Training Loss: 4.6018\n",
      "Epoch [339/500], Step [1/6], Validation Loss: 27.4761\n",
      "Epoch [339/500], Training Loss: 3.0698\n",
      "Epoch [340/500], Step [1/6], Validation Loss: 27.0349\n",
      "Epoch [340/500], Training Loss: 2.7678\n",
      "Epoch [341/500], Step [1/6], Validation Loss: 26.7431\n",
      "Epoch [341/500], Training Loss: 3.0218\n",
      "Epoch [342/500], Step [1/6], Validation Loss: 24.2387\n",
      "Epoch [342/500], Training Loss: 2.7787\n",
      "Epoch [343/500], Step [1/6], Validation Loss: 24.8120\n",
      "Epoch [343/500], Training Loss: 1.9721\n",
      "Epoch [344/500], Step [1/6], Validation Loss: 24.7092\n",
      "Epoch [344/500], Training Loss: 1.7117\n",
      "Epoch [345/500], Step [1/6], Validation Loss: 24.2329\n",
      "Epoch [345/500], Training Loss: 1.4661\n",
      "Epoch [346/500], Step [1/6], Validation Loss: 24.2067\n",
      "Epoch [346/500], Training Loss: 1.1622\n",
      "Epoch [347/500], Step [1/6], Validation Loss: 23.4122\n",
      "Epoch [347/500], Training Loss: 1.0132\n",
      "Epoch [348/500], Step [1/6], Validation Loss: 22.7087\n",
      "Epoch [348/500], Training Loss: 0.9638\n",
      "Epoch [349/500], Step [1/6], Validation Loss: 22.6271\n",
      "Epoch [349/500], Training Loss: 0.9050\n",
      "Epoch [350/500], Step [1/6], Validation Loss: 23.9492\n",
      "Epoch [350/500], Training Loss: 0.9727\n",
      "Epoch [351/500], Step [1/6], Validation Loss: 24.5535\n",
      "Epoch [351/500], Training Loss: 0.7458\n",
      "Epoch [352/500], Step [1/6], Validation Loss: 24.0195\n",
      "Epoch [352/500], Training Loss: 0.7490\n",
      "Epoch [353/500], Step [1/6], Validation Loss: 23.7495\n",
      "Epoch [353/500], Training Loss: 0.6730\n",
      "Epoch [354/500], Step [1/6], Validation Loss: 23.3986\n",
      "Epoch [354/500], Training Loss: 0.6726\n",
      "Epoch [355/500], Step [1/6], Validation Loss: 23.2967\n",
      "Epoch [355/500], Training Loss: 0.6696\n",
      "Epoch [356/500], Step [1/6], Validation Loss: 23.1707\n",
      "Epoch [356/500], Training Loss: 0.6680\n",
      "Epoch [357/500], Step [1/6], Validation Loss: 24.1189\n",
      "Epoch [357/500], Training Loss: 0.8441\n",
      "Epoch [358/500], Step [1/6], Validation Loss: 24.0725\n",
      "Epoch [358/500], Training Loss: 0.7957\n",
      "Epoch [359/500], Step [1/6], Validation Loss: 24.7989\n",
      "Epoch [359/500], Training Loss: 0.9390\n",
      "Epoch [360/500], Step [1/6], Validation Loss: 23.7291\n",
      "Epoch [360/500], Training Loss: 0.8341\n",
      "Epoch [361/500], Step [1/6], Validation Loss: 23.1035\n",
      "Epoch [361/500], Training Loss: 0.8030\n",
      "Epoch [362/500], Step [1/6], Validation Loss: 23.5934\n",
      "Epoch [362/500], Training Loss: 0.7274\n",
      "Epoch [363/500], Step [1/6], Validation Loss: 24.9536\n",
      "Epoch [363/500], Training Loss: 1.4633\n",
      "Epoch [364/500], Step [1/6], Validation Loss: 23.2191\n",
      "Epoch [364/500], Training Loss: 1.4288\n",
      "Epoch [365/500], Step [1/6], Validation Loss: 22.6732\n",
      "Epoch [365/500], Training Loss: 0.9623\n",
      "Epoch [366/500], Step [1/6], Validation Loss: 24.2645\n",
      "Epoch [366/500], Training Loss: 1.4936\n",
      "Epoch [367/500], Step [1/6], Validation Loss: 25.2342\n",
      "Epoch [367/500], Training Loss: 1.2615\n",
      "Epoch [368/500], Step [1/6], Validation Loss: 22.9827\n",
      "Epoch [368/500], Training Loss: 1.0705\n",
      "Epoch [369/500], Step [1/6], Validation Loss: 23.4958\n",
      "Epoch [369/500], Training Loss: 0.7196\n",
      "Epoch [370/500], Step [1/6], Validation Loss: 23.9208\n",
      "Epoch [370/500], Training Loss: 0.7190\n",
      "Epoch [371/500], Step [1/6], Validation Loss: 24.3443\n",
      "Epoch [371/500], Training Loss: 0.6424\n",
      "Epoch [372/500], Step [1/6], Validation Loss: 23.5711\n",
      "Epoch [372/500], Training Loss: 0.6811\n",
      "Epoch [373/500], Step [1/6], Validation Loss: 23.0815\n",
      "Epoch [373/500], Training Loss: 0.7643\n",
      "Epoch [374/500], Step [1/6], Validation Loss: 23.1265\n",
      "Epoch [374/500], Training Loss: 0.9555\n",
      "Epoch [375/500], Step [1/6], Validation Loss: 26.6796\n",
      "Epoch [375/500], Training Loss: 1.6184\n",
      "Epoch [376/500], Step [1/6], Validation Loss: 24.0904\n",
      "Epoch [376/500], Training Loss: 1.8553\n",
      "Epoch [377/500], Step [1/6], Validation Loss: 24.6053\n",
      "Epoch [377/500], Training Loss: 1.7116\n",
      "Epoch [378/500], Step [1/6], Validation Loss: 22.6489\n",
      "Epoch [378/500], Training Loss: 1.1613\n",
      "Epoch [379/500], Step [1/6], Validation Loss: 22.8723\n",
      "Epoch [379/500], Training Loss: 1.1403\n",
      "Epoch [380/500], Step [1/6], Validation Loss: 23.8785\n",
      "Epoch [380/500], Training Loss: 1.3441\n",
      "Epoch [381/500], Step [1/6], Validation Loss: 25.4288\n",
      "Epoch [381/500], Training Loss: 2.0032\n",
      "Epoch [382/500], Step [1/6], Validation Loss: 27.2740\n",
      "Epoch [382/500], Training Loss: 3.6593\n",
      "Epoch [383/500], Step [1/6], Validation Loss: 27.5224\n",
      "Epoch [383/500], Training Loss: 3.1082\n",
      "Epoch [384/500], Step [1/6], Validation Loss: 25.6445\n",
      "Epoch [384/500], Training Loss: 4.6232\n",
      "Epoch [385/500], Step [1/6], Validation Loss: 27.3903\n",
      "Epoch [385/500], Training Loss: 2.7523\n",
      "Epoch [386/500], Step [1/6], Validation Loss: 25.4213\n",
      "Epoch [386/500], Training Loss: 2.8645\n",
      "Epoch [387/500], Step [1/6], Validation Loss: 28.6308\n",
      "Epoch [387/500], Training Loss: 4.3249\n",
      "Epoch [388/500], Step [1/6], Validation Loss: 28.1011\n",
      "Epoch [388/500], Training Loss: 4.5587\n",
      "Epoch [389/500], Step [1/6], Validation Loss: 35.1094\n",
      "Epoch [389/500], Training Loss: 5.3656\n",
      "Epoch [390/500], Step [1/6], Validation Loss: 25.1449\n",
      "Epoch [390/500], Training Loss: 3.7616\n",
      "Epoch [391/500], Step [1/6], Validation Loss: 23.6455\n",
      "Epoch [391/500], Training Loss: 2.4039\n",
      "Epoch [392/500], Step [1/6], Validation Loss: 24.2227\n",
      "Epoch [392/500], Training Loss: 1.5198\n",
      "Epoch [393/500], Step [1/6], Validation Loss: 23.7734\n",
      "Epoch [393/500], Training Loss: 1.2262\n",
      "Epoch [394/500], Step [1/6], Validation Loss: 24.4533\n",
      "Epoch [394/500], Training Loss: 1.3776\n",
      "Epoch [395/500], Step [1/6], Validation Loss: 22.9356\n",
      "Epoch [395/500], Training Loss: 1.3853\n",
      "Epoch [396/500], Step [1/6], Validation Loss: 24.5441\n",
      "Epoch [396/500], Training Loss: 0.8462\n",
      "Epoch [397/500], Step [1/6], Validation Loss: 23.5761\n",
      "Epoch [397/500], Training Loss: 0.7646\n",
      "Epoch [398/500], Step [1/6], Validation Loss: 22.9332\n",
      "Epoch [398/500], Training Loss: 0.6855\n",
      "Epoch [399/500], Step [1/6], Validation Loss: 23.5037\n",
      "Epoch [399/500], Training Loss: 0.6529\n",
      "Epoch [400/500], Step [1/6], Validation Loss: 23.5046\n",
      "Epoch [400/500], Training Loss: 0.5569\n",
      "Epoch [401/500], Step [1/6], Validation Loss: 22.9051\n",
      "Epoch [401/500], Training Loss: 0.5262\n",
      "Epoch [402/500], Step [1/6], Validation Loss: 23.2187\n",
      "Epoch [402/500], Training Loss: 0.4817\n",
      "Epoch [403/500], Step [1/6], Validation Loss: 23.7687\n",
      "Epoch [403/500], Training Loss: 0.5418\n",
      "Epoch [404/500], Step [1/6], Validation Loss: 23.2037\n",
      "Epoch [404/500], Training Loss: 0.5487\n",
      "Epoch [405/500], Step [1/6], Validation Loss: 22.4662\n",
      "Model on disk updated\n",
      "Epoch [405/500], Training Loss: 0.5424\n",
      "Epoch [406/500], Step [1/6], Validation Loss: 22.8362\n",
      "Epoch [406/500], Training Loss: 0.5783\n",
      "Epoch [407/500], Step [1/6], Validation Loss: 24.0329\n",
      "Epoch [407/500], Training Loss: 0.6498\n",
      "Epoch [408/500], Step [1/6], Validation Loss: 23.2968\n",
      "Epoch [408/500], Training Loss: 0.7713\n",
      "Epoch [409/500], Step [1/6], Validation Loss: 22.5234\n",
      "Epoch [409/500], Training Loss: 1.0665\n",
      "Epoch [410/500], Step [1/6], Validation Loss: 23.3441\n",
      "Epoch [410/500], Training Loss: 1.1272\n",
      "Epoch [411/500], Step [1/6], Validation Loss: 22.7867\n",
      "Epoch [411/500], Training Loss: 1.6133\n",
      "Epoch [412/500], Step [1/6], Validation Loss: 24.5527\n",
      "Epoch [412/500], Training Loss: 1.2094\n",
      "Epoch [413/500], Step [1/6], Validation Loss: 25.1466\n",
      "Epoch [413/500], Training Loss: 1.2422\n",
      "Epoch [414/500], Step [1/6], Validation Loss: 22.5242\n",
      "Epoch [414/500], Training Loss: 1.1169\n",
      "Epoch [415/500], Step [1/6], Validation Loss: 22.3319\n",
      "Model on disk updated\n",
      "Epoch [415/500], Training Loss: 1.0497\n",
      "Epoch [416/500], Step [1/6], Validation Loss: 23.2164\n",
      "Epoch [416/500], Training Loss: 0.8202\n",
      "Epoch [417/500], Step [1/6], Validation Loss: 23.9258\n",
      "Epoch [417/500], Training Loss: 0.7273\n",
      "Epoch [418/500], Step [1/6], Validation Loss: 24.8881\n",
      "Epoch [418/500], Training Loss: 2.1380\n",
      "Epoch [419/500], Step [1/6], Validation Loss: 25.5564\n",
      "Epoch [419/500], Training Loss: 2.6258\n",
      "Epoch [420/500], Step [1/6], Validation Loss: 24.3371\n",
      "Epoch [420/500], Training Loss: 1.9964\n",
      "Epoch [421/500], Step [1/6], Validation Loss: 23.4229\n",
      "Epoch [421/500], Training Loss: 2.8892\n",
      "Epoch [422/500], Step [1/6], Validation Loss: 25.4526\n",
      "Epoch [422/500], Training Loss: 3.3542\n",
      "Epoch [423/500], Step [1/6], Validation Loss: 25.1233\n",
      "Epoch [423/500], Training Loss: 2.2730\n",
      "Epoch [424/500], Step [1/6], Validation Loss: 23.3420\n",
      "Epoch [424/500], Training Loss: 2.5149\n",
      "Epoch [425/500], Step [1/6], Validation Loss: 23.5930\n",
      "Epoch [425/500], Training Loss: 2.1904\n",
      "Epoch [426/500], Step [1/6], Validation Loss: 25.7577\n",
      "Epoch [426/500], Training Loss: 1.6935\n",
      "Epoch [427/500], Step [1/6], Validation Loss: 23.8509\n",
      "Epoch [427/500], Training Loss: 1.4384\n",
      "Epoch [428/500], Step [1/6], Validation Loss: 28.5033\n",
      "Epoch [428/500], Training Loss: 3.0199\n",
      "Epoch [429/500], Step [1/6], Validation Loss: 26.2680\n",
      "Epoch [429/500], Training Loss: 2.1577\n",
      "Epoch [430/500], Step [1/6], Validation Loss: 23.9160\n",
      "Epoch [430/500], Training Loss: 1.5704\n",
      "Epoch [431/500], Step [1/6], Validation Loss: 23.4184\n",
      "Epoch [431/500], Training Loss: 1.1090\n",
      "Epoch [432/500], Step [1/6], Validation Loss: 23.2051\n",
      "Epoch [432/500], Training Loss: 0.7993\n",
      "Epoch [433/500], Step [1/6], Validation Loss: 23.5293\n",
      "Epoch [433/500], Training Loss: 0.8074\n",
      "Epoch [434/500], Step [1/6], Validation Loss: 24.1169\n",
      "Epoch [434/500], Training Loss: 0.8632\n",
      "Epoch [435/500], Step [1/6], Validation Loss: 22.9492\n",
      "Epoch [435/500], Training Loss: 0.9364\n",
      "Epoch [436/500], Step [1/6], Validation Loss: 22.8118\n",
      "Epoch [436/500], Training Loss: 1.0240\n",
      "Epoch [437/500], Step [1/6], Validation Loss: 25.9270\n",
      "Epoch [437/500], Training Loss: 1.4510\n",
      "Epoch [438/500], Step [1/6], Validation Loss: 23.8278\n",
      "Epoch [438/500], Training Loss: 1.4642\n",
      "Epoch [439/500], Step [1/6], Validation Loss: 25.7882\n",
      "Epoch [439/500], Training Loss: 1.7972\n",
      "Epoch [440/500], Step [1/6], Validation Loss: 26.0642\n",
      "Epoch [440/500], Training Loss: 3.2600\n",
      "Epoch [441/500], Step [1/6], Validation Loss: 31.0273\n",
      "Epoch [441/500], Training Loss: 8.1312\n",
      "Epoch [442/500], Step [1/6], Validation Loss: 30.8206\n",
      "Epoch [442/500], Training Loss: 10.6302\n",
      "Epoch [443/500], Step [1/6], Validation Loss: 36.7225\n",
      "Epoch [443/500], Training Loss: 10.8511\n",
      "Epoch [444/500], Step [1/6], Validation Loss: 36.5027\n",
      "Epoch [444/500], Training Loss: 10.9023\n",
      "Epoch [445/500], Step [1/6], Validation Loss: 31.2613\n",
      "Epoch [445/500], Training Loss: 10.0292\n",
      "Epoch [446/500], Step [1/6], Validation Loss: 32.7291\n",
      "Epoch [446/500], Training Loss: 5.2138\n",
      "Epoch [447/500], Step [1/6], Validation Loss: 29.0787\n",
      "Epoch [447/500], Training Loss: 4.5842\n",
      "Epoch [448/500], Step [1/6], Validation Loss: 23.7795\n",
      "Epoch [448/500], Training Loss: 4.6451\n",
      "Epoch [449/500], Step [1/6], Validation Loss: 27.1168\n",
      "Epoch [449/500], Training Loss: 2.7554\n",
      "Epoch [450/500], Step [1/6], Validation Loss: 23.4679\n",
      "Epoch [450/500], Training Loss: 2.6152\n",
      "Epoch [451/500], Step [1/6], Validation Loss: 25.6147\n",
      "Epoch [451/500], Training Loss: 2.0475\n",
      "Epoch [452/500], Step [1/6], Validation Loss: 25.8118\n",
      "Epoch [452/500], Training Loss: 1.7675\n",
      "Epoch [453/500], Step [1/6], Validation Loss: 22.6515\n",
      "Epoch [453/500], Training Loss: 1.7392\n",
      "Epoch [454/500], Step [1/6], Validation Loss: 23.6258\n",
      "Epoch [454/500], Training Loss: 1.5864\n",
      "Epoch [455/500], Step [1/6], Validation Loss: 24.8746\n",
      "Epoch [455/500], Training Loss: 1.5231\n",
      "Epoch [456/500], Step [1/6], Validation Loss: 23.2887\n",
      "Epoch [456/500], Training Loss: 1.0653\n",
      "Epoch [457/500], Step [1/6], Validation Loss: 23.4886\n",
      "Epoch [457/500], Training Loss: 0.8130\n",
      "Epoch [458/500], Step [1/6], Validation Loss: 24.3622\n",
      "Epoch [458/500], Training Loss: 0.7197\n",
      "Epoch [459/500], Step [1/6], Validation Loss: 22.6781\n",
      "Epoch [459/500], Training Loss: 0.6201\n",
      "Epoch [460/500], Step [1/6], Validation Loss: 22.8043\n",
      "Epoch [460/500], Training Loss: 0.6594\n",
      "Epoch [461/500], Step [1/6], Validation Loss: 23.3477\n",
      "Epoch [461/500], Training Loss: 0.5631\n",
      "Epoch [462/500], Step [1/6], Validation Loss: 23.7560\n",
      "Epoch [462/500], Training Loss: 0.8656\n",
      "Epoch [463/500], Step [1/6], Validation Loss: 23.3876\n",
      "Epoch [463/500], Training Loss: 0.9162\n",
      "Epoch [464/500], Step [1/6], Validation Loss: 23.3420\n",
      "Epoch [464/500], Training Loss: 0.7825\n",
      "Epoch [465/500], Step [1/6], Validation Loss: 23.2776\n",
      "Epoch [465/500], Training Loss: 1.1448\n",
      "Epoch [466/500], Step [1/6], Validation Loss: 24.8986\n",
      "Epoch [466/500], Training Loss: 1.4271\n",
      "Epoch [467/500], Step [1/6], Validation Loss: 22.5473\n",
      "Epoch [467/500], Training Loss: 1.1012\n",
      "Epoch [468/500], Step [1/6], Validation Loss: 22.4600\n",
      "Epoch [468/500], Training Loss: 0.8917\n",
      "Epoch [469/500], Step [1/6], Validation Loss: 22.5482\n",
      "Epoch [469/500], Training Loss: 0.6565\n",
      "Epoch [470/500], Step [1/6], Validation Loss: 22.8792\n",
      "Epoch [470/500], Training Loss: 0.5557\n",
      "Epoch [471/500], Step [1/6], Validation Loss: 23.1457\n",
      "Epoch [471/500], Training Loss: 0.4310\n",
      "Epoch [472/500], Step [1/6], Validation Loss: 23.0695\n",
      "Epoch [472/500], Training Loss: 0.4143\n",
      "Epoch [473/500], Step [1/6], Validation Loss: 22.7551\n",
      "Epoch [473/500], Training Loss: 0.5907\n",
      "Epoch [474/500], Step [1/6], Validation Loss: 24.1885\n",
      "Epoch [474/500], Training Loss: 0.7148\n",
      "Epoch [475/500], Step [1/6], Validation Loss: 22.8082\n",
      "Epoch [475/500], Training Loss: 0.7710\n",
      "Epoch [476/500], Step [1/6], Validation Loss: 22.0692\n",
      "Model on disk updated\n",
      "Epoch [476/500], Training Loss: 0.4775\n",
      "Epoch [477/500], Step [1/6], Validation Loss: 23.4615\n",
      "Epoch [477/500], Training Loss: 0.4181\n",
      "Epoch [478/500], Step [1/6], Validation Loss: 23.0403\n",
      "Epoch [478/500], Training Loss: 0.5756\n",
      "Epoch [479/500], Step [1/6], Validation Loss: 23.0996\n",
      "Epoch [479/500], Training Loss: 0.4928\n",
      "Epoch [480/500], Step [1/6], Validation Loss: 23.2437\n",
      "Epoch [480/500], Training Loss: 0.5123\n",
      "Epoch [481/500], Step [1/6], Validation Loss: 22.8958\n",
      "Epoch [481/500], Training Loss: 0.6904\n",
      "Epoch [482/500], Step [1/6], Validation Loss: 23.3727\n",
      "Epoch [482/500], Training Loss: 0.8047\n",
      "Epoch [483/500], Step [1/6], Validation Loss: 23.9677\n",
      "Epoch [483/500], Training Loss: 0.7403\n",
      "Epoch [484/500], Step [1/6], Validation Loss: 24.2906\n",
      "Epoch [484/500], Training Loss: 0.9601\n",
      "Epoch [485/500], Step [1/6], Validation Loss: 22.9970\n",
      "Epoch [485/500], Training Loss: 0.6892\n",
      "Epoch [486/500], Step [1/6], Validation Loss: 22.2145\n",
      "Epoch [486/500], Training Loss: 0.7550\n",
      "Epoch [487/500], Step [1/6], Validation Loss: 22.0685\n",
      "Model on disk updated\n",
      "Epoch [487/500], Training Loss: 1.2104\n",
      "Epoch [488/500], Step [1/6], Validation Loss: 23.9159\n",
      "Epoch [488/500], Training Loss: 1.3753\n",
      "Epoch [489/500], Step [1/6], Validation Loss: 25.5447\n",
      "Epoch [489/500], Training Loss: 1.4740\n",
      "Epoch [490/500], Step [1/6], Validation Loss: 24.2100\n",
      "Epoch [490/500], Training Loss: 0.9420\n",
      "Epoch [491/500], Step [1/6], Validation Loss: 23.5202\n",
      "Epoch [491/500], Training Loss: 0.6313\n",
      "Epoch [492/500], Step [1/6], Validation Loss: 23.7959\n",
      "Epoch [492/500], Training Loss: 0.8607\n",
      "Epoch [493/500], Step [1/6], Validation Loss: 23.3835\n",
      "Epoch [493/500], Training Loss: 1.1018\n",
      "Epoch [494/500], Step [1/6], Validation Loss: 22.8662\n",
      "Epoch [494/500], Training Loss: 0.6852\n",
      "Epoch [495/500], Step [1/6], Validation Loss: 22.6020\n",
      "Epoch [495/500], Training Loss: 0.7288\n",
      "Epoch [496/500], Step [1/6], Validation Loss: 23.3204\n",
      "Epoch [496/500], Training Loss: 0.9657\n",
      "Epoch [497/500], Step [1/6], Validation Loss: 23.0913\n",
      "Epoch [497/500], Training Loss: 0.7866\n",
      "Epoch [498/500], Step [1/6], Validation Loss: 23.1040\n",
      "Epoch [498/500], Training Loss: 0.6297\n",
      "Epoch [499/500], Step [1/6], Validation Loss: 23.1576\n",
      "Epoch [499/500], Training Loss: 1.1562\n",
      "Epoch [500/500], Step [1/6], Validation Loss: 26.3122\n",
      "Epoch [500/500], Training Loss: 1.0779\n",
      "Training complete.\n"
     ]
    }
   ],
   "source": [
    "# Training loop\n",
    "train_loss = []\n",
    "vali_loss = []\n",
    "best_loss = None\n",
    "\n",
    "for epoch in range(num_epochs):\n",
    "    model.train()  # Set the model to training mode\n",
    "    running_loss = 0.0\n",
    "    for i, batch in enumerate(train_dataloader):\n",
    "        graphs, pmts, dxs = batch\n",
    "        \n",
    "        # Zero the parameter gradients\n",
    "        optimizer.zero_grad()\n",
    "        \n",
    "        # Forward + backward + optimize\n",
    "        _dx = model(graphs, pmts).flatten()\n",
    "        dx = _dx * (forward_model_single._xmax - forward_model_single._xmin) / 2\n",
    "        loss = criterion(dx.flatten(), dxs)\n",
    "\n",
    "        # print(f'Epoch [{epoch + 1}/{num_epochs}], Step [{i + 1}/{len(train_dataloader)}], '\n",
    "        #       f'Training Loss: {loss:.4f}')\n",
    "        \n",
    "        loss.backward()\n",
    "        optimizer.step()\n",
    "        # scheduler.step()  # Adjust the learning rate if using a scheduler\n",
    "        \n",
    "        running_loss += loss.item()\n",
    "        \n",
    "        if not (i % 100):  # Every 100 batches\n",
    "            # Evaluate on validation dataset\n",
    "            model.eval()  # Set model to evaluation mode\n",
    "            with torch.no_grad():\n",
    "                val_losses = []\n",
    "                \n",
    "                for batch_val in vali_dataloader:\n",
    "                    graphs_val, pmts_val, dxs_val = batch_val\n",
    "                    \n",
    "                    _dx = model(graphs_val, pmts_val).flatten()\n",
    "                    dx = _dx * (forward_model_single._xmax - forward_model_single._xmin) / 2\n",
    "                    loss_val = criterion(dx.flatten(), dxs_val)\n",
    "                    val_losses.append(loss_val.item())\n",
    "                    # break  # just do one loop\n",
    "                \n",
    "                avg_val_loss = sum(val_losses) / len(val_losses)\n",
    "\n",
    "            print(f'Epoch [{epoch+1}/{num_epochs}], Step [{i+1}/{len(train_dataloader)}], '\n",
    "                  f'Validation Loss: {avg_val_loss:.4f}')\n",
    "            vali_loss.append(avg_val_loss)\n",
    "            model.train()  # Switch back to training mode\n",
    "\n",
    "            if save_filename:\n",
    "                if (best_loss is None) or (avg_val_loss < best_loss):\n",
    "                    print('Model on disk updated')\n",
    "                    best_loss = avg_val_loss\n",
    "                    torch.save(model.state_dict(), save_filename)\n",
    "            \n",
    "    # Print epoch loss\n",
    "    epoch_loss = running_loss / len(train_dataloader)\n",
    "    print(f\"Epoch [{epoch+1}/{num_epochs}], Training Loss: {epoch_loss:.4f}\")\n",
    "    # print(f\"Epoch [{epoch+1}/{num_epochs}], Training Loss: {epoch_loss:.4f}, LR: {scheduler.get_last_lr()[0]}\")\n",
    "    train_loss.append(epoch_loss)\n",
    "\n",
    "print(\"Training complete.\")"
   ]
  },
  {
   "cell_type": "markdown",
   "id": "d07cfc38-eafb-42f6-8980-b9d68d7f50b6",
   "metadata": {},
   "source": [
    "## Post analysis"
   ]
  },
  {
   "cell_type": "markdown",
   "id": "aab00d4f-ef6d-447a-ad18-56640b8e20ae",
   "metadata": {},
   "source": [
    "### Check the loss curves"
   ]
  },
  {
   "cell_type": "code",
   "execution_count": 75,
   "id": "ccc42743-2df2-4007-a5d5-8bb764b1ca86",
   "metadata": {},
   "outputs": [
    {
     "data": {
      "image/png": "[encoded data removed]",
      "text/plain": [
       "<Figure size 640x480 with 1 Axes>"
      ]
     },
     "metadata": {},
     "output_type": "display_data"
    }
   ],
   "source": [
    "fig, ax = plt.subplots(1, 1)\n",
    "ax.set(xlabel='epoch', ylabel='loss')\n",
    "ax.set_title(f'Learning rate {lr}')\n",
    "# ax.set_ylim(3000, 4000)\n",
    "# ax.set_xlim(100, 500)\n",
    "ax.set_yscale('log')\n",
    "\n",
    "ax.plot(train_loss, label='train loss')\n",
    "ax.plot(vali_loss, label='vali loss')\n",
    "\n",
    "# ax.grid()\n",
    "ax.legend(loc=0)\n",
    "fig.tight_layout()\n",
    "\n",
    "# fig.savefig('plot.pdf', bbox_inches='tight')\n",
    "plt.show()"
   ]
  },
  {
   "cell_type": "markdown",
   "id": "dd16e395-5eb2-43ff-b333-00c636e9c6b1",
   "metadata": {},
   "source": [
    "### Check model performance on test dataset"
   ]
  },
  {
   "cell_type": "markdown",
   "id": "6366119a-0254-40cb-9bbb-863b59ccd7d5",
   "metadata": {},
   "source": [
    "#### Load the model"
   ]
  },
  {
   "cell_type": "code",
   "execution_count": 76,
   "id": "b5a015b9-273d-4ea1-9bfb-f151461cb19d",
   "metadata": {},
   "outputs": [
    {
     "data": {
      "text/plain": [
       "ReconGNN(\n",
       "  (conv1): GCNConv(4, 64)\n",
       "  (conv2): GCNConv(64, 256)\n",
       "  (fc): Linear(in_features=256, out_features=128, bias=True)\n",
       "  (branch_b): Sequential(\n",
       "    (0): Linear(in_features=180, out_features=512, bias=True)\n",
       "    (1): ReLU()\n",
       "    (2): Linear(in_features=512, out_features=128, bias=True)\n",
       "    (3): ReLU()\n",
       "  )\n",
       "  (combined_fc): Sequential(\n",
       "    (0): Linear(in_features=256, out_features=128, bias=True)\n",
       "    (1): ReLU()\n",
       "    (2): Linear(in_features=128, out_features=32, bias=True)\n",
       "    (3): ReLU()\n",
       "    (4): Linear(in_features=32, out_features=1, bias=True)\n",
       "  )\n",
       ")"
      ]
     },
     "execution_count": 76,
     "metadata": {},
     "output_type": "execute_result"
    }
   ],
   "source": [
    "model_label = ReconGNN(hidden_features=[64, 256], out_features=128).to(DEVICE)\n",
    "model_label.load_state_dict(torch.load(save_filename, map_location=DEVICE))\n",
    "model_label.eval()"
   ]
  },
  {
   "cell_type": "markdown",
   "id": "8e6ab504-6394-404d-81c8-20eaadd77f48",
   "metadata": {},
   "source": [
    "#### Predict on test dataset (all in one batch)"
   ]
  },
  {
   "cell_type": "code",
   "execution_count": 77,
   "id": "d300e259-43bf-4572-9bfa-6571671bd0f8",
   "metadata": {},
   "outputs": [],
   "source": [
    "def get_dx_loss(dataloader, model):\n",
    "    \n",
    "    loss_dx_list = []\n",
    "    \n",
    "    for batch in tqdm(dataloader):\n",
    "        graphs, pmts, dxs = batch\n",
    "        _dx = model(graphs, pmts)\n",
    "        dx = _dx * (forward_model_single._xmax - forward_model_single._xmin) / 2\n",
    "        \n",
    "        loss_dx = (dx.flatten() - dxs) ** 2\n",
    "        loss_dx_list.append(loss_dx.detach().cpu())\n",
    "        \n",
    "    return torch.hstack(loss_dx_list)"
   ]
  },
  {
   "cell_type": "code",
   "execution_count": 78,
   "id": "00ebba78-e54b-43ee-8f4c-42eff330d3cf",
   "metadata": {},
   "outputs": [
    {
     "data": {
      "application/vnd.jupyter.widget-view+json": {
       "model_id": "2e45fff2902f4da793a01265a61760b3",
       "version_major": 2,
       "version_minor": 0
      },
      "text/plain": [
       "  0%|          | 0/2 [00:00<?, ?it/s]"
      ]
     },
     "metadata": {},
     "output_type": "display_data"
    }
   ],
   "source": [
    "loss_dx_label = get_dx_loss(test_dataloader, model_label)"
   ]
  },
  {
   "cell_type": "code",
   "execution_count": 79,
   "id": "6cf18ec1-dc7c-4dad-bf49-de5561f01bdd",
   "metadata": {},
   "outputs": [],
   "source": [
    "def plot_rms_dx_dist(loss_dx, thres_rms=1e3, save=None):\n",
    "    \n",
    "    rms_dx = torch.sqrt(loss_dx)\n",
    "    \n",
    "    fig, ax = plt.subplots(1, 1, figsize=(6, 4))\n",
    "    ax.set(xlabel='rms(dx)', ylabel='count')\n",
    "    \n",
    "    # ax.set_yscale('log')\n",
    "    \n",
    "    p = (rms_dx < thres_rms).sum() / len(rms_dx) * 100\n",
    "    ax.hist(rms_dx[rms_dx < thres_rms], 100, label=f'label ({p:.2f}%)', alpha=0.8)\n",
    "    \n",
    "    # ax.grid()\n",
    "    ax.legend(loc=0)\n",
    "    fig.tight_layout()\n",
    "    \n",
    "    if save:\n",
    "        fig.savefig(save, dpi=200, bbox_inches='tight')\n",
    "        \n",
    "    plt.show()"
   ]
  },
  {
   "cell_type": "code",
   "execution_count": 80,
   "id": "4ae9246b-f9f9-44db-ba07-6f111c927a87",
   "metadata": {},
   "outputs": [
    {
     "data": {
      "image/png": "[encoded data removed]",
      "text/plain": [
       "<Figure size 600x400 with 1 Axes>"
      ]
     },
     "metadata": {},
     "output_type": "display_data"
    }
   ],
   "source": [
    "os.makedirs('pics', exist_ok=True)\n",
    "\n",
    "plot_rms_dx_dist(loss_dx_label, save='pics/recon_gnn_rms_dx_dist.png')"
   ]
  },
  {
   "cell_type": "markdown",
   "id": "d4066d90-c575-402d-95e4-e1bac04b6e4e",
   "metadata": {},
   "source": [
    "## Backlogs"
   ]
  },
  {
   "cell_type": "code",
   "execution_count": null,
   "id": "464c919c-0321-4a7b-8f16-47a4a15de122",
   "metadata": {},
   "outputs": [],
   "source": []
  }
 ],
 "metadata": {
  "kernelspec": {
   "display_name": "Python 3 (ipykernel)",
   "language": "python",
   "name": "python3"
  },
  "language_info": {
   "codemirror_mode": {
    "name": "ipython",
    "version": 3
   },
   "file_extension": ".py",
   "mimetype": "text/x-python",
   "name": "python",
   "nbconvert_exporter": "python",
   "pygments_lexer": "ipython3",
   "version": "3.10.14"
  }
 },
 "nbformat": 4,
 "nbformat_minor": 5
}
