{
 "cells": [
  {
   "cell_type": "markdown",
   "id": "48806d4f-b356-4075-b908-551f8e9a1a1f",
   "metadata": {},
   "source": [
    "# ReconNN: SparseCNN edition"
   ]
  },
  {
   "cell_type": "markdown",
   "id": "77cc1a4e-2b2c-4a2e-8343-f289ff17c022",
   "metadata": {},
   "source": [
    "In this notebook, we are going to train a sparse CNN-based neural network to archieve our TPC reconstruction goal."
   ]
  },
  {
   "cell_type": "code",
   "execution_count": 1,
   "id": "64f8ca63-7a03-471a-8d13-ca6d04dddd50",
   "metadata": {},
   "outputs": [
    {
     "name": "stderr",
     "output_type": "stream",
     "text": [
      "/sdf/group/mli/zhezhang/conda/envs/ml/lib/python3.10/site-packages/MinkowskiEngine-0.5.4-py3.10-linux-x86_64.egg/MinkowskiEngine/__init__.py:36: UserWarning: The environment variable `OMP_NUM_THREADS` not set. MinkowskiEngine will automatically set `OMP_NUM_THREADS=16`. If you want to set `OMP_NUM_THREADS` manually, please export it on the command line before running a python script. e.g. `export OMP_NUM_THREADS=12; python your_program.py`. It is recommended to set it below 24.\n",
      "  warnings.warn(\n"
     ]
    }
   ],
   "source": [
    "import os\n",
    "import torch\n",
    "import torch.nn as nn\n",
    "import torch.nn.functional as F\n",
    "import torch.optim as optim\n",
    "from torch.utils.data import Dataset, DataLoader, random_split\n",
    "import MinkowskiEngine as ME\n",
    "\n",
    "import yaml\n",
    "import numpy as np\n",
    "import matplotlib.pyplot as plt\n",
    "from scipy.interpolate import interp1d\n",
    "from tqdm.auto import tqdm, trange\n",
    "\n",
    "from photonlib import MultiLib, PhotonLib\n",
    "\n",
    "from pfmatch.io import H5File\n",
    "from pfmatch.apps import ToyMC\n",
    "from pfmatch.utils import load_detector_config\n",
    "from pfmatch.algorithms.hypothesis import FlashHypothesis, MultiFlashHypothesis\n",
    "from pfmatch.algorithms import PoissonMatchLoss\n",
    "from contextlib import closing"
   ]
  },
  {
   "cell_type": "markdown",
   "id": "cf5f691d-f722-43ce-9355-f177fd392276",
   "metadata": {},
   "source": [
    "## Dataset"
   ]
  },
  {
   "cell_type": "markdown",
   "id": "76616f23-c1d1-4cf8-837c-983539d84679",
   "metadata": {},
   "source": [
    "In this section let's generate the (TPC, PMT) data by using the Icarus detector and the `ToyMC` simulator. You can download the Icarus detector h5 file here. After downloading, please put it under `detectors` folder (you'll need to create that folder first)."
   ]
  },
  {
   "cell_type": "markdown",
   "id": "2a07a9bb-029d-48a5-b73a-5258cb6ed158",
   "metadata": {},
   "source": [
    "### Config the detector"
   ]
  },
  {
   "cell_type": "code",
   "execution_count": 2,
   "id": "d256e507-6ffa-4bda-b775-faf02030892c",
   "metadata": {},
   "outputs": [],
   "source": [
    "cfg='''\n",
    "multilib:\n",
    "    filepath: detectors/plib_2x2.h5\n",
    "    \n",
    "photonlib:\n",
    "    filepath: detectors/plib_icarus.h5\n",
    "        \n",
    "Detector: icarus_detector\n",
    "    \n",
    "ToyMC:\n",
    "    TimeAlgo: \"random\" # random, periodic, same\n",
    "    TrackAlgo: \"random\" # random, top-bottom\n",
    "    PeriodTPC: [-1300.,1300] # in micro-second, [-340-965(drift time),1698.4-340]\n",
    "    PeriodPMT: [-1000., 1000.] # in micro-second, [-1150, 3450-1150]\n",
    "    PEVariation: 0.0 # channel-to-channel (PMT-wise) variation in (fake) reco PE amount\n",
    "    LightYieldVariation: 0.0  # light yield variation per point in QCluster_t\n",
    "    PosXVariation: 0.0 # total x position variation in cm\n",
    "    TruncateTPC: 0 # 1=truncate TPC trajectory mimicing readout effect\n",
    "    NumTracks: 5\n",
    "    NumpySeed: 1\n",
    "    NeutrinoTime: 0.\n",
    "\n",
    "LightPath:\n",
    "    SegmentSize: 0.5\n",
    "'''\n",
    "cfg = yaml.safe_load(cfg)"
   ]
  },
  {
   "cell_type": "code",
   "execution_count": 3,
   "id": "1234cc14-5f1e-45a1-8733-ddaeda67150b",
   "metadata": {},
   "outputs": [
    {
     "name": "stdout",
     "output_type": "stream",
     "text": [
      "[PhotonLib] loading detectors/plib_icarus.h5\n",
      "[PhotonLib] file loaded\n"
     ]
    }
   ],
   "source": [
    "plib = PhotonLib.load(cfg)"
   ]
  },
  {
   "cell_type": "markdown",
   "id": "df8b0908-fe73-4f88-aed6-ca8ed856360e",
   "metadata": {
    "jp-MarkdownHeadingCollapsed": true
   },
   "source": [
    "### Generate the data"
   ]
  },
  {
   "cell_type": "markdown",
   "id": "b0f9ecd5-65ed-4013-b28b-00d0a7dca946",
   "metadata": {},
   "source": [
    "If you already generated the data, you can skip this subsection and jump to the load data subsection directly."
   ]
  },
  {
   "cell_type": "code",
   "execution_count": null,
   "id": "95308cda-6388-4539-9dd3-819246319af5",
   "metadata": {},
   "outputs": [
    {
     "name": "stdout",
     "output_type": "stream",
     "text": [
      "[PhotonLib] loading detectors/plib_icarus.h5\n",
      "[PhotonLib] file loaded\n"
     ]
    }
   ],
   "source": [
    "det_cfg = load_detector_config(cfg)\n",
    "gen = ToyMC(cfg, det_cfg, plib)"
   ]
  },
  {
   "cell_type": "markdown",
   "id": "cf1957af-88e6-4efa-9adc-b964ec152c4e",
   "metadata": {},
   "source": [
    "Now we are going to generate 100k data points and save them into a `data/icarus-100k.h5` file."
   ]
  },
  {
   "cell_type": "code",
   "execution_count": null,
   "id": "7903f9f4-2ddf-4a4f-a74c-ef376b2f87c8",
   "metadata": {},
   "outputs": [],
   "source": [
    "os.makedirs('data', exist_ok=True)\n",
    "\n",
    "bad_cnts = 0\n",
    "with closing(H5File.open('data/icarus-100k.h5', 'w')) as f:\n",
    "    for __ in trange(1000):\n",
    "        data = gen.make_flashmatch_inputs(100)\n",
    "\n",
    "        out_q = [[q] for q in data.raw_qcluster_v]\n",
    "        out_f = [[fl] for fl in data.flash_v]\n",
    "        match_vv = [[(0,0)]] * len(out_q)\n",
    "        if len(out_q) != len(out_f):\n",
    "            bad_cnts += 1\n",
    "            continue\n",
    "        f.write_many(out_q, out_f, match_vv)\n",
    "print('bad', bad_cnts)"
   ]
  },
  {
   "cell_type": "markdown",
   "id": "1c3c4546-8a9a-402b-aa29-9f808323a03d",
   "metadata": {},
   "source": [
    "### Load the data"
   ]
  },
  {
   "cell_type": "code",
   "execution_count": 4,
   "id": "a0e950c7-7025-46df-a8ba-77b18485a61f",
   "metadata": {},
   "outputs": [],
   "source": [
    "def load_data(data_root, fnames, plib=None, n_pts=1000, fake=True):\n",
    "\n",
    "    xyzq_list = []\n",
    "    pmt_list = []\n",
    "    dx_list = []\n",
    "    \n",
    "    for fname in fnames:\n",
    "        fullname = os.path.join(data_root, fname)\n",
    "        print(f'processing {fullname}...')\n",
    "        f = H5File.open(fullname, 'r')\n",
    "        \n",
    "        for idx in trange(n_pts):\n",
    "            try:\n",
    "                q_v, f_v, _ = f.read_one(idx, 180)\n",
    "            except Exception as e:\n",
    "                print(e)\n",
    "                continue\n",
    "\n",
    "            if plib:\n",
    "                q_v[0].shift_to_center(plib)\n",
    "            xyzq = q_v[0].qpt_v  # (x, y, z, q)\n",
    "            if plib is None:\n",
    "                mu_x = xyzq[:, 0].mean()\n",
    "                xyzq[:, 0] -= mu_x  # normalization\n",
    "            if fake:\n",
    "                pmt = f_v[0].pe_v  # PMT readout\n",
    "            else:\n",
    "                pmt = f_v[0].pe_true_v  # PMT readout\n",
    "            dx = q_v[0].xmin_true - xyzq[:, 0].min().item()  # true dx\n",
    "    \n",
    "            xyzq_list.append(xyzq)\n",
    "            pmt_list.append(pmt)\n",
    "            dx_list.append(dx)\n",
    "\n",
    "    return xyzq_list, pmt_list, dx_list"
   ]
  },
  {
   "cell_type": "code",
   "execution_count": 5,
   "id": "89dad708-bc29-4d2b-b442-78e5c572bb93",
   "metadata": {
    "scrolled": true
   },
   "outputs": [],
   "source": [
    "data_root = 'data'\n",
    "fnames = sorted([n for n in os.listdir(data_root) if n.startswith('icarus')])"
   ]
  },
  {
   "cell_type": "code",
   "execution_count": 6,
   "id": "f6f50987-597c-418f-9770-8345daa3e7a8",
   "metadata": {},
   "outputs": [
    {
     "name": "stdout",
     "output_type": "stream",
     "text": [
      "processing data/icarus-100k.h5...\n",
      "[H5File] opening data/icarus-100k.h5 in mode r\n"
     ]
    },
    {
     "data": {
      "application/vnd.jupyter.widget-view+json": {
       "model_id": "95fea2b917a042a5802a1ad030c98b16",
       "version_major": 2,
       "version_minor": 0
      },
      "text/plain": [
       "  0%|          | 0/10000 [00:00<?, ?it/s]"
      ]
     },
     "metadata": {},
     "output_type": "display_data"
    }
   ],
   "source": [
    "xyzq_list, pmt_list, dx_list = load_data(data_root, fnames, plib=plib, n_pts=10000, fake=True)"
   ]
  },
  {
   "cell_type": "markdown",
   "id": "32d1d2d0-ed14-49fd-8765-3d0701afa586",
   "metadata": {
    "jp-MarkdownHeadingCollapsed": true,
    "tags": []
   },
   "source": [
    "#### Test"
   ]
  },
  {
   "cell_type": "code",
   "execution_count": 12,
   "id": "b8b08082-eaaa-4a5b-a976-27e95a3f5380",
   "metadata": {},
   "outputs": [
    {
     "data": {
      "text/plain": [
       "torch.Size([1109, 4])"
      ]
     },
     "execution_count": 12,
     "metadata": {},
     "output_type": "execute_result"
    }
   ],
   "source": [
    "xyzq_list[0].shape"
   ]
  },
  {
   "cell_type": "code",
   "execution_count": 13,
   "id": "8c5a6284-d7c9-40e8-a5bd-4b6f49293cc3",
   "metadata": {},
   "outputs": [
    {
     "data": {
      "text/plain": [
       "torch.Size([180])"
      ]
     },
     "execution_count": 13,
     "metadata": {},
     "output_type": "execute_result"
    }
   ],
   "source": [
    "pmt_list[0].shape"
   ]
  },
  {
   "cell_type": "code",
   "execution_count": 14,
   "id": "91e82595-0d17-4cb5-8c01-01c74852c9e2",
   "metadata": {
    "scrolled": true
   },
   "outputs": [
    {
     "data": {
      "text/plain": [
       "68.06504821777344"
      ]
     },
     "execution_count": 14,
     "metadata": {},
     "output_type": "execute_result"
    }
   ],
   "source": [
    "dx_list[0]"
   ]
  },
  {
   "cell_type": "code",
   "execution_count": 15,
   "id": "d35d3f62-5e76-4229-ad50-528140cd3ec2",
   "metadata": {},
   "outputs": [
    {
     "data": {
      "text/plain": [
       "tensor(0.5000)"
      ]
     },
     "execution_count": 15,
     "metadata": {},
     "output_type": "execute_result"
    }
   ],
   "source": [
    "sep = torch.norm(xyzq_list[0][0, :3] - xyzq_list[0][1, :3])\n",
    "\n",
    "sep"
   ]
  },
  {
   "cell_type": "markdown",
   "id": "fbe6048f-41e7-4436-a0e9-bf37107fb285",
   "metadata": {},
   "source": [
    "Check center in x of the first 10 normalized tracks -- should be `-210`"
   ]
  },
  {
   "cell_type": "code",
   "execution_count": 16,
   "id": "86a33157-0f50-49c8-98b0-3752f9728492",
   "metadata": {},
   "outputs": [
    {
     "name": "stdout",
     "output_type": "stream",
     "text": [
      "tensor(-210.0000) tensor(-209.9963)\n",
      "tensor(-210.) tensor(-210.0092)\n",
      "tensor(-210.) tensor(-209.9918)\n",
      "tensor(-210.) tensor(-209.9996)\n",
      "tensor(-210.) tensor(-210.0238)\n",
      "tensor(-210.) tensor(-209.9958)\n",
      "tensor(-210.0000) tensor(-209.9997)\n",
      "tensor(-210.) tensor(-210.0060)\n",
      "tensor(-210.) tensor(-209.9686)\n",
      "tensor(-210.) tensor(-209.9930)\n"
     ]
    }
   ],
   "source": [
    "for i in range(10):\n",
    "    x = xyzq_list[i][:, 0]\n",
    "    x_c = (x.max() + x.min()) / 2  # this is the correct way\n",
    "    x_m = x.mean()\n",
    "    \n",
    "    print(x_c, x_m)"
   ]
  },
  {
   "cell_type": "markdown",
   "id": "7da76f56-7d2a-4600-bb22-a6ccd5361ded",
   "metadata": {
    "tags": []
   },
   "source": [
    "## Forward simulator"
   ]
  },
  {
   "cell_type": "markdown",
   "id": "1b6b2941-6369-4c13-846e-e2035693f98e",
   "metadata": {},
   "source": [
    "Now we are going to setup forward models -- they would be used a bit during our training and post analysis."
   ]
  },
  {
   "cell_type": "code",
   "execution_count": 7,
   "id": "a1537428-5b16-4b14-9fba-41f244e02e9b",
   "metadata": {},
   "outputs": [],
   "source": [
    "def get_dx_ranges(xyzq_list):\n",
    "    dx_ranges = []\n",
    "    for i in trange(len(xyzq_list)):\n",
    "        track_xmin = xyzq_list[i][:, 0].min()\n",
    "        track_xmax = xyzq_list[i][:, 0].max()\n",
    "        \n",
    "        dx_max = forward_model_single._xmax - track_xmax\n",
    "        dx_min = forward_model_single._xmin - track_xmin\n",
    "\n",
    "        dx_ranges.append([dx_min, dx_max])\n",
    "    dx_ranges = torch.tensor(dx_ranges)\n",
    "\n",
    "    return dx_ranges"
   ]
  },
  {
   "cell_type": "code",
   "execution_count": 8,
   "id": "eea75642-db29-4e91-b9eb-e126d923b8af",
   "metadata": {},
   "outputs": [
    {
     "data": {
      "text/plain": [
       "'cuda:0'"
      ]
     },
     "execution_count": 8,
     "metadata": {},
     "output_type": "execute_result"
    }
   ],
   "source": [
    "DEVICE = 'cuda:0' if torch.cuda.is_available() else torch.device('cpu')\n",
    "\n",
    "DEVICE"
   ]
  },
  {
   "cell_type": "code",
   "execution_count": 9,
   "id": "ddac3927-d188-4b2c-a948-fb90b098aef7",
   "metadata": {},
   "outputs": [],
   "source": [
    "plib = plib.to(DEVICE)  # put plib to device"
   ]
  },
  {
   "cell_type": "code",
   "execution_count": 10,
   "id": "c5334678-bbfd-47e8-a577-f38e5f0bff66",
   "metadata": {},
   "outputs": [
    {
     "data": {
      "application/vnd.jupyter.widget-view+json": {
       "model_id": "f79282307d87486489d598ff047741ed",
       "version_major": 2,
       "version_minor": 0
      },
      "text/plain": [
       "  0%|          | 0/10000 [00:00<?, ?it/s]"
      ]
     },
     "metadata": {},
     "output_type": "display_data"
    }
   ],
   "source": [
    "# Create the single forward model\n",
    "forward_model_single = FlashHypothesis(cfg, plib).to(DEVICE)\n",
    "\n",
    "# Create the batch forward model\n",
    "dx_ranges = get_dx_ranges(xyzq_list)\n",
    "forward_model = MultiFlashHypothesis(plib, dx_ranges).to(DEVICE)"
   ]
  },
  {
   "cell_type": "markdown",
   "id": "01624f99-09cc-454a-85f0-074ffbb4b110",
   "metadata": {},
   "source": [
    "### Sanity check"
   ]
  },
  {
   "cell_type": "markdown",
   "id": "6889674e-e640-41a2-938f-2f95537f011b",
   "metadata": {},
   "source": [
    "Center in x for the detector -- should be `-210`"
   ]
  },
  {
   "cell_type": "code",
   "execution_count": 11,
   "id": "0559725a-eb91-41e5-bfb2-b974c8eaad28",
   "metadata": {},
   "outputs": [
    {
     "data": {
      "text/plain": [
       "-210.0"
      ]
     },
     "execution_count": 11,
     "metadata": {},
     "output_type": "execute_result"
    }
   ],
   "source": [
    "(forward_model_single._xmin + forward_model_single._xmax) / 2"
   ]
  },
  {
   "cell_type": "markdown",
   "id": "cf76baf2-71f5-4d8e-a412-109d15bb5381",
   "metadata": {
    "tags": []
   },
   "source": [
    "### Forward model test"
   ]
  },
  {
   "cell_type": "code",
   "execution_count": 12,
   "id": "d0bf1821-7b9e-4863-9816-0a4cf544e869",
   "metadata": {},
   "outputs": [],
   "source": [
    "def cmp_pmt(idx=0, dx_shift=0, method='clamp'):\n",
    "    track_i = xyzq_list[idx]\n",
    "    pmt_i = pmt_list[idx]\n",
    "    # dx_i = dx_list[idx]\n",
    "    \n",
    "    track_i_shifted = torch.clone(track_i)\n",
    "    track_i_shifted[:, 0] += dx_shift\n",
    "    if method == 'clamp':\n",
    "        track_i_shifted[:, 0] = torch.clamp(track_i_shifted[:, 0],\n",
    "                                            forward_model_single._xmin, forward_model_single._xmax)\n",
    "    else:\n",
    "        idx_filtered = (track_i_shifted[:, 0] >= forward_model_single._xmin) * (track_i_shifted[:, 0] <= forward_model_single._xmax)\n",
    "        track_i_shifted = track_i_shifted[idx_filtered]\n",
    "    print(f'track size: {track_i_shifted.shape[0]}')\n",
    "    track_i_shifted = track_i_shifted.to(forward_model_single.plib.device)\n",
    "    pmt_i_shifted_sim = forward_model_single(track_i_shifted)\n",
    "    # pmt_i_sim = forward_model(track_i)\n",
    "    \n",
    "    fig, ax = plt.subplots(1, 1)\n",
    "    ax.set(xlabel='pmt channel', ylabel='count')\n",
    "    ax.set_title(f'track {idx}')\n",
    "    \n",
    "    ax.plot(pmt_i, '-', label='groundtruth')\n",
    "    # ax.plot(pmt_i_sim.detach().numpy(), '-', label='dx = 0')\n",
    "    ax.plot(pmt_i_shifted_sim.detach().cpu().numpy(), '-', label=f'dx = {dx_shift:.2f}')\n",
    "    \n",
    "    # ax.grid()\n",
    "    ax.legend(loc=0)\n",
    "    fig.tight_layout()\n",
    "    \n",
    "    # fig.savefig('plot.pdf', bbox_inches='tight')\n",
    "    plt.show()"
   ]
  },
  {
   "cell_type": "code",
   "execution_count": 13,
   "id": "1e96c704-d651-4db2-b778-1d62ed80b299",
   "metadata": {},
   "outputs": [
    {
     "name": "stdout",
     "output_type": "stream",
     "text": [
      "track size: 1109\n"
     ]
    },
    {
     "data": {
      "image/png": "[encoded data removed]",
      "text/plain": [
       "<Figure size 640x480 with 1 Axes>"
      ]
     },
     "metadata": {},
     "output_type": "display_data"
    }
   ],
   "source": [
    "cmp_pmt(0, 50)"
   ]
  },
  {
   "cell_type": "code",
   "execution_count": 14,
   "id": "5569948a-3618-41a7-bc65-284260689d3e",
   "metadata": {},
   "outputs": [
    {
     "name": "stdout",
     "output_type": "stream",
     "text": [
      "track size: 1109\n"
     ]
    },
    {
     "data": {
      "image/png": "[encoded data removed]",
      "text/plain": [
       "<Figure size 640x480 with 1 Axes>"
      ]
     },
     "metadata": {},
     "output_type": "display_data"
    }
   ],
   "source": [
    "cmp_pmt(0, -50)"
   ]
  },
  {
   "cell_type": "code",
   "execution_count": 15,
   "id": "dfb249f7-01da-41f1-b02d-295f87febaba",
   "metadata": {},
   "outputs": [
    {
     "name": "stdout",
     "output_type": "stream",
     "text": [
      "track size: 1109\n"
     ]
    },
    {
     "data": {
      "image/png": "[encoded data removed]",
      "text/plain": [
       "<Figure size 640x480 with 1 Axes>"
      ]
     },
     "metadata": {},
     "output_type": "display_data"
    }
   ],
   "source": [
    "cmp_pmt(0, dx_list[0])"
   ]
  },
  {
   "cell_type": "markdown",
   "id": "c74fa399-0905-4e78-85b4-6af358cc845a",
   "metadata": {},
   "source": [
    "#### Scan loss for random tracks"
   ]
  },
  {
   "cell_type": "code",
   "execution_count": 29,
   "id": "57086792-ae6b-42af-b1fa-4af407d2de52",
   "metadata": {},
   "outputs": [],
   "source": [
    "def scan_loss(indices, n_step=100):\n",
    "    pmt_sim_list = []\n",
    "    dx_list = []\n",
    "    for idx in tqdm(indices):\n",
    "        dx = torch.linspace(dx_ranges[idx][0], dx_ranges[idx][1], n_step)\n",
    "        \n",
    "        batch = []\n",
    "        sizes = []\n",
    "        \n",
    "        xyzq = xyzq_list[idx]\n",
    "        for i in range(n_step):\n",
    "            batch.append(xyzq)\n",
    "            sizes.append(xyzq.shape[0])\n",
    "        \n",
    "        batch = torch.vstack(batch)\n",
    "        sizes = torch.tensor(sizes)\n",
    "        \n",
    "        pmt_sim = forward_model.apply(dx.to(DEVICE), batch.to(DEVICE), sizes.to(DEVICE), plib)\n",
    "        pmt_sim_list.append(pmt_sim)\n",
    "        dx_list.append(dx)\n",
    "\n",
    "    criterion = PoissonMatchLoss()\n",
    "    \n",
    "    fig, ax = plt.subplots(1, 1)\n",
    "    ax.set(xlabel='dx (cm)', ylabel='MSE loss')\n",
    "    \n",
    "    for i, idx in enumerate(indices):\n",
    "        dx = dx_list[i]\n",
    "        pmt_sim = pmt_sim_list[i]\n",
    "        ax.plot(dx, criterion(pmt_sim, pmt_list[idx].to(DEVICE)).detach().cpu(), '-', label=f'track {idx}')\n",
    "    \n",
    "    # ax.grid()\n",
    "    ax.legend(loc=0)\n",
    "    fig.tight_layout()\n",
    "    \n",
    "    # fig.savefig('plot.pdf', bbox_inches='tight')\n",
    "    plt.show()"
   ]
  },
  {
   "cell_type": "code",
   "execution_count": 30,
   "id": "c3bf6614-611d-49dd-859a-08258fcfb8b2",
   "metadata": {},
   "outputs": [],
   "source": [
    "indices = np.random.choice(np.arange(1000), 10, replace=False)"
   ]
  },
  {
   "cell_type": "code",
   "execution_count": 31,
   "id": "fa846b60-8137-4e7c-a3d6-9f9776283030",
   "metadata": {},
   "outputs": [
    {
     "data": {
      "application/vnd.jupyter.widget-view+json": {
       "model_id": "9895aaa13c6b484481bffb80f38f3d54",
       "version_major": 2,
       "version_minor": 0
      },
      "text/plain": [
       "  0%|          | 0/10 [00:00<?, ?it/s]"
      ]
     },
     "metadata": {},
     "output_type": "display_data"
    },
    {
     "data": {
      "image/png": "[encoded data removed]",
      "text/plain": [
       "<Figure size 640x480 with 1 Axes>"
      ]
     },
     "metadata": {},
     "output_type": "display_data"
    }
   ],
   "source": [
    "scan_loss(indices)"
   ]
  },
  {
   "cell_type": "markdown",
   "id": "e8fb5f2c-2585-4101-bddb-e2e432c54744",
   "metadata": {},
   "source": [
    "## Sparse dataset and dataloader"
   ]
  },
  {
   "cell_type": "code",
   "execution_count": 43,
   "id": "81f28847-350b-4cda-b0fc-eca817685aa0",
   "metadata": {},
   "outputs": [],
   "source": [
    "class SparseDataset(Dataset):\n",
    "    def __init__(self, xyzq_list, pmt_list, dx_list):\n",
    "        \"\"\"\n",
    "        Args:\n",
    "            xyzq_list (list of tensors): Each tensor has shape (n_i, 4)\n",
    "            pmt_list: Each tensor has shape (180,)\n",
    "            dx_list: Each tensor has shape (1,)\n",
    "        \"\"\"\n",
    "        self.xyzq_list = xyzq_list\n",
    "        self.pmt_list = pmt_list\n",
    "        self.dx_list = dx_list\n",
    "\n",
    "    def __len__(self):\n",
    "        return len(self.dx_list)\n",
    "\n",
    "    def __getitem__(self, idx):\n",
    "        input_data = self.xyzq_list[idx]\n",
    "        coordinates = input_data[:, :3]  # (n_i, 3)\n",
    "        features = input_data[:, 3:]     # (n_i, 1)\n",
    "        pmt = self.pmt_list[idx]\n",
    "        dx = self.dx_list[idx]\n",
    "        \n",
    "        return coordinates, features, pmt, dx\n",
    "\n",
    "\n",
    "def sparse_collate_fn(batch):\n",
    "    quantization_size = 0.05\n",
    "    coords_list = []\n",
    "    feats_list = []\n",
    "    pmt_list = []\n",
    "    dx_list = []\n",
    "    for batch_idx, (coords, feats, pmt, dx) in enumerate(batch):\n",
    "        # Discretize coordinates\n",
    "        coords_int = torch.floor(coords / quantization_size).int()\n",
    "        # Add batch index\n",
    "        batch_indices = torch.full((coords_int.shape[0], 1), batch_idx, dtype=torch.int)\n",
    "        batch_indices = batch_indices.to(coords.device)\n",
    "        coords_batch = torch.cat([batch_indices, coords_int], dim=1)  # (n_i, 4)\n",
    "        coords_list.append(coords_batch)\n",
    "        feats_list.append(feats)\n",
    "        pmt_list.append(pmt)\n",
    "        dx_list.append(dx)\n",
    "\n",
    "    # Concatenate all coordinates and features\n",
    "    all_coords = torch.cat(coords_list, dim=0)  # (total_n, 4)\n",
    "    all_feats = torch.cat(feats_list, dim=0)    # (total_n, feature_dim)\n",
    "    all_pmt = torch.vstack(pmt_list)\n",
    "    all_dx = torch.tensor(dx_list).to(coords_list[0].device)\n",
    "    \n",
    "    return {'coordinates': all_coords, 'features': all_feats, 'pmts': all_pmt, 'dxs': all_dx}"
   ]
  },
  {
   "cell_type": "markdown",
   "id": "ef0fd8e7-efa0-4fa9-9076-3addfe05e5a8",
   "metadata": {
    "jp-MarkdownHeadingCollapsed": true
   },
   "source": [
    "### Test"
   ]
  },
  {
   "cell_type": "code",
   "execution_count": 44,
   "id": "1149f4b6-50d1-4594-b0f2-46b1dae2c1ee",
   "metadata": {},
   "outputs": [],
   "source": [
    "dataset = SparseDataset(xyzq_list, pmt_list, dx_list)"
   ]
  },
  {
   "cell_type": "code",
   "execution_count": 45,
   "id": "ac552e43-ab90-4516-aad7-76fb8aa6c165",
   "metadata": {},
   "outputs": [],
   "source": [
    "# Create the DataLoader with the custom collate function\n",
    "batch_size = 1000\n",
    "dataloader = DataLoader(dataset, batch_size=batch_size, collate_fn=sparse_collate_fn)"
   ]
  },
  {
   "cell_type": "code",
   "execution_count": 46,
   "id": "1b75bae0-b540-4890-bbaf-8c9450e2d9ec",
   "metadata": {},
   "outputs": [],
   "source": [
    "batch = next(iter(dataloader))"
   ]
  },
  {
   "cell_type": "code",
   "execution_count": 47,
   "id": "74ee443a-c776-49e9-8a56-b3538c2553f2",
   "metadata": {},
   "outputs": [
    {
     "data": {
      "text/plain": [
       "torch.Size([1254423, 4])"
      ]
     },
     "execution_count": 47,
     "metadata": {},
     "output_type": "execute_result"
    }
   ],
   "source": [
    "batch['coordinates'].shape"
   ]
  },
  {
   "cell_type": "code",
   "execution_count": 48,
   "id": "2f71233e-e21a-4f21-9231-e0d04e91a794",
   "metadata": {},
   "outputs": [
    {
     "data": {
      "text/plain": [
       "torch.Size([1254423, 1])"
      ]
     },
     "execution_count": 48,
     "metadata": {},
     "output_type": "execute_result"
    }
   ],
   "source": [
    "batch['features'].shape"
   ]
  },
  {
   "cell_type": "code",
   "execution_count": 49,
   "id": "188254cc-b9c5-481a-ac89-3387d558ed63",
   "metadata": {},
   "outputs": [
    {
     "data": {
      "text/plain": [
       "torch.Size([1000, 180])"
      ]
     },
     "execution_count": 49,
     "metadata": {},
     "output_type": "execute_result"
    }
   ],
   "source": [
    "batch['pmts'].shape"
   ]
  },
  {
   "cell_type": "code",
   "execution_count": 50,
   "id": "76526ce2-9edd-4666-a0f9-8a6cd2b97902",
   "metadata": {},
   "outputs": [
    {
     "data": {
      "text/plain": [
       "torch.Size([1000])"
      ]
     },
     "execution_count": 50,
     "metadata": {},
     "output_type": "execute_result"
    }
   ],
   "source": [
    "batch['dxs'].shape"
   ]
  },
  {
   "cell_type": "markdown",
   "id": "df094016-e62b-44ee-b185-c8a9db32d467",
   "metadata": {},
   "source": [
    "## Network structure"
   ]
  },
  {
   "cell_type": "markdown",
   "id": "e6d8b1f4-b845-42c4-ae3b-f5689d61f5ad",
   "metadata": {},
   "source": [
    "Here you can define your version of sparse CNN-based reconstruction network!"
   ]
  },
  {
   "cell_type": "code",
   "execution_count": 51,
   "id": "fa44091e-9bec-4010-8518-a1ac72f43486",
   "metadata": {},
   "outputs": [],
   "source": [
    "class ReconSparseCNN(ME.MinkowskiNetwork):\n",
    "    def __init__(self, in_channels=1, out_channels=128, D=3, pmt_count=180):\n",
    "        super(ReconSparseCNN, self).__init__(D)\n",
    "        self.conv1 = ME.MinkowskiConvolution(\n",
    "            in_channels, 64, kernel_size=3, stride=1, dimension=D\n",
    "        )\n",
    "        self.bn1 = ME.MinkowskiBatchNorm(64)\n",
    "        self.relu1 = ME.MinkowskiReLU()\n",
    "\n",
    "        self.conv2 = ME.MinkowskiConvolution(\n",
    "            64, out_channels, kernel_size=3, stride=1, dimension=D\n",
    "        )\n",
    "        self.bn2 = ME.MinkowskiBatchNorm(out_channels)\n",
    "        self.relu2 = ME.MinkowskiReLU()\n",
    "\n",
    "        # Global average pooling to obtain a (1, 128) feature vector\n",
    "        self.global_pool = ME.MinkowskiGlobalAvgPooling()\n",
    "\n",
    "        # Subnetwork for B\n",
    "        self.branch_b = nn.Sequential(\n",
    "            nn.Linear(pmt_count, 512),\n",
    "            nn.ReLU(),\n",
    "            nn.Linear(512, out_channels),\n",
    "            nn.ReLU()\n",
    "        )\n",
    "        \n",
    "        # Combining both branches\n",
    "        self.combined_fc = nn.Sequential(\n",
    "            nn.Linear(2 * out_channels, 128),\n",
    "            nn.ReLU(),\n",
    "            nn.Linear(128, 32),\n",
    "            nn.ReLU(),\n",
    "            nn.Linear(32, 1)\n",
    "        )\n",
    "\n",
    "    def forward(self, a, b):\n",
    "        # Part A\n",
    "        a = self.relu1(self.bn1(self.conv1(a)))\n",
    "        a = self.relu2(self.bn2(self.conv2(a)))\n",
    "        out_a = self.global_pool(a).F\n",
    "        \n",
    "        # Part B\n",
    "        out_b = self.branch_b(b)\n",
    "        \n",
    "        # Concatenate along feature dimension\n",
    "        combined = torch.cat((out_a, out_b), dim=1)\n",
    "        output = self.combined_fc(combined)\n",
    "        output = 2 * F.sigmoid(output) - 1\n",
    "        \n",
    "        return output"
   ]
  },
  {
   "cell_type": "markdown",
   "id": "5abb14c6-53d9-4093-bed1-855f57abade9",
   "metadata": {},
   "source": [
    "### Test"
   ]
  },
  {
   "cell_type": "code",
   "execution_count": 53,
   "id": "a949ec7e-e235-4ea1-ae66-d10a4e1dd832",
   "metadata": {},
   "outputs": [
    {
     "name": "stdout",
     "output_type": "stream",
     "text": [
      "Output feature vector shape: torch.Size([1000, 1])\n"
     ]
    }
   ],
   "source": [
    "# Instantiate the model\n",
    "model = ReconSparseCNN(in_channels=1, out_channels=128, D=3)\n",
    "\n",
    "# Iterate over the DataLoader\n",
    "for batch in dataloader:\n",
    "    # Create SparseTensor\n",
    "    sparse_input = ME.SparseTensor(features=batch['features'], coordinates=batch['coordinates'])\n",
    "\n",
    "    # Forward pass\n",
    "    output = model(sparse_input, batch['pmts'])\n",
    "\n",
    "    print(\"Output feature vector shape:\", output.shape)\n",
    "    # Perform your training steps here (e.g., loss computation, backpropagation)\n",
    "    # For demonstration, we'll process one batch\n",
    "    break"
   ]
  },
  {
   "cell_type": "code",
   "execution_count": 52,
   "id": "c3233d54-2f89-46be-9c24-9b298f9db715",
   "metadata": {},
   "outputs": [],
   "source": [
    "def count_parameters(module):\n",
    "    return sum(p.numel() for p in module.parameters())"
   ]
  },
  {
   "cell_type": "code",
   "execution_count": 54,
   "id": "d7600eed-fd30-4bf4-be1d-67619e94d8f7",
   "metadata": {},
   "outputs": [
    {
     "data": {
      "text/plain": [
       "418689"
      ]
     },
     "execution_count": 54,
     "metadata": {},
     "output_type": "execute_result"
    }
   ],
   "source": [
    "count_parameters(model)"
   ]
  },
  {
   "cell_type": "code",
   "execution_count": 55,
   "id": "040159b7-3faf-4416-bc46-48861b854fe2",
   "metadata": {},
   "outputs": [
    {
     "data": {
      "text/plain": [
       "158336"
      ]
     },
     "execution_count": 55,
     "metadata": {},
     "output_type": "execute_result"
    }
   ],
   "source": [
    "count_parameters(model.branch_b)"
   ]
  },
  {
   "cell_type": "markdown",
   "id": "e21bec4b-66f4-4365-82df-dc09bbbfc9bb",
   "metadata": {},
   "source": [
    "## Training!"
   ]
  },
  {
   "cell_type": "markdown",
   "id": "22e6f986-4a72-4cc7-8db8-a086e8961495",
   "metadata": {},
   "source": [
    "### Feature normalization"
   ]
  },
  {
   "cell_type": "markdown",
   "id": "e1a59a3c-893f-4d8b-a2b1-6da0e52ac8b0",
   "metadata": {},
   "source": [
    "Here we perform the feature normalization for the `q` part of the `(x, y, z, q)` node in the TPC track. `(x, y, z)` is treated as coordinates here so no need to normalize, it will go through quantization process instead."
   ]
  },
  {
   "cell_type": "code",
   "execution_count": 56,
   "id": "fa8dc339-64ed-40e4-80ff-3f416c0692d5",
   "metadata": {},
   "outputs": [],
   "source": [
    "XYZQ = torch.concat(xyzq_list, dim=0)\n",
    "PMT = torch.stack(pmt_list)\n",
    "dX = torch.tensor(dx_list, dtype=XYZQ.dtype)"
   ]
  },
  {
   "cell_type": "code",
   "execution_count": 57,
   "id": "8c51ca54-5db3-4916-a568-afdbf282bb58",
   "metadata": {},
   "outputs": [
    {
     "data": {
      "text/plain": [
       "(torch.Size([12748908, 4]), torch.Size([10000, 180]), torch.Size([10000]))"
      ]
     },
     "execution_count": 57,
     "metadata": {},
     "output_type": "execute_result"
    }
   ],
   "source": [
    "XYZQ.shape, PMT.shape, dX.shape"
   ]
  },
  {
   "cell_type": "code",
   "execution_count": 58,
   "id": "6beeceb5-bc0c-456f-ae6c-beb140c96dd3",
   "metadata": {},
   "outputs": [],
   "source": [
    "Q_mu = XYZQ[:, 3].mean()\n",
    "Q_std = XYZQ[:, 3].std()\n",
    "PMT_mu = PMT.mean(dim=0)\n",
    "PMT_std = PMT.std(dim=0)"
   ]
  },
  {
   "cell_type": "code",
   "execution_count": 59,
   "id": "b3d176eb-7275-482c-b63e-9bf5c7ea2c6c",
   "metadata": {},
   "outputs": [
    {
     "data": {
      "text/plain": [
       "(tensor(26389.5801), tensor(428.9499))"
      ]
     },
     "execution_count": 59,
     "metadata": {},
     "output_type": "execute_result"
    }
   ],
   "source": [
    "Q_mu, Q_std"
   ]
  },
  {
   "cell_type": "code",
   "execution_count": 60,
   "id": "ce1e9b12-08cb-4103-a3cb-e7cd7b3580e8",
   "metadata": {},
   "outputs": [
    {
     "data": {
      "text/plain": [
       "(tensor([ 889.4356,  870.9064, 1167.6302, 1527.8296]),\n",
       " tensor([3626.9465, 3141.2056, 4427.1680, 5026.2666]))"
      ]
     },
     "execution_count": 60,
     "metadata": {},
     "output_type": "execute_result"
    }
   ],
   "source": [
    "PMT_mu[:4], PMT_std[:4]"
   ]
  },
  {
   "cell_type": "markdown",
   "id": "8e3e175b-3d23-432e-8436-74997d8d2266",
   "metadata": {},
   "source": [
    "### Pre-load to GPU"
   ]
  },
  {
   "cell_type": "markdown",
   "id": "2599b287-2557-4a47-bcde-e0b3539d32f8",
   "metadata": {},
   "source": [
    "Then we preload the data to GPU for higher GPU utilization -- if you are using CPU then this step can be skipped."
   ]
  },
  {
   "cell_type": "code",
   "execution_count": 61,
   "id": "bcd1ebd9-71fa-4798-aba8-57f54d8c8dc6",
   "metadata": {},
   "outputs": [
    {
     "data": {
      "application/vnd.jupyter.widget-view+json": {
       "model_id": "9c4ab06ffe6f47948b42337538170d23",
       "version_major": 2,
       "version_minor": 0
      },
      "text/plain": [
       "  0%|          | 0/10000 [00:00<?, ?it/s]"
      ]
     },
     "metadata": {},
     "output_type": "display_data"
    }
   ],
   "source": [
    "xyzq_list_gpu = []\n",
    "pmt_list_gpu = []\n",
    "dx_list_gpu = []\n",
    "for i in tqdm(range(len(xyzq_list))):\n",
    "    xyzq = xyzq_list[i]\n",
    "    pmt = pmt_list[i]\n",
    "    dx = dx_list[i]\n",
    "\n",
    "    # Normalization\n",
    "    xyzq[:, 3] = (xyzq[:, 3] - Q_mu) / Q_std\n",
    "    pmt = (pmt - PMT_mu) / PMT_std\n",
    "\n",
    "    # Preload to GPU\n",
    "    xyzq_list_gpu.append(xyzq.to(DEVICE))\n",
    "    pmt_list_gpu.append(pmt.to(DEVICE))\n",
    "    dx_list_gpu.append(torch.tensor(dx, dtype=pmt.dtype).to(DEVICE))"
   ]
  },
  {
   "cell_type": "code",
   "execution_count": 72,
   "id": "89d4f38d-0b30-44bf-9c26-182fd61e7769",
   "metadata": {},
   "outputs": [],
   "source": [
    "Q_mu_gpu = Q_mu.to(DEVICE)\n",
    "Q_std_gpu = Q_std.to(DEVICE)\n",
    "PMT_mu_gpu = PMT_mu.to(DEVICE)\n",
    "PMT_std_gpu = PMT_std.to(DEVICE)"
   ]
  },
  {
   "cell_type": "markdown",
   "id": "36be5076-7357-4a56-bf1b-70f61441c4c4",
   "metadata": {
    "jp-MarkdownHeadingCollapsed": true
   },
   "source": [
    "#### Test"
   ]
  },
  {
   "cell_type": "code",
   "execution_count": 62,
   "id": "12e31c4f-cf2b-40a6-b05e-898c80e3d45e",
   "metadata": {},
   "outputs": [
    {
     "data": {
      "text/plain": [
       "torch.Size([1109, 4])"
      ]
     },
     "execution_count": 62,
     "metadata": {},
     "output_type": "execute_result"
    }
   ],
   "source": [
    "xyzq_list_gpu[0].shape"
   ]
  },
  {
   "cell_type": "code",
   "execution_count": 63,
   "id": "418e7644-fd38-4202-b29b-d77646721a45",
   "metadata": {},
   "outputs": [
    {
     "data": {
      "text/plain": [
       "torch.Size([180])"
      ]
     },
     "execution_count": 63,
     "metadata": {},
     "output_type": "execute_result"
    }
   ],
   "source": [
    "pmt_list_gpu[0].shape"
   ]
  },
  {
   "cell_type": "code",
   "execution_count": 64,
   "id": "390543e5-7820-4e8d-8f2c-70efb836bb14",
   "metadata": {},
   "outputs": [
    {
     "data": {
      "text/plain": [
       "tensor(68.0650, device='cuda:0')"
      ]
     },
     "execution_count": 64,
     "metadata": {},
     "output_type": "execute_result"
    }
   ],
   "source": [
    "dx_list_gpu[0]"
   ]
  },
  {
   "cell_type": "code",
   "execution_count": 65,
   "id": "e1181ba2-8442-496e-8dc8-d0535cc3f284",
   "metadata": {},
   "outputs": [],
   "source": [
    "dataset = SparseDataset(xyzq_list_gpu, pmt_list_gpu, dx_list_gpu)"
   ]
  },
  {
   "cell_type": "code",
   "execution_count": 66,
   "id": "35dd3b48-f2fe-456f-a5bb-4a338b77a4c7",
   "metadata": {},
   "outputs": [],
   "source": [
    "# Create the DataLoader with the custom collate function\n",
    "batch_size = 1000\n",
    "dataloader = DataLoader(dataset, batch_size=batch_size, collate_fn=sparse_collate_fn)"
   ]
  },
  {
   "cell_type": "code",
   "execution_count": 67,
   "id": "be49ed44-5dcf-4468-b0fb-bfd9205568c5",
   "metadata": {},
   "outputs": [],
   "source": [
    "batch = next(iter(dataloader))"
   ]
  },
  {
   "cell_type": "code",
   "execution_count": 68,
   "id": "bd842b9f-5e2a-42e0-a492-11c024dc555a",
   "metadata": {},
   "outputs": [
    {
     "data": {
      "text/plain": [
       "torch.Size([1254423, 4])"
      ]
     },
     "execution_count": 68,
     "metadata": {},
     "output_type": "execute_result"
    }
   ],
   "source": [
    "batch['coordinates'].shape"
   ]
  },
  {
   "cell_type": "code",
   "execution_count": 69,
   "id": "71ccd96c-f936-4ea0-815e-842326cd45bd",
   "metadata": {},
   "outputs": [
    {
     "data": {
      "text/plain": [
       "torch.Size([1254423, 1])"
      ]
     },
     "execution_count": 69,
     "metadata": {},
     "output_type": "execute_result"
    }
   ],
   "source": [
    "batch['features'].shape"
   ]
  },
  {
   "cell_type": "code",
   "execution_count": 70,
   "id": "aacdd61d-1026-4034-94f9-c41203b7c86e",
   "metadata": {},
   "outputs": [
    {
     "data": {
      "text/plain": [
       "torch.Size([1000, 180])"
      ]
     },
     "execution_count": 70,
     "metadata": {},
     "output_type": "execute_result"
    }
   ],
   "source": [
    "batch['pmts'].shape"
   ]
  },
  {
   "cell_type": "code",
   "execution_count": 71,
   "id": "8fe64b4d-17b3-49c5-935a-b3f869efcabb",
   "metadata": {},
   "outputs": [
    {
     "data": {
      "text/plain": [
       "torch.Size([1000])"
      ]
     },
     "execution_count": 71,
     "metadata": {},
     "output_type": "execute_result"
    }
   ],
   "source": [
    "batch['dxs'].shape"
   ]
  },
  {
   "cell_type": "markdown",
   "id": "08b9b83d-9a96-4a99-b57d-32f64670e6a8",
   "metadata": {},
   "source": [
    "### Train the model w/ labels!"
   ]
  },
  {
   "cell_type": "markdown",
   "id": "3a573c2f-f1d6-4d81-a253-7e65a7c073b8",
   "metadata": {},
   "source": [
    "Training params:"
   ]
  },
  {
   "cell_type": "code",
   "execution_count": 73,
   "id": "a3be3820-491a-4d6e-8596-d17c5a9be602",
   "metadata": {},
   "outputs": [],
   "source": [
    "num_epochs = 500\n",
    "batch_size = 1000\n",
    "lr = 1e-3\n",
    "\n",
    "save_filename = 'models/recon_sparse_cnn.pt'\n",
    "reload_filename = None"
   ]
  },
  {
   "cell_type": "markdown",
   "id": "30f57122-cb5f-4b11-bcc5-bab42d99d83e",
   "metadata": {},
   "source": [
    "Make the training/validation/test dataloaders"
   ]
  },
  {
   "cell_type": "code",
   "execution_count": 84,
   "id": "62287d16-c027-42b3-8da3-96dbaf878239",
   "metadata": {},
   "outputs": [],
   "source": [
    "os.makedirs('models', exist_ok=True)\n",
    "\n",
    "dataset = SparseDataset(xyzq_list_gpu, pmt_list_gpu, dx_list_gpu)\n",
    "\n",
    "# Split the dataset into training and test sets\n",
    "train_size = int(0.6 * len(dataset))  # 20% of dataset for training\n",
    "vali_size = int(0.2 * len(dataset))  # The rest for testing\n",
    "test_size = len(dataset) - train_size - vali_size # The rest for testing\n",
    "train_dataset, vali_dataset, test_dataset = random_split(dataset, [train_size, vali_size, test_size])\n",
    "\n",
    "# Create DataLoaders for both the training and test sets\n",
    "train_dataloader = DataLoader(train_dataset, batch_size=batch_size,\n",
    "                              collate_fn=sparse_collate_fn, shuffle=True)\n",
    "vali_dataloader = DataLoader(vali_dataset, batch_size=batch_size,\n",
    "                             collate_fn=sparse_collate_fn, shuffle=False)\n",
    "test_dataloader = DataLoader(test_dataset, batch_size=batch_size,\n",
    "                             collate_fn=sparse_collate_fn, shuffle=False)"
   ]
  },
  {
   "cell_type": "markdown",
   "id": "e366ffd8-eb26-46eb-9234-35adb8172fdc",
   "metadata": {},
   "source": [
    "Initialize the recon network"
   ]
  },
  {
   "cell_type": "code",
   "execution_count": 76,
   "id": "5ecf43df-3dcd-4ac3-a677-4888f0e58e69",
   "metadata": {},
   "outputs": [],
   "source": [
    "# Initialize the network, loss function, and optimizer as before\n",
    "model = ReconSparseCNN(in_channels=1, out_channels=128, D=3).to(DEVICE)\n",
    "criterion = nn.MSELoss()\n",
    "optimizer = optim.Adam(model.parameters(), lr=lr)\n",
    "# optimizer = optim.Adam(model.parameters(), lr=1e-2, betas=(0.9, 0.999), weight_decay=1e-4)\n",
    "# scheduler = optim.lr_scheduler.StepLR(optimizer, step_size=10, gamma=0.1)\n",
    "\n",
    "if reload_filename:\n",
    "    model.load_state_dict(torch.load(reload_filename, map_location=DEVICE))"
   ]
  },
  {
   "cell_type": "markdown",
   "id": "b49837ef-35d4-464f-b4df-1f1219c65400",
   "metadata": {},
   "source": [
    "Train it!"
   ]
  },
  {
   "cell_type": "code",
   "execution_count": null,
   "id": "f61901e9-67f5-445e-86e5-f34e34e5bef6",
   "metadata": {
    "scrolled": true,
    "tags": []
   },
   "outputs": [],
   "source": [
    "# Training loop\n",
    "train_loss = []\n",
    "vali_loss = []\n",
    "best_loss = None\n",
    "\n",
    "for epoch in range(num_epochs):\n",
    "    model.train()  # Set the model to training mode\n",
    "    running_loss = 0.0\n",
    "    for i, batch in enumerate(train_dataloader):\n",
    "        sparse_input = ME.SparseTensor(features=batch['features'], coordinates=batch['coordinates'])\n",
    "        \n",
    "        # Zero the parameter gradients\n",
    "        optimizer.zero_grad()\n",
    "        \n",
    "        # Forward + backward + optimize\n",
    "        _dx = model(sparse_input, batch['pmts']).flatten()\n",
    "        dx = _dx * (forward_model_single._xmax - forward_model_single._xmin) / 2\n",
    "        loss = criterion(dx.flatten(), batch['dxs'])\n",
    "\n",
    "        # print(f'Epoch [{epoch + 1}/{num_epochs}], Step [{i + 1}/{len(train_dataloader)}], '\n",
    "        #       f'Training Loss: {loss:.4f}')\n",
    "        \n",
    "        loss.backward()\n",
    "        optimizer.step()\n",
    "        # scheduler.step()  # Adjust the learning rate if using a scheduler\n",
    "        \n",
    "        running_loss += loss.item()\n",
    "        \n",
    "        if not (i % 100):  # Every 100 batches\n",
    "            # Evaluate on validation dataset\n",
    "            model.eval()  # Set model to evaluation mode\n",
    "            with torch.no_grad():\n",
    "                val_losses = []\n",
    "                \n",
    "                for batch_val in vali_dataloader:\n",
    "                    sparse_input_val = ME.SparseTensor(\n",
    "                        features=batch_val['features'],\n",
    "                        coordinates=batch_val['coordinates']\n",
    "                    )\n",
    "                    \n",
    "                    _dx = model(sparse_input_val, batch_val['pmts']).flatten()\n",
    "                    dx = _dx * (forward_model_single._xmax - forward_model_single._xmin) / 2\n",
    "                    loss_val = criterion(dx.flatten(), batch_val['dxs'])\n",
    "                    val_losses.append(loss_val.item())\n",
    "                    # break  # just do one loop\n",
    "                \n",
    "                avg_val_loss = sum(val_losses) / len(val_losses)\n",
    "\n",
    "            print(f'Epoch [{epoch+1}/{num_epochs}], Step [{i+1}/{len(train_dataloader)}], '\n",
    "                  f'Validation Loss: {avg_val_loss:.4f}')\n",
    "            vali_loss.append(avg_val_loss)\n",
    "            model.train()  # Switch back to training mode\n",
    "\n",
    "            if save_filename:\n",
    "                if (best_loss is None) or (avg_val_loss < best_loss):\n",
    "                    print('Model on disk updated')\n",
    "                    best_loss = avg_val_loss\n",
    "                    torch.save(model.state_dict(), save_filename)\n",
    "            \n",
    "    # Print epoch loss\n",
    "    epoch_loss = running_loss / len(train_dataloader)\n",
    "    print(f\"Epoch [{epoch+1}/{num_epochs}], Training Loss: {epoch_loss:.4f}\")\n",
    "    # print(f\"Epoch [{epoch+1}/{num_epochs}], Training Loss: {epoch_loss:.4f}, LR: {scheduler.get_last_lr()[0]}\")\n",
    "    train_loss.append(epoch_loss)\n",
    "\n",
    "print(\"Training complete.\")"
   ]
  },
  {
   "cell_type": "markdown",
   "id": "d07cfc38-eafb-42f6-8980-b9d68d7f50b6",
   "metadata": {},
   "source": [
    "## Post analysis"
   ]
  },
  {
   "cell_type": "markdown",
   "id": "aab00d4f-ef6d-447a-ad18-56640b8e20ae",
   "metadata": {},
   "source": [
    "### Check the loss curves"
   ]
  },
  {
   "cell_type": "code",
   "execution_count": 78,
   "id": "ccc42743-2df2-4007-a5d5-8bb764b1ca86",
   "metadata": {},
   "outputs": [
    {
     "data": {
      "image/png": "[encoded data removed]",
      "text/plain": [
       "<Figure size 640x480 with 1 Axes>"
      ]
     },
     "metadata": {},
     "output_type": "display_data"
    }
   ],
   "source": [
    "fig, ax = plt.subplots(1, 1)\n",
    "ax.set(xlabel='epoch', ylabel='loss')\n",
    "ax.set_title(f'Learning rate {lr}')\n",
    "# ax.set_ylim(3000, 4000)\n",
    "# ax.set_xlim(100, 500)\n",
    "ax.set_yscale('log')\n",
    "\n",
    "ax.plot(train_loss, label='train loss')\n",
    "ax.plot(vali_loss, label='vali loss')\n",
    "\n",
    "# ax.grid()\n",
    "ax.legend(loc=0)\n",
    "fig.tight_layout()\n",
    "\n",
    "# fig.savefig('plot.pdf', bbox_inches='tight')\n",
    "plt.show()"
   ]
  },
  {
   "cell_type": "markdown",
   "id": "dd16e395-5eb2-43ff-b333-00c636e9c6b1",
   "metadata": {},
   "source": [
    "### Check model performance on test dataset"
   ]
  },
  {
   "cell_type": "markdown",
   "id": "6366119a-0254-40cb-9bbb-863b59ccd7d5",
   "metadata": {},
   "source": [
    "#### Load the model"
   ]
  },
  {
   "cell_type": "code",
   "execution_count": 79,
   "id": "b5a015b9-273d-4ea1-9bfb-f151461cb19d",
   "metadata": {},
   "outputs": [
    {
     "data": {
      "text/plain": [
       "ReconSparseCNN(\n",
       "  (conv1): MinkowskiConvolution(in=1, out=64, kernel_size=[3, 3, 3], stride=[1, 1, 1], dilation=[1, 1, 1])\n",
       "  (bn1): MinkowskiBatchNorm(64, eps=1e-05, momentum=0.1, affine=True, track_running_stats=True)\n",
       "  (relu1): MinkowskiReLU()\n",
       "  (conv2): MinkowskiConvolution(in=64, out=128, kernel_size=[3, 3, 3], stride=[1, 1, 1], dilation=[1, 1, 1])\n",
       "  (bn2): MinkowskiBatchNorm(128, eps=1e-05, momentum=0.1, affine=True, track_running_stats=True)\n",
       "  (relu2): MinkowskiReLU()\n",
       "  (global_pool): MinkowskiGlobalAvgPooling(mode=PoolingMode.GLOBAL_AVG_POOLING_PYTORCH_INDEX)\n",
       "  (branch_b): Sequential(\n",
       "    (0): Linear(in_features=180, out_features=512, bias=True)\n",
       "    (1): ReLU()\n",
       "    (2): Linear(in_features=512, out_features=128, bias=True)\n",
       "    (3): ReLU()\n",
       "  )\n",
       "  (combined_fc): Sequential(\n",
       "    (0): Linear(in_features=256, out_features=128, bias=True)\n",
       "    (1): ReLU()\n",
       "    (2): Linear(in_features=128, out_features=32, bias=True)\n",
       "    (3): ReLU()\n",
       "    (4): Linear(in_features=32, out_features=1, bias=True)\n",
       "  )\n",
       ")"
      ]
     },
     "execution_count": 79,
     "metadata": {},
     "output_type": "execute_result"
    }
   ],
   "source": [
    "model_label = ReconSparseCNN(in_channels=1, out_channels=128, D=3).to(DEVICE)\n",
    "model_label.load_state_dict(torch.load(save_filename, map_location=DEVICE))\n",
    "model_label.eval()"
   ]
  },
  {
   "cell_type": "markdown",
   "id": "8e6ab504-6394-404d-81c8-20eaadd77f48",
   "metadata": {},
   "source": [
    "#### Predict on test dataset (all in one batch)"
   ]
  },
  {
   "cell_type": "code",
   "execution_count": 81,
   "id": "d300e259-43bf-4572-9bfa-6571671bd0f8",
   "metadata": {},
   "outputs": [],
   "source": [
    "def get_dx_loss(dataloader, model):\n",
    "    \n",
    "    loss_dx_list = []\n",
    "    \n",
    "    for batch in tqdm(dataloader):\n",
    "        sparse_input = ME.SparseTensor(features=batch['features'], coordinates=batch['coordinates'])\n",
    "        _dx = model(sparse_input, batch['pmts'])\n",
    "        dx = _dx * (forward_model_single._xmax - forward_model_single._xmin) / 2\n",
    "        \n",
    "        loss_dx = (dx.flatten() - batch['dxs']) ** 2\n",
    "        loss_dx_list.append(loss_dx.detach().cpu())\n",
    "        \n",
    "    return torch.hstack(loss_dx_list)"
   ]
  },
  {
   "cell_type": "code",
   "execution_count": 85,
   "id": "00ebba78-e54b-43ee-8f4c-42eff330d3cf",
   "metadata": {},
   "outputs": [
    {
     "data": {
      "application/vnd.jupyter.widget-view+json": {
       "model_id": "7fb49e4c5bd844669f6652eb013c2a75",
       "version_major": 2,
       "version_minor": 0
      },
      "text/plain": [
       "  0%|          | 0/2 [00:00<?, ?it/s]"
      ]
     },
     "metadata": {},
     "output_type": "display_data"
    }
   ],
   "source": [
    "loss_dx_label = get_dx_loss(test_dataloader, model_label)"
   ]
  },
  {
   "cell_type": "code",
   "execution_count": 87,
   "id": "6cf18ec1-dc7c-4dad-bf49-de5561f01bdd",
   "metadata": {},
   "outputs": [],
   "source": [
    "def plot_rms_dx_dist(loss_dx, thres_rms=1e3, save=None):\n",
    "    \n",
    "    rms_dx = torch.sqrt(loss_dx)\n",
    "    \n",
    "    fig, ax = plt.subplots(1, 1, figsize=(6, 4))\n",
    "    ax.set(xlabel='rms(dx)', ylabel='count')\n",
    "    \n",
    "    # ax.set_yscale('log')\n",
    "    \n",
    "    p = (rms_dx < thres_rms).sum() / len(rms_dx) * 100\n",
    "    ax.hist(rms_dx[rms_dx < thres_rms], 100, label=f'label ({p:.2f}%)', alpha=0.8)\n",
    "    \n",
    "    # ax.grid()\n",
    "    ax.legend(loc=0)\n",
    "    fig.tight_layout()\n",
    "    \n",
    "    if save:\n",
    "        fig.savefig(save, dpi=200, bbox_inches='tight')\n",
    "        \n",
    "    plt.show()"
   ]
  },
  {
   "cell_type": "code",
   "execution_count": 90,
   "id": "4ae9246b-f9f9-44db-ba07-6f111c927a87",
   "metadata": {},
   "outputs": [
    {
     "data": {
      "image/png": "[encoded data removed]",
      "text/plain": [
       "<Figure size 600x400 with 1 Axes>"
      ]
     },
     "metadata": {},
     "output_type": "display_data"
    }
   ],
   "source": [
    "os.makedirs('pics', exist_ok=True)\n",
    "\n",
    "plot_rms_dx_dist(loss_dx_label, save='pics/rms_dx_dist.png')"
   ]
  },
  {
   "cell_type": "markdown",
   "id": "d4066d90-c575-402d-95e4-e1bac04b6e4e",
   "metadata": {},
   "source": [
    "## Backlogs"
   ]
  },
  {
   "cell_type": "code",
   "execution_count": null,
   "id": "464c919c-0321-4a7b-8f16-47a4a15de122",
   "metadata": {},
   "outputs": [],
   "source": []
  }
 ],
 "metadata": {
  "kernelspec": {
   "display_name": "Python 3 (ipykernel)",
   "language": "python",
   "name": "python3"
  },
  "language_info": {
   "codemirror_mode": {
    "name": "ipython",
    "version": 3
   },
   "file_extension": ".py",
   "mimetype": "text/x-python",
   "name": "python",
   "nbconvert_exporter": "python",
   "pygments_lexer": "ipython3",
   "version": "3.10.14"
  }
 },
 "nbformat": 4,
 "nbformat_minor": 5
}
